{
 "cells": [
  {
   "cell_type": "markdown",
   "metadata": {},
   "source": [
    "<div style=\"background-image: linear-gradient(to right, #4b4cff , #00d4ff); text-align: center; padding: 50px;\">\n",
    "  <h1 style=\"font-family: 'Segoe UI', Tahoma, Geneva, Verdana, sans-serif; font-size: 48px; color: white; text-shadow: 2px 2px #4b4cff;\">\n",
    "    Projet - Deep learning\n",
    "  </h1>\n",
    "</div>"
   ]
  },
  {
   "cell_type": "code",
   "execution_count": 8,
   "metadata": {},
   "outputs": [
    {
     "name": "stdout",
     "output_type": "stream",
     "text": [
      "Nombre d'images dans 'test' avec une résolution de 32x32 ou plus : 32390\n"
     ]
    }
   ],
   "source": [
    "import os\n",
    "from PIL import Image\n",
    "\n",
    "def count_images_with_resolution(dataset_path, min_width=32, min_height=32):\n",
    "    count = 0\n",
    "    for root, _, files in os.walk(dataset_path):\n",
    "        for file in files:\n",
    "            if file.lower().endswith(('png', 'jpg', 'jpeg', 'bmp', 'tiff')):\n",
    "                try:\n",
    "                    with Image.open(os.path.join(root, file)) as img:\n",
    "                        width, height = img.size\n",
    "                        if width >= min_width and height >= min_height:\n",
    "                            count += 1\n",
    "                except Exception as e:\n",
    "                    print(f\"Erreur avec le fichier {file}: {e}\")\n",
    "    return count\n",
    "\n",
    "# Chemin du dossier 'test'\n",
    "test_path = 'SF-MASK'\n",
    "\n",
    "image_count = count_images_with_resolution(test_path)\n",
    "print(f\"Nombre d'images dans 'test' avec une résolution de 32x32 ou plus : {image_count}\")"
   ]
  },
  {
   "cell_type": "code",
   "execution_count": 9,
   "metadata": {},
   "outputs": [
    {
     "name": "stdout",
     "output_type": "stream",
     "text": [
      "Nombre total d'images dans 'SF-MASK' : 45826\n"
     ]
    }
   ],
   "source": [
    "import os\n",
    "\n",
    "def count_total_images(dataset_path):\n",
    "    count = 0\n",
    "    for root, _, files in os.walk(dataset_path):\n",
    "        for file in files:\n",
    "            if file.lower().endswith(('png', 'jpg', 'jpeg', 'bmp', 'tiff')):\n",
    "                count += 1\n",
    "    return count\n",
    "\n",
    "test_path = 'SF-MASK'\n",
    "\n",
    "total_images = count_total_images(test_path)\n",
    "print(f\"Nombre total d'images dans 'SF-MASK' : {total_images}\")"
   ]
  },
  {
   "cell_type": "code",
   "execution_count": 21,
   "metadata": {},
   "outputs": [
    {
     "data": {
      "application/vnd.plotly.v1+json": {
       "config": {
        "plotlyServerURL": "https://plot.ly"
       },
       "data": [
        {
         "marker": {
          "color": "lightcoral"
         },
         "name": "Number of Images",
         "text": [
          "3340",
          "3251",
          "3575",
          "3981",
          "5058",
          "5227",
          "21394"
         ],
         "textposition": "outside",
         "type": "bar",
         "x": [
          "16x16",
          "24x24",
          "32x32",
          "40x40",
          "48x48",
          "56x56",
          "64x64"
         ],
         "y": [
          3340,
          3251,
          3575,
          3981,
          5058,
          5227,
          21394
         ]
        }
       ],
       "layout": {
        "template": {
         "data": {
          "bar": [
           {
            "error_x": {
             "color": "#2a3f5f"
            },
            "error_y": {
             "color": "#2a3f5f"
            },
            "marker": {
             "line": {
              "color": "white",
              "width": 0.5
             },
             "pattern": {
              "fillmode": "overlay",
              "size": 10,
              "solidity": 0.2
             }
            },
            "type": "bar"
           }
          ],
          "barpolar": [
           {
            "marker": {
             "line": {
              "color": "white",
              "width": 0.5
             },
             "pattern": {
              "fillmode": "overlay",
              "size": 10,
              "solidity": 0.2
             }
            },
            "type": "barpolar"
           }
          ],
          "carpet": [
           {
            "aaxis": {
             "endlinecolor": "#2a3f5f",
             "gridcolor": "#C8D4E3",
             "linecolor": "#C8D4E3",
             "minorgridcolor": "#C8D4E3",
             "startlinecolor": "#2a3f5f"
            },
            "baxis": {
             "endlinecolor": "#2a3f5f",
             "gridcolor": "#C8D4E3",
             "linecolor": "#C8D4E3",
             "minorgridcolor": "#C8D4E3",
             "startlinecolor": "#2a3f5f"
            },
            "type": "carpet"
           }
          ],
          "choropleth": [
           {
            "colorbar": {
             "outlinewidth": 0,
             "ticks": ""
            },
            "type": "choropleth"
           }
          ],
          "contour": [
           {
            "colorbar": {
             "outlinewidth": 0,
             "ticks": ""
            },
            "colorscale": [
             [
              0,
              "#0d0887"
             ],
             [
              0.1111111111111111,
              "#46039f"
             ],
             [
              0.2222222222222222,
              "#7201a8"
             ],
             [
              0.3333333333333333,
              "#9c179e"
             ],
             [
              0.4444444444444444,
              "#bd3786"
             ],
             [
              0.5555555555555556,
              "#d8576b"
             ],
             [
              0.6666666666666666,
              "#ed7953"
             ],
             [
              0.7777777777777778,
              "#fb9f3a"
             ],
             [
              0.8888888888888888,
              "#fdca26"
             ],
             [
              1,
              "#f0f921"
             ]
            ],
            "type": "contour"
           }
          ],
          "contourcarpet": [
           {
            "colorbar": {
             "outlinewidth": 0,
             "ticks": ""
            },
            "type": "contourcarpet"
           }
          ],
          "heatmap": [
           {
            "colorbar": {
             "outlinewidth": 0,
             "ticks": ""
            },
            "colorscale": [
             [
              0,
              "#0d0887"
             ],
             [
              0.1111111111111111,
              "#46039f"
             ],
             [
              0.2222222222222222,
              "#7201a8"
             ],
             [
              0.3333333333333333,
              "#9c179e"
             ],
             [
              0.4444444444444444,
              "#bd3786"
             ],
             [
              0.5555555555555556,
              "#d8576b"
             ],
             [
              0.6666666666666666,
              "#ed7953"
             ],
             [
              0.7777777777777778,
              "#fb9f3a"
             ],
             [
              0.8888888888888888,
              "#fdca26"
             ],
             [
              1,
              "#f0f921"
             ]
            ],
            "type": "heatmap"
           }
          ],
          "heatmapgl": [
           {
            "colorbar": {
             "outlinewidth": 0,
             "ticks": ""
            },
            "colorscale": [
             [
              0,
              "#0d0887"
             ],
             [
              0.1111111111111111,
              "#46039f"
             ],
             [
              0.2222222222222222,
              "#7201a8"
             ],
             [
              0.3333333333333333,
              "#9c179e"
             ],
             [
              0.4444444444444444,
              "#bd3786"
             ],
             [
              0.5555555555555556,
              "#d8576b"
             ],
             [
              0.6666666666666666,
              "#ed7953"
             ],
             [
              0.7777777777777778,
              "#fb9f3a"
             ],
             [
              0.8888888888888888,
              "#fdca26"
             ],
             [
              1,
              "#f0f921"
             ]
            ],
            "type": "heatmapgl"
           }
          ],
          "histogram": [
           {
            "marker": {
             "pattern": {
              "fillmode": "overlay",
              "size": 10,
              "solidity": 0.2
             }
            },
            "type": "histogram"
           }
          ],
          "histogram2d": [
           {
            "colorbar": {
             "outlinewidth": 0,
             "ticks": ""
            },
            "colorscale": [
             [
              0,
              "#0d0887"
             ],
             [
              0.1111111111111111,
              "#46039f"
             ],
             [
              0.2222222222222222,
              "#7201a8"
             ],
             [
              0.3333333333333333,
              "#9c179e"
             ],
             [
              0.4444444444444444,
              "#bd3786"
             ],
             [
              0.5555555555555556,
              "#d8576b"
             ],
             [
              0.6666666666666666,
              "#ed7953"
             ],
             [
              0.7777777777777778,
              "#fb9f3a"
             ],
             [
              0.8888888888888888,
              "#fdca26"
             ],
             [
              1,
              "#f0f921"
             ]
            ],
            "type": "histogram2d"
           }
          ],
          "histogram2dcontour": [
           {
            "colorbar": {
             "outlinewidth": 0,
             "ticks": ""
            },
            "colorscale": [
             [
              0,
              "#0d0887"
             ],
             [
              0.1111111111111111,
              "#46039f"
             ],
             [
              0.2222222222222222,
              "#7201a8"
             ],
             [
              0.3333333333333333,
              "#9c179e"
             ],
             [
              0.4444444444444444,
              "#bd3786"
             ],
             [
              0.5555555555555556,
              "#d8576b"
             ],
             [
              0.6666666666666666,
              "#ed7953"
             ],
             [
              0.7777777777777778,
              "#fb9f3a"
             ],
             [
              0.8888888888888888,
              "#fdca26"
             ],
             [
              1,
              "#f0f921"
             ]
            ],
            "type": "histogram2dcontour"
           }
          ],
          "mesh3d": [
           {
            "colorbar": {
             "outlinewidth": 0,
             "ticks": ""
            },
            "type": "mesh3d"
           }
          ],
          "parcoords": [
           {
            "line": {
             "colorbar": {
              "outlinewidth": 0,
              "ticks": ""
             }
            },
            "type": "parcoords"
           }
          ],
          "pie": [
           {
            "automargin": true,
            "type": "pie"
           }
          ],
          "scatter": [
           {
            "fillpattern": {
             "fillmode": "overlay",
             "size": 10,
             "solidity": 0.2
            },
            "type": "scatter"
           }
          ],
          "scatter3d": [
           {
            "line": {
             "colorbar": {
              "outlinewidth": 0,
              "ticks": ""
             }
            },
            "marker": {
             "colorbar": {
              "outlinewidth": 0,
              "ticks": ""
             }
            },
            "type": "scatter3d"
           }
          ],
          "scattercarpet": [
           {
            "marker": {
             "colorbar": {
              "outlinewidth": 0,
              "ticks": ""
             }
            },
            "type": "scattercarpet"
           }
          ],
          "scattergeo": [
           {
            "marker": {
             "colorbar": {
              "outlinewidth": 0,
              "ticks": ""
             }
            },
            "type": "scattergeo"
           }
          ],
          "scattergl": [
           {
            "marker": {
             "colorbar": {
              "outlinewidth": 0,
              "ticks": ""
             }
            },
            "type": "scattergl"
           }
          ],
          "scattermapbox": [
           {
            "marker": {
             "colorbar": {
              "outlinewidth": 0,
              "ticks": ""
             }
            },
            "type": "scattermapbox"
           }
          ],
          "scatterpolar": [
           {
            "marker": {
             "colorbar": {
              "outlinewidth": 0,
              "ticks": ""
             }
            },
            "type": "scatterpolar"
           }
          ],
          "scatterpolargl": [
           {
            "marker": {
             "colorbar": {
              "outlinewidth": 0,
              "ticks": ""
             }
            },
            "type": "scatterpolargl"
           }
          ],
          "scatterternary": [
           {
            "marker": {
             "colorbar": {
              "outlinewidth": 0,
              "ticks": ""
             }
            },
            "type": "scatterternary"
           }
          ],
          "surface": [
           {
            "colorbar": {
             "outlinewidth": 0,
             "ticks": ""
            },
            "colorscale": [
             [
              0,
              "#0d0887"
             ],
             [
              0.1111111111111111,
              "#46039f"
             ],
             [
              0.2222222222222222,
              "#7201a8"
             ],
             [
              0.3333333333333333,
              "#9c179e"
             ],
             [
              0.4444444444444444,
              "#bd3786"
             ],
             [
              0.5555555555555556,
              "#d8576b"
             ],
             [
              0.6666666666666666,
              "#ed7953"
             ],
             [
              0.7777777777777778,
              "#fb9f3a"
             ],
             [
              0.8888888888888888,
              "#fdca26"
             ],
             [
              1,
              "#f0f921"
             ]
            ],
            "type": "surface"
           }
          ],
          "table": [
           {
            "cells": {
             "fill": {
              "color": "#EBF0F8"
             },
             "line": {
              "color": "white"
             }
            },
            "header": {
             "fill": {
              "color": "#C8D4E3"
             },
             "line": {
              "color": "white"
             }
            },
            "type": "table"
           }
          ]
         },
         "layout": {
          "annotationdefaults": {
           "arrowcolor": "#2a3f5f",
           "arrowhead": 0,
           "arrowwidth": 1
          },
          "autotypenumbers": "strict",
          "coloraxis": {
           "colorbar": {
            "outlinewidth": 0,
            "ticks": ""
           }
          },
          "colorscale": {
           "diverging": [
            [
             0,
             "#8e0152"
            ],
            [
             0.1,
             "#c51b7d"
            ],
            [
             0.2,
             "#de77ae"
            ],
            [
             0.3,
             "#f1b6da"
            ],
            [
             0.4,
             "#fde0ef"
            ],
            [
             0.5,
             "#f7f7f7"
            ],
            [
             0.6,
             "#e6f5d0"
            ],
            [
             0.7,
             "#b8e186"
            ],
            [
             0.8,
             "#7fbc41"
            ],
            [
             0.9,
             "#4d9221"
            ],
            [
             1,
             "#276419"
            ]
           ],
           "sequential": [
            [
             0,
             "#0d0887"
            ],
            [
             0.1111111111111111,
             "#46039f"
            ],
            [
             0.2222222222222222,
             "#7201a8"
            ],
            [
             0.3333333333333333,
             "#9c179e"
            ],
            [
             0.4444444444444444,
             "#bd3786"
            ],
            [
             0.5555555555555556,
             "#d8576b"
            ],
            [
             0.6666666666666666,
             "#ed7953"
            ],
            [
             0.7777777777777778,
             "#fb9f3a"
            ],
            [
             0.8888888888888888,
             "#fdca26"
            ],
            [
             1,
             "#f0f921"
            ]
           ],
           "sequentialminus": [
            [
             0,
             "#0d0887"
            ],
            [
             0.1111111111111111,
             "#46039f"
            ],
            [
             0.2222222222222222,
             "#7201a8"
            ],
            [
             0.3333333333333333,
             "#9c179e"
            ],
            [
             0.4444444444444444,
             "#bd3786"
            ],
            [
             0.5555555555555556,
             "#d8576b"
            ],
            [
             0.6666666666666666,
             "#ed7953"
            ],
            [
             0.7777777777777778,
             "#fb9f3a"
            ],
            [
             0.8888888888888888,
             "#fdca26"
            ],
            [
             1,
             "#f0f921"
            ]
           ]
          },
          "colorway": [
           "#636efa",
           "#EF553B",
           "#00cc96",
           "#ab63fa",
           "#FFA15A",
           "#19d3f3",
           "#FF6692",
           "#B6E880",
           "#FF97FF",
           "#FECB52"
          ],
          "font": {
           "color": "#2a3f5f"
          },
          "geo": {
           "bgcolor": "white",
           "lakecolor": "white",
           "landcolor": "white",
           "showlakes": true,
           "showland": true,
           "subunitcolor": "#C8D4E3"
          },
          "hoverlabel": {
           "align": "left"
          },
          "hovermode": "closest",
          "mapbox": {
           "style": "light"
          },
          "paper_bgcolor": "white",
          "plot_bgcolor": "white",
          "polar": {
           "angularaxis": {
            "gridcolor": "#EBF0F8",
            "linecolor": "#EBF0F8",
            "ticks": ""
           },
           "bgcolor": "white",
           "radialaxis": {
            "gridcolor": "#EBF0F8",
            "linecolor": "#EBF0F8",
            "ticks": ""
           }
          },
          "scene": {
           "xaxis": {
            "backgroundcolor": "white",
            "gridcolor": "#DFE8F3",
            "gridwidth": 2,
            "linecolor": "#EBF0F8",
            "showbackground": true,
            "ticks": "",
            "zerolinecolor": "#EBF0F8"
           },
           "yaxis": {
            "backgroundcolor": "white",
            "gridcolor": "#DFE8F3",
            "gridwidth": 2,
            "linecolor": "#EBF0F8",
            "showbackground": true,
            "ticks": "",
            "zerolinecolor": "#EBF0F8"
           },
           "zaxis": {
            "backgroundcolor": "white",
            "gridcolor": "#DFE8F3",
            "gridwidth": 2,
            "linecolor": "#EBF0F8",
            "showbackground": true,
            "ticks": "",
            "zerolinecolor": "#EBF0F8"
           }
          },
          "shapedefaults": {
           "line": {
            "color": "#2a3f5f"
           }
          },
          "ternary": {
           "aaxis": {
            "gridcolor": "#DFE8F3",
            "linecolor": "#A2B1C6",
            "ticks": ""
           },
           "baxis": {
            "gridcolor": "#DFE8F3",
            "linecolor": "#A2B1C6",
            "ticks": ""
           },
           "bgcolor": "white",
           "caxis": {
            "gridcolor": "#DFE8F3",
            "linecolor": "#A2B1C6",
            "ticks": ""
           }
          },
          "title": {
           "x": 0.05
          },
          "xaxis": {
           "automargin": true,
           "gridcolor": "#EBF0F8",
           "linecolor": "#EBF0F8",
           "ticks": "",
           "title": {
            "standoff": 15
           },
           "zerolinecolor": "#EBF0F8",
           "zerolinewidth": 2
          },
          "yaxis": {
           "automargin": true,
           "gridcolor": "#EBF0F8",
           "linecolor": "#EBF0F8",
           "ticks": "",
           "title": {
            "standoff": 15
           },
           "zerolinecolor": "#EBF0F8",
           "zerolinewidth": 2
          }
         }
        },
        "title": {
         "text": "Number of Images by Resolution Category in SF-MASK"
        },
        "xaxis": {
         "title": {
          "text": "Resolution Categories"
         }
        },
        "yaxis": {
         "showgrid": true,
         "title": {
          "text": "Number of Images"
         }
        }
       }
      }
     },
     "metadata": {},
     "output_type": "display_data"
    }
   ],
   "source": [
    "import os\n",
    "from PIL import Image\n",
    "import plotly.graph_objects as go\n",
    "from collections import Counter\n",
    "\n",
    "def get_category_for_resolution(width, height, categories):\n",
    "    max_dim = max(width, height)\n",
    "    for category in categories:\n",
    "        cat_width, cat_height = map(int, category.split('x'))\n",
    "        if max_dim <= cat_width:\n",
    "            return category\n",
    "    return categories[-1]  # If the resolution exceeds the largest category, assign it to the last category\n",
    "\n",
    "def count_images_by_resolution(dataset_path, categories):\n",
    "    resolution_counts = Counter()\n",
    "    for root, _, files in os.walk(dataset_path):\n",
    "        for file in files:\n",
    "            if file.lower().endswith(('png', 'jpg', 'jpeg', 'bmp', 'tiff')):\n",
    "                file_path = os.path.join(root, file)\n",
    "                try:\n",
    "                    with Image.open(file_path) as img:\n",
    "                        width, height = img.size\n",
    "                        category = get_category_for_resolution(width, height, categories)\n",
    "                        resolution_counts[category] += 1\n",
    "                except Exception as e:\n",
    "                    print(f\"Error with the file {file_path}: {e}\")\n",
    "    return resolution_counts\n",
    "\n",
    "dataset_path = 'SF-MASK'\n",
    "\n",
    "categories = [\"16x16\", \"24x24\", \"32x32\", \"40x40\", \"48x48\", \"56x56\", \"64x64\"]\n",
    "resolutions = count_images_by_resolution(dataset_path, categories)\n",
    "counts = [resolutions[category] for category in categories]\n",
    "\n",
    "# Create the Plotly chart\n",
    "fig = go.Figure()\n",
    "\n",
    "fig.add_trace(go.Bar(\n",
    "    x=categories,\n",
    "    y=counts,\n",
    "    marker_color='lightcoral',  # Changed bar color to light coral\n",
    "    text=counts,\n",
    "    textposition='outside',\n",
    "    name='Number of Images'\n",
    "))\n",
    "\n",
    "fig.update_layout(\n",
    "    title=\"Number of Images by Resolution Category in SF-MASK\",\n",
    "    xaxis_title=\"Resolution Categories\",\n",
    "    yaxis_title=\"Number of Images\",\n",
    "    template='plotly_white',\n",
    "    yaxis=dict(showgrid=True),\n",
    ")\n",
    "\n",
    "# Display the chart\n",
    "fig.show()"
   ]
  },
  {
   "cell_type": "code",
   "execution_count": 13,
   "metadata": {},
   "outputs": [
    {
     "data": {
      "application/vnd.plotly.v1+json": {
       "config": {
        "plotlyServerURL": "https://plot.ly"
       },
       "data": [
        {
         "marker": {
          "color": "green"
         },
         "text": [
          "3622"
         ],
         "textfont": {
          "color": "black",
          "size": 14
         },
         "textposition": "outside",
         "type": "bar",
         "x": [
          "test/compliant"
         ],
         "y": [
          3622
         ]
        },
        {
         "marker": {
          "color": "green"
         },
         "text": [
          "5048"
         ],
         "textfont": {
          "color": "black",
          "size": 14
         },
         "textposition": "outside",
         "type": "bar",
         "x": [
          "test/non-compliant"
         ],
         "y": [
          5048
         ]
        },
        {
         "marker": {
          "color": "blue"
         },
         "text": [
          "21384"
         ],
         "textfont": {
          "color": "black",
          "size": 14
         },
         "textposition": "outside",
         "type": "bar",
         "x": [
          "train/compliant"
         ],
         "y": [
          21384
         ]
        },
        {
         "marker": {
          "color": "blue"
         },
         "text": [
          "15772"
         ],
         "textfont": {
          "color": "black",
          "size": 14
         },
         "textposition": "outside",
         "type": "bar",
         "x": [
          "train/non-compliant"
         ],
         "y": [
          15772
         ]
        }
       ],
       "layout": {
        "showlegend": false,
        "template": {
         "data": {
          "bar": [
           {
            "error_x": {
             "color": "#2a3f5f"
            },
            "error_y": {
             "color": "#2a3f5f"
            },
            "marker": {
             "line": {
              "color": "white",
              "width": 0.5
             },
             "pattern": {
              "fillmode": "overlay",
              "size": 10,
              "solidity": 0.2
             }
            },
            "type": "bar"
           }
          ],
          "barpolar": [
           {
            "marker": {
             "line": {
              "color": "white",
              "width": 0.5
             },
             "pattern": {
              "fillmode": "overlay",
              "size": 10,
              "solidity": 0.2
             }
            },
            "type": "barpolar"
           }
          ],
          "carpet": [
           {
            "aaxis": {
             "endlinecolor": "#2a3f5f",
             "gridcolor": "#C8D4E3",
             "linecolor": "#C8D4E3",
             "minorgridcolor": "#C8D4E3",
             "startlinecolor": "#2a3f5f"
            },
            "baxis": {
             "endlinecolor": "#2a3f5f",
             "gridcolor": "#C8D4E3",
             "linecolor": "#C8D4E3",
             "minorgridcolor": "#C8D4E3",
             "startlinecolor": "#2a3f5f"
            },
            "type": "carpet"
           }
          ],
          "choropleth": [
           {
            "colorbar": {
             "outlinewidth": 0,
             "ticks": ""
            },
            "type": "choropleth"
           }
          ],
          "contour": [
           {
            "colorbar": {
             "outlinewidth": 0,
             "ticks": ""
            },
            "colorscale": [
             [
              0,
              "#0d0887"
             ],
             [
              0.1111111111111111,
              "#46039f"
             ],
             [
              0.2222222222222222,
              "#7201a8"
             ],
             [
              0.3333333333333333,
              "#9c179e"
             ],
             [
              0.4444444444444444,
              "#bd3786"
             ],
             [
              0.5555555555555556,
              "#d8576b"
             ],
             [
              0.6666666666666666,
              "#ed7953"
             ],
             [
              0.7777777777777778,
              "#fb9f3a"
             ],
             [
              0.8888888888888888,
              "#fdca26"
             ],
             [
              1,
              "#f0f921"
             ]
            ],
            "type": "contour"
           }
          ],
          "contourcarpet": [
           {
            "colorbar": {
             "outlinewidth": 0,
             "ticks": ""
            },
            "type": "contourcarpet"
           }
          ],
          "heatmap": [
           {
            "colorbar": {
             "outlinewidth": 0,
             "ticks": ""
            },
            "colorscale": [
             [
              0,
              "#0d0887"
             ],
             [
              0.1111111111111111,
              "#46039f"
             ],
             [
              0.2222222222222222,
              "#7201a8"
             ],
             [
              0.3333333333333333,
              "#9c179e"
             ],
             [
              0.4444444444444444,
              "#bd3786"
             ],
             [
              0.5555555555555556,
              "#d8576b"
             ],
             [
              0.6666666666666666,
              "#ed7953"
             ],
             [
              0.7777777777777778,
              "#fb9f3a"
             ],
             [
              0.8888888888888888,
              "#fdca26"
             ],
             [
              1,
              "#f0f921"
             ]
            ],
            "type": "heatmap"
           }
          ],
          "heatmapgl": [
           {
            "colorbar": {
             "outlinewidth": 0,
             "ticks": ""
            },
            "colorscale": [
             [
              0,
              "#0d0887"
             ],
             [
              0.1111111111111111,
              "#46039f"
             ],
             [
              0.2222222222222222,
              "#7201a8"
             ],
             [
              0.3333333333333333,
              "#9c179e"
             ],
             [
              0.4444444444444444,
              "#bd3786"
             ],
             [
              0.5555555555555556,
              "#d8576b"
             ],
             [
              0.6666666666666666,
              "#ed7953"
             ],
             [
              0.7777777777777778,
              "#fb9f3a"
             ],
             [
              0.8888888888888888,
              "#fdca26"
             ],
             [
              1,
              "#f0f921"
             ]
            ],
            "type": "heatmapgl"
           }
          ],
          "histogram": [
           {
            "marker": {
             "pattern": {
              "fillmode": "overlay",
              "size": 10,
              "solidity": 0.2
             }
            },
            "type": "histogram"
           }
          ],
          "histogram2d": [
           {
            "colorbar": {
             "outlinewidth": 0,
             "ticks": ""
            },
            "colorscale": [
             [
              0,
              "#0d0887"
             ],
             [
              0.1111111111111111,
              "#46039f"
             ],
             [
              0.2222222222222222,
              "#7201a8"
             ],
             [
              0.3333333333333333,
              "#9c179e"
             ],
             [
              0.4444444444444444,
              "#bd3786"
             ],
             [
              0.5555555555555556,
              "#d8576b"
             ],
             [
              0.6666666666666666,
              "#ed7953"
             ],
             [
              0.7777777777777778,
              "#fb9f3a"
             ],
             [
              0.8888888888888888,
              "#fdca26"
             ],
             [
              1,
              "#f0f921"
             ]
            ],
            "type": "histogram2d"
           }
          ],
          "histogram2dcontour": [
           {
            "colorbar": {
             "outlinewidth": 0,
             "ticks": ""
            },
            "colorscale": [
             [
              0,
              "#0d0887"
             ],
             [
              0.1111111111111111,
              "#46039f"
             ],
             [
              0.2222222222222222,
              "#7201a8"
             ],
             [
              0.3333333333333333,
              "#9c179e"
             ],
             [
              0.4444444444444444,
              "#bd3786"
             ],
             [
              0.5555555555555556,
              "#d8576b"
             ],
             [
              0.6666666666666666,
              "#ed7953"
             ],
             [
              0.7777777777777778,
              "#fb9f3a"
             ],
             [
              0.8888888888888888,
              "#fdca26"
             ],
             [
              1,
              "#f0f921"
             ]
            ],
            "type": "histogram2dcontour"
           }
          ],
          "mesh3d": [
           {
            "colorbar": {
             "outlinewidth": 0,
             "ticks": ""
            },
            "type": "mesh3d"
           }
          ],
          "parcoords": [
           {
            "line": {
             "colorbar": {
              "outlinewidth": 0,
              "ticks": ""
             }
            },
            "type": "parcoords"
           }
          ],
          "pie": [
           {
            "automargin": true,
            "type": "pie"
           }
          ],
          "scatter": [
           {
            "fillpattern": {
             "fillmode": "overlay",
             "size": 10,
             "solidity": 0.2
            },
            "type": "scatter"
           }
          ],
          "scatter3d": [
           {
            "line": {
             "colorbar": {
              "outlinewidth": 0,
              "ticks": ""
             }
            },
            "marker": {
             "colorbar": {
              "outlinewidth": 0,
              "ticks": ""
             }
            },
            "type": "scatter3d"
           }
          ],
          "scattercarpet": [
           {
            "marker": {
             "colorbar": {
              "outlinewidth": 0,
              "ticks": ""
             }
            },
            "type": "scattercarpet"
           }
          ],
          "scattergeo": [
           {
            "marker": {
             "colorbar": {
              "outlinewidth": 0,
              "ticks": ""
             }
            },
            "type": "scattergeo"
           }
          ],
          "scattergl": [
           {
            "marker": {
             "colorbar": {
              "outlinewidth": 0,
              "ticks": ""
             }
            },
            "type": "scattergl"
           }
          ],
          "scattermapbox": [
           {
            "marker": {
             "colorbar": {
              "outlinewidth": 0,
              "ticks": ""
             }
            },
            "type": "scattermapbox"
           }
          ],
          "scatterpolar": [
           {
            "marker": {
             "colorbar": {
              "outlinewidth": 0,
              "ticks": ""
             }
            },
            "type": "scatterpolar"
           }
          ],
          "scatterpolargl": [
           {
            "marker": {
             "colorbar": {
              "outlinewidth": 0,
              "ticks": ""
             }
            },
            "type": "scatterpolargl"
           }
          ],
          "scatterternary": [
           {
            "marker": {
             "colorbar": {
              "outlinewidth": 0,
              "ticks": ""
             }
            },
            "type": "scatterternary"
           }
          ],
          "surface": [
           {
            "colorbar": {
             "outlinewidth": 0,
             "ticks": ""
            },
            "colorscale": [
             [
              0,
              "#0d0887"
             ],
             [
              0.1111111111111111,
              "#46039f"
             ],
             [
              0.2222222222222222,
              "#7201a8"
             ],
             [
              0.3333333333333333,
              "#9c179e"
             ],
             [
              0.4444444444444444,
              "#bd3786"
             ],
             [
              0.5555555555555556,
              "#d8576b"
             ],
             [
              0.6666666666666666,
              "#ed7953"
             ],
             [
              0.7777777777777778,
              "#fb9f3a"
             ],
             [
              0.8888888888888888,
              "#fdca26"
             ],
             [
              1,
              "#f0f921"
             ]
            ],
            "type": "surface"
           }
          ],
          "table": [
           {
            "cells": {
             "fill": {
              "color": "#EBF0F8"
             },
             "line": {
              "color": "white"
             }
            },
            "header": {
             "fill": {
              "color": "#C8D4E3"
             },
             "line": {
              "color": "white"
             }
            },
            "type": "table"
           }
          ]
         },
         "layout": {
          "annotationdefaults": {
           "arrowcolor": "#2a3f5f",
           "arrowhead": 0,
           "arrowwidth": 1
          },
          "autotypenumbers": "strict",
          "coloraxis": {
           "colorbar": {
            "outlinewidth": 0,
            "ticks": ""
           }
          },
          "colorscale": {
           "diverging": [
            [
             0,
             "#8e0152"
            ],
            [
             0.1,
             "#c51b7d"
            ],
            [
             0.2,
             "#de77ae"
            ],
            [
             0.3,
             "#f1b6da"
            ],
            [
             0.4,
             "#fde0ef"
            ],
            [
             0.5,
             "#f7f7f7"
            ],
            [
             0.6,
             "#e6f5d0"
            ],
            [
             0.7,
             "#b8e186"
            ],
            [
             0.8,
             "#7fbc41"
            ],
            [
             0.9,
             "#4d9221"
            ],
            [
             1,
             "#276419"
            ]
           ],
           "sequential": [
            [
             0,
             "#0d0887"
            ],
            [
             0.1111111111111111,
             "#46039f"
            ],
            [
             0.2222222222222222,
             "#7201a8"
            ],
            [
             0.3333333333333333,
             "#9c179e"
            ],
            [
             0.4444444444444444,
             "#bd3786"
            ],
            [
             0.5555555555555556,
             "#d8576b"
            ],
            [
             0.6666666666666666,
             "#ed7953"
            ],
            [
             0.7777777777777778,
             "#fb9f3a"
            ],
            [
             0.8888888888888888,
             "#fdca26"
            ],
            [
             1,
             "#f0f921"
            ]
           ],
           "sequentialminus": [
            [
             0,
             "#0d0887"
            ],
            [
             0.1111111111111111,
             "#46039f"
            ],
            [
             0.2222222222222222,
             "#7201a8"
            ],
            [
             0.3333333333333333,
             "#9c179e"
            ],
            [
             0.4444444444444444,
             "#bd3786"
            ],
            [
             0.5555555555555556,
             "#d8576b"
            ],
            [
             0.6666666666666666,
             "#ed7953"
            ],
            [
             0.7777777777777778,
             "#fb9f3a"
            ],
            [
             0.8888888888888888,
             "#fdca26"
            ],
            [
             1,
             "#f0f921"
            ]
           ]
          },
          "colorway": [
           "#636efa",
           "#EF553B",
           "#00cc96",
           "#ab63fa",
           "#FFA15A",
           "#19d3f3",
           "#FF6692",
           "#B6E880",
           "#FF97FF",
           "#FECB52"
          ],
          "font": {
           "color": "#2a3f5f"
          },
          "geo": {
           "bgcolor": "white",
           "lakecolor": "white",
           "landcolor": "white",
           "showlakes": true,
           "showland": true,
           "subunitcolor": "#C8D4E3"
          },
          "hoverlabel": {
           "align": "left"
          },
          "hovermode": "closest",
          "mapbox": {
           "style": "light"
          },
          "paper_bgcolor": "white",
          "plot_bgcolor": "white",
          "polar": {
           "angularaxis": {
            "gridcolor": "#EBF0F8",
            "linecolor": "#EBF0F8",
            "ticks": ""
           },
           "bgcolor": "white",
           "radialaxis": {
            "gridcolor": "#EBF0F8",
            "linecolor": "#EBF0F8",
            "ticks": ""
           }
          },
          "scene": {
           "xaxis": {
            "backgroundcolor": "white",
            "gridcolor": "#DFE8F3",
            "gridwidth": 2,
            "linecolor": "#EBF0F8",
            "showbackground": true,
            "ticks": "",
            "zerolinecolor": "#EBF0F8"
           },
           "yaxis": {
            "backgroundcolor": "white",
            "gridcolor": "#DFE8F3",
            "gridwidth": 2,
            "linecolor": "#EBF0F8",
            "showbackground": true,
            "ticks": "",
            "zerolinecolor": "#EBF0F8"
           },
           "zaxis": {
            "backgroundcolor": "white",
            "gridcolor": "#DFE8F3",
            "gridwidth": 2,
            "linecolor": "#EBF0F8",
            "showbackground": true,
            "ticks": "",
            "zerolinecolor": "#EBF0F8"
           }
          },
          "shapedefaults": {
           "line": {
            "color": "#2a3f5f"
           }
          },
          "ternary": {
           "aaxis": {
            "gridcolor": "#DFE8F3",
            "linecolor": "#A2B1C6",
            "ticks": ""
           },
           "baxis": {
            "gridcolor": "#DFE8F3",
            "linecolor": "#A2B1C6",
            "ticks": ""
           },
           "bgcolor": "white",
           "caxis": {
            "gridcolor": "#DFE8F3",
            "linecolor": "#A2B1C6",
            "ticks": ""
           }
          },
          "title": {
           "x": 0.05
          },
          "xaxis": {
           "automargin": true,
           "gridcolor": "#EBF0F8",
           "linecolor": "#EBF0F8",
           "ticks": "",
           "title": {
            "standoff": 15
           },
           "zerolinecolor": "#EBF0F8",
           "zerolinewidth": 2
          },
          "yaxis": {
           "automargin": true,
           "gridcolor": "#EBF0F8",
           "linecolor": "#EBF0F8",
           "ticks": "",
           "title": {
            "standoff": 15
           },
           "zerolinecolor": "#EBF0F8",
           "zerolinewidth": 2
          }
         }
        },
        "title": {
         "text": "Number of Images per Subfolder in SF-MASK (Train vs Test)"
        },
        "xaxis": {
         "tickangle": -45,
         "title": {
          "text": "Subfolders"
         }
        },
        "yaxis": {
         "title": {
          "text": "Number of Images"
         }
        }
       }
      }
     },
     "metadata": {},
     "output_type": "display_data"
    }
   ],
   "source": [
    "import os\n",
    "import plotly.graph_objects as go\n",
    "\n",
    "def count_images_in_nested_folders(dataset_path):\n",
    "    folder_counts = {}\n",
    "    for root, dirs, _ in os.walk(dataset_path):\n",
    "        for dir_name in dirs:\n",
    "            folder_path = os.path.join(root, dir_name)\n",
    "            count = sum(\n",
    "                1 for file in os.listdir(folder_path)\n",
    "                if file.lower().endswith(('png', 'jpg', 'jpeg', 'bmp', 'tiff'))\n",
    "            )\n",
    "            if count > 0:  # Include only if the folder contains images\n",
    "                relative_path = os.path.relpath(folder_path, dataset_path)\n",
    "                folder_counts[relative_path] = count\n",
    "    return folder_counts\n",
    "\n",
    "# Path to the SF-MASK folder\n",
    "dataset_path = 'SF-MASK'\n",
    "\n",
    "# Count images in nested folders\n",
    "image_counts = count_images_in_nested_folders(dataset_path)\n",
    "\n",
    "# Separate data for `train` and `test`\n",
    "categories = list(image_counts.keys())\n",
    "counts = list(image_counts.values())\n",
    "colors = ['blue' if 'train' in category else 'green' for category in categories]\n",
    "\n",
    "# Create a Plotly bar chart\n",
    "fig = go.Figure()\n",
    "\n",
    "for category, count, color in zip(categories, counts, colors):\n",
    "    fig.add_trace(go.Bar(\n",
    "        x=[category],\n",
    "        y=[count],\n",
    "        marker_color=color,\n",
    "        text=[count],  # Add the count on top of the bar\n",
    "        textposition=\"outside\",\n",
    "        textfont=dict(size=14, color=\"black\")  # Style the text\n",
    "    ))\n",
    "\n",
    "fig.update_layout(\n",
    "    title=\"Number of Images per Subfolder in SF-MASK (Train vs Test)\",\n",
    "    xaxis_title=\"Subfolders\",\n",
    "    yaxis_title=\"Number of Images\",\n",
    "    template=\"plotly_white\",\n",
    "    xaxis=dict(tickangle=-45),\n",
    "    showlegend=False  # Remove legend since colors are self-explanatory\n",
    ")\n",
    "\n",
    "fig.show()"
   ]
  },
  {
   "cell_type": "code",
   "execution_count": 17,
   "metadata": {},
   "outputs": [
    {
     "data": {
      "application/vnd.plotly.v1+json": {
       "config": {
        "plotlyServerURL": "https://plot.ly"
       },
       "data": [
        {
         "marker": {
          "color": "blue"
         },
         "name": "AFDB_face_dataset",
         "text": [
          "274",
          "164",
          "19",
          "104",
          "235",
          "122",
          "161",
          "38",
          "151",
          "185",
          "157",
          "223",
          "127",
          "125",
          "230",
          "201",
          "189",
          "76",
          "118",
          "182",
          "272",
          "219",
          "108",
          "242",
          "207",
          "153",
          "231",
          "93",
          "172",
          "103",
          "174",
          "203",
          "30",
          "267",
          "153",
          "236",
          "247",
          "207",
          "216",
          "174",
          "119",
          "108",
          "99",
          "194",
          "15",
          "211",
          "245",
          "121",
          "193",
          "220",
          "271",
          "275",
          "183",
          "280",
          "245",
          "141",
          "172",
          "183",
          "169",
          "225",
          "186",
          "121",
          "226",
          "255",
          "266",
          "216",
          "124",
          "222",
          "181",
          "284",
          "251",
          "156",
          "124",
          "253",
          "244",
          "211",
          "247",
          "220",
          "239",
          "231",
          "237",
          "210",
          "204",
          "177",
          "179",
          "100",
          "143",
          "163",
          "175",
          "242",
          "282",
          "187",
          "118",
          "220",
          "141",
          "234",
          "222",
          "184",
          "170",
          "267",
          "155",
          "201",
          "225",
          "123",
          "182",
          "187",
          "180",
          "245",
          "160",
          "186",
          "146",
          "206",
          "217",
          "217",
          "218",
          "142",
          "195",
          "140",
          "169",
          "323",
          "248",
          "97",
          "277",
          "220",
          "234",
          "114",
          "90",
          "249",
          "225",
          "299",
          "270",
          "170",
          "214",
          "212",
          "187",
          "208",
          "180",
          "146",
          "225",
          "197",
          "217",
          "223",
          "195",
          "243",
          "240",
          "226",
          "218",
          "248",
          "333",
          "232",
          "254",
          "240",
          "215",
          "146",
          "165",
          "245",
          "188",
          "167",
          "192",
          "206",
          "201",
          "195",
          "61",
          "187",
          "255",
          "279",
          "196",
          "265",
          "172",
          "269",
          "105",
          "228",
          "255",
          "228",
          "229",
          "202",
          "213",
          "224",
          "257",
          "124",
          "277",
          "293",
          "194",
          "195",
          "228",
          "147",
          "151",
          "208",
          "205",
          "175",
          "159",
          "72",
          "260",
          "121",
          "175",
          "121",
          "259",
          "41",
          "129",
          "235",
          "216",
          "242",
          "94",
          "26",
          "135",
          "214",
          "273",
          "190",
          "240",
          "178",
          "158",
          "11",
          "190",
          "143",
          "124",
          "288",
          "227",
          "130",
          "139",
          "233",
          "168",
          "232",
          "254",
          "229",
          "246",
          "203",
          "10",
          "250",
          "87",
          "181",
          "238",
          "260",
          "272",
          "136",
          "200",
          "263",
          "190",
          "137",
          "259",
          "244",
          "307",
          "175",
          "240",
          "201",
          "194",
          "218",
          "270",
          "185",
          "234",
          "283",
          "189",
          "245",
          "118",
          "206",
          "268",
          "235",
          "166",
          "151",
          "225",
          "159",
          "213",
          "185",
          "217",
          "215",
          "243",
          "109",
          "232",
          "130",
          "289",
          "219",
          "198",
          "220",
          "138",
          "197",
          "198",
          "219",
          "211",
          "178",
          "245",
          "318",
          "208",
          "280",
          "222",
          "208",
          "255",
          "85",
          "231",
          "84",
          "234",
          "241",
          "244",
          "248",
          "246",
          "68",
          "174",
          "224",
          "232",
          "156",
          "293",
          "248",
          "135",
          "210",
          "184",
          "267",
          "264",
          "197",
          "145",
          "161",
          "185",
          "100",
          "194",
          "178",
          "180",
          "255",
          "61",
          "220",
          "162",
          "220",
          "194",
          "210",
          "219",
          "175",
          "200",
          "181",
          "149",
          "294",
          "296",
          "211",
          "201",
          "128",
          "195",
          "169",
          "262",
          "207",
          "121",
          "119",
          "53",
          "241",
          "201",
          "167",
          "333",
          "160",
          "246",
          "256",
          "122",
          "250",
          "146",
          "173",
          "218",
          "258",
          "265",
          "197",
          "223",
          "244",
          "173",
          "151",
          "205",
          "244",
          "225",
          "292",
          "214",
          "190",
          "268",
          "147",
          "230",
          "206",
          "245",
          "211",
          "194",
          "171",
          "174",
          "276",
          "247",
          "213",
          "123",
          "59",
          "9",
          "169",
          "169",
          "221",
          "241",
          "95",
          "182",
          "191",
          "0",
          "249",
          "141",
          "231",
          "242",
          "215",
          "247",
          "244",
          "16",
          "253",
          "221",
          "287",
          "197",
          "259",
          "160",
          "136",
          "301",
          "239",
          "94",
          "230",
          "240",
          "231",
          "233",
          "204",
          "281",
          "214",
          "198",
          "104",
          "145",
          "163",
          "267",
          "254",
          "291",
          "214",
          "103",
          "205",
          "139",
          "185",
          "211",
          "67",
          "208",
          "166",
          "237",
          "218",
          "158",
          "145",
          "243",
          "126",
          "214",
          "104",
          "180",
          "160",
          "191",
          "249",
          "190",
          "288",
          "258",
          "233",
          "262",
          "182",
          "292",
          "137",
          "228",
          "164",
          "110",
          "265",
          "176",
          "211",
          "272",
          "227",
          "92",
          "209",
          "225",
          "200",
          "228",
          "216",
          "191"
         ],
         "textfont": {
          "color": "black",
          "size": 14
         },
         "textposition": "outside",
         "type": "bar",
         "x": [
          "caobingkun",
          "zhangyixing",
          "dingding",
          "liwen",
          "liyapeng",
          "tangyuzhe",
          "yeyiqian",
          "xuezhiqian",
          "lixiang",
          "jindong",
          "nini",
          "pengguanying",
          "zhangziwen",
          "liudan",
          "tongliya",
          "wujunyu",
          "yangweilinghua",
          "zhongliti",
          "huangzhongkun",
          "duhaitao",
          "guobiting",
          "jingbairan",
          "yuanhong",
          "guanyue",
          "zhaoyihuan",
          "yuwenle",
          "louyixiao",
          "luozhixiang",
          "zhouxiuna",
          "lijinming",
          "hangeng",
          "guofucheng",
          "zhangmeng",
          "mingdao",
          "zhangluyi",
          "huanghaibo",
          "yanggongru",
          "huanglei",
          "yangyang",
          "jialing",
          "wenzhang",
          "lingengxin",
          "maqiguang",
          "wenshenghao",
          "zhangjingjing",
          "xujinglei",
          "lixirui",
          "lifeier",
          "zhanghanyu",
          "chenguanxi",
          "qiaozhenyu",
          "caoying",
          "guojunchen",
          "renquan",
          "xinzhilei",
          "liuguanlin",
          "qiushuzhen",
          "zhangyuxi",
          "zhoumi",
          "huhaiquan",
          "wangjunkai",
          "hudie",
          "zhangziyi",
          "zhaojiamin",
          "wangyuanke",
          "huangjinglun",
          "zhuyuanbing",
          "zhangzilin",
          "panyueming",
          "liuruilin",
          "baibaihe",
          "fanshiqi",
          "luhan",
          "baojianfeng",
          "jiaojunyan",
          "liuhaoran",
          "linxinru",
          "wangluodan",
          "wangqing",
          "xuzheng",
          "linsiyi",
          "fanwei",
          "handongjun",
          "guojingming",
          "gutianle",
          "chenbailin",
          "chenglong",
          "qinhao",
          "weidaxun",
          "chenlong",
          "tangyan",
          "chendouling",
          "huangzitao",
          "lianghanwen",
          "xuqing",
          "chenweiting",
          "lufangsheng",
          "huangzhiwei",
          "caiyilin",
          "tansongyun",
          "wulei",
          "liupinyan",
          "zhanghe",
          "songxiaobao",
          "liyitong",
          "chenxuedong",
          "baike",
          "chenxinyu",
          "mowenwei",
          "wuzun",
          "qiaoxin",
          "duwenze",
          "wuzongxian",
          "zhangdansan",
          "zhongxintong",
          "qinjunjie",
          "dujiang",
          "lixingliang",
          "yufeihong",
          "liushishi",
          "hujing",
          "lilianjie",
          "zhanghanyun",
          "zhangzhehan",
          "wangzuxian",
          "hewenhui",
          "daipeini",
          "guojingjing",
          "liutao",
          "yangmi",
          "songqian",
          "zhourunfa",
          "ouhao",
          "masu",
          "benxi",
          "lidaimo",
          "aidai",
          "zhoubichang",
          "zhangzhiyao",
          "liyong",
          "jiangqinqin",
          "qianyongchen",
          "yangzi",
          "zhanghuiwen",
          "tangwei",
          "wangxiaomin",
          "sunhonglei",
          "shuqi",
          "liuyifei",
          "renhan",
          "liudehua",
          "zhangbichen",
          "zhonghanliang",
          "xuweizhou",
          "songdandan",
          "xuekaiqi",
          "wangzhiwen",
          "yuhaoming",
          "yinzheng",
          "linyilian",
          "chenhe",
          "tankai",
          "fanbingbing",
          "linzhiling",
          "huangshengyi",
          "zhouhuimin",
          "jiayuanyuan",
          "cengyongti",
          "make",
          "jiangxin",
          "dengchao",
          "sunyizhou",
          "xudongdong",
          "xietingfeng",
          "wangzulan",
          "qianfeng",
          "xuruoxuan",
          "zhangxueyou",
          "dongxuan",
          "jianghua",
          "xinzi",
          "chenyao",
          "liangchaowei",
          "yanyikuan",
          "tianfuzhen",
          "baobeier",
          "wukequn",
          "sunyaowei",
          "fangzuming",
          "xuxidi",
          "zhouyumin",
          "meiyanfang",
          "zhangzifeng",
          "shenteng",
          "yaoming",
          "zhouxingchi",
          "lanxi",
          "yangxiaodan",
          "huashao",
          "liruotong",
          "wangyujie",
          "zhengyuanchang",
          "wuxin",
          "tanweiwei",
          "chenkun",
          "xiaozhan",
          "zhengkai",
          "weichen",
          "wuyifan",
          "mayili",
          "pengyuyan",
          "zhangyuan",
          "pubajia",
          "suxing",
          "chenxiang",
          "linyun",
          "zhangyimu",
          "chenzhipeng",
          "yaochen",
          "wangyuan",
          "wangruoyi",
          "anhu",
          "ruanjingtian",
          "fuxinbo",
          "maguoming",
          "huangrihua",
          "chenjiaqi",
          "wenghong",
          "wenjunhui",
          "zhangliangying",
          "houpeicen",
          "yangying",
          "qinlan",
          "wangmingquan",
          "yeqianwen",
          "luyi",
          "rongzuer",
          "chenhaomin",
          "huosiyan",
          "liuruoying",
          "zhangxueying",
          "haiqing",
          "caoyunjin",
          "linjing",
          "zhoujie",
          "gulinazha",
          "xuxiyuan",
          "wanglihong",
          "jujingyi",
          "zhangguoli",
          "xuhao",
          "zhangshaohan",
          "liusongren",
          "zhaoyouting",
          "jianghongbo",
          "xiena",
          "dazhangwei",
          "tanlina",
          "hanxue",
          "zhangdanfeng",
          "licaihua",
          "yufeng",
          "hanqingzi",
          "lixiaolu",
          "nieyuan",
          "axin",
          "gaoyixiang",
          "yangqiming",
          "jingtian",
          "liaobier",
          "huangjingyu",
          "zhangbo",
          "linjunjie",
          "songxiaobo",
          "huangxiaoming",
          "ganwei",
          "jikejuanyi",
          "baijingting",
          "lijian",
          "maozijun",
          "zhengshuang",
          "maoxiaotong",
          "caizhuoyan",
          "houminghao",
          "xiongnaijin",
          "mali",
          "chenqiaoen",
          "wangfeng",
          "zhangzhilin",
          "huozun",
          "ditianlin",
          "wangkai",
          "guoxiaofeng",
          "chenyufan",
          "yumenglong",
          "fanganna",
          "zhangbaizhi",
          "changyuan",
          "wanglikun",
          "sunyi",
          "likeqin",
          "liankai",
          "sunxiaoxiao",
          "lvyi",
          "zhangdongliang",
          "fanyichen",
          "luomeiwei",
          "caiguoqing",
          "liuxiang",
          "sunyue",
          "wuzhenyu",
          "xuhaiqiao",
          "chenyixun",
          "qiwei",
          "haofeier",
          "tangning",
          "huangqiusheng",
          "yuanshanshan",
          "huangzongze",
          "yuyi",
          "yanyalun",
          "yuanquan",
          "wangdongcheng",
          "liuye",
          "shenmengchen",
          "liuchutian",
          "lanyingying",
          "jianailiang",
          "changshilei",
          "fengjianyu",
          "xufei",
          "wanghan",
          "zhouxun",
          "chenderong",
          "zhuowenxuan",
          "yangqianhua",
          "shaofeng",
          "tangyixin",
          "hejiong",
          "dongchengpeng",
          "linyichen",
          "yingzi",
          "hedujuan",
          "dilireba",
          "jiangwen",
          "wangxiaochen",
          "linyoujia",
          "liujialing",
          "xujiao",
          "sunli",
          "songzuer",
          "huangxuan",
          "yingcaier",
          "zhuyilong",
          "luchen",
          "yanni",
          "tianliang",
          "jinchen",
          "linyilun",
          "gongbeibi",
          "zhongjiaxin",
          "zhangjie",
          "songzuying",
          "huxia",
          "luojin",
          "tongkeke",
          "jiangjinfu",
          "zhangbinbin",
          "zhangxinyu",
          "chenhuixian",
          "xulu1",
          "maolinlin",
          "huke",
          "chenfarong",
          "zhoujielun",
          "tiezheng",
          "ningjing",
          "qiyu",
          "zhangyishan",
          "jiangyiyi",
          "zhaoliying",
          "wangfei",
          "leijiayin",
          "gaohu",
          "wangnan",
          "xuejianing",
          "jiangxijian",
          "wangyu",
          "zhouhuajian",
          "zhaoyazhi",
          "yuanyongyi",
          "zhengyecheng",
          "wangjie",
          "guanxiaotong",
          "masichun",
          "zhangtianai",
          "wujing",
          "lizhiting",
          "wuqingfeng",
          "caihancen",
          "zhoudongyu",
          "yueyunpeng",
          "xiongdailin",
          "songxiaofeng",
          "majunwei",
          "tanjing",
          "zhangruoyun",
          "matianyu",
          "qiuze",
          "huyanbin",
          "denglun",
          "xienan",
          "huge",
          "wenlan",
          "zhangrui",
          "zhangyi",
          "yangrong",
          "yinengjing",
          "pengjing",
          "zhanghan",
          "raowei",
          "liuxiaoqing",
          "jinggangshan",
          "wangqi",
          "hejunxiang",
          "dengziqi",
          "zhengyijian",
          "linyuan",
          "qiqi",
          "huojianhua",
          "wuqilong",
          "qiaorenliang",
          "zhangxinyi",
          "wanglin",
          "lizi",
          "liyifeng",
          "wangbaoqiang",
          "chenshu",
          "liweijia",
          "jiangkaitong",
          "xieanqi",
          "dongjie",
          "liuqianhan",
          "oudi",
          "wangou",
          "lvjiarong",
          "guojingfei",
          "zhenzidan",
          "zhangzhenyue",
          "huangtingting",
          "hanbaoyi",
          "liaofan",
          "chenhuilin",
          "pengchuyue",
          "chenyi",
          "zhudan",
          "gaoyuanyuan",
          "xiaoshenyang",
          "huangbo",
          "yangyi",
          "wujiacheng"
         ],
         "y": [
          274,
          164,
          19,
          104,
          235,
          122,
          161,
          38,
          151,
          185,
          157,
          223,
          127,
          125,
          230,
          201,
          189,
          76,
          118,
          182,
          272,
          219,
          108,
          242,
          207,
          153,
          231,
          93,
          172,
          103,
          174,
          203,
          30,
          267,
          153,
          236,
          247,
          207,
          216,
          174,
          119,
          108,
          99,
          194,
          15,
          211,
          245,
          121,
          193,
          220,
          271,
          275,
          183,
          280,
          245,
          141,
          172,
          183,
          169,
          225,
          186,
          121,
          226,
          255,
          266,
          216,
          124,
          222,
          181,
          284,
          251,
          156,
          124,
          253,
          244,
          211,
          247,
          220,
          239,
          231,
          237,
          210,
          204,
          177,
          179,
          100,
          143,
          163,
          175,
          242,
          282,
          187,
          118,
          220,
          141,
          234,
          222,
          184,
          170,
          267,
          155,
          201,
          225,
          123,
          182,
          187,
          180,
          245,
          160,
          186,
          146,
          206,
          217,
          217,
          218,
          142,
          195,
          140,
          169,
          323,
          248,
          97,
          277,
          220,
          234,
          114,
          90,
          249,
          225,
          299,
          270,
          170,
          214,
          212,
          187,
          208,
          180,
          146,
          225,
          197,
          217,
          223,
          195,
          243,
          240,
          226,
          218,
          248,
          333,
          232,
          254,
          240,
          215,
          146,
          165,
          245,
          188,
          167,
          192,
          206,
          201,
          195,
          61,
          187,
          255,
          279,
          196,
          265,
          172,
          269,
          105,
          228,
          255,
          228,
          229,
          202,
          213,
          224,
          257,
          124,
          277,
          293,
          194,
          195,
          228,
          147,
          151,
          208,
          205,
          175,
          159,
          72,
          260,
          121,
          175,
          121,
          259,
          41,
          129,
          235,
          216,
          242,
          94,
          26,
          135,
          214,
          273,
          190,
          240,
          178,
          158,
          11,
          190,
          143,
          124,
          288,
          227,
          130,
          139,
          233,
          168,
          232,
          254,
          229,
          246,
          203,
          10,
          250,
          87,
          181,
          238,
          260,
          272,
          136,
          200,
          263,
          190,
          137,
          259,
          244,
          307,
          175,
          240,
          201,
          194,
          218,
          270,
          185,
          234,
          283,
          189,
          245,
          118,
          206,
          268,
          235,
          166,
          151,
          225,
          159,
          213,
          185,
          217,
          215,
          243,
          109,
          232,
          130,
          289,
          219,
          198,
          220,
          138,
          197,
          198,
          219,
          211,
          178,
          245,
          318,
          208,
          280,
          222,
          208,
          255,
          85,
          231,
          84,
          234,
          241,
          244,
          248,
          246,
          68,
          174,
          224,
          232,
          156,
          293,
          248,
          135,
          210,
          184,
          267,
          264,
          197,
          145,
          161,
          185,
          100,
          194,
          178,
          180,
          255,
          61,
          220,
          162,
          220,
          194,
          210,
          219,
          175,
          200,
          181,
          149,
          294,
          296,
          211,
          201,
          128,
          195,
          169,
          262,
          207,
          121,
          119,
          53,
          241,
          201,
          167,
          333,
          160,
          246,
          256,
          122,
          250,
          146,
          173,
          218,
          258,
          265,
          197,
          223,
          244,
          173,
          151,
          205,
          244,
          225,
          292,
          214,
          190,
          268,
          147,
          230,
          206,
          245,
          211,
          194,
          171,
          174,
          276,
          247,
          213,
          123,
          59,
          9,
          169,
          169,
          221,
          241,
          95,
          182,
          191,
          0,
          249,
          141,
          231,
          242,
          215,
          247,
          244,
          16,
          253,
          221,
          287,
          197,
          259,
          160,
          136,
          301,
          239,
          94,
          230,
          240,
          231,
          233,
          204,
          281,
          214,
          198,
          104,
          145,
          163,
          267,
          254,
          291,
          214,
          103,
          205,
          139,
          185,
          211,
          67,
          208,
          166,
          237,
          218,
          158,
          145,
          243,
          126,
          214,
          104,
          180,
          160,
          191,
          249,
          190,
          288,
          258,
          233,
          262,
          182,
          292,
          137,
          228,
          164,
          110,
          265,
          176,
          211,
          272,
          227,
          92,
          209,
          225,
          200,
          228,
          216,
          191
         ]
        },
        {
         "marker": {
          "color": "green"
         },
         "name": "AFDB_masked_face_dataset",
         "text": [
          "2",
          "25",
          "1",
          "0",
          "1",
          "7",
          "1",
          "12",
          "1",
          "3",
          "2",
          "1",
          "0",
          "2",
          "2",
          "2",
          "1",
          "1",
          "1",
          "17",
          "1",
          "3",
          "0",
          "2",
          "4",
          "2",
          "2",
          "2",
          "1",
          "0",
          "2",
          "2",
          "1",
          "0",
          "4",
          "2",
          "2",
          "3",
          "15",
          "2",
          "0",
          "5",
          "2",
          "0",
          "1",
          "2",
          "1",
          "3",
          "0",
          "1",
          "1",
          "2",
          "1",
          "7",
          "1",
          "1",
          "0",
          "17",
          "0",
          "2",
          "13",
          "0",
          "4",
          "4",
          "3",
          "1",
          "1",
          "3",
          "3",
          "2",
          "0",
          "2",
          "0",
          "2",
          "0",
          "7",
          "10",
          "7",
          "4",
          "1",
          "1",
          "2",
          "3",
          "0",
          "2",
          "3",
          "1",
          "1",
          "7",
          "1",
          "5",
          "1",
          "4",
          "1",
          "1",
          "10",
          "1",
          "0",
          "1",
          "5",
          "9",
          "0",
          "3",
          "0",
          "10",
          "2",
          "1",
          "0",
          "7",
          "1",
          "3",
          "1",
          "0",
          "10",
          "5",
          "2",
          "0",
          "1",
          "0",
          "4",
          "1",
          "5",
          "6",
          "7",
          "6",
          "0",
          "1",
          "2",
          "5",
          "9",
          "3",
          "2",
          "1",
          "10",
          "1",
          "3",
          "1",
          "7",
          "2",
          "0",
          "0",
          "1",
          "11",
          "8",
          "4",
          "1",
          "4",
          "3",
          "3",
          "0",
          "2",
          "14",
          "4",
          "13",
          "1",
          "2",
          "0",
          "7",
          "1",
          "0",
          "6",
          "2",
          "7",
          "5",
          "1",
          "1",
          "0",
          "1",
          "3",
          "9",
          "3",
          "2",
          "2",
          "1",
          "1",
          "0",
          "2",
          "2",
          "1",
          "0",
          "2",
          "1",
          "2",
          "3",
          "0",
          "0",
          "4",
          "6",
          "3",
          "3",
          "7",
          "2",
          "12",
          "3",
          "7",
          "2",
          "1",
          "0",
          "2",
          "5",
          "0",
          "1",
          "3",
          "8",
          "1",
          "9",
          "3",
          "0",
          "18",
          "0",
          "4",
          "0",
          "0",
          "0",
          "2",
          "5",
          "1",
          "1",
          "2",
          "17",
          "0",
          "1",
          "5",
          "0",
          "2",
          "8",
          "1",
          "1",
          "0",
          "10",
          "2",
          "2",
          "3",
          "3",
          "2",
          "3",
          "1",
          "0",
          "5",
          "2",
          "8",
          "1",
          "0",
          "1",
          "0",
          "2",
          "1",
          "2",
          "4",
          "2",
          "1",
          "3",
          "1",
          "6",
          "3",
          "5",
          "3",
          "0",
          "8",
          "1",
          "1",
          "0",
          "2",
          "8",
          "1",
          "1",
          "5",
          "1",
          "13",
          "0",
          "7",
          "2",
          "2",
          "2",
          "3",
          "1",
          "3",
          "2",
          "0",
          "3",
          "17",
          "1",
          "3",
          "12",
          "5",
          "2",
          "10",
          "0",
          "3",
          "8",
          "4",
          "2",
          "1",
          "0",
          "2",
          "1",
          "7",
          "2",
          "4",
          "0",
          "0",
          "1",
          "0",
          "1",
          "1",
          "1",
          "1",
          "1",
          "11",
          "10",
          "4",
          "3",
          "1",
          "2",
          "1",
          "1",
          "0",
          "13",
          "3",
          "3",
          "4",
          "0",
          "1",
          "1",
          "1",
          "4",
          "2",
          "3",
          "1",
          "4",
          "1",
          "0",
          "8",
          "1",
          "1",
          "2",
          "1",
          "2",
          "2",
          "0",
          "1",
          "1",
          "0",
          "3",
          "1",
          "0",
          "7",
          "1",
          "4",
          "7",
          "9",
          "2",
          "4",
          "2",
          "3",
          "8",
          "6",
          "9",
          "0",
          "1",
          "0",
          "3",
          "0",
          "1",
          "0",
          "1",
          "1",
          "1",
          "4",
          "1",
          "0",
          "1",
          "0",
          "1",
          "19",
          "0",
          "2",
          "0",
          "7",
          "1",
          "7",
          "14",
          "0",
          "0",
          "1",
          "2",
          "0",
          "1",
          "1",
          "8",
          "2",
          "1",
          "3",
          "13",
          "8",
          "7",
          "0",
          "2",
          "2",
          "1",
          "13",
          "3",
          "2",
          "0",
          "0",
          "2",
          "14",
          "12",
          "3",
          "2",
          "7",
          "0",
          "4",
          "0",
          "2",
          "1",
          "1",
          "2",
          "1",
          "2",
          "4",
          "3",
          "1",
          "1",
          "0",
          "2",
          "0",
          "1",
          "2",
          "9",
          "1",
          "1",
          "1",
          "0",
          "10",
          "8",
          "1",
          "1",
          "5",
          "3",
          "2",
          "3",
          "1",
          "2",
          "7",
          "1",
          "6",
          "0",
          "0",
          "9",
          "1",
          "0",
          "2",
          "1",
          "1",
          "2",
          "4",
          "3",
          "2",
          "3",
          "3"
         ],
         "textfont": {
          "color": "black",
          "size": 14
         },
         "textposition": "outside",
         "type": "bar",
         "x": [
          "caobingkun",
          "zhangyixing",
          "dingding",
          "liwen",
          "liyapeng",
          "tangyuzhe",
          "yeyiqian",
          "xuezhiqian",
          "lixiang",
          "jindong",
          "nini",
          "pengguanying",
          "zhangziwen",
          "liudan",
          "tongliya",
          "wujunyu",
          "yangweilinghua",
          "zhongliti",
          "huangzhongkun",
          "duhaitao",
          "guobiting",
          "jingbairan",
          "yuanhong",
          "guanyue",
          "zhaoyihuan",
          "yuwenle",
          "louyixiao",
          "luozhixiang",
          "zhouxiuna",
          "lijinming",
          "hangeng",
          "guofucheng",
          "zhangmeng",
          "mingdao",
          "zhangluyi",
          "huanghaibo",
          "yanggongru",
          "huanglei",
          "yangyang",
          "jialing",
          "wenzhang",
          "lingengxin",
          "maqiguang",
          "wenshenghao",
          "zhangjingjing",
          "xujinglei",
          "lixirui",
          "lifeier",
          "zhanghanyu",
          "chenguanxi",
          "qiaozhenyu",
          "caoying",
          "guojunchen",
          "renquan",
          "xinzhilei",
          "liuguanlin",
          "qiushuzhen",
          "zhangyuxi",
          "zhoumi",
          "huhaiquan",
          "wangjunkai",
          "hudie",
          "zhangziyi",
          "zhaojiamin",
          "wangyuanke",
          "huangjinglun",
          "zhuyuanbing",
          "zhangzilin",
          "panyueming",
          "liuruilin",
          "baibaihe",
          "fanshiqi",
          "luhan",
          "baojianfeng",
          "jiaojunyan",
          "liuhaoran",
          "linxinru",
          "wangluodan",
          "wangqing",
          "xuzheng",
          "linsiyi",
          "fanwei",
          "handongjun",
          "guojingming",
          "gutianle",
          "chenbailin",
          "chenglong",
          "qinhao",
          "weidaxun",
          "chenlong",
          "tangyan",
          "chendouling",
          "huangzitao",
          "lianghanwen",
          "xuqing",
          "chenweiting",
          "lufangsheng",
          "huangzhiwei",
          "caiyilin",
          "tansongyun",
          "wulei",
          "liupinyan",
          "zhanghe",
          "songxiaobao",
          "liyitong",
          "chenxuedong",
          "baike",
          "chenxinyu",
          "mowenwei",
          "wuzun",
          "qiaoxin",
          "duwenze",
          "wuzongxian",
          "zhangdansan",
          "zhongxintong",
          "qinjunjie",
          "dujiang",
          "lixingliang",
          "yufeihong",
          "liushishi",
          "hujing",
          "lilianjie",
          "zhanghanyun",
          "zhangzhehan",
          "wangzuxian",
          "hewenhui",
          "daipeini",
          "guojingjing",
          "liutao",
          "yangmi",
          "songqian",
          "zhourunfa",
          "ouhao",
          "masu",
          "benxi",
          "lidaimo",
          "aidai",
          "zhoubichang",
          "zhangzhiyao",
          "liyong",
          "jiangqinqin",
          "qianyongchen",
          "yangzi",
          "zhanghuiwen",
          "tangwei",
          "wangxiaomin",
          "sunhonglei",
          "shuqi",
          "liuyifei",
          "renhan",
          "liudehua",
          "zhangbichen",
          "zhonghanliang",
          "xuweizhou",
          "songdandan",
          "xuekaiqi",
          "wangzhiwen",
          "yuhaoming",
          "yinzheng",
          "linyilian",
          "chenhe",
          "tankai",
          "fanbingbing",
          "linzhiling",
          "huangshengyi",
          "zhouhuimin",
          "jiayuanyuan",
          "cengyongti",
          "make",
          "jiangxin",
          "dengchao",
          "sunyizhou",
          "xudongdong",
          "xietingfeng",
          "wangzulan",
          "qianfeng",
          "xuruoxuan",
          "zhangxueyou",
          "dongxuan",
          "jianghua",
          "xinzi",
          "chenyao",
          "liangchaowei",
          "yanyikuan",
          "tianfuzhen",
          "baobeier",
          "wukequn",
          "sunyaowei",
          "fangzuming",
          "xuxidi",
          "zhouyumin",
          "meiyanfang",
          "zhangzifeng",
          "shenteng",
          "yaoming",
          "zhouxingchi",
          "lanxi",
          "yangxiaodan",
          "huashao",
          "liruotong",
          "wangyujie",
          "zhengyuanchang",
          "wuxin",
          "tanweiwei",
          "chenkun",
          "xiaozhan",
          "zhengkai",
          "weichen",
          "wuyifan",
          "mayili",
          "pengyuyan",
          "zhangyuan",
          "pubajia",
          "suxing",
          "chenxiang",
          "linyun",
          "zhangyimu",
          "chenzhipeng",
          "yaochen",
          "wangyuan",
          "wangruoyi",
          "anhu",
          "ruanjingtian",
          "fuxinbo",
          "maguoming",
          "huangrihua",
          "chenjiaqi",
          "wenghong",
          "wenjunhui",
          "zhangliangying",
          "houpeicen",
          "yangying",
          "qinlan",
          "wangmingquan",
          "yeqianwen",
          "luyi",
          "rongzuer",
          "chenhaomin",
          "huosiyan",
          "liuruoying",
          "zhangxueying",
          "haiqing",
          "caoyunjin",
          "linjing",
          "zhoujie",
          "gulinazha",
          "xuxiyuan",
          "wanglihong",
          "jujingyi",
          "zhangguoli",
          "xuhao",
          "zhangshaohan",
          "liusongren",
          "zhaoyouting",
          "jianghongbo",
          "xiena",
          "dazhangwei",
          "tanlina",
          "hanxue",
          "zhangdanfeng",
          "licaihua",
          "yufeng",
          "hanqingzi",
          "lixiaolu",
          "nieyuan",
          "axin",
          "gaoyixiang",
          "yangqiming",
          "jingtian",
          "liaobier",
          "huangjingyu",
          "zhangbo",
          "linjunjie",
          "songxiaobo",
          "huangxiaoming",
          "ganwei",
          "jikejuanyi",
          "baijingting",
          "lijian",
          "maozijun",
          "zhengshuang",
          "maoxiaotong",
          "caizhuoyan",
          "houminghao",
          "xiongnaijin",
          "mali",
          "chenqiaoen",
          "wangfeng",
          "zhangzhilin",
          "huozun",
          "ditianlin",
          "wangkai",
          "guoxiaofeng",
          "chenyufan",
          "yumenglong",
          "fanganna",
          "zhangbaizhi",
          "changyuan",
          "wanglikun",
          "sunyi",
          "likeqin",
          "liankai",
          "sunxiaoxiao",
          "lvyi",
          "zhangdongliang",
          "fanyichen",
          "luomeiwei",
          "caiguoqing",
          "liuxiang",
          "sunyue",
          "wuzhenyu",
          "xuhaiqiao",
          "chenyixun",
          "qiwei",
          "haofeier",
          "tangning",
          "huangqiusheng",
          "yuanshanshan",
          "huangzongze",
          "yuyi",
          "yanyalun",
          "yuanquan",
          "wangdongcheng",
          "liuye",
          "shenmengchen",
          "liuchutian",
          "lanyingying",
          "jianailiang",
          "changshilei",
          "fengjianyu",
          "xufei",
          "wanghan",
          "zhouxun",
          "chenderong",
          "zhuowenxuan",
          "yangqianhua",
          "shaofeng",
          "tangyixin",
          "hejiong",
          "dongchengpeng",
          "linyichen",
          "yingzi",
          "hedujuan",
          "dilireba",
          "jiangwen",
          "wangxiaochen",
          "linyoujia",
          "liujialing",
          "xujiao",
          "sunli",
          "songzuer",
          "huangxuan",
          "yingcaier",
          "zhuyilong",
          "luchen",
          "yanni",
          "tianliang",
          "jinchen",
          "linyilun",
          "gongbeibi",
          "zhongjiaxin",
          "zhangjie",
          "songzuying",
          "huxia",
          "luojin",
          "tongkeke",
          "jiangjinfu",
          "zhangbinbin",
          "zhangxinyu",
          "chenhuixian",
          "xulu1",
          "maolinlin",
          "huke",
          "chenfarong",
          "zhoujielun",
          "tiezheng",
          "ningjing",
          "qiyu",
          "zhangyishan",
          "jiangyiyi",
          "zhaoliying",
          "wangfei",
          "leijiayin",
          "gaohu",
          "wangnan",
          "xuejianing",
          "jiangxijian",
          "wangyu",
          "zhouhuajian",
          "zhaoyazhi",
          "yuanyongyi",
          "zhengyecheng",
          "wangjie",
          "guanxiaotong",
          "masichun",
          "zhangtianai",
          "wujing",
          "lizhiting",
          "wuqingfeng",
          "caihancen",
          "zhoudongyu",
          "yueyunpeng",
          "xiongdailin",
          "songxiaofeng",
          "majunwei",
          "tanjing",
          "zhangruoyun",
          "matianyu",
          "qiuze",
          "huyanbin",
          "denglun",
          "xienan",
          "huge",
          "wenlan",
          "zhangrui",
          "zhangyi",
          "yangrong",
          "yinengjing",
          "pengjing",
          "zhanghan",
          "raowei",
          "liuxiaoqing",
          "jinggangshan",
          "wangqi",
          "hejunxiang",
          "dengziqi",
          "zhengyijian",
          "linyuan",
          "qiqi",
          "huojianhua",
          "wuqilong",
          "qiaorenliang",
          "zhangxinyi",
          "wanglin",
          "lizi",
          "liyifeng",
          "wangbaoqiang",
          "chenshu",
          "liweijia",
          "jiangkaitong",
          "xieanqi",
          "dongjie",
          "liuqianhan",
          "oudi",
          "wangou",
          "lvjiarong",
          "guojingfei",
          "zhenzidan",
          "zhangzhenyue",
          "huangtingting",
          "hanbaoyi",
          "liaofan",
          "chenhuilin",
          "pengchuyue",
          "chenyi",
          "zhudan",
          "gaoyuanyuan",
          "xiaoshenyang",
          "huangbo",
          "yangyi",
          "wujiacheng"
         ],
         "y": [
          2,
          25,
          1,
          0,
          1,
          7,
          1,
          12,
          1,
          3,
          2,
          1,
          0,
          2,
          2,
          2,
          1,
          1,
          1,
          17,
          1,
          3,
          0,
          2,
          4,
          2,
          2,
          2,
          1,
          0,
          2,
          2,
          1,
          0,
          4,
          2,
          2,
          3,
          15,
          2,
          0,
          5,
          2,
          0,
          1,
          2,
          1,
          3,
          0,
          1,
          1,
          2,
          1,
          7,
          1,
          1,
          0,
          17,
          0,
          2,
          13,
          0,
          4,
          4,
          3,
          1,
          1,
          3,
          3,
          2,
          0,
          2,
          0,
          2,
          0,
          7,
          10,
          7,
          4,
          1,
          1,
          2,
          3,
          0,
          2,
          3,
          1,
          1,
          7,
          1,
          5,
          1,
          4,
          1,
          1,
          10,
          1,
          0,
          1,
          5,
          9,
          0,
          3,
          0,
          10,
          2,
          1,
          0,
          7,
          1,
          3,
          1,
          0,
          10,
          5,
          2,
          0,
          1,
          0,
          4,
          1,
          5,
          6,
          7,
          6,
          0,
          1,
          2,
          5,
          9,
          3,
          2,
          1,
          10,
          1,
          3,
          1,
          7,
          2,
          0,
          0,
          1,
          11,
          8,
          4,
          1,
          4,
          3,
          3,
          0,
          2,
          14,
          4,
          13,
          1,
          2,
          0,
          7,
          1,
          0,
          6,
          2,
          7,
          5,
          1,
          1,
          0,
          1,
          3,
          9,
          3,
          2,
          2,
          1,
          1,
          0,
          2,
          2,
          1,
          0,
          2,
          1,
          2,
          3,
          0,
          0,
          4,
          6,
          3,
          3,
          7,
          2,
          12,
          3,
          7,
          2,
          1,
          0,
          2,
          5,
          0,
          1,
          3,
          8,
          1,
          9,
          3,
          0,
          18,
          0,
          4,
          0,
          0,
          0,
          2,
          5,
          1,
          1,
          2,
          17,
          0,
          1,
          5,
          0,
          2,
          8,
          1,
          1,
          0,
          10,
          2,
          2,
          3,
          3,
          2,
          3,
          1,
          0,
          5,
          2,
          8,
          1,
          0,
          1,
          0,
          2,
          1,
          2,
          4,
          2,
          1,
          3,
          1,
          6,
          3,
          5,
          3,
          0,
          8,
          1,
          1,
          0,
          2,
          8,
          1,
          1,
          5,
          1,
          13,
          0,
          7,
          2,
          2,
          2,
          3,
          1,
          3,
          2,
          0,
          3,
          17,
          1,
          3,
          12,
          5,
          2,
          10,
          0,
          3,
          8,
          4,
          2,
          1,
          0,
          2,
          1,
          7,
          2,
          4,
          0,
          0,
          1,
          0,
          1,
          1,
          1,
          1,
          1,
          11,
          10,
          4,
          3,
          1,
          2,
          1,
          1,
          0,
          13,
          3,
          3,
          4,
          0,
          1,
          1,
          1,
          4,
          2,
          3,
          1,
          4,
          1,
          0,
          8,
          1,
          1,
          2,
          1,
          2,
          2,
          0,
          1,
          1,
          0,
          3,
          1,
          0,
          7,
          1,
          4,
          7,
          9,
          2,
          4,
          2,
          3,
          8,
          6,
          9,
          0,
          1,
          0,
          3,
          0,
          1,
          0,
          1,
          1,
          1,
          4,
          1,
          0,
          1,
          0,
          1,
          19,
          0,
          2,
          0,
          7,
          1,
          7,
          14,
          0,
          0,
          1,
          2,
          0,
          1,
          1,
          8,
          2,
          1,
          3,
          13,
          8,
          7,
          0,
          2,
          2,
          1,
          13,
          3,
          2,
          0,
          0,
          2,
          14,
          12,
          3,
          2,
          7,
          0,
          4,
          0,
          2,
          1,
          1,
          2,
          1,
          2,
          4,
          3,
          1,
          1,
          0,
          2,
          0,
          1,
          2,
          9,
          1,
          1,
          1,
          0,
          10,
          8,
          1,
          1,
          5,
          3,
          2,
          3,
          1,
          2,
          7,
          1,
          6,
          0,
          0,
          9,
          1,
          0,
          2,
          1,
          1,
          2,
          4,
          3,
          2,
          3,
          3
         ]
        }
       ],
       "layout": {
        "barmode": "group",
        "showlegend": true,
        "template": {
         "data": {
          "bar": [
           {
            "error_x": {
             "color": "#2a3f5f"
            },
            "error_y": {
             "color": "#2a3f5f"
            },
            "marker": {
             "line": {
              "color": "white",
              "width": 0.5
             },
             "pattern": {
              "fillmode": "overlay",
              "size": 10,
              "solidity": 0.2
             }
            },
            "type": "bar"
           }
          ],
          "barpolar": [
           {
            "marker": {
             "line": {
              "color": "white",
              "width": 0.5
             },
             "pattern": {
              "fillmode": "overlay",
              "size": 10,
              "solidity": 0.2
             }
            },
            "type": "barpolar"
           }
          ],
          "carpet": [
           {
            "aaxis": {
             "endlinecolor": "#2a3f5f",
             "gridcolor": "#C8D4E3",
             "linecolor": "#C8D4E3",
             "minorgridcolor": "#C8D4E3",
             "startlinecolor": "#2a3f5f"
            },
            "baxis": {
             "endlinecolor": "#2a3f5f",
             "gridcolor": "#C8D4E3",
             "linecolor": "#C8D4E3",
             "minorgridcolor": "#C8D4E3",
             "startlinecolor": "#2a3f5f"
            },
            "type": "carpet"
           }
          ],
          "choropleth": [
           {
            "colorbar": {
             "outlinewidth": 0,
             "ticks": ""
            },
            "type": "choropleth"
           }
          ],
          "contour": [
           {
            "colorbar": {
             "outlinewidth": 0,
             "ticks": ""
            },
            "colorscale": [
             [
              0,
              "#0d0887"
             ],
             [
              0.1111111111111111,
              "#46039f"
             ],
             [
              0.2222222222222222,
              "#7201a8"
             ],
             [
              0.3333333333333333,
              "#9c179e"
             ],
             [
              0.4444444444444444,
              "#bd3786"
             ],
             [
              0.5555555555555556,
              "#d8576b"
             ],
             [
              0.6666666666666666,
              "#ed7953"
             ],
             [
              0.7777777777777778,
              "#fb9f3a"
             ],
             [
              0.8888888888888888,
              "#fdca26"
             ],
             [
              1,
              "#f0f921"
             ]
            ],
            "type": "contour"
           }
          ],
          "contourcarpet": [
           {
            "colorbar": {
             "outlinewidth": 0,
             "ticks": ""
            },
            "type": "contourcarpet"
           }
          ],
          "heatmap": [
           {
            "colorbar": {
             "outlinewidth": 0,
             "ticks": ""
            },
            "colorscale": [
             [
              0,
              "#0d0887"
             ],
             [
              0.1111111111111111,
              "#46039f"
             ],
             [
              0.2222222222222222,
              "#7201a8"
             ],
             [
              0.3333333333333333,
              "#9c179e"
             ],
             [
              0.4444444444444444,
              "#bd3786"
             ],
             [
              0.5555555555555556,
              "#d8576b"
             ],
             [
              0.6666666666666666,
              "#ed7953"
             ],
             [
              0.7777777777777778,
              "#fb9f3a"
             ],
             [
              0.8888888888888888,
              "#fdca26"
             ],
             [
              1,
              "#f0f921"
             ]
            ],
            "type": "heatmap"
           }
          ],
          "heatmapgl": [
           {
            "colorbar": {
             "outlinewidth": 0,
             "ticks": ""
            },
            "colorscale": [
             [
              0,
              "#0d0887"
             ],
             [
              0.1111111111111111,
              "#46039f"
             ],
             [
              0.2222222222222222,
              "#7201a8"
             ],
             [
              0.3333333333333333,
              "#9c179e"
             ],
             [
              0.4444444444444444,
              "#bd3786"
             ],
             [
              0.5555555555555556,
              "#d8576b"
             ],
             [
              0.6666666666666666,
              "#ed7953"
             ],
             [
              0.7777777777777778,
              "#fb9f3a"
             ],
             [
              0.8888888888888888,
              "#fdca26"
             ],
             [
              1,
              "#f0f921"
             ]
            ],
            "type": "heatmapgl"
           }
          ],
          "histogram": [
           {
            "marker": {
             "pattern": {
              "fillmode": "overlay",
              "size": 10,
              "solidity": 0.2
             }
            },
            "type": "histogram"
           }
          ],
          "histogram2d": [
           {
            "colorbar": {
             "outlinewidth": 0,
             "ticks": ""
            },
            "colorscale": [
             [
              0,
              "#0d0887"
             ],
             [
              0.1111111111111111,
              "#46039f"
             ],
             [
              0.2222222222222222,
              "#7201a8"
             ],
             [
              0.3333333333333333,
              "#9c179e"
             ],
             [
              0.4444444444444444,
              "#bd3786"
             ],
             [
              0.5555555555555556,
              "#d8576b"
             ],
             [
              0.6666666666666666,
              "#ed7953"
             ],
             [
              0.7777777777777778,
              "#fb9f3a"
             ],
             [
              0.8888888888888888,
              "#fdca26"
             ],
             [
              1,
              "#f0f921"
             ]
            ],
            "type": "histogram2d"
           }
          ],
          "histogram2dcontour": [
           {
            "colorbar": {
             "outlinewidth": 0,
             "ticks": ""
            },
            "colorscale": [
             [
              0,
              "#0d0887"
             ],
             [
              0.1111111111111111,
              "#46039f"
             ],
             [
              0.2222222222222222,
              "#7201a8"
             ],
             [
              0.3333333333333333,
              "#9c179e"
             ],
             [
              0.4444444444444444,
              "#bd3786"
             ],
             [
              0.5555555555555556,
              "#d8576b"
             ],
             [
              0.6666666666666666,
              "#ed7953"
             ],
             [
              0.7777777777777778,
              "#fb9f3a"
             ],
             [
              0.8888888888888888,
              "#fdca26"
             ],
             [
              1,
              "#f0f921"
             ]
            ],
            "type": "histogram2dcontour"
           }
          ],
          "mesh3d": [
           {
            "colorbar": {
             "outlinewidth": 0,
             "ticks": ""
            },
            "type": "mesh3d"
           }
          ],
          "parcoords": [
           {
            "line": {
             "colorbar": {
              "outlinewidth": 0,
              "ticks": ""
             }
            },
            "type": "parcoords"
           }
          ],
          "pie": [
           {
            "automargin": true,
            "type": "pie"
           }
          ],
          "scatter": [
           {
            "fillpattern": {
             "fillmode": "overlay",
             "size": 10,
             "solidity": 0.2
            },
            "type": "scatter"
           }
          ],
          "scatter3d": [
           {
            "line": {
             "colorbar": {
              "outlinewidth": 0,
              "ticks": ""
             }
            },
            "marker": {
             "colorbar": {
              "outlinewidth": 0,
              "ticks": ""
             }
            },
            "type": "scatter3d"
           }
          ],
          "scattercarpet": [
           {
            "marker": {
             "colorbar": {
              "outlinewidth": 0,
              "ticks": ""
             }
            },
            "type": "scattercarpet"
           }
          ],
          "scattergeo": [
           {
            "marker": {
             "colorbar": {
              "outlinewidth": 0,
              "ticks": ""
             }
            },
            "type": "scattergeo"
           }
          ],
          "scattergl": [
           {
            "marker": {
             "colorbar": {
              "outlinewidth": 0,
              "ticks": ""
             }
            },
            "type": "scattergl"
           }
          ],
          "scattermapbox": [
           {
            "marker": {
             "colorbar": {
              "outlinewidth": 0,
              "ticks": ""
             }
            },
            "type": "scattermapbox"
           }
          ],
          "scatterpolar": [
           {
            "marker": {
             "colorbar": {
              "outlinewidth": 0,
              "ticks": ""
             }
            },
            "type": "scatterpolar"
           }
          ],
          "scatterpolargl": [
           {
            "marker": {
             "colorbar": {
              "outlinewidth": 0,
              "ticks": ""
             }
            },
            "type": "scatterpolargl"
           }
          ],
          "scatterternary": [
           {
            "marker": {
             "colorbar": {
              "outlinewidth": 0,
              "ticks": ""
             }
            },
            "type": "scatterternary"
           }
          ],
          "surface": [
           {
            "colorbar": {
             "outlinewidth": 0,
             "ticks": ""
            },
            "colorscale": [
             [
              0,
              "#0d0887"
             ],
             [
              0.1111111111111111,
              "#46039f"
             ],
             [
              0.2222222222222222,
              "#7201a8"
             ],
             [
              0.3333333333333333,
              "#9c179e"
             ],
             [
              0.4444444444444444,
              "#bd3786"
             ],
             [
              0.5555555555555556,
              "#d8576b"
             ],
             [
              0.6666666666666666,
              "#ed7953"
             ],
             [
              0.7777777777777778,
              "#fb9f3a"
             ],
             [
              0.8888888888888888,
              "#fdca26"
             ],
             [
              1,
              "#f0f921"
             ]
            ],
            "type": "surface"
           }
          ],
          "table": [
           {
            "cells": {
             "fill": {
              "color": "#EBF0F8"
             },
             "line": {
              "color": "white"
             }
            },
            "header": {
             "fill": {
              "color": "#C8D4E3"
             },
             "line": {
              "color": "white"
             }
            },
            "type": "table"
           }
          ]
         },
         "layout": {
          "annotationdefaults": {
           "arrowcolor": "#2a3f5f",
           "arrowhead": 0,
           "arrowwidth": 1
          },
          "autotypenumbers": "strict",
          "coloraxis": {
           "colorbar": {
            "outlinewidth": 0,
            "ticks": ""
           }
          },
          "colorscale": {
           "diverging": [
            [
             0,
             "#8e0152"
            ],
            [
             0.1,
             "#c51b7d"
            ],
            [
             0.2,
             "#de77ae"
            ],
            [
             0.3,
             "#f1b6da"
            ],
            [
             0.4,
             "#fde0ef"
            ],
            [
             0.5,
             "#f7f7f7"
            ],
            [
             0.6,
             "#e6f5d0"
            ],
            [
             0.7,
             "#b8e186"
            ],
            [
             0.8,
             "#7fbc41"
            ],
            [
             0.9,
             "#4d9221"
            ],
            [
             1,
             "#276419"
            ]
           ],
           "sequential": [
            [
             0,
             "#0d0887"
            ],
            [
             0.1111111111111111,
             "#46039f"
            ],
            [
             0.2222222222222222,
             "#7201a8"
            ],
            [
             0.3333333333333333,
             "#9c179e"
            ],
            [
             0.4444444444444444,
             "#bd3786"
            ],
            [
             0.5555555555555556,
             "#d8576b"
            ],
            [
             0.6666666666666666,
             "#ed7953"
            ],
            [
             0.7777777777777778,
             "#fb9f3a"
            ],
            [
             0.8888888888888888,
             "#fdca26"
            ],
            [
             1,
             "#f0f921"
            ]
           ],
           "sequentialminus": [
            [
             0,
             "#0d0887"
            ],
            [
             0.1111111111111111,
             "#46039f"
            ],
            [
             0.2222222222222222,
             "#7201a8"
            ],
            [
             0.3333333333333333,
             "#9c179e"
            ],
            [
             0.4444444444444444,
             "#bd3786"
            ],
            [
             0.5555555555555556,
             "#d8576b"
            ],
            [
             0.6666666666666666,
             "#ed7953"
            ],
            [
             0.7777777777777778,
             "#fb9f3a"
            ],
            [
             0.8888888888888888,
             "#fdca26"
            ],
            [
             1,
             "#f0f921"
            ]
           ]
          },
          "colorway": [
           "#636efa",
           "#EF553B",
           "#00cc96",
           "#ab63fa",
           "#FFA15A",
           "#19d3f3",
           "#FF6692",
           "#B6E880",
           "#FF97FF",
           "#FECB52"
          ],
          "font": {
           "color": "#2a3f5f"
          },
          "geo": {
           "bgcolor": "white",
           "lakecolor": "white",
           "landcolor": "white",
           "showlakes": true,
           "showland": true,
           "subunitcolor": "#C8D4E3"
          },
          "hoverlabel": {
           "align": "left"
          },
          "hovermode": "closest",
          "mapbox": {
           "style": "light"
          },
          "paper_bgcolor": "white",
          "plot_bgcolor": "white",
          "polar": {
           "angularaxis": {
            "gridcolor": "#EBF0F8",
            "linecolor": "#EBF0F8",
            "ticks": ""
           },
           "bgcolor": "white",
           "radialaxis": {
            "gridcolor": "#EBF0F8",
            "linecolor": "#EBF0F8",
            "ticks": ""
           }
          },
          "scene": {
           "xaxis": {
            "backgroundcolor": "white",
            "gridcolor": "#DFE8F3",
            "gridwidth": 2,
            "linecolor": "#EBF0F8",
            "showbackground": true,
            "ticks": "",
            "zerolinecolor": "#EBF0F8"
           },
           "yaxis": {
            "backgroundcolor": "white",
            "gridcolor": "#DFE8F3",
            "gridwidth": 2,
            "linecolor": "#EBF0F8",
            "showbackground": true,
            "ticks": "",
            "zerolinecolor": "#EBF0F8"
           },
           "zaxis": {
            "backgroundcolor": "white",
            "gridcolor": "#DFE8F3",
            "gridwidth": 2,
            "linecolor": "#EBF0F8",
            "showbackground": true,
            "ticks": "",
            "zerolinecolor": "#EBF0F8"
           }
          },
          "shapedefaults": {
           "line": {
            "color": "#2a3f5f"
           }
          },
          "ternary": {
           "aaxis": {
            "gridcolor": "#DFE8F3",
            "linecolor": "#A2B1C6",
            "ticks": ""
           },
           "baxis": {
            "gridcolor": "#DFE8F3",
            "linecolor": "#A2B1C6",
            "ticks": ""
           },
           "bgcolor": "white",
           "caxis": {
            "gridcolor": "#DFE8F3",
            "linecolor": "#A2B1C6",
            "ticks": ""
           }
          },
          "title": {
           "x": 0.05
          },
          "xaxis": {
           "automargin": true,
           "gridcolor": "#EBF0F8",
           "linecolor": "#EBF0F8",
           "ticks": "",
           "title": {
            "standoff": 15
           },
           "zerolinecolor": "#EBF0F8",
           "zerolinewidth": 2
          },
          "yaxis": {
           "automargin": true,
           "gridcolor": "#EBF0F8",
           "linecolor": "#EBF0F8",
           "ticks": "",
           "title": {
            "standoff": 15
           },
           "zerolinecolor": "#EBF0F8",
           "zerolinewidth": 2
          }
         }
        },
        "title": {
         "text": "Number of Images per Subfolder in AFDB Datasets (Train vs Test)"
        },
        "xaxis": {
         "tickangle": -45,
         "title": {
          "text": "Subfolders"
         }
        },
        "yaxis": {
         "title": {
          "text": "Number of Images"
         }
        }
       }
      }
     },
     "metadata": {},
     "output_type": "display_data"
    }
   ],
   "source": [
    "import os\n",
    "import plotly.graph_objects as go\n",
    "\n",
    "def count_images_in_nested_folders(dataset_path):\n",
    "    folder_counts = {}\n",
    "    for root, dirs, _ in os.walk(dataset_path):\n",
    "        for dir_name in dirs:\n",
    "            folder_path = os.path.join(root, dir_name)\n",
    "            count = sum(\n",
    "                1 for file in os.listdir(folder_path)\n",
    "                if file.lower().endswith(('png', 'jpg', 'jpeg', 'bmp', 'tiff'))\n",
    "            )\n",
    "            if count > 0:  # Include only if the folder contains images\n",
    "                relative_path = os.path.relpath(folder_path, dataset_path)\n",
    "                folder_counts[relative_path] = count\n",
    "    return folder_counts\n",
    "\n",
    "# Paths to the datasets\n",
    "train_dataset_path = 'AFDB_face_dataset'  # Path for the first dataset\n",
    "test_dataset_path = 'AFDB_masked_face_dataset'  # Path for the second dataset\n",
    "\n",
    "# Count images in the datasets\n",
    "train_image_counts = count_images_in_nested_folders(train_dataset_path)\n",
    "test_image_counts = count_images_in_nested_folders(test_dataset_path)\n",
    "\n",
    "# Combine the data for both datasets\n",
    "# We ensure each category (subfolder) is included in both datasets' counts\n",
    "all_categories = set(train_image_counts.keys()).union(test_image_counts.keys())\n",
    "\n",
    "# Separate data for plotting\n",
    "categories = list(all_categories)\n",
    "train_counts = [train_image_counts.get(category, 0) for category in categories]\n",
    "test_counts = [test_image_counts.get(category, 0) for category in categories]\n",
    "\n",
    "# Create a Plotly bar chart\n",
    "fig = go.Figure()\n",
    "\n",
    "# Add bars for the training dataset\n",
    "fig.add_trace(go.Bar(\n",
    "    x=categories,\n",
    "    y=train_counts,\n",
    "    name=\"AFDB_face_dataset\",\n",
    "    marker_color='blue',\n",
    "    text=train_counts,  # Add the count on top of the bar\n",
    "    textposition=\"outside\",\n",
    "    textfont=dict(size=14, color=\"black\")  # Style the text\n",
    "))\n",
    "\n",
    "# Add bars for the test dataset\n",
    "fig.add_trace(go.Bar(\n",
    "    x=categories,\n",
    "    y=test_counts,\n",
    "    name=\"AFDB_masked_face_dataset\",\n",
    "    marker_color='green',\n",
    "    text=test_counts,  # Add the count on top of the bar\n",
    "    textposition=\"outside\",\n",
    "    textfont=dict(size=14, color=\"black\")  # Style the text\n",
    "))\n",
    "\n",
    "fig.update_layout(\n",
    "    title=\"Number of Images per Subfolder in RMFRD Datasets (Train vs Test)\",\n",
    "    xaxis_title=\"Subfolders\",\n",
    "    yaxis_title=\"Number of Images\",\n",
    "    template=\"plotly_white\",\n",
    "    xaxis=dict(tickangle=-45),\n",
    "    barmode='group',  # Group bars for train and test\n",
    "    showlegend=True\n",
    ")\n",
    "\n",
    "fig.show()"
   ]
  }
 ],
 "metadata": {
  "kernelspec": {
   "display_name": "base",
   "language": "python",
   "name": "python3"
  },
  "language_info": {
   "codemirror_mode": {
    "name": "ipython",
    "version": 3
   },
   "file_extension": ".py",
   "mimetype": "text/x-python",
   "name": "python",
   "nbconvert_exporter": "python",
   "pygments_lexer": "ipython3",
   "version": "3.10.9"
  }
 },
 "nbformat": 4,
 "nbformat_minor": 2
}
