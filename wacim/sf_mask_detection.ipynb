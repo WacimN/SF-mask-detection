{
 "cells": [
  {
   "cell_type": "code",
   "execution_count": 2,
   "metadata": {},
   "outputs": [],
   "source": [
    "import os\n",
    "os.environ[\"KMP_DUPLICATE_LIB_OK\"] = \"TRUE\""
   ]
  },
  {
   "cell_type": "code",
   "execution_count": 3,
   "metadata": {},
   "outputs": [],
   "source": [
    "from train import *\n",
    "from utils import *\n",
    "from data_load import *"
   ]
  },
  {
   "cell_type": "code",
   "execution_count": 4,
   "metadata": {},
   "outputs": [],
   "source": [
    "from torchvision import models\n",
    "from torch import nn\n",
    "import torch\n",
    "import torch.optim as optim\n",
    "import random\n",
    "from PIL import Image\n",
    "import matplotlib.pyplot as plt\n",
    "import time\n",
    "from torch.utils.data import DataLoader\n",
    "import plotly.graph_objects as go\n",
    "from plotly.subplots import make_subplots\n",
    "import numpy as np\n",
    "\n",
    "import os\n",
    "import random\n",
    "from PIL import Image\n",
    "import matplotlib.pyplot as plt\n",
    "import torch\n",
    "from torchvision import transforms\n"
   ]
  },
  {
   "cell_type": "code",
   "execution_count": 5,
   "metadata": {},
   "outputs": [
    {
     "name": "stdout",
     "output_type": "stream",
     "text": [
      "Sun Dec 15 21:48:33 2024       \n",
      "+-----------------------------------------------------------------------------------------+\n",
      "| NVIDIA-SMI 561.03                 Driver Version: 561.03         CUDA Version: 12.6     |\n",
      "|-----------------------------------------+------------------------+----------------------+\n",
      "| GPU  Name                  Driver-Model | Bus-Id          Disp.A | Volatile Uncorr. ECC |\n",
      "| Fan  Temp   Perf          Pwr:Usage/Cap |           Memory-Usage | GPU-Util  Compute M. |\n",
      "|                                         |                        |               MIG M. |\n",
      "|=========================================+========================+======================|\n",
      "|   0  NVIDIA GeForce RTX 3050 ...  WDDM  |   00000000:01:00.0 Off |                  N/A |\n",
      "| N/A   64C    P8              7W /   45W |     139MiB /   4096MiB |      0%      Default |\n",
      "|                                         |                        |                  N/A |\n",
      "+-----------------------------------------+------------------------+----------------------+\n",
      "                                                                                         \n",
      "+-----------------------------------------------------------------------------------------+\n",
      "| Processes:                                                                              |\n",
      "|  GPU   GI   CI        PID   Type   Process name                              GPU Memory |\n",
      "|        ID   ID                                                               Usage      |\n",
      "|=========================================================================================|\n",
      "|    0   N/A  N/A      2132    C+G   ...Brave-Browser\\Application\\brave.exe      N/A      |\n",
      "|    0   N/A  N/A      9348    C+G   ...Brave-Browser\\Application\\brave.exe      N/A      |\n",
      "+-----------------------------------------------------------------------------------------+\n"
     ]
    }
   ],
   "source": [
    "!nvidia-smi"
   ]
  },
  {
   "cell_type": "code",
   "execution_count": 6,
   "metadata": {},
   "outputs": [
    {
     "name": "stdout",
     "output_type": "stream",
     "text": [
      "CUDA is available. Using GPU: NVIDIA GeForce RTX 3050 Ti Laptop GPU\n",
      "Device used : cuda\n"
     ]
    }
   ],
   "source": [
    "if torch.cuda.is_available():\n",
    "    print(f\"CUDA is available. Using GPU: {torch.cuda.get_device_name(0)}\")\n",
    "else:\n",
    "    print(\"CUDA is not available. Using CPU.\")\n",
    "    \n",
    "device = torch.device(\"cuda\" if torch.cuda.is_available() else \"cpu\")\n",
    "print(f\"Device used : {device}\")"
   ]
  },
  {
   "cell_type": "markdown",
   "metadata": {},
   "source": [
    "## Load Datasets"
   ]
  },
  {
   "cell_type": "code",
   "execution_count": 7,
   "metadata": {},
   "outputs": [
    {
     "name": "stdout",
     "output_type": "stream",
     "text": [
      "Training dataset: Compliant: 21384, Non-compliant: 15772\n",
      "Test dataset: Compliant: 3622, Non-compliant: 5048\n"
     ]
    }
   ],
   "source": [
    "# Définir le chemin du dataset\n",
    "train_dir = '../SF-MASK-dataset/train'\n",
    "test_dir = '../SF-MASK-dataset/test'\n",
    "\n",
    "# Compter les images dans chaque sous-dossier\n",
    "train_compliant = len(os.listdir(os.path.join(train_dir, 'compliant')))\n",
    "train_non_compliant = len(os.listdir(os.path.join(train_dir, 'non-compliant')))\n",
    "test_compliant = len(os.listdir(os.path.join(test_dir, 'compliant')))\n",
    "test_non_compliant = len(os.listdir(os.path.join(test_dir, 'non-compliant')))\n",
    "\n",
    "print(f\"Training dataset: Compliant: {train_compliant}, Non-compliant: {train_non_compliant}\")\n",
    "print(f\"Test dataset: Compliant: {test_compliant}, Non-compliant: {test_non_compliant}\")"
   ]
  },
  {
   "cell_type": "code",
   "execution_count": 8,
   "metadata": {},
   "outputs": [],
   "source": [
    "output_dir_train = \"../SF-MASK-dataset-padded/train\"\n",
    "output_dir_test = \"../SF-MASK-dataset-padded/test\""
   ]
  },
  {
   "cell_type": "code",
   "execution_count": 9,
   "metadata": {},
   "outputs": [],
   "source": [
    "# # Apply padding to the train and test folders\n",
    "# pad_and_resize(train_dir, output_dir_train)\n",
    "# pad_and_resize(test_dir, output_dir_test)"
   ]
  },
  {
   "cell_type": "code",
   "execution_count": 10,
   "metadata": {},
   "outputs": [
    {
     "name": "stdout",
     "output_type": "stream",
     "text": [
      "We take 10.0% of the entire dataset (size 37156)\n",
      "\n",
      "Train Subset: 2972, Val subset: 743, Test subset: 867\n",
      "Train Loader: 93, Val Loader: 24, Test Loader: 28\n"
     ]
    }
   ],
   "source": [
    "AUGMENT = True\n",
    "train_dataset, train_subset, val_subset , test_subset, train_loader, val_loader, test_loader = get_dataloaders(\n",
    "    train_dir=output_dir_train, \n",
    "    test_dir=output_dir_test, \n",
    "    augment=AUGMENT\n",
    ")\n",
    "\n",
    "print(f\"We take {DATASET_PROPORTION*100}% of the entire dataset (size {len(train_dataset)})\\n\")\n",
    "print(f\"Train Subset: {len(train_subset)}, Val subset: {len(val_subset)}, Test subset: {len(test_subset)}\")\n",
    "print(f\"Train Loader: {len(train_loader)}, Val Loader: {len(val_loader)}, Test Loader: {len(test_loader)}\")"
   ]
  },
  {
   "cell_type": "code",
   "execution_count": 11,
   "metadata": {},
   "outputs": [
    {
     "name": "stdout",
     "output_type": "stream",
     "text": [
      "Original Dataset Size: 37156\n",
      "Reduced Train Subset Size: 2972\n",
      "Validation Subset Size: 743\n",
      "Test Subset Size: 867\n"
     ]
    }
   ],
   "source": [
    "# Load datasets with 10% of the data\n",
    "train_dataset, train_subset = load_dataset(data_dir=output_dir_train, proportion=0.1, augment=True)\n",
    "test_dataset, test_subset = load_dataset(data_dir=output_dir_test, augment=False)\n",
    "\n",
    "# Split train_subset into train and validation\n",
    "train_subset, val_subset = split_train_val(train_subset)\n",
    "\n",
    "# Create DataLoaders\n",
    "train_loader = DataLoader(train_subset, batch_size=BATCH_SIZE, shuffle=True)\n",
    "val_loader = DataLoader(val_subset, batch_size=BATCH_SIZE, shuffle=False)\n",
    "test_loader = DataLoader(test_subset, batch_size=BATCH_SIZE, shuffle=False)\n",
    "\n",
    "# Verify the sizes\n",
    "print(f\"Original Dataset Size: {len(train_dataset)}\")\n",
    "print(f\"Reduced Train Subset Size: {len(train_subset)}\")\n",
    "print(f\"Validation Subset Size: {len(val_subset)}\")\n",
    "print(f\"Test Subset Size: {len(test_subset)}\")"
   ]
  },
  {
   "cell_type": "code",
   "execution_count": 12,
   "metadata": {},
   "outputs": [
    {
     "data": {
      "image/png": "[encoded data removed]",
      "text/plain": [
       "<Figure size 1500x500 with 6 Axes>"
      ]
     },
     "metadata": {},
     "output_type": "display_data"
    }
   ],
   "source": [
    "import os\n",
    "import random\n",
    "from PIL import Image\n",
    "import matplotlib.pyplot as plt\n",
    "import torch\n",
    "from torchvision import transforms\n",
    "\n",
    "# Define mean and std for normalization (replace with your values)\n",
    "MEAN = [0.485, 0.456, 0.406]\n",
    "STD = [0.229, 0.224, 0.225]\n",
    "\n",
    "def get_random_image_from_test_dir(test_dir):\n",
    "    \"\"\"Get a random image path from the test directory.\"\"\"\n",
    "    image_paths = []\n",
    "    for root, _, files in os.walk(test_dir):\n",
    "        for file in files:\n",
    "            if file.endswith(('png', 'jpg', 'jpeg')):\n",
    "                image_paths.append(os.path.join(root, file))\n",
    "    return random.choice(image_paths)\n",
    "\n",
    "def get_transforms(augment=False):\n",
    "    \"\"\"Return transforms for data preprocessing.\"\"\"\n",
    "    if augment:\n",
    "        return transforms.Compose([\n",
    "            transforms.RandomHorizontalFlip(p=0.5),\n",
    "            transforms.RandomRotation(degrees=15),\n",
    "            transforms.ColorJitter(brightness=0.3, contrast=0.3, saturation=0.3, hue=0.2),\n",
    "            transforms.RandomPerspective(distortion_scale=0.2, p=0.5),\n",
    "            transforms.RandomAffine(degrees=20, scale=(0.8, 1.2), translate=(0.2, 0.2)),\n",
    "            transforms.Resize((224, 224), interpolation=transforms.InterpolationMode.BILINEAR),\n",
    "            transforms.ToTensor(),\n",
    "            transforms.Normalize(mean=MEAN, std=STD),\n",
    "        ])\n",
    "    return transforms.Compose([\n",
    "        transforms.Resize((224, 224), interpolation=transforms.InterpolationMode.BILINEAR),\n",
    "        transforms.ToTensor(),\n",
    "        transforms.Normalize(mean=MEAN, std=STD),\n",
    "    ])\n",
    "\n",
    "def visualize_augmentations(image_path, transform, n_augmentations=5):\n",
    "    \"\"\"Visualize augmentations on the same image.\"\"\"\n",
    "    original_image = Image.open(image_path).convert(\"RGB\")\n",
    "\n",
    "    # Define augmentation names\n",
    "    augmentation_names = [\n",
    "        \"Horizontal Flip\",\n",
    "        \"Rotation\",\n",
    "        \"Color Jitter\",\n",
    "        \"Perspective Distortion\",\n",
    "        \"Affine Transformation\"\n",
    "    ]\n",
    "\n",
    "    # Apply augmentations\n",
    "    augmented_images = [transform(original_image) for _ in range(n_augmentations)]\n",
    "\n",
    "    # Convert tensors back to PIL images for visualization\n",
    "    inv_transform = transforms.Compose([\n",
    "        transforms.Normalize(mean=[-m / s for m, s in zip(MEAN, STD)], std=[1 / s for s in STD]),\n",
    "        transforms.ToPILImage()\n",
    "    ])\n",
    "    \n",
    "    augmented_images = [inv_transform(img) for img in augmented_images]\n",
    "\n",
    "    # Plot original and augmented images\n",
    "    fig, axes = plt.subplots(1, n_augmentations + 1, figsize=(15, 5))\n",
    "    axes[0].imshow(original_image)\n",
    "    axes[0].set_title(\"Original Image\")\n",
    "    axes[0].axis(\"off\")\n",
    "\n",
    "    for i, aug_img in enumerate(augmented_images):\n",
    "        axes[i + 1].imshow(aug_img)\n",
    "        axes[i + 1].set_title(augmentation_names[i % len(augmentation_names)])\n",
    "        axes[i + 1].axis(\"off\")\n",
    "\n",
    "    plt.tight_layout()\n",
    "    plt.show()\n",
    "\n",
    "# Example usage\n",
    "random_image_path = get_random_image_from_test_dir(test_dir)\n",
    "transform = get_transforms(augment=True)\n",
    "visualize_augmentations(random_image_path, transform, n_augmentations=5)"
   ]
  },
  {
   "cell_type": "code",
   "execution_count": 13,
   "metadata": {},
   "outputs": [
    {
     "data": {
      "image/png": "[encoded data removed]",
      "text/plain": [
       "<Figure size 1500x500 with 6 Axes>"
      ]
     },
     "metadata": {},
     "output_type": "display_data"
    }
   ],
   "source": [
    "def visualize_individual_augmentations(image_path):\n",
    "    \"\"\"Visualize the effect of each augmentation separately on the original image.\"\"\"\n",
    "    original_image = Image.open(image_path).convert(\"RGB\")\n",
    "\n",
    "    # Define individual transformations with names\n",
    "    transformations = [\n",
    "        (\"Horizontal Flip\", transforms.RandomHorizontalFlip(p=1.0)),\n",
    "        (\"Rotation\", transforms.RandomRotation(degrees=15)),\n",
    "        (\"Color Jitter\", transforms.ColorJitter(brightness=0.3, contrast=0.3, saturation=0.3, hue=0.2)),\n",
    "        (\"Perspective Distortion\", transforms.RandomPerspective(distortion_scale=0.2, p=1.0)),\n",
    "        (\"Affine Transformation\", transforms.RandomAffine(degrees=20, scale=(0.8, 1.2), translate=(0.2, 0.2))),\n",
    "    ]\n",
    "\n",
    "    # Apply each transformation individually\n",
    "    augmented_images = [(name, trans(original_image)) for name, trans in transformations]\n",
    "\n",
    "    # Plot original and augmented images\n",
    "    fig, axes = plt.subplots(1, len(augmented_images) + 1, figsize=(15, 5))\n",
    "    axes[0].imshow(original_image)\n",
    "    axes[0].set_title(\"Original Image\")\n",
    "    axes[0].axis(\"off\")\n",
    "\n",
    "    for i, (name, img) in enumerate(augmented_images):\n",
    "        axes[i + 1].imshow(img)\n",
    "        axes[i + 1].set_title(name)\n",
    "        axes[i + 1].axis(\"off\")\n",
    "\n",
    "    plt.tight_layout()\n",
    "    plt.show()\n",
    "\n",
    "# Example usage\n",
    "visualize_individual_augmentations(random_image_path)\n"
   ]
  },
  {
   "cell_type": "markdown",
   "metadata": {},
   "source": [
    "## Training"
   ]
  },
  {
   "cell_type": "code",
   "execution_count": 13,
   "metadata": {},
   "outputs": [
    {
     "name": "stdout",
     "output_type": "stream",
     "text": [
      "Using 10.0% of the entire dataset (size: 37156) for K-Fold Cross-Validation\n",
      "\n"
     ]
    }
   ],
   "source": [
    "print(f\"Using {DATASET_PROPORTION * 100}% of the entire dataset (size: {len(train_dataset)}) for K-Fold Cross-Validation\\n\")\n"
   ]
  },
  {
   "cell_type": "code",
   "execution_count": 14,
   "metadata": {},
   "outputs": [
    {
     "data": {
      "text/plain": [
       "['compliant', 'non-compliant']"
      ]
     },
     "execution_count": 14,
     "metadata": {},
     "output_type": "execute_result"
    }
   ],
   "source": [
    "train_dataset.classes"
   ]
  },
  {
   "cell_type": "code",
   "execution_count": 15,
   "metadata": {},
   "outputs": [],
   "source": [
    "criterion = nn.CrossEntropyLoss()\n",
    "optimizer = optim.Adam  \n",
    "epochs = 20\n",
    "k_folds = 5\n",
    "param_grid = {\n",
    "    \"learning_rate\": [1e-4, 1e-5],\n",
    "    \"batch_size\": [16, 32],\n",
    "}\n",
    "augment_strategies = [True]\n",
    "\n",
    "results_file = \"kfold_hyperparam_results.json\"\n",
    "model_class = models.mobilenet_v2\n"
   ]
  },
  {
   "cell_type": "code",
   "execution_count": 27,
   "metadata": {},
   "outputs": [
    {
     "name": "stdout",
     "output_type": "stream",
     "text": [
      "Running K-fold cross-validation with hyperparameter tuning for mobilenet_v2...\n",
      "\n",
      "2972 samples in the dataset = 37156/2972= 12.502018842530283%. 5-fold CV with 20 epochs per fold.\n",
      "\n",
      "=== Running With Augmentation ===\n",
      "\n",
      "Testing hyperparameters: {'batch_size': 16, 'learning_rate': 0.0001}\n",
      "\n",
      "Fold 1/5 for {'batch_size': 16, 'learning_rate': 0.0001}\n",
      "size of train_loader : 149, size of val_loader : 38\n",
      "Training MobileNetV2 for 20 epochs...\n"
     ]
    },
    {
     "name": "stderr",
     "output_type": "stream",
     "text": [
      "c:\\Users\\Sinbad\\anaconda3\\envs\\sf-mask-detector\\Lib\\site-packages\\torchvision\\models\\_utils.py:208: UserWarning: The parameter 'pretrained' is deprecated since 0.13 and may be removed in the future, please use 'weights' instead.\n",
      "  warnings.warn(\n",
      "c:\\Users\\Sinbad\\anaconda3\\envs\\sf-mask-detector\\Lib\\site-packages\\torchvision\\models\\_utils.py:223: UserWarning: Arguments other than a weight enum or `None` for 'weights' are deprecated since 0.13 and may be removed in the future. The current behavior is equivalent to passing `weights=MobileNet_V2_Weights.IMAGENET1K_V1`. You can also use `weights=MobileNet_V2_Weights.DEFAULT` to get the most up-to-date weights.\n",
      "  warnings.warn(msg)\n"
     ]
    },
    {
     "name": "stdout",
     "output_type": "stream",
     "text": [
      "Epoch 1/20, Train Loss: 0.3704, Train Accuracy: 83.93%, Train F1: 0.8391, Val Loss: 0.2326, Val Accuracy: 90.08%, Val F1: 0.9006, Time: 55.64s\n",
      "Epoch 2/20, Train Loss: 0.2317, Train Accuracy: 90.83%, Train F1: 0.9085, Val Loss: 0.2216, Val Accuracy: 90.92%, Val F1: 0.9094, Time: 40.60s\n",
      "Epoch 3/20, Train Loss: 0.2107, Train Accuracy: 92.05%, Train F1: 0.9207, Val Loss: 0.2165, Val Accuracy: 91.09%, Val F1: 0.9110, Time: 40.96s\n",
      "Epoch 4/20, Train Loss: 0.1914, Train Accuracy: 92.22%, Train F1: 0.9224, Val Loss: 0.2408, Val Accuracy: 91.09%, Val F1: 0.9111, Time: 41.35s\n",
      "Epoch 5/20, Train Loss: 0.1677, Train Accuracy: 92.93%, Train F1: 0.9295, Val Loss: 0.1757, Val Accuracy: 91.76%, Val F1: 0.9176, Time: 40.34s\n",
      "Epoch 6/20, Train Loss: 0.1528, Train Accuracy: 93.73%, Train F1: 0.9374, Val Loss: 0.1969, Val Accuracy: 92.77%, Val F1: 0.9272, Time: 41.37s\n",
      "Epoch 7/20, Train Loss: 0.1447, Train Accuracy: 94.53%, Train F1: 0.9453, Val Loss: 0.1994, Val Accuracy: 92.61%, Val F1: 0.9263, Time: 40.96s\n",
      "Epoch 8/20, Train Loss: 0.1405, Train Accuracy: 94.45%, Train F1: 0.9446, Val Loss: 0.2299, Val Accuracy: 90.92%, Val F1: 0.9093, Time: 39.73s\n",
      "Epoch 9/20, Train Loss: 0.1261, Train Accuracy: 94.95%, Train F1: 0.9496, Val Loss: 0.1796, Val Accuracy: 93.11%, Val F1: 0.9311, Time: 41.58s\n",
      "Epoch 10/20, Train Loss: 0.1081, Train Accuracy: 96.17%, Train F1: 0.9618, Val Loss: 0.2096, Val Accuracy: 92.61%, Val F1: 0.9258, Time: 39.06s\n",
      "Early stopping triggered at epoch 10.\n",
      "Total training time: 510.83s\n",
      "Model weights saved to training/MobileNetV2_lr_0.0001_bs_16_aug_True_fold_1.pth\n",
      "New best model saved with accuracy: 92.61%\n",
      "\n",
      "Fold 2/5 for {'batch_size': 16, 'learning_rate': 0.0001}\n",
      "size of train_loader : 149, size of val_loader : 38\n",
      "Training MobileNetV2 for 20 epochs...\n"
     ]
    },
    {
     "name": "stderr",
     "output_type": "stream",
     "text": [
      "c:\\Users\\Sinbad\\anaconda3\\envs\\sf-mask-detector\\Lib\\site-packages\\torchvision\\models\\_utils.py:208: UserWarning: The parameter 'pretrained' is deprecated since 0.13 and may be removed in the future, please use 'weights' instead.\n",
      "  warnings.warn(\n",
      "c:\\Users\\Sinbad\\anaconda3\\envs\\sf-mask-detector\\Lib\\site-packages\\torchvision\\models\\_utils.py:223: UserWarning: Arguments other than a weight enum or `None` for 'weights' are deprecated since 0.13 and may be removed in the future. The current behavior is equivalent to passing `weights=MobileNet_V2_Weights.IMAGENET1K_V1`. You can also use `weights=MobileNet_V2_Weights.DEFAULT` to get the most up-to-date weights.\n",
      "  warnings.warn(msg)\n"
     ]
    },
    {
     "name": "stdout",
     "output_type": "stream",
     "text": [
      "Epoch 1/20, Train Loss: 0.3578, Train Accuracy: 84.22%, Train F1: 0.8422, Val Loss: 0.2377, Val Accuracy: 89.92%, Val F1: 0.8993, Time: 39.75s\n",
      "Epoch 2/20, Train Loss: 0.2505, Train Accuracy: 90.11%, Train F1: 0.9015, Val Loss: 0.2102, Val Accuracy: 90.76%, Val F1: 0.9077, Time: 39.20s\n",
      "Epoch 3/20, Train Loss: 0.2055, Train Accuracy: 91.75%, Train F1: 0.9178, Val Loss: 0.1929, Val Accuracy: 93.28%, Val F1: 0.9329, Time: 38.88s\n",
      "Epoch 4/20, Train Loss: 0.2119, Train Accuracy: 91.46%, Train F1: 0.9148, Val Loss: 0.1598, Val Accuracy: 92.94%, Val F1: 0.9296, Time: 39.12s\n",
      "Epoch 5/20, Train Loss: 0.1800, Train Accuracy: 92.85%, Train F1: 0.9286, Val Loss: 0.1686, Val Accuracy: 93.11%, Val F1: 0.9313, Time: 39.14s\n",
      "Epoch 6/20, Train Loss: 0.1637, Train Accuracy: 93.61%, Train F1: 0.9362, Val Loss: 0.1407, Val Accuracy: 94.45%, Val F1: 0.9447, Time: 39.18s\n",
      "Epoch 7/20, Train Loss: 0.1472, Train Accuracy: 94.36%, Train F1: 0.9438, Val Loss: 0.1297, Val Accuracy: 95.46%, Val F1: 0.9547, Time: 39.32s\n",
      "Epoch 8/20, Train Loss: 0.1511, Train Accuracy: 94.11%, Train F1: 0.9412, Val Loss: 0.1747, Val Accuracy: 93.61%, Val F1: 0.9362, Time: 39.12s\n",
      "Epoch 9/20, Train Loss: 0.1324, Train Accuracy: 95.16%, Train F1: 0.9517, Val Loss: 0.1350, Val Accuracy: 93.28%, Val F1: 0.9330, Time: 38.88s\n",
      "Epoch 10/20, Train Loss: 0.1163, Train Accuracy: 95.58%, Train F1: 0.9559, Val Loss: 0.1300, Val Accuracy: 94.79%, Val F1: 0.9479, Time: 39.42s\n",
      "Epoch 11/20, Train Loss: 0.1212, Train Accuracy: 95.41%, Train F1: 0.9542, Val Loss: 0.1500, Val Accuracy: 95.13%, Val F1: 0.9513, Time: 39.23s\n",
      "Epoch 12/20, Train Loss: 0.1029, Train Accuracy: 96.34%, Train F1: 0.9635, Val Loss: 0.1447, Val Accuracy: 94.12%, Val F1: 0.9411, Time: 39.50s\n",
      "Early stopping triggered at epoch 12.\n",
      "Total training time: 568.98s\n",
      "Model weights saved to training/MobileNetV2_lr_0.0001_bs_16_aug_True_fold_2.pth\n",
      "New best model saved with accuracy: 94.12%\n",
      "\n",
      "Fold 3/5 for {'batch_size': 16, 'learning_rate': 0.0001}\n"
     ]
    },
    {
     "name": "stderr",
     "output_type": "stream",
     "text": [
      "c:\\Users\\Sinbad\\anaconda3\\envs\\sf-mask-detector\\Lib\\site-packages\\torchvision\\models\\_utils.py:208: UserWarning: The parameter 'pretrained' is deprecated since 0.13 and may be removed in the future, please use 'weights' instead.\n",
      "  warnings.warn(\n",
      "c:\\Users\\Sinbad\\anaconda3\\envs\\sf-mask-detector\\Lib\\site-packages\\torchvision\\models\\_utils.py:223: UserWarning: Arguments other than a weight enum or `None` for 'weights' are deprecated since 0.13 and may be removed in the future. The current behavior is equivalent to passing `weights=MobileNet_V2_Weights.IMAGENET1K_V1`. You can also use `weights=MobileNet_V2_Weights.DEFAULT` to get the most up-to-date weights.\n",
      "  warnings.warn(msg)\n"
     ]
    },
    {
     "name": "stdout",
     "output_type": "stream",
     "text": [
      "size of train_loader : 149, size of val_loader : 38\n",
      "Training MobileNetV2 for 20 epochs...\n",
      "Epoch 1/20, Train Loss: 0.3663, Train Accuracy: 83.89%, Train F1: 0.8392, Val Loss: 0.2599, Val Accuracy: 89.56%, Val F1: 0.8951, Time: 39.83s\n",
      "Epoch 2/20, Train Loss: 0.2572, Train Accuracy: 89.11%, Train F1: 0.8913, Val Loss: 0.1915, Val Accuracy: 90.91%, Val F1: 0.9095, Time: 39.45s\n",
      "Epoch 3/20, Train Loss: 0.2076, Train Accuracy: 91.72%, Train F1: 0.9173, Val Loss: 0.1873, Val Accuracy: 91.92%, Val F1: 0.9195, Time: 39.42s\n",
      "Epoch 4/20, Train Loss: 0.1956, Train Accuracy: 92.01%, Train F1: 0.9203, Val Loss: 0.1749, Val Accuracy: 92.76%, Val F1: 0.9276, Time: 39.55s\n",
      "Epoch 5/20, Train Loss: 0.1771, Train Accuracy: 93.02%, Train F1: 0.9303, Val Loss: 0.1832, Val Accuracy: 92.26%, Val F1: 0.9229, Time: 39.35s\n",
      "Epoch 6/20, Train Loss: 0.1629, Train Accuracy: 93.82%, Train F1: 0.9383, Val Loss: 0.2008, Val Accuracy: 91.25%, Val F1: 0.9128, Time: 39.44s\n",
      "Epoch 7/20, Train Loss: 0.1585, Train Accuracy: 94.74%, Train F1: 0.9475, Val Loss: 0.1457, Val Accuracy: 93.77%, Val F1: 0.9377, Time: 39.25s\n",
      "Epoch 8/20, Train Loss: 0.1417, Train Accuracy: 94.45%, Train F1: 0.9446, Val Loss: 0.2126, Val Accuracy: 90.91%, Val F1: 0.9094, Time: 39.28s\n",
      "Epoch 9/20, Train Loss: 0.1387, Train Accuracy: 94.32%, Train F1: 0.9433, Val Loss: 0.1528, Val Accuracy: 93.60%, Val F1: 0.9359, Time: 39.25s\n",
      "Epoch 10/20, Train Loss: 0.1210, Train Accuracy: 95.42%, Train F1: 0.9542, Val Loss: 0.1501, Val Accuracy: 94.28%, Val F1: 0.9430, Time: 38.98s\n",
      "Epoch 11/20, Train Loss: 0.1137, Train Accuracy: 95.25%, Train F1: 0.9526, Val Loss: 0.1214, Val Accuracy: 95.45%, Val F1: 0.9546, Time: 39.31s\n",
      "Epoch 12/20, Train Loss: 0.1051, Train Accuracy: 95.92%, Train F1: 0.9593, Val Loss: 0.1403, Val Accuracy: 94.44%, Val F1: 0.9445, Time: 39.18s\n",
      "Epoch 13/20, Train Loss: 0.0981, Train Accuracy: 96.43%, Train F1: 0.9643, Val Loss: 0.1335, Val Accuracy: 94.61%, Val F1: 0.9463, Time: 39.10s\n",
      "Epoch 14/20, Train Loss: 0.1038, Train Accuracy: 95.96%, Train F1: 0.9597, Val Loss: 0.1850, Val Accuracy: 91.92%, Val F1: 0.9196, Time: 39.57s\n",
      "Epoch 15/20, Train Loss: 0.1031, Train Accuracy: 95.88%, Train F1: 0.9588, Val Loss: 0.1702, Val Accuracy: 93.10%, Val F1: 0.9313, Time: 39.34s\n",
      "Epoch 16/20, Train Loss: 0.0750, Train Accuracy: 97.22%, Train F1: 0.9723, Val Loss: 0.1454, Val Accuracy: 94.28%, Val F1: 0.9428, Time: 39.59s\n",
      "Early stopping triggered at epoch 16.\n",
      "Total training time: 761.83s\n",
      "Model weights saved to training/MobileNetV2_lr_0.0001_bs_16_aug_True_fold_3.pth\n",
      "New best model saved with accuracy: 94.28%\n",
      "\n",
      "Fold 4/5 for {'batch_size': 16, 'learning_rate': 0.0001}\n"
     ]
    },
    {
     "name": "stderr",
     "output_type": "stream",
     "text": [
      "c:\\Users\\Sinbad\\anaconda3\\envs\\sf-mask-detector\\Lib\\site-packages\\torchvision\\models\\_utils.py:208: UserWarning: The parameter 'pretrained' is deprecated since 0.13 and may be removed in the future, please use 'weights' instead.\n",
      "  warnings.warn(\n",
      "c:\\Users\\Sinbad\\anaconda3\\envs\\sf-mask-detector\\Lib\\site-packages\\torchvision\\models\\_utils.py:223: UserWarning: Arguments other than a weight enum or `None` for 'weights' are deprecated since 0.13 and may be removed in the future. The current behavior is equivalent to passing `weights=MobileNet_V2_Weights.IMAGENET1K_V1`. You can also use `weights=MobileNet_V2_Weights.DEFAULT` to get the most up-to-date weights.\n",
      "  warnings.warn(msg)\n"
     ]
    },
    {
     "name": "stdout",
     "output_type": "stream",
     "text": [
      "size of train_loader : 149, size of val_loader : 38\n",
      "Training MobileNetV2 for 20 epochs...\n",
      "Epoch 1/20, Train Loss: 0.3602, Train Accuracy: 83.85%, Train F1: 0.8384, Val Loss: 0.2220, Val Accuracy: 91.41%, Val F1: 0.9140, Time: 39.26s\n",
      "Epoch 2/20, Train Loss: 0.2525, Train Accuracy: 89.40%, Train F1: 0.8943, Val Loss: 0.1811, Val Accuracy: 92.09%, Val F1: 0.9209, Time: 39.37s\n",
      "Epoch 3/20, Train Loss: 0.2039, Train Accuracy: 91.63%, Train F1: 0.9165, Val Loss: 0.1658, Val Accuracy: 93.27%, Val F1: 0.9326, Time: 38.94s\n",
      "Epoch 4/20, Train Loss: 0.1896, Train Accuracy: 92.14%, Train F1: 0.9215, Val Loss: 0.1875, Val Accuracy: 90.57%, Val F1: 0.9059, Time: 39.18s\n",
      "Epoch 5/20, Train Loss: 0.1671, Train Accuracy: 93.19%, Train F1: 0.9320, Val Loss: 0.1688, Val Accuracy: 93.94%, Val F1: 0.9393, Time: 38.85s\n",
      "Epoch 6/20, Train Loss: 0.1515, Train Accuracy: 94.03%, Train F1: 0.9403, Val Loss: 0.1434, Val Accuracy: 95.12%, Val F1: 0.9513, Time: 39.69s\n",
      "Epoch 7/20, Train Loss: 0.1409, Train Accuracy: 94.66%, Train F1: 0.9467, Val Loss: 0.1482, Val Accuracy: 92.76%, Val F1: 0.9276, Time: 39.39s\n",
      "Epoch 8/20, Train Loss: 0.1529, Train Accuracy: 93.44%, Train F1: 0.9344, Val Loss: 0.1414, Val Accuracy: 94.95%, Val F1: 0.9494, Time: 39.25s\n",
      "Epoch 9/20, Train Loss: 0.1354, Train Accuracy: 94.83%, Train F1: 0.9483, Val Loss: 0.1551, Val Accuracy: 94.95%, Val F1: 0.9496, Time: 39.19s\n",
      "Epoch 10/20, Train Loss: 0.1225, Train Accuracy: 95.37%, Train F1: 0.9538, Val Loss: 0.1520, Val Accuracy: 94.61%, Val F1: 0.9461, Time: 40.84s\n",
      "Epoch 11/20, Train Loss: 0.1262, Train Accuracy: 94.83%, Train F1: 0.9483, Val Loss: 0.1216, Val Accuracy: 94.78%, Val F1: 0.9479, Time: 39.49s\n",
      "Epoch 12/20, Train Loss: 0.1030, Train Accuracy: 96.30%, Train F1: 0.9630, Val Loss: 0.1347, Val Accuracy: 94.44%, Val F1: 0.9445, Time: 39.64s\n",
      "Epoch 13/20, Train Loss: 0.1123, Train Accuracy: 95.54%, Train F1: 0.9555, Val Loss: 0.1373, Val Accuracy: 93.77%, Val F1: 0.9379, Time: 39.63s\n",
      "Epoch 14/20, Train Loss: 0.0978, Train Accuracy: 96.55%, Train F1: 0.9656, Val Loss: 0.1240, Val Accuracy: 94.61%, Val F1: 0.9461, Time: 39.04s\n",
      "Epoch 15/20, Train Loss: 0.1057, Train Accuracy: 95.88%, Train F1: 0.9588, Val Loss: 0.1557, Val Accuracy: 94.61%, Val F1: 0.9461, Time: 39.46s\n",
      "Epoch 16/20, Train Loss: 0.0848, Train Accuracy: 96.93%, Train F1: 0.9693, Val Loss: 0.1613, Val Accuracy: 94.61%, Val F1: 0.9461, Time: 39.28s\n",
      "Early stopping triggered at epoch 16.\n",
      "Total training time: 761.20s\n",
      "Model weights saved to training/MobileNetV2_lr_0.0001_bs_16_aug_True_fold_4.pth\n",
      "New best model saved with accuracy: 94.61%\n",
      "\n",
      "Fold 5/5 for {'batch_size': 16, 'learning_rate': 0.0001}\n"
     ]
    },
    {
     "name": "stderr",
     "output_type": "stream",
     "text": [
      "c:\\Users\\Sinbad\\anaconda3\\envs\\sf-mask-detector\\Lib\\site-packages\\torchvision\\models\\_utils.py:208: UserWarning: The parameter 'pretrained' is deprecated since 0.13 and may be removed in the future, please use 'weights' instead.\n",
      "  warnings.warn(\n",
      "c:\\Users\\Sinbad\\anaconda3\\envs\\sf-mask-detector\\Lib\\site-packages\\torchvision\\models\\_utils.py:223: UserWarning: Arguments other than a weight enum or `None` for 'weights' are deprecated since 0.13 and may be removed in the future. The current behavior is equivalent to passing `weights=MobileNet_V2_Weights.IMAGENET1K_V1`. You can also use `weights=MobileNet_V2_Weights.DEFAULT` to get the most up-to-date weights.\n",
      "  warnings.warn(msg)\n"
     ]
    },
    {
     "name": "stdout",
     "output_type": "stream",
     "text": [
      "size of train_loader : 149, size of val_loader : 38\n",
      "Training MobileNetV2 for 20 epochs...\n",
      "Epoch 1/20, Train Loss: 0.3581, Train Accuracy: 85.28%, Train F1: 0.8529, Val Loss: 0.2436, Val Accuracy: 90.24%, Val F1: 0.9022, Time: 39.65s\n",
      "Epoch 2/20, Train Loss: 0.2636, Train Accuracy: 89.15%, Train F1: 0.8916, Val Loss: 0.2224, Val Accuracy: 90.40%, Val F1: 0.9044, Time: 39.29s\n",
      "Epoch 3/20, Train Loss: 0.2252, Train Accuracy: 90.50%, Train F1: 0.9052, Val Loss: 0.2024, Val Accuracy: 91.25%, Val F1: 0.9123, Time: 39.38s\n",
      "Epoch 4/20, Train Loss: 0.1854, Train Accuracy: 92.89%, Train F1: 0.9291, Val Loss: 0.1877, Val Accuracy: 92.59%, Val F1: 0.9262, Time: 39.20s\n",
      "Epoch 5/20, Train Loss: 0.1817, Train Accuracy: 92.77%, Train F1: 0.9278, Val Loss: 0.1754, Val Accuracy: 93.10%, Val F1: 0.9313, Time: 39.35s\n",
      "Epoch 6/20, Train Loss: 0.1679, Train Accuracy: 93.27%, Train F1: 0.9328, Val Loss: 0.1578, Val Accuracy: 93.27%, Val F1: 0.9330, Time: 39.09s\n",
      "Epoch 7/20, Train Loss: 0.1472, Train Accuracy: 93.99%, Train F1: 0.9400, Val Loss: 0.1814, Val Accuracy: 93.43%, Val F1: 0.9345, Time: 39.30s\n",
      "Epoch 8/20, Train Loss: 0.1471, Train Accuracy: 93.82%, Train F1: 0.9383, Val Loss: 0.1672, Val Accuracy: 93.77%, Val F1: 0.9379, Time: 39.26s\n",
      "Epoch 9/20, Train Loss: 0.1266, Train Accuracy: 95.54%, Train F1: 0.9555, Val Loss: 0.1806, Val Accuracy: 93.77%, Val F1: 0.9382, Time: 39.57s\n",
      "Epoch 10/20, Train Loss: 0.1216, Train Accuracy: 95.33%, Train F1: 0.9534, Val Loss: 0.1788, Val Accuracy: 93.94%, Val F1: 0.9396, Time: 39.38s\n",
      "Epoch 11/20, Train Loss: 0.1052, Train Accuracy: 95.88%, Train F1: 0.9588, Val Loss: 0.1976, Val Accuracy: 92.59%, Val F1: 0.9265, Time: 39.39s\n",
      "Early stopping triggered at epoch 11.\n",
      "Total training time: 523.82s\n",
      "Model weights saved to training/MobileNetV2_lr_0.0001_bs_16_aug_True_fold_5.pth\n",
      "\n",
      "Testing hyperparameters: {'batch_size': 16, 'learning_rate': 1e-05}\n",
      "\n",
      "Fold 1/5 for {'batch_size': 16, 'learning_rate': 1e-05}\n",
      "size of train_loader : 149, size of val_loader : 38\n",
      "Training MobileNetV2 for 20 epochs...\n"
     ]
    },
    {
     "name": "stderr",
     "output_type": "stream",
     "text": [
      "c:\\Users\\Sinbad\\anaconda3\\envs\\sf-mask-detector\\Lib\\site-packages\\torchvision\\models\\_utils.py:208: UserWarning: The parameter 'pretrained' is deprecated since 0.13 and may be removed in the future, please use 'weights' instead.\n",
      "  warnings.warn(\n",
      "c:\\Users\\Sinbad\\anaconda3\\envs\\sf-mask-detector\\Lib\\site-packages\\torchvision\\models\\_utils.py:223: UserWarning: Arguments other than a weight enum or `None` for 'weights' are deprecated since 0.13 and may be removed in the future. The current behavior is equivalent to passing `weights=MobileNet_V2_Weights.IMAGENET1K_V1`. You can also use `weights=MobileNet_V2_Weights.DEFAULT` to get the most up-to-date weights.\n",
      "  warnings.warn(msg)\n"
     ]
    },
    {
     "name": "stdout",
     "output_type": "stream",
     "text": [
      "Epoch 1/20, Train Loss: 0.5465, Train Accuracy: 72.99%, Train F1: 0.7314, Val Loss: 0.4218, Val Accuracy: 81.68%, Val F1: 0.8163, Time: 39.26s\n",
      "Epoch 2/20, Train Loss: 0.4093, Train Accuracy: 82.79%, Train F1: 0.8273, Val Loss: 0.3280, Val Accuracy: 86.72%, Val F1: 0.8675, Time: 39.53s\n",
      "Epoch 3/20, Train Loss: 0.3450, Train Accuracy: 85.91%, Train F1: 0.8590, Val Loss: 0.2852, Val Accuracy: 89.08%, Val F1: 0.8913, Time: 40.14s\n",
      "Epoch 4/20, Train Loss: 0.3126, Train Accuracy: 86.79%, Train F1: 0.8677, Val Loss: 0.2500, Val Accuracy: 90.42%, Val F1: 0.9042, Time: 39.48s\n",
      "Epoch 5/20, Train Loss: 0.2709, Train Accuracy: 89.78%, Train F1: 0.8978, Val Loss: 0.2404, Val Accuracy: 91.09%, Val F1: 0.9108, Time: 39.30s\n",
      "Epoch 6/20, Train Loss: 0.2657, Train Accuracy: 88.89%, Train F1: 0.8889, Val Loss: 0.2508, Val Accuracy: 90.92%, Val F1: 0.9095, Time: 39.61s\n",
      "Epoch 7/20, Train Loss: 0.2492, Train Accuracy: 89.52%, Train F1: 0.8953, Val Loss: 0.2254, Val Accuracy: 90.25%, Val F1: 0.9028, Time: 39.38s\n",
      "Epoch 8/20, Train Loss: 0.2350, Train Accuracy: 90.28%, Train F1: 0.9029, Val Loss: 0.2176, Val Accuracy: 92.10%, Val F1: 0.9210, Time: 39.34s\n",
      "Epoch 9/20, Train Loss: 0.2180, Train Accuracy: 91.38%, Train F1: 0.9138, Val Loss: 0.2149, Val Accuracy: 91.26%, Val F1: 0.9130, Time: 39.30s\n",
      "Epoch 10/20, Train Loss: 0.2076, Train Accuracy: 90.70%, Train F1: 0.9071, Val Loss: 0.1954, Val Accuracy: 92.27%, Val F1: 0.9226, Time: 39.54s\n",
      "Epoch 11/20, Train Loss: 0.2004, Train Accuracy: 91.50%, Train F1: 0.9151, Val Loss: 0.2094, Val Accuracy: 90.42%, Val F1: 0.9046, Time: 39.47s\n",
      "Epoch 12/20, Train Loss: 0.1882, Train Accuracy: 92.60%, Train F1: 0.9261, Val Loss: 0.2037, Val Accuracy: 91.76%, Val F1: 0.9179, Time: 39.76s\n",
      "Epoch 13/20, Train Loss: 0.1842, Train Accuracy: 92.60%, Train F1: 0.9260, Val Loss: 0.1834, Val Accuracy: 91.43%, Val F1: 0.9146, Time: 39.17s\n",
      "Epoch 14/20, Train Loss: 0.1933, Train Accuracy: 92.64%, Train F1: 0.9265, Val Loss: 0.2040, Val Accuracy: 90.59%, Val F1: 0.9059, Time: 39.47s\n",
      "Epoch 15/20, Train Loss: 0.1800, Train Accuracy: 92.72%, Train F1: 0.9273, Val Loss: 0.1900, Val Accuracy: 91.93%, Val F1: 0.9194, Time: 39.03s\n",
      "Epoch 16/20, Train Loss: 0.1849, Train Accuracy: 92.13%, Train F1: 0.9214, Val Loss: 0.1856, Val Accuracy: 92.10%, Val F1: 0.9212, Time: 39.14s\n",
      "Epoch 17/20, Train Loss: 0.1691, Train Accuracy: 93.27%, Train F1: 0.9328, Val Loss: 0.1917, Val Accuracy: 92.61%, Val F1: 0.9263, Time: 39.18s\n",
      "Epoch 18/20, Train Loss: 0.1647, Train Accuracy: 94.03%, Train F1: 0.9403, Val Loss: 0.2027, Val Accuracy: 90.92%, Val F1: 0.9094, Time: 39.10s\n",
      "Early stopping triggered at epoch 18.\n",
      "Total training time: 858.05s\n",
      "Model weights saved to training/MobileNetV2_lr_1e-05_bs_16_aug_True_fold_1.pth\n",
      "New best model saved with accuracy: 90.92%\n",
      "\n",
      "Fold 2/5 for {'batch_size': 16, 'learning_rate': 1e-05}\n"
     ]
    },
    {
     "name": "stderr",
     "output_type": "stream",
     "text": [
      "c:\\Users\\Sinbad\\anaconda3\\envs\\sf-mask-detector\\Lib\\site-packages\\torchvision\\models\\_utils.py:208: UserWarning: The parameter 'pretrained' is deprecated since 0.13 and may be removed in the future, please use 'weights' instead.\n",
      "  warnings.warn(\n",
      "c:\\Users\\Sinbad\\anaconda3\\envs\\sf-mask-detector\\Lib\\site-packages\\torchvision\\models\\_utils.py:223: UserWarning: Arguments other than a weight enum or `None` for 'weights' are deprecated since 0.13 and may be removed in the future. The current behavior is equivalent to passing `weights=MobileNet_V2_Weights.IMAGENET1K_V1`. You can also use `weights=MobileNet_V2_Weights.DEFAULT` to get the most up-to-date weights.\n",
      "  warnings.warn(msg)\n"
     ]
    },
    {
     "name": "stdout",
     "output_type": "stream",
     "text": [
      "size of train_loader : 149, size of val_loader : 38\n",
      "Training MobileNetV2 for 20 epochs...\n",
      "Epoch 1/20, Train Loss: 0.5448, Train Accuracy: 72.99%, Train F1: 0.7306, Val Loss: 0.4247, Val Accuracy: 81.18%, Val F1: 0.8108, Time: 39.68s\n",
      "Epoch 2/20, Train Loss: 0.4061, Train Accuracy: 82.63%, Train F1: 0.8254, Val Loss: 0.3367, Val Accuracy: 86.39%, Val F1: 0.8636, Time: 39.57s\n",
      "Epoch 3/20, Train Loss: 0.3438, Train Accuracy: 85.78%, Train F1: 0.8577, Val Loss: 0.2823, Val Accuracy: 88.91%, Val F1: 0.8891, Time: 40.34s\n",
      "Epoch 4/20, Train Loss: 0.3190, Train Accuracy: 86.71%, Train F1: 0.8672, Val Loss: 0.2854, Val Accuracy: 88.40%, Val F1: 0.8842, Time: 39.19s\n",
      "Epoch 5/20, Train Loss: 0.2732, Train Accuracy: 88.73%, Train F1: 0.8873, Val Loss: 0.2479, Val Accuracy: 89.75%, Val F1: 0.8977, Time: 39.51s\n",
      "Epoch 6/20, Train Loss: 0.2572, Train Accuracy: 89.86%, Train F1: 0.8987, Val Loss: 0.2297, Val Accuracy: 90.25%, Val F1: 0.9024, Time: 39.38s\n",
      "Epoch 7/20, Train Loss: 0.2503, Train Accuracy: 89.86%, Train F1: 0.8987, Val Loss: 0.2188, Val Accuracy: 90.25%, Val F1: 0.9026, Time: 39.43s\n",
      "Epoch 8/20, Train Loss: 0.2367, Train Accuracy: 90.28%, Train F1: 0.9029, Val Loss: 0.2132, Val Accuracy: 91.26%, Val F1: 0.9128, Time: 39.56s\n",
      "Epoch 9/20, Train Loss: 0.2222, Train Accuracy: 90.83%, Train F1: 0.9083, Val Loss: 0.2140, Val Accuracy: 90.92%, Val F1: 0.9093, Time: 38.95s\n",
      "Epoch 10/20, Train Loss: 0.2214, Train Accuracy: 91.54%, Train F1: 0.9157, Val Loss: 0.1831, Val Accuracy: 93.61%, Val F1: 0.9360, Time: 39.39s\n",
      "Epoch 11/20, Train Loss: 0.2164, Train Accuracy: 91.33%, Train F1: 0.9135, Val Loss: 0.1878, Val Accuracy: 92.27%, Val F1: 0.9228, Time: 39.19s\n",
      "Epoch 12/20, Train Loss: 0.2146, Train Accuracy: 90.66%, Train F1: 0.9067, Val Loss: 0.1879, Val Accuracy: 92.44%, Val F1: 0.9246, Time: 38.92s\n",
      "Epoch 13/20, Train Loss: 0.2010, Train Accuracy: 91.42%, Train F1: 0.9142, Val Loss: 0.1861, Val Accuracy: 92.44%, Val F1: 0.9245, Time: 39.38s\n",
      "Epoch 14/20, Train Loss: 0.1979, Train Accuracy: 92.13%, Train F1: 0.9214, Val Loss: 0.1761, Val Accuracy: 93.95%, Val F1: 0.9396, Time: 39.76s\n",
      "Epoch 15/20, Train Loss: 0.1873, Train Accuracy: 92.18%, Train F1: 0.9219, Val Loss: 0.1725, Val Accuracy: 94.29%, Val F1: 0.9428, Time: 39.66s\n",
      "Epoch 16/20, Train Loss: 0.1603, Train Accuracy: 93.90%, Train F1: 0.9391, Val Loss: 0.1818, Val Accuracy: 93.95%, Val F1: 0.9395, Time: 39.43s\n",
      "Epoch 17/20, Train Loss: 0.1620, Train Accuracy: 93.77%, Train F1: 0.9379, Val Loss: 0.1862, Val Accuracy: 93.28%, Val F1: 0.9329, Time: 39.32s\n",
      "Epoch 18/20, Train Loss: 0.1821, Train Accuracy: 92.97%, Train F1: 0.9299, Val Loss: 0.1718, Val Accuracy: 93.61%, Val F1: 0.9360, Time: 39.56s\n",
      "Epoch 19/20, Train Loss: 0.1530, Train Accuracy: 93.61%, Train F1: 0.9361, Val Loss: 0.1717, Val Accuracy: 92.77%, Val F1: 0.9279, Time: 39.31s\n",
      "Epoch 20/20, Train Loss: 0.1625, Train Accuracy: 93.56%, Train F1: 0.9358, Val Loss: 0.1621, Val Accuracy: 93.95%, Val F1: 0.9397, Time: 39.50s\n",
      "Total training time: 954.23s\n",
      "Model weights saved to training/MobileNetV2_lr_1e-05_bs_16_aug_True_fold_2.pth\n",
      "New best model saved with accuracy: 93.95%\n",
      "\n",
      "Fold 3/5 for {'batch_size': 16, 'learning_rate': 1e-05}\n"
     ]
    },
    {
     "name": "stderr",
     "output_type": "stream",
     "text": [
      "c:\\Users\\Sinbad\\anaconda3\\envs\\sf-mask-detector\\Lib\\site-packages\\torchvision\\models\\_utils.py:208: UserWarning: The parameter 'pretrained' is deprecated since 0.13 and may be removed in the future, please use 'weights' instead.\n",
      "  warnings.warn(\n",
      "c:\\Users\\Sinbad\\anaconda3\\envs\\sf-mask-detector\\Lib\\site-packages\\torchvision\\models\\_utils.py:223: UserWarning: Arguments other than a weight enum or `None` for 'weights' are deprecated since 0.13 and may be removed in the future. The current behavior is equivalent to passing `weights=MobileNet_V2_Weights.IMAGENET1K_V1`. You can also use `weights=MobileNet_V2_Weights.DEFAULT` to get the most up-to-date weights.\n",
      "  warnings.warn(msg)\n"
     ]
    },
    {
     "name": "stdout",
     "output_type": "stream",
     "text": [
      "size of train_loader : 149, size of val_loader : 38\n",
      "Training MobileNetV2 for 20 epochs...\n",
      "Epoch 1/20, Train Loss: 0.5409, Train Accuracy: 73.72%, Train F1: 0.7279, Val Loss: 0.4357, Val Accuracy: 79.63%, Val F1: 0.7944, Time: 39.53s\n",
      "Epoch 2/20, Train Loss: 0.4069, Train Accuracy: 82.38%, Train F1: 0.8229, Val Loss: 0.3388, Val Accuracy: 86.03%, Val F1: 0.8606, Time: 39.39s\n",
      "Epoch 3/20, Train Loss: 0.3449, Train Accuracy: 86.04%, Train F1: 0.8601, Val Loss: 0.2808, Val Accuracy: 88.22%, Val F1: 0.8824, Time: 39.19s\n",
      "Epoch 4/20, Train Loss: 0.2979, Train Accuracy: 88.06%, Train F1: 0.8808, Val Loss: 0.2730, Val Accuracy: 89.39%, Val F1: 0.8943, Time: 39.50s\n",
      "Epoch 5/20, Train Loss: 0.2888, Train Accuracy: 88.86%, Train F1: 0.8886, Val Loss: 0.2647, Val Accuracy: 89.06%, Val F1: 0.8908, Time: 39.75s\n",
      "Epoch 6/20, Train Loss: 0.2587, Train Accuracy: 89.36%, Train F1: 0.8937, Val Loss: 0.2353, Val Accuracy: 89.73%, Val F1: 0.8976, Time: 40.33s\n",
      "Epoch 7/20, Train Loss: 0.2392, Train Accuracy: 91.13%, Train F1: 0.9114, Val Loss: 0.2241, Val Accuracy: 90.07%, Val F1: 0.9010, Time: 39.65s\n",
      "Epoch 8/20, Train Loss: 0.2368, Train Accuracy: 90.20%, Train F1: 0.9022, Val Loss: 0.2161, Val Accuracy: 91.92%, Val F1: 0.9194, Time: 40.33s\n",
      "Epoch 9/20, Train Loss: 0.2259, Train Accuracy: 90.45%, Train F1: 0.9046, Val Loss: 0.2205, Val Accuracy: 91.58%, Val F1: 0.9162, Time: 39.98s\n",
      "Epoch 10/20, Train Loss: 0.2219, Train Accuracy: 91.04%, Train F1: 0.9107, Val Loss: 0.1887, Val Accuracy: 92.26%, Val F1: 0.9227, Time: 39.48s\n",
      "Epoch 11/20, Train Loss: 0.2018, Train Accuracy: 91.72%, Train F1: 0.9172, Val Loss: 0.1956, Val Accuracy: 91.58%, Val F1: 0.9159, Time: 39.31s\n",
      "Epoch 12/20, Train Loss: 0.2164, Train Accuracy: 91.17%, Train F1: 0.9119, Val Loss: 0.1979, Val Accuracy: 92.09%, Val F1: 0.9211, Time: 39.76s\n",
      "Epoch 13/20, Train Loss: 0.1849, Train Accuracy: 92.68%, Train F1: 0.9268, Val Loss: 0.1667, Val Accuracy: 93.10%, Val F1: 0.9311, Time: 39.22s\n",
      "Epoch 14/20, Train Loss: 0.1803, Train Accuracy: 92.64%, Train F1: 0.9265, Val Loss: 0.1825, Val Accuracy: 92.93%, Val F1: 0.9293, Time: 39.36s\n",
      "Epoch 15/20, Train Loss: 0.1826, Train Accuracy: 92.09%, Train F1: 0.9210, Val Loss: 0.1723, Val Accuracy: 92.93%, Val F1: 0.9295, Time: 39.47s\n",
      "Epoch 16/20, Train Loss: 0.1857, Train Accuracy: 92.39%, Train F1: 0.9240, Val Loss: 0.1603, Val Accuracy: 93.10%, Val F1: 0.9311, Time: 39.46s\n",
      "Epoch 17/20, Train Loss: 0.1675, Train Accuracy: 93.44%, Train F1: 0.9345, Val Loss: 0.1768, Val Accuracy: 92.59%, Val F1: 0.9256, Time: 39.68s\n",
      "Epoch 18/20, Train Loss: 0.1660, Train Accuracy: 93.82%, Train F1: 0.9382, Val Loss: 0.1763, Val Accuracy: 92.93%, Val F1: 0.9294, Time: 39.53s\n",
      "Epoch 19/20, Train Loss: 0.1710, Train Accuracy: 93.23%, Train F1: 0.9324, Val Loss: 0.1508, Val Accuracy: 94.11%, Val F1: 0.9412, Time: 39.42s\n",
      "Epoch 20/20, Train Loss: 0.1682, Train Accuracy: 93.52%, Train F1: 0.9353, Val Loss: 0.1532, Val Accuracy: 93.77%, Val F1: 0.9377, Time: 39.98s\n",
      "Total training time: 956.58s\n",
      "Model weights saved to training/MobileNetV2_lr_1e-05_bs_16_aug_True_fold_3.pth\n",
      "\n",
      "Fold 4/5 for {'batch_size': 16, 'learning_rate': 1e-05}\n",
      "size of train_loader : 149, size of val_loader : 38\n",
      "Training MobileNetV2 for 20 epochs...\n"
     ]
    },
    {
     "name": "stderr",
     "output_type": "stream",
     "text": [
      "c:\\Users\\Sinbad\\anaconda3\\envs\\sf-mask-detector\\Lib\\site-packages\\torchvision\\models\\_utils.py:208: UserWarning: The parameter 'pretrained' is deprecated since 0.13 and may be removed in the future, please use 'weights' instead.\n",
      "  warnings.warn(\n",
      "c:\\Users\\Sinbad\\anaconda3\\envs\\sf-mask-detector\\Lib\\site-packages\\torchvision\\models\\_utils.py:223: UserWarning: Arguments other than a weight enum or `None` for 'weights' are deprecated since 0.13 and may be removed in the future. The current behavior is equivalent to passing `weights=MobileNet_V2_Weights.IMAGENET1K_V1`. You can also use `weights=MobileNet_V2_Weights.DEFAULT` to get the most up-to-date weights.\n",
      "  warnings.warn(msg)\n"
     ]
    },
    {
     "name": "stdout",
     "output_type": "stream",
     "text": [
      "Epoch 1/20, Train Loss: 0.5304, Train Accuracy: 74.77%, Train F1: 0.7448, Val Loss: 0.4108, Val Accuracy: 80.64%, Val F1: 0.8034, Time: 39.24s\n",
      "Epoch 2/20, Train Loss: 0.4017, Train Accuracy: 83.39%, Train F1: 0.8328, Val Loss: 0.3185, Val Accuracy: 87.21%, Val F1: 0.8715, Time: 39.20s\n",
      "Epoch 3/20, Train Loss: 0.3393, Train Accuracy: 86.12%, Train F1: 0.8614, Val Loss: 0.2758, Val Accuracy: 89.06%, Val F1: 0.8902, Time: 39.44s\n",
      "Epoch 4/20, Train Loss: 0.2905, Train Accuracy: 88.18%, Train F1: 0.8818, Val Loss: 0.2396, Val Accuracy: 91.08%, Val F1: 0.9105, Time: 39.30s\n",
      "Epoch 5/20, Train Loss: 0.2742, Train Accuracy: 88.44%, Train F1: 0.8844, Val Loss: 0.2435, Val Accuracy: 89.23%, Val F1: 0.8915, Time: 39.42s\n",
      "Epoch 6/20, Train Loss: 0.2468, Train Accuracy: 90.24%, Train F1: 0.9024, Val Loss: 0.2132, Val Accuracy: 91.41%, Val F1: 0.9140, Time: 39.62s\n",
      "Epoch 7/20, Train Loss: 0.2510, Train Accuracy: 90.33%, Train F1: 0.9034, Val Loss: 0.1961, Val Accuracy: 92.26%, Val F1: 0.9227, Time: 39.47s\n",
      "Epoch 8/20, Train Loss: 0.2391, Train Accuracy: 90.08%, Train F1: 0.9009, Val Loss: 0.1993, Val Accuracy: 91.75%, Val F1: 0.9174, Time: 39.39s\n",
      "Epoch 9/20, Train Loss: 0.2031, Train Accuracy: 91.42%, Train F1: 0.9143, Val Loss: 0.1931, Val Accuracy: 91.75%, Val F1: 0.9173, Time: 39.39s\n",
      "Epoch 10/20, Train Loss: 0.2025, Train Accuracy: 91.46%, Train F1: 0.9147, Val Loss: 0.2070, Val Accuracy: 91.25%, Val F1: 0.9122, Time: 39.06s\n",
      "Epoch 11/20, Train Loss: 0.2246, Train Accuracy: 90.12%, Train F1: 0.9012, Val Loss: 0.1739, Val Accuracy: 91.75%, Val F1: 0.9175, Time: 39.62s\n",
      "Epoch 12/20, Train Loss: 0.2028, Train Accuracy: 92.35%, Train F1: 0.9236, Val Loss: 0.1590, Val Accuracy: 93.43%, Val F1: 0.9344, Time: 39.16s\n",
      "Epoch 13/20, Train Loss: 0.1854, Train Accuracy: 92.68%, Train F1: 0.9269, Val Loss: 0.1583, Val Accuracy: 93.60%, Val F1: 0.9359, Time: 39.44s\n",
      "Epoch 14/20, Train Loss: 0.1894, Train Accuracy: 92.01%, Train F1: 0.9202, Val Loss: 0.1849, Val Accuracy: 92.42%, Val F1: 0.9243, Time: 39.34s\n",
      "Epoch 15/20, Train Loss: 0.1798, Train Accuracy: 92.98%, Train F1: 0.9298, Val Loss: 0.1525, Val Accuracy: 93.60%, Val F1: 0.9361, Time: 39.72s\n",
      "Epoch 16/20, Train Loss: 0.1789, Train Accuracy: 93.10%, Train F1: 0.9312, Val Loss: 0.1827, Val Accuracy: 92.26%, Val F1: 0.9223, Time: 39.71s\n",
      "Epoch 17/20, Train Loss: 0.1803, Train Accuracy: 92.22%, Train F1: 0.9224, Val Loss: 0.1563, Val Accuracy: 92.93%, Val F1: 0.9293, Time: 39.89s\n",
      "Epoch 18/20, Train Loss: 0.1788, Train Accuracy: 93.06%, Train F1: 0.9307, Val Loss: 0.1481, Val Accuracy: 93.77%, Val F1: 0.9376, Time: 40.43s\n",
      "Epoch 19/20, Train Loss: 0.1637, Train Accuracy: 93.36%, Train F1: 0.9336, Val Loss: 0.1557, Val Accuracy: 92.59%, Val F1: 0.9260, Time: 39.68s\n",
      "Epoch 20/20, Train Loss: 0.1645, Train Accuracy: 93.27%, Train F1: 0.9328, Val Loss: 0.1659, Val Accuracy: 93.10%, Val F1: 0.9310, Time: 39.67s\n",
      "Total training time: 954.31s\n",
      "Model weights saved to training/MobileNetV2_lr_1e-05_bs_16_aug_True_fold_4.pth\n",
      "\n",
      "Fold 5/5 for {'batch_size': 16, 'learning_rate': 1e-05}\n",
      "size of train_loader : 149, size of val_loader : 38\n",
      "Training MobileNetV2 for 20 epochs...\n"
     ]
    },
    {
     "name": "stderr",
     "output_type": "stream",
     "text": [
      "c:\\Users\\Sinbad\\anaconda3\\envs\\sf-mask-detector\\Lib\\site-packages\\torchvision\\models\\_utils.py:208: UserWarning: The parameter 'pretrained' is deprecated since 0.13 and may be removed in the future, please use 'weights' instead.\n",
      "  warnings.warn(\n",
      "c:\\Users\\Sinbad\\anaconda3\\envs\\sf-mask-detector\\Lib\\site-packages\\torchvision\\models\\_utils.py:223: UserWarning: Arguments other than a weight enum or `None` for 'weights' are deprecated since 0.13 and may be removed in the future. The current behavior is equivalent to passing `weights=MobileNet_V2_Weights.IMAGENET1K_V1`. You can also use `weights=MobileNet_V2_Weights.DEFAULT` to get the most up-to-date weights.\n",
      "  warnings.warn(msg)\n"
     ]
    },
    {
     "name": "stdout",
     "output_type": "stream",
     "text": [
      "Epoch 1/20, Train Loss: 0.5375, Train Accuracy: 73.38%, Train F1: 0.7282, Val Loss: 0.4480, Val Accuracy: 79.29%, Val F1: 0.7922, Time: 39.15s\n",
      "Epoch 2/20, Train Loss: 0.3968, Train Accuracy: 84.06%, Train F1: 0.8402, Val Loss: 0.3372, Val Accuracy: 86.03%, Val F1: 0.8609, Time: 39.25s\n",
      "Epoch 3/20, Train Loss: 0.3213, Train Accuracy: 87.22%, Train F1: 0.8722, Val Loss: 0.2879, Val Accuracy: 88.89%, Val F1: 0.8896, Time: 39.17s\n",
      "Epoch 4/20, Train Loss: 0.3012, Train Accuracy: 88.18%, Train F1: 0.8820, Val Loss: 0.2748, Val Accuracy: 88.89%, Val F1: 0.8895, Time: 39.62s\n",
      "Epoch 5/20, Train Loss: 0.2833, Train Accuracy: 88.06%, Train F1: 0.8805, Val Loss: 0.2452, Val Accuracy: 88.72%, Val F1: 0.8874, Time: 38.37s\n",
      "Epoch 6/20, Train Loss: 0.2613, Train Accuracy: 89.28%, Train F1: 0.8929, Val Loss: 0.2389, Val Accuracy: 88.38%, Val F1: 0.8846, Time: 40.19s\n",
      "Epoch 7/20, Train Loss: 0.2509, Train Accuracy: 90.29%, Train F1: 0.9029, Val Loss: 0.2248, Val Accuracy: 90.57%, Val F1: 0.9057, Time: 39.59s\n",
      "Epoch 8/20, Train Loss: 0.2305, Train Accuracy: 90.62%, Train F1: 0.9064, Val Loss: 0.2339, Val Accuracy: 90.74%, Val F1: 0.9080, Time: 39.24s\n",
      "Epoch 9/20, Train Loss: 0.2156, Train Accuracy: 91.55%, Train F1: 0.9156, Val Loss: 0.2108, Val Accuracy: 91.92%, Val F1: 0.9197, Time: 39.73s\n",
      "Epoch 10/20, Train Loss: 0.2154, Train Accuracy: 90.87%, Train F1: 0.9089, Val Loss: 0.2210, Val Accuracy: 90.57%, Val F1: 0.9059, Time: 39.45s\n",
      "Epoch 11/20, Train Loss: 0.2027, Train Accuracy: 91.93%, Train F1: 0.9194, Val Loss: 0.1862, Val Accuracy: 92.76%, Val F1: 0.9278, Time: 39.46s\n",
      "Epoch 12/20, Train Loss: 0.2030, Train Accuracy: 91.93%, Train F1: 0.9194, Val Loss: 0.1986, Val Accuracy: 92.09%, Val F1: 0.9211, Time: 39.26s\n",
      "Epoch 13/20, Train Loss: 0.1858, Train Accuracy: 92.35%, Train F1: 0.9235, Val Loss: 0.1985, Val Accuracy: 92.76%, Val F1: 0.9280, Time: 39.44s\n",
      "Epoch 14/20, Train Loss: 0.1763, Train Accuracy: 92.30%, Train F1: 0.9232, Val Loss: 0.1881, Val Accuracy: 92.42%, Val F1: 0.9244, Time: 39.11s\n",
      "Epoch 15/20, Train Loss: 0.1804, Train Accuracy: 92.51%, Train F1: 0.9252, Val Loss: 0.2038, Val Accuracy: 91.75%, Val F1: 0.9181, Time: 39.72s\n",
      "Epoch 16/20, Train Loss: 0.1782, Train Accuracy: 92.18%, Train F1: 0.9219, Val Loss: 0.1870, Val Accuracy: 92.59%, Val F1: 0.9264, Time: 39.31s\n",
      "Early stopping triggered at epoch 16.\n",
      "Total training time: 760.24s\n",
      "Model weights saved to training/MobileNetV2_lr_1e-05_bs_16_aug_True_fold_5.pth\n",
      "\n",
      "Testing hyperparameters: {'batch_size': 32, 'learning_rate': 0.0001}\n",
      "\n",
      "Fold 1/5 for {'batch_size': 32, 'learning_rate': 0.0001}\n",
      "size of train_loader : 75, size of val_loader : 19\n",
      "Training MobileNetV2 for 20 epochs...\n"
     ]
    },
    {
     "name": "stderr",
     "output_type": "stream",
     "text": [
      "c:\\Users\\Sinbad\\anaconda3\\envs\\sf-mask-detector\\Lib\\site-packages\\torchvision\\models\\_utils.py:208: UserWarning: The parameter 'pretrained' is deprecated since 0.13 and may be removed in the future, please use 'weights' instead.\n",
      "  warnings.warn(\n",
      "c:\\Users\\Sinbad\\anaconda3\\envs\\sf-mask-detector\\Lib\\site-packages\\torchvision\\models\\_utils.py:223: UserWarning: Arguments other than a weight enum or `None` for 'weights' are deprecated since 0.13 and may be removed in the future. The current behavior is equivalent to passing `weights=MobileNet_V2_Weights.IMAGENET1K_V1`. You can also use `weights=MobileNet_V2_Weights.DEFAULT` to get the most up-to-date weights.\n",
      "  warnings.warn(msg)\n"
     ]
    },
    {
     "name": "stdout",
     "output_type": "stream",
     "text": [
      "Epoch 1/20, Train Loss: 0.3668, Train Accuracy: 83.80%, Train F1: 0.8380, Val Loss: 0.2478, Val Accuracy: 89.58%, Val F1: 0.8964, Time: 38.40s\n",
      "Epoch 2/20, Train Loss: 0.2362, Train Accuracy: 90.32%, Train F1: 0.9033, Val Loss: 0.2301, Val Accuracy: 90.59%, Val F1: 0.9061, Time: 38.07s\n",
      "Epoch 3/20, Train Loss: 0.2106, Train Accuracy: 91.75%, Train F1: 0.9177, Val Loss: 0.2063, Val Accuracy: 91.76%, Val F1: 0.9180, Time: 38.34s\n",
      "Epoch 4/20, Train Loss: 0.1704, Train Accuracy: 92.97%, Train F1: 0.9299, Val Loss: 0.1770, Val Accuracy: 93.45%, Val F1: 0.9347, Time: 38.78s\n",
      "Epoch 5/20, Train Loss: 0.1578, Train Accuracy: 93.31%, Train F1: 0.9332, Val Loss: 0.1874, Val Accuracy: 91.76%, Val F1: 0.9179, Time: 38.62s\n",
      "Epoch 6/20, Train Loss: 0.1379, Train Accuracy: 94.07%, Train F1: 0.9408, Val Loss: 0.1735, Val Accuracy: 93.28%, Val F1: 0.9331, Time: 38.80s\n",
      "Epoch 7/20, Train Loss: 0.1348, Train Accuracy: 94.95%, Train F1: 0.9496, Val Loss: 0.2206, Val Accuracy: 93.11%, Val F1: 0.9312, Time: 38.69s\n",
      "Epoch 8/20, Train Loss: 0.1104, Train Accuracy: 95.37%, Train F1: 0.9538, Val Loss: 0.1948, Val Accuracy: 93.95%, Val F1: 0.9397, Time: 38.72s\n",
      "Epoch 9/20, Train Loss: 0.1243, Train Accuracy: 95.46%, Train F1: 0.9547, Val Loss: 0.1978, Val Accuracy: 93.11%, Val F1: 0.9310, Time: 38.77s\n",
      "Epoch 10/20, Train Loss: 0.0958, Train Accuracy: 96.34%, Train F1: 0.9634, Val Loss: 0.2037, Val Accuracy: 92.94%, Val F1: 0.9296, Time: 38.14s\n",
      "Epoch 11/20, Train Loss: 0.1148, Train Accuracy: 95.75%, Train F1: 0.9575, Val Loss: 0.1463, Val Accuracy: 93.61%, Val F1: 0.9365, Time: 38.60s\n",
      "Epoch 12/20, Train Loss: 0.0903, Train Accuracy: 96.84%, Train F1: 0.9685, Val Loss: 0.1878, Val Accuracy: 92.61%, Val F1: 0.9262, Time: 38.42s\n",
      "Epoch 13/20, Train Loss: 0.0804, Train Accuracy: 97.14%, Train F1: 0.9714, Val Loss: 0.2088, Val Accuracy: 92.94%, Val F1: 0.9292, Time: 38.78s\n",
      "Epoch 14/20, Train Loss: 0.0766, Train Accuracy: 97.35%, Train F1: 0.9735, Val Loss: 0.1674, Val Accuracy: 92.94%, Val F1: 0.9294, Time: 38.37s\n",
      "Epoch 15/20, Train Loss: 0.0869, Train Accuracy: 96.72%, Train F1: 0.9672, Val Loss: 0.1946, Val Accuracy: 93.28%, Val F1: 0.9330, Time: 38.78s\n",
      "Epoch 16/20, Train Loss: 0.0650, Train Accuracy: 97.48%, Train F1: 0.9748, Val Loss: 0.2405, Val Accuracy: 92.61%, Val F1: 0.9258, Time: 38.50s\n",
      "Early stopping triggered at epoch 16.\n",
      "Total training time: 741.18s\n",
      "Model weights saved to training/MobileNetV2_lr_0.0001_bs_32_aug_True_fold_1.pth\n",
      "New best model saved with accuracy: 92.61%\n",
      "\n",
      "Fold 2/5 for {'batch_size': 32, 'learning_rate': 0.0001}\n"
     ]
    },
    {
     "name": "stderr",
     "output_type": "stream",
     "text": [
      "c:\\Users\\Sinbad\\anaconda3\\envs\\sf-mask-detector\\Lib\\site-packages\\torchvision\\models\\_utils.py:208: UserWarning: The parameter 'pretrained' is deprecated since 0.13 and may be removed in the future, please use 'weights' instead.\n",
      "  warnings.warn(\n",
      "c:\\Users\\Sinbad\\anaconda3\\envs\\sf-mask-detector\\Lib\\site-packages\\torchvision\\models\\_utils.py:223: UserWarning: Arguments other than a weight enum or `None` for 'weights' are deprecated since 0.13 and may be removed in the future. The current behavior is equivalent to passing `weights=MobileNet_V2_Weights.IMAGENET1K_V1`. You can also use `weights=MobileNet_V2_Weights.DEFAULT` to get the most up-to-date weights.\n",
      "  warnings.warn(msg)\n"
     ]
    },
    {
     "name": "stdout",
     "output_type": "stream",
     "text": [
      "size of train_loader : 75, size of val_loader : 19\n",
      "Training MobileNetV2 for 20 epochs...\n",
      "Epoch 1/20, Train Loss: 0.3642, Train Accuracy: 83.93%, Train F1: 0.8392, Val Loss: 0.2376, Val Accuracy: 90.08%, Val F1: 0.9007, Time: 38.58s\n",
      "Epoch 2/20, Train Loss: 0.2402, Train Accuracy: 90.49%, Train F1: 0.9052, Val Loss: 0.2118, Val Accuracy: 91.93%, Val F1: 0.9195, Time: 39.12s\n",
      "Epoch 3/20, Train Loss: 0.2155, Train Accuracy: 91.50%, Train F1: 0.9152, Val Loss: 0.1865, Val Accuracy: 93.28%, Val F1: 0.9329, Time: 38.38s\n",
      "Epoch 4/20, Train Loss: 0.1812, Train Accuracy: 92.89%, Train F1: 0.9291, Val Loss: 0.1748, Val Accuracy: 93.95%, Val F1: 0.9393, Time: 39.11s\n",
      "Epoch 5/20, Train Loss: 0.1696, Train Accuracy: 93.10%, Train F1: 0.9311, Val Loss: 0.1595, Val Accuracy: 92.77%, Val F1: 0.9279, Time: 38.42s\n",
      "Epoch 6/20, Train Loss: 0.1510, Train Accuracy: 94.19%, Train F1: 0.9421, Val Loss: 0.1565, Val Accuracy: 93.11%, Val F1: 0.9308, Time: 38.78s\n",
      "Epoch 7/20, Train Loss: 0.1498, Train Accuracy: 94.36%, Train F1: 0.9437, Val Loss: 0.1574, Val Accuracy: 94.12%, Val F1: 0.9411, Time: 38.39s\n",
      "Epoch 8/20, Train Loss: 0.1213, Train Accuracy: 95.08%, Train F1: 0.9508, Val Loss: 0.1595, Val Accuracy: 93.28%, Val F1: 0.9327, Time: 38.63s\n",
      "Epoch 9/20, Train Loss: 0.1151, Train Accuracy: 95.67%, Train F1: 0.9567, Val Loss: 0.1806, Val Accuracy: 93.78%, Val F1: 0.9379, Time: 38.27s\n",
      "Epoch 10/20, Train Loss: 0.1188, Train Accuracy: 95.08%, Train F1: 0.9508, Val Loss: 0.1559, Val Accuracy: 93.95%, Val F1: 0.9395, Time: 39.05s\n",
      "Epoch 11/20, Train Loss: 0.0957, Train Accuracy: 96.63%, Train F1: 0.9664, Val Loss: 0.1721, Val Accuracy: 93.95%, Val F1: 0.9397, Time: 38.24s\n",
      "Epoch 12/20, Train Loss: 0.0829, Train Accuracy: 97.06%, Train F1: 0.9706, Val Loss: 0.1468, Val Accuracy: 94.12%, Val F1: 0.9409, Time: 38.86s\n",
      "Epoch 13/20, Train Loss: 0.0965, Train Accuracy: 96.21%, Train F1: 0.9622, Val Loss: 0.1359, Val Accuracy: 95.46%, Val F1: 0.9546, Time: 38.61s\n",
      "Epoch 14/20, Train Loss: 0.1013, Train Accuracy: 96.13%, Train F1: 0.9614, Val Loss: 0.1561, Val Accuracy: 95.13%, Val F1: 0.9512, Time: 38.72s\n",
      "Epoch 15/20, Train Loss: 0.1031, Train Accuracy: 96.05%, Train F1: 0.9605, Val Loss: 0.1957, Val Accuracy: 94.62%, Val F1: 0.9463, Time: 38.69s\n",
      "Epoch 16/20, Train Loss: 0.0767, Train Accuracy: 96.63%, Train F1: 0.9664, Val Loss: 0.1606, Val Accuracy: 95.13%, Val F1: 0.9513, Time: 38.53s\n",
      "Epoch 17/20, Train Loss: 0.0895, Train Accuracy: 96.76%, Train F1: 0.9676, Val Loss: 0.1395, Val Accuracy: 94.12%, Val F1: 0.9412, Time: 38.69s\n",
      "Epoch 18/20, Train Loss: 0.0632, Train Accuracy: 97.69%, Train F1: 0.9769, Val Loss: 0.1725, Val Accuracy: 95.29%, Val F1: 0.9530, Time: 38.03s\n",
      "Early stopping triggered at epoch 18.\n",
      "Total training time: 833.35s\n",
      "Model weights saved to training/MobileNetV2_lr_0.0001_bs_32_aug_True_fold_2.pth\n",
      "New best model saved with accuracy: 95.29%\n",
      "\n",
      "Fold 3/5 for {'batch_size': 32, 'learning_rate': 0.0001}\n"
     ]
    },
    {
     "name": "stderr",
     "output_type": "stream",
     "text": [
      "c:\\Users\\Sinbad\\anaconda3\\envs\\sf-mask-detector\\Lib\\site-packages\\torchvision\\models\\_utils.py:208: UserWarning: The parameter 'pretrained' is deprecated since 0.13 and may be removed in the future, please use 'weights' instead.\n",
      "  warnings.warn(\n",
      "c:\\Users\\Sinbad\\anaconda3\\envs\\sf-mask-detector\\Lib\\site-packages\\torchvision\\models\\_utils.py:223: UserWarning: Arguments other than a weight enum or `None` for 'weights' are deprecated since 0.13 and may be removed in the future. The current behavior is equivalent to passing `weights=MobileNet_V2_Weights.IMAGENET1K_V1`. You can also use `weights=MobileNet_V2_Weights.DEFAULT` to get the most up-to-date weights.\n",
      "  warnings.warn(msg)\n"
     ]
    },
    {
     "name": "stdout",
     "output_type": "stream",
     "text": [
      "size of train_loader : 75, size of val_loader : 19\n",
      "Training MobileNetV2 for 20 epochs...\n",
      "Epoch 1/20, Train Loss: 0.3693, Train Accuracy: 83.35%, Train F1: 0.8335, Val Loss: 0.2411, Val Accuracy: 90.24%, Val F1: 0.9026, Time: 39.61s\n",
      "Epoch 2/20, Train Loss: 0.2443, Train Accuracy: 89.78%, Train F1: 0.8980, Val Loss: 0.1991, Val Accuracy: 91.41%, Val F1: 0.9145, Time: 38.58s\n",
      "Epoch 3/20, Train Loss: 0.2106, Train Accuracy: 91.55%, Train F1: 0.9157, Val Loss: 0.1675, Val Accuracy: 93.77%, Val F1: 0.9376, Time: 38.57s\n",
      "Epoch 4/20, Train Loss: 0.1895, Train Accuracy: 93.02%, Train F1: 0.9303, Val Loss: 0.1740, Val Accuracy: 91.41%, Val F1: 0.9138, Time: 38.74s\n",
      "Epoch 5/20, Train Loss: 0.1668, Train Accuracy: 93.61%, Train F1: 0.9361, Val Loss: 0.1721, Val Accuracy: 92.42%, Val F1: 0.9244, Time: 40.48s\n",
      "Epoch 6/20, Train Loss: 0.1451, Train Accuracy: 94.87%, Train F1: 0.9488, Val Loss: 0.1509, Val Accuracy: 93.94%, Val F1: 0.9396, Time: 38.30s\n",
      "Epoch 7/20, Train Loss: 0.1333, Train Accuracy: 94.83%, Train F1: 0.9484, Val Loss: 0.1558, Val Accuracy: 93.10%, Val F1: 0.9311, Time: 38.41s\n",
      "Epoch 8/20, Train Loss: 0.1304, Train Accuracy: 94.91%, Train F1: 0.9492, Val Loss: 0.1433, Val Accuracy: 93.77%, Val F1: 0.9378, Time: 38.27s\n",
      "Epoch 9/20, Train Loss: 0.1315, Train Accuracy: 95.21%, Train F1: 0.9521, Val Loss: 0.1537, Val Accuracy: 92.76%, Val F1: 0.9279, Time: 38.21s\n",
      "Epoch 10/20, Train Loss: 0.1198, Train Accuracy: 95.29%, Train F1: 0.9530, Val Loss: 0.1532, Val Accuracy: 93.94%, Val F1: 0.9396, Time: 38.47s\n",
      "Epoch 11/20, Train Loss: 0.0964, Train Accuracy: 96.68%, Train F1: 0.9668, Val Loss: 0.1477, Val Accuracy: 93.43%, Val F1: 0.9346, Time: 38.52s\n",
      "Epoch 12/20, Train Loss: 0.1030, Train Accuracy: 96.17%, Train F1: 0.9618, Val Loss: 0.1828, Val Accuracy: 92.26%, Val F1: 0.9229, Time: 38.65s\n",
      "Epoch 13/20, Train Loss: 0.0913, Train Accuracy: 96.68%, Train F1: 0.9668, Val Loss: 0.1578, Val Accuracy: 92.76%, Val F1: 0.9279, Time: 38.46s\n",
      "Early stopping triggered at epoch 13.\n",
      "Total training time: 602.32s\n",
      "Model weights saved to training/MobileNetV2_lr_0.0001_bs_32_aug_True_fold_3.pth\n",
      "\n",
      "Fold 4/5 for {'batch_size': 32, 'learning_rate': 0.0001}\n",
      "size of train_loader : 75, size of val_loader : 19\n",
      "Training MobileNetV2 for 20 epochs...\n"
     ]
    },
    {
     "name": "stderr",
     "output_type": "stream",
     "text": [
      "c:\\Users\\Sinbad\\anaconda3\\envs\\sf-mask-detector\\Lib\\site-packages\\torchvision\\models\\_utils.py:208: UserWarning: The parameter 'pretrained' is deprecated since 0.13 and may be removed in the future, please use 'weights' instead.\n",
      "  warnings.warn(\n",
      "c:\\Users\\Sinbad\\anaconda3\\envs\\sf-mask-detector\\Lib\\site-packages\\torchvision\\models\\_utils.py:223: UserWarning: Arguments other than a weight enum or `None` for 'weights' are deprecated since 0.13 and may be removed in the future. The current behavior is equivalent to passing `weights=MobileNet_V2_Weights.IMAGENET1K_V1`. You can also use `weights=MobileNet_V2_Weights.DEFAULT` to get the most up-to-date weights.\n",
      "  warnings.warn(msg)\n"
     ]
    },
    {
     "name": "stdout",
     "output_type": "stream",
     "text": [
      "Epoch 1/20, Train Loss: 0.3778, Train Accuracy: 83.39%, Train F1: 0.8337, Val Loss: 0.2427, Val Accuracy: 90.07%, Val F1: 0.9006, Time: 38.71s\n",
      "Epoch 2/20, Train Loss: 0.2432, Train Accuracy: 89.78%, Train F1: 0.8979, Val Loss: 0.1644, Val Accuracy: 93.60%, Val F1: 0.9361, Time: 37.74s\n",
      "Epoch 3/20, Train Loss: 0.2154, Train Accuracy: 91.59%, Train F1: 0.9161, Val Loss: 0.1776, Val Accuracy: 92.42%, Val F1: 0.9242, Time: 39.18s\n",
      "Epoch 4/20, Train Loss: 0.1623, Train Accuracy: 93.82%, Train F1: 0.9382, Val Loss: 0.1772, Val Accuracy: 92.93%, Val F1: 0.9293, Time: 38.51s\n",
      "Epoch 5/20, Train Loss: 0.1508, Train Accuracy: 93.61%, Train F1: 0.9361, Val Loss: 0.1528, Val Accuracy: 94.11%, Val F1: 0.9411, Time: 38.52s\n",
      "Epoch 6/20, Train Loss: 0.1530, Train Accuracy: 94.03%, Train F1: 0.9403, Val Loss: 0.1609, Val Accuracy: 93.43%, Val F1: 0.9342, Time: 38.52s\n",
      "Epoch 7/20, Train Loss: 0.1237, Train Accuracy: 94.79%, Train F1: 0.9480, Val Loss: 0.1715, Val Accuracy: 93.60%, Val F1: 0.9358, Time: 38.61s\n",
      "Epoch 8/20, Train Loss: 0.1337, Train Accuracy: 94.79%, Train F1: 0.9479, Val Loss: 0.1462, Val Accuracy: 93.77%, Val F1: 0.9377, Time: 38.48s\n",
      "Epoch 9/20, Train Loss: 0.1203, Train Accuracy: 95.25%, Train F1: 0.9525, Val Loss: 0.1617, Val Accuracy: 93.43%, Val F1: 0.9343, Time: 38.42s\n",
      "Epoch 10/20, Train Loss: 0.1011, Train Accuracy: 96.26%, Train F1: 0.9626, Val Loss: 0.1886, Val Accuracy: 92.42%, Val F1: 0.9239, Time: 38.93s\n",
      "Epoch 11/20, Train Loss: 0.0950, Train Accuracy: 96.09%, Train F1: 0.9609, Val Loss: 0.1378, Val Accuracy: 94.95%, Val F1: 0.9495, Time: 38.70s\n",
      "Epoch 12/20, Train Loss: 0.0940, Train Accuracy: 96.51%, Train F1: 0.9651, Val Loss: 0.1414, Val Accuracy: 93.77%, Val F1: 0.9376, Time: 38.49s\n",
      "Epoch 13/20, Train Loss: 0.0897, Train Accuracy: 97.18%, Train F1: 0.9718, Val Loss: 0.1354, Val Accuracy: 95.62%, Val F1: 0.9563, Time: 38.38s\n",
      "Epoch 14/20, Train Loss: 0.0826, Train Accuracy: 96.76%, Train F1: 0.9676, Val Loss: 0.1809, Val Accuracy: 92.76%, Val F1: 0.9271, Time: 38.72s\n",
      "Epoch 15/20, Train Loss: 0.0843, Train Accuracy: 96.55%, Train F1: 0.9655, Val Loss: 0.1517, Val Accuracy: 94.61%, Val F1: 0.9461, Time: 39.04s\n",
      "Epoch 16/20, Train Loss: 0.0773, Train Accuracy: 96.85%, Train F1: 0.9685, Val Loss: 0.1491, Val Accuracy: 94.28%, Val F1: 0.9427, Time: 38.49s\n",
      "Epoch 17/20, Train Loss: 0.0702, Train Accuracy: 97.60%, Train F1: 0.9760, Val Loss: 0.1256, Val Accuracy: 95.29%, Val F1: 0.9528, Time: 38.80s\n",
      "Epoch 18/20, Train Loss: 0.0764, Train Accuracy: 97.18%, Train F1: 0.9719, Val Loss: 0.1690, Val Accuracy: 93.94%, Val F1: 0.9392, Time: 38.49s\n",
      "Epoch 19/20, Train Loss: 0.0653, Train Accuracy: 97.39%, Train F1: 0.9739, Val Loss: 0.1458, Val Accuracy: 94.28%, Val F1: 0.9428, Time: 38.91s\n",
      "Epoch 20/20, Train Loss: 0.0737, Train Accuracy: 97.52%, Train F1: 0.9752, Val Loss: 0.1722, Val Accuracy: 94.61%, Val F1: 0.9460, Time: 39.83s\n",
      "Total training time: 926.36s\n",
      "Model weights saved to training/MobileNetV2_lr_0.0001_bs_32_aug_True_fold_4.pth\n",
      "\n",
      "Fold 5/5 for {'batch_size': 32, 'learning_rate': 0.0001}\n",
      "size of train_loader : 75, size of val_loader : 19\n",
      "Training MobileNetV2 for 20 epochs...\n"
     ]
    },
    {
     "name": "stderr",
     "output_type": "stream",
     "text": [
      "c:\\Users\\Sinbad\\anaconda3\\envs\\sf-mask-detector\\Lib\\site-packages\\torchvision\\models\\_utils.py:208: UserWarning: The parameter 'pretrained' is deprecated since 0.13 and may be removed in the future, please use 'weights' instead.\n",
      "  warnings.warn(\n",
      "c:\\Users\\Sinbad\\anaconda3\\envs\\sf-mask-detector\\Lib\\site-packages\\torchvision\\models\\_utils.py:223: UserWarning: Arguments other than a weight enum or `None` for 'weights' are deprecated since 0.13 and may be removed in the future. The current behavior is equivalent to passing `weights=MobileNet_V2_Weights.IMAGENET1K_V1`. You can also use `weights=MobileNet_V2_Weights.DEFAULT` to get the most up-to-date weights.\n",
      "  warnings.warn(msg)\n"
     ]
    },
    {
     "name": "stdout",
     "output_type": "stream",
     "text": [
      "Epoch 1/20, Train Loss: 0.3881, Train Accuracy: 82.17%, Train F1: 0.8225, Val Loss: 0.2423, Val Accuracy: 88.55%, Val F1: 0.8860, Time: 38.93s\n",
      "Epoch 2/20, Train Loss: 0.2418, Train Accuracy: 90.33%, Train F1: 0.9035, Val Loss: 0.2348, Val Accuracy: 89.39%, Val F1: 0.8945, Time: 38.43s\n",
      "Epoch 3/20, Train Loss: 0.1931, Train Accuracy: 91.46%, Train F1: 0.9148, Val Loss: 0.1964, Val Accuracy: 92.59%, Val F1: 0.9263, Time: 38.29s\n",
      "Epoch 4/20, Train Loss: 0.1987, Train Accuracy: 91.63%, Train F1: 0.9164, Val Loss: 0.2012, Val Accuracy: 90.57%, Val F1: 0.9064, Time: 39.06s\n",
      "Epoch 5/20, Train Loss: 0.1750, Train Accuracy: 92.94%, Train F1: 0.9295, Val Loss: 0.1808, Val Accuracy: 91.08%, Val F1: 0.9110, Time: 37.69s\n",
      "Epoch 6/20, Train Loss: 0.1451, Train Accuracy: 93.73%, Train F1: 0.9374, Val Loss: 0.1680, Val Accuracy: 92.42%, Val F1: 0.9247, Time: 38.54s\n",
      "Epoch 7/20, Train Loss: 0.1421, Train Accuracy: 94.79%, Train F1: 0.9479, Val Loss: 0.1625, Val Accuracy: 93.77%, Val F1: 0.9377, Time: 38.55s\n",
      "Epoch 8/20, Train Loss: 0.1367, Train Accuracy: 94.24%, Train F1: 0.9425, Val Loss: 0.1581, Val Accuracy: 92.76%, Val F1: 0.9277, Time: 39.11s\n",
      "Epoch 9/20, Train Loss: 0.1106, Train Accuracy: 95.75%, Train F1: 0.9576, Val Loss: 0.1698, Val Accuracy: 92.09%, Val F1: 0.9205, Time: 38.18s\n",
      "Epoch 10/20, Train Loss: 0.1228, Train Accuracy: 95.71%, Train F1: 0.9571, Val Loss: 0.1641, Val Accuracy: 93.10%, Val F1: 0.9313, Time: 38.95s\n",
      "Epoch 11/20, Train Loss: 0.1137, Train Accuracy: 95.58%, Train F1: 0.9559, Val Loss: 0.1511, Val Accuracy: 94.44%, Val F1: 0.9446, Time: 38.59s\n",
      "Epoch 12/20, Train Loss: 0.0916, Train Accuracy: 96.51%, Train F1: 0.9651, Val Loss: 0.1693, Val Accuracy: 93.94%, Val F1: 0.9396, Time: 38.52s\n",
      "Epoch 13/20, Train Loss: 0.0902, Train Accuracy: 96.59%, Train F1: 0.9660, Val Loss: 0.1313, Val Accuracy: 94.61%, Val F1: 0.9462, Time: 38.27s\n",
      "Epoch 14/20, Train Loss: 0.0959, Train Accuracy: 96.55%, Train F1: 0.9656, Val Loss: 0.1844, Val Accuracy: 93.27%, Val F1: 0.9330, Time: 38.81s\n",
      "Epoch 15/20, Train Loss: 0.0842, Train Accuracy: 97.43%, Train F1: 0.9744, Val Loss: 0.1519, Val Accuracy: 94.61%, Val F1: 0.9464, Time: 38.26s\n",
      "Epoch 16/20, Train Loss: 0.0763, Train Accuracy: 97.39%, Train F1: 0.9739, Val Loss: 0.1171, Val Accuracy: 94.95%, Val F1: 0.9497, Time: 38.98s\n",
      "Epoch 17/20, Train Loss: 0.0661, Train Accuracy: 97.52%, Train F1: 0.9752, Val Loss: 0.1727, Val Accuracy: 94.11%, Val F1: 0.9415, Time: 38.39s\n",
      "Epoch 18/20, Train Loss: 0.0718, Train Accuracy: 97.31%, Train F1: 0.9731, Val Loss: 0.1466, Val Accuracy: 93.94%, Val F1: 0.9395, Time: 38.52s\n",
      "Epoch 19/20, Train Loss: 0.0727, Train Accuracy: 96.80%, Train F1: 0.9680, Val Loss: 0.1793, Val Accuracy: 94.61%, Val F1: 0.9465, Time: 38.73s\n",
      "Epoch 20/20, Train Loss: 0.0723, Train Accuracy: 97.18%, Train F1: 0.9718, Val Loss: 0.1415, Val Accuracy: 95.45%, Val F1: 0.9547, Time: 38.72s\n",
      "Total training time: 924.90s\n",
      "Model weights saved to training/MobileNetV2_lr_0.0001_bs_32_aug_True_fold_5.pth\n",
      "New best model saved with accuracy: 95.45%\n",
      "\n",
      "Testing hyperparameters: {'batch_size': 32, 'learning_rate': 1e-05}\n",
      "\n",
      "Fold 1/5 for {'batch_size': 32, 'learning_rate': 1e-05}\n"
     ]
    },
    {
     "name": "stderr",
     "output_type": "stream",
     "text": [
      "c:\\Users\\Sinbad\\anaconda3\\envs\\sf-mask-detector\\Lib\\site-packages\\torchvision\\models\\_utils.py:208: UserWarning: The parameter 'pretrained' is deprecated since 0.13 and may be removed in the future, please use 'weights' instead.\n",
      "  warnings.warn(\n",
      "c:\\Users\\Sinbad\\anaconda3\\envs\\sf-mask-detector\\Lib\\site-packages\\torchvision\\models\\_utils.py:223: UserWarning: Arguments other than a weight enum or `None` for 'weights' are deprecated since 0.13 and may be removed in the future. The current behavior is equivalent to passing `weights=MobileNet_V2_Weights.IMAGENET1K_V1`. You can also use `weights=MobileNet_V2_Weights.DEFAULT` to get the most up-to-date weights.\n",
      "  warnings.warn(msg)\n"
     ]
    },
    {
     "name": "stdout",
     "output_type": "stream",
     "text": [
      "size of train_loader : 75, size of val_loader : 19\n",
      "Training MobileNetV2 for 20 epochs...\n",
      "Epoch 1/20, Train Loss: 0.6392, Train Accuracy: 63.95%, Train F1: 0.6320, Val Loss: 0.5102, Val Accuracy: 76.30%, Val F1: 0.7640, Time: 38.60s\n",
      "Epoch 2/20, Train Loss: 0.4676, Train Accuracy: 79.34%, Train F1: 0.7932, Val Loss: 0.4045, Val Accuracy: 81.34%, Val F1: 0.8138, Time: 38.64s\n",
      "Epoch 3/20, Train Loss: 0.3874, Train Accuracy: 84.60%, Train F1: 0.8457, Val Loss: 0.3485, Val Accuracy: 85.71%, Val F1: 0.8571, Time: 38.58s\n",
      "Epoch 4/20, Train Loss: 0.3363, Train Accuracy: 86.16%, Train F1: 0.8616, Val Loss: 0.2939, Val Accuracy: 88.40%, Val F1: 0.8840, Time: 38.68s\n",
      "Epoch 5/20, Train Loss: 0.3077, Train Accuracy: 87.17%, Train F1: 0.8717, Val Loss: 0.2821, Val Accuracy: 89.24%, Val F1: 0.8928, Time: 39.24s\n",
      "Epoch 6/20, Train Loss: 0.2819, Train Accuracy: 88.18%, Train F1: 0.8818, Val Loss: 0.2645, Val Accuracy: 89.92%, Val F1: 0.8994, Time: 38.90s\n",
      "Epoch 7/20, Train Loss: 0.2667, Train Accuracy: 88.68%, Train F1: 0.8870, Val Loss: 0.2205, Val Accuracy: 92.27%, Val F1: 0.9229, Time: 38.38s\n",
      "Epoch 8/20, Train Loss: 0.2469, Train Accuracy: 89.95%, Train F1: 0.8994, Val Loss: 0.2470, Val Accuracy: 90.25%, Val F1: 0.9026, Time: 38.53s\n",
      "Epoch 9/20, Train Loss: 0.2344, Train Accuracy: 90.28%, Train F1: 0.9029, Val Loss: 0.2419, Val Accuracy: 92.10%, Val F1: 0.9211, Time: 37.81s\n",
      "Epoch 10/20, Train Loss: 0.2237, Train Accuracy: 91.17%, Train F1: 0.9117, Val Loss: 0.2170, Val Accuracy: 91.93%, Val F1: 0.9194, Time: 39.24s\n",
      "Epoch 11/20, Train Loss: 0.2137, Train Accuracy: 91.71%, Train F1: 0.9172, Val Loss: 0.2186, Val Accuracy: 92.10%, Val F1: 0.9212, Time: 38.39s\n",
      "Epoch 12/20, Train Loss: 0.1998, Train Accuracy: 91.38%, Train F1: 0.9138, Val Loss: 0.2065, Val Accuracy: 91.43%, Val F1: 0.9144, Time: 38.33s\n",
      "Epoch 13/20, Train Loss: 0.1983, Train Accuracy: 91.96%, Train F1: 0.9197, Val Loss: 0.2092, Val Accuracy: 91.93%, Val F1: 0.9193, Time: 38.52s\n",
      "Epoch 14/20, Train Loss: 0.1829, Train Accuracy: 93.06%, Train F1: 0.9306, Val Loss: 0.1990, Val Accuracy: 92.61%, Val F1: 0.9261, Time: 38.25s\n",
      "Epoch 15/20, Train Loss: 0.1928, Train Accuracy: 92.01%, Train F1: 0.9201, Val Loss: 0.2162, Val Accuracy: 92.44%, Val F1: 0.9246, Time: 38.12s\n",
      "Epoch 16/20, Train Loss: 0.1713, Train Accuracy: 93.23%, Train F1: 0.9323, Val Loss: 0.2079, Val Accuracy: 91.60%, Val F1: 0.9163, Time: 38.27s\n",
      "Epoch 17/20, Train Loss: 0.1665, Train Accuracy: 93.77%, Train F1: 0.9378, Val Loss: 0.2089, Val Accuracy: 91.93%, Val F1: 0.9196, Time: 38.49s\n",
      "Epoch 18/20, Train Loss: 0.1649, Train Accuracy: 93.14%, Train F1: 0.9314, Val Loss: 0.2121, Val Accuracy: 91.76%, Val F1: 0.9178, Time: 38.46s\n",
      "Epoch 19/20, Train Loss: 0.1654, Train Accuracy: 93.86%, Train F1: 0.9386, Val Loss: 0.1968, Val Accuracy: 92.44%, Val F1: 0.9245, Time: 38.08s\n",
      "Epoch 20/20, Train Loss: 0.1596, Train Accuracy: 93.90%, Train F1: 0.9391, Val Loss: 0.1907, Val Accuracy: 92.61%, Val F1: 0.9264, Time: 38.34s\n",
      "Total training time: 922.93s\n",
      "Model weights saved to training/MobileNetV2_lr_1e-05_bs_32_aug_True_fold_1.pth\n",
      "New best model saved with accuracy: 92.61%\n",
      "\n",
      "Fold 2/5 for {'batch_size': 32, 'learning_rate': 1e-05}\n"
     ]
    },
    {
     "name": "stderr",
     "output_type": "stream",
     "text": [
      "c:\\Users\\Sinbad\\anaconda3\\envs\\sf-mask-detector\\Lib\\site-packages\\torchvision\\models\\_utils.py:208: UserWarning: The parameter 'pretrained' is deprecated since 0.13 and may be removed in the future, please use 'weights' instead.\n",
      "  warnings.warn(\n",
      "c:\\Users\\Sinbad\\anaconda3\\envs\\sf-mask-detector\\Lib\\site-packages\\torchvision\\models\\_utils.py:223: UserWarning: Arguments other than a weight enum or `None` for 'weights' are deprecated since 0.13 and may be removed in the future. The current behavior is equivalent to passing `weights=MobileNet_V2_Weights.IMAGENET1K_V1`. You can also use `weights=MobileNet_V2_Weights.DEFAULT` to get the most up-to-date weights.\n",
      "  warnings.warn(msg)\n"
     ]
    },
    {
     "name": "stdout",
     "output_type": "stream",
     "text": [
      "size of train_loader : 75, size of val_loader : 19\n",
      "Training MobileNetV2 for 20 epochs...\n",
      "Epoch 1/20, Train Loss: 0.5581, Train Accuracy: 72.49%, Train F1: 0.7239, Val Loss: 0.4674, Val Accuracy: 80.84%, Val F1: 0.8085, Time: 38.14s\n",
      "Epoch 2/20, Train Loss: 0.4334, Train Accuracy: 81.03%, Train F1: 0.8087, Val Loss: 0.3730, Val Accuracy: 85.55%, Val F1: 0.8543, Time: 38.33s\n",
      "Epoch 3/20, Train Loss: 0.3653, Train Accuracy: 85.53%, Train F1: 0.8550, Val Loss: 0.3118, Val Accuracy: 88.07%, Val F1: 0.8803, Time: 37.73s\n",
      "Epoch 4/20, Train Loss: 0.3115, Train Accuracy: 87.84%, Train F1: 0.8785, Val Loss: 0.2866, Val Accuracy: 88.57%, Val F1: 0.8858, Time: 39.01s\n",
      "Epoch 5/20, Train Loss: 0.2823, Train Accuracy: 89.15%, Train F1: 0.8915, Val Loss: 0.2797, Val Accuracy: 87.39%, Val F1: 0.8742, Time: 38.31s\n",
      "Epoch 6/20, Train Loss: 0.2806, Train Accuracy: 88.64%, Train F1: 0.8865, Val Loss: 0.2456, Val Accuracy: 90.25%, Val F1: 0.9026, Time: 38.20s\n",
      "Epoch 7/20, Train Loss: 0.2548, Train Accuracy: 89.36%, Train F1: 0.8936, Val Loss: 0.2584, Val Accuracy: 88.91%, Val F1: 0.8887, Time: 38.30s\n",
      "Epoch 8/20, Train Loss: 0.2382, Train Accuracy: 90.28%, Train F1: 0.9029, Val Loss: 0.2125, Val Accuracy: 90.76%, Val F1: 0.9075, Time: 38.32s\n",
      "Epoch 9/20, Train Loss: 0.2288, Train Accuracy: 90.79%, Train F1: 0.9080, Val Loss: 0.2282, Val Accuracy: 90.08%, Val F1: 0.9007, Time: 38.07s\n",
      "Epoch 10/20, Train Loss: 0.2090, Train Accuracy: 92.09%, Train F1: 0.9210, Val Loss: 0.1928, Val Accuracy: 92.10%, Val F1: 0.9209, Time: 38.55s\n",
      "Epoch 11/20, Train Loss: 0.2082, Train Accuracy: 91.42%, Train F1: 0.9143, Val Loss: 0.2125, Val Accuracy: 91.93%, Val F1: 0.9194, Time: 38.19s\n",
      "Epoch 12/20, Train Loss: 0.1923, Train Accuracy: 91.96%, Train F1: 0.9197, Val Loss: 0.2078, Val Accuracy: 91.43%, Val F1: 0.9143, Time: 38.21s\n",
      "Epoch 13/20, Train Loss: 0.1870, Train Accuracy: 91.92%, Train F1: 0.9194, Val Loss: 0.1814, Val Accuracy: 92.44%, Val F1: 0.9245, Time: 38.21s\n",
      "Epoch 14/20, Train Loss: 0.1880, Train Accuracy: 92.34%, Train F1: 0.9236, Val Loss: 0.1714, Val Accuracy: 93.28%, Val F1: 0.9327, Time: 38.00s\n",
      "Epoch 15/20, Train Loss: 0.1768, Train Accuracy: 92.60%, Train F1: 0.9261, Val Loss: 0.1814, Val Accuracy: 92.61%, Val F1: 0.9259, Time: 38.46s\n",
      "Epoch 16/20, Train Loss: 0.1686, Train Accuracy: 93.06%, Train F1: 0.9306, Val Loss: 0.1767, Val Accuracy: 92.77%, Val F1: 0.9277, Time: 38.27s\n",
      "Epoch 17/20, Train Loss: 0.1706, Train Accuracy: 93.10%, Train F1: 0.9311, Val Loss: 0.1673, Val Accuracy: 94.62%, Val F1: 0.9463, Time: 38.16s\n",
      "Epoch 18/20, Train Loss: 0.1617, Train Accuracy: 93.90%, Train F1: 0.9391, Val Loss: 0.1754, Val Accuracy: 93.28%, Val F1: 0.9329, Time: 38.40s\n",
      "Epoch 19/20, Train Loss: 0.1547, Train Accuracy: 94.03%, Train F1: 0.9403, Val Loss: 0.1737, Val Accuracy: 93.45%, Val F1: 0.9346, Time: 38.44s\n",
      "Epoch 20/20, Train Loss: 0.1608, Train Accuracy: 93.48%, Train F1: 0.9349, Val Loss: 0.1622, Val Accuracy: 93.28%, Val F1: 0.9329, Time: 38.70s\n",
      "Total training time: 919.26s\n",
      "Model weights saved to training/MobileNetV2_lr_1e-05_bs_32_aug_True_fold_2.pth\n",
      "New best model saved with accuracy: 93.28%\n",
      "\n",
      "Fold 3/5 for {'batch_size': 32, 'learning_rate': 1e-05}\n"
     ]
    },
    {
     "name": "stderr",
     "output_type": "stream",
     "text": [
      "c:\\Users\\Sinbad\\anaconda3\\envs\\sf-mask-detector\\Lib\\site-packages\\torchvision\\models\\_utils.py:208: UserWarning: The parameter 'pretrained' is deprecated since 0.13 and may be removed in the future, please use 'weights' instead.\n",
      "  warnings.warn(\n",
      "c:\\Users\\Sinbad\\anaconda3\\envs\\sf-mask-detector\\Lib\\site-packages\\torchvision\\models\\_utils.py:223: UserWarning: Arguments other than a weight enum or `None` for 'weights' are deprecated since 0.13 and may be removed in the future. The current behavior is equivalent to passing `weights=MobileNet_V2_Weights.IMAGENET1K_V1`. You can also use `weights=MobileNet_V2_Weights.DEFAULT` to get the most up-to-date weights.\n",
      "  warnings.warn(msg)\n"
     ]
    },
    {
     "name": "stdout",
     "output_type": "stream",
     "text": [
      "size of train_loader : 75, size of val_loader : 19\n",
      "Training MobileNetV2 for 20 epochs...\n",
      "Epoch 1/20, Train Loss: 0.6259, Train Accuracy: 64.84%, Train F1: 0.6440, Val Loss: 0.4939, Val Accuracy: 77.78%, Val F1: 0.7778, Time: 38.15s\n",
      "Epoch 2/20, Train Loss: 0.4601, Train Accuracy: 79.23%, Train F1: 0.7914, Val Loss: 0.4010, Val Accuracy: 83.67%, Val F1: 0.8367, Time: 38.41s\n",
      "Epoch 3/20, Train Loss: 0.3870, Train Accuracy: 83.98%, Train F1: 0.8392, Val Loss: 0.3411, Val Accuracy: 87.21%, Val F1: 0.8723, Time: 38.17s\n",
      "Epoch 4/20, Train Loss: 0.3271, Train Accuracy: 87.05%, Train F1: 0.8705, Val Loss: 0.3066, Val Accuracy: 88.05%, Val F1: 0.8808, Time: 38.53s\n",
      "Epoch 5/20, Train Loss: 0.2951, Train Accuracy: 88.44%, Train F1: 0.8842, Val Loss: 0.2728, Val Accuracy: 89.56%, Val F1: 0.8959, Time: 38.23s\n",
      "Epoch 6/20, Train Loss: 0.2782, Train Accuracy: 88.69%, Train F1: 0.8868, Val Loss: 0.2602, Val Accuracy: 88.72%, Val F1: 0.8874, Time: 38.82s\n",
      "Epoch 7/20, Train Loss: 0.2647, Train Accuracy: 89.11%, Train F1: 0.8912, Val Loss: 0.2448, Val Accuracy: 88.72%, Val F1: 0.8875, Time: 38.11s\n",
      "Epoch 8/20, Train Loss: 0.2512, Train Accuracy: 89.61%, Train F1: 0.8961, Val Loss: 0.2530, Val Accuracy: 90.24%, Val F1: 0.9026, Time: 38.57s\n",
      "Epoch 9/20, Train Loss: 0.2292, Train Accuracy: 90.58%, Train F1: 0.9059, Val Loss: 0.2341, Val Accuracy: 90.57%, Val F1: 0.9060, Time: 38.41s\n",
      "Epoch 10/20, Train Loss: 0.2191, Train Accuracy: 91.25%, Train F1: 0.9127, Val Loss: 0.2351, Val Accuracy: 90.24%, Val F1: 0.9029, Time: 38.38s\n",
      "Epoch 11/20, Train Loss: 0.2158, Train Accuracy: 91.21%, Train F1: 0.9120, Val Loss: 0.2295, Val Accuracy: 91.25%, Val F1: 0.9125, Time: 38.16s\n",
      "Epoch 12/20, Train Loss: 0.2043, Train Accuracy: 92.22%, Train F1: 0.9224, Val Loss: 0.1945, Val Accuracy: 92.42%, Val F1: 0.9245, Time: 38.18s\n",
      "Epoch 13/20, Train Loss: 0.1915, Train Accuracy: 92.18%, Train F1: 0.9218, Val Loss: 0.1909, Val Accuracy: 92.93%, Val F1: 0.9294, Time: 38.29s\n",
      "Epoch 14/20, Train Loss: 0.1958, Train Accuracy: 92.05%, Train F1: 0.9206, Val Loss: 0.2100, Val Accuracy: 91.08%, Val F1: 0.9110, Time: 38.32s\n",
      "Epoch 15/20, Train Loss: 0.1756, Train Accuracy: 93.27%, Train F1: 0.9328, Val Loss: 0.1925, Val Accuracy: 91.58%, Val F1: 0.9159, Time: 38.58s\n",
      "Epoch 16/20, Train Loss: 0.1825, Train Accuracy: 92.98%, Train F1: 0.9298, Val Loss: 0.2016, Val Accuracy: 91.58%, Val F1: 0.9159, Time: 38.42s\n",
      "Epoch 17/20, Train Loss: 0.1864, Train Accuracy: 93.02%, Train F1: 0.9302, Val Loss: 0.1765, Val Accuracy: 92.76%, Val F1: 0.9278, Time: 38.58s\n",
      "Epoch 18/20, Train Loss: 0.1617, Train Accuracy: 93.31%, Train F1: 0.9332, Val Loss: 0.1772, Val Accuracy: 92.42%, Val F1: 0.9245, Time: 38.28s\n",
      "Epoch 19/20, Train Loss: 0.1730, Train Accuracy: 93.02%, Train F1: 0.9303, Val Loss: 0.1819, Val Accuracy: 91.58%, Val F1: 0.9159, Time: 38.52s\n",
      "Epoch 20/20, Train Loss: 0.1626, Train Accuracy: 93.27%, Train F1: 0.9328, Val Loss: 0.1744, Val Accuracy: 92.76%, Val F1: 0.9278, Time: 38.17s\n",
      "Total training time: 919.44s\n",
      "Model weights saved to training/MobileNetV2_lr_1e-05_bs_32_aug_True_fold_3.pth\n",
      "\n",
      "Fold 4/5 for {'batch_size': 32, 'learning_rate': 1e-05}\n",
      "size of train_loader : 75, size of val_loader : 19\n",
      "Training MobileNetV2 for 20 epochs...\n"
     ]
    },
    {
     "name": "stderr",
     "output_type": "stream",
     "text": [
      "c:\\Users\\Sinbad\\anaconda3\\envs\\sf-mask-detector\\Lib\\site-packages\\torchvision\\models\\_utils.py:208: UserWarning: The parameter 'pretrained' is deprecated since 0.13 and may be removed in the future, please use 'weights' instead.\n",
      "  warnings.warn(\n",
      "c:\\Users\\Sinbad\\anaconda3\\envs\\sf-mask-detector\\Lib\\site-packages\\torchvision\\models\\_utils.py:223: UserWarning: Arguments other than a weight enum or `None` for 'weights' are deprecated since 0.13 and may be removed in the future. The current behavior is equivalent to passing `weights=MobileNet_V2_Weights.IMAGENET1K_V1`. You can also use `weights=MobileNet_V2_Weights.DEFAULT` to get the most up-to-date weights.\n",
      "  warnings.warn(msg)\n"
     ]
    },
    {
     "name": "stdout",
     "output_type": "stream",
     "text": [
      "Epoch 1/20, Train Loss: 0.5695, Train Accuracy: 70.90%, Train F1: 0.7102, Val Loss: 0.4652, Val Accuracy: 80.13%, Val F1: 0.7997, Time: 38.35s\n",
      "Epoch 2/20, Train Loss: 0.4450, Train Accuracy: 80.49%, Train F1: 0.8042, Val Loss: 0.3750, Val Accuracy: 84.18%, Val F1: 0.8396, Time: 38.21s\n",
      "Epoch 3/20, Train Loss: 0.3722, Train Accuracy: 84.48%, Train F1: 0.8445, Val Loss: 0.3225, Val Accuracy: 87.88%, Val F1: 0.8782, Time: 38.36s\n",
      "Epoch 4/20, Train Loss: 0.3233, Train Accuracy: 86.96%, Train F1: 0.8694, Val Loss: 0.2801, Val Accuracy: 89.73%, Val F1: 0.8971, Time: 38.18s\n",
      "Epoch 5/20, Train Loss: 0.2980, Train Accuracy: 87.85%, Train F1: 0.8784, Val Loss: 0.2688, Val Accuracy: 90.40%, Val F1: 0.9034, Time: 38.26s\n",
      "Epoch 6/20, Train Loss: 0.2762, Train Accuracy: 88.23%, Train F1: 0.8822, Val Loss: 0.2504, Val Accuracy: 90.74%, Val F1: 0.9070, Time: 38.18s\n",
      "Epoch 7/20, Train Loss: 0.2663, Train Accuracy: 89.74%, Train F1: 0.8974, Val Loss: 0.2468, Val Accuracy: 89.39%, Val F1: 0.8934, Time: 38.40s\n",
      "Epoch 8/20, Train Loss: 0.2517, Train Accuracy: 89.23%, Train F1: 0.8925, Val Loss: 0.2345, Val Accuracy: 89.06%, Val F1: 0.8906, Time: 38.30s\n",
      "Epoch 9/20, Train Loss: 0.2255, Train Accuracy: 90.37%, Train F1: 0.9037, Val Loss: 0.2163, Val Accuracy: 90.57%, Val F1: 0.9056, Time: 38.53s\n",
      "Epoch 10/20, Train Loss: 0.2243, Train Accuracy: 91.04%, Train F1: 0.9105, Val Loss: 0.2179, Val Accuracy: 90.74%, Val F1: 0.9074, Time: 37.90s\n",
      "Epoch 11/20, Train Loss: 0.2057, Train Accuracy: 91.63%, Train F1: 0.9163, Val Loss: 0.1952, Val Accuracy: 91.41%, Val F1: 0.9140, Time: 38.39s\n",
      "Epoch 12/20, Train Loss: 0.2027, Train Accuracy: 91.55%, Train F1: 0.9154, Val Loss: 0.2010, Val Accuracy: 92.26%, Val F1: 0.9224, Time: 38.43s\n",
      "Epoch 13/20, Train Loss: 0.2024, Train Accuracy: 91.59%, Train F1: 0.9159, Val Loss: 0.1869, Val Accuracy: 93.27%, Val F1: 0.9325, Time: 38.42s\n",
      "Epoch 14/20, Train Loss: 0.1831, Train Accuracy: 92.85%, Train F1: 0.9284, Val Loss: 0.1926, Val Accuracy: 92.42%, Val F1: 0.9240, Time: 38.23s\n",
      "Epoch 15/20, Train Loss: 0.1859, Train Accuracy: 92.26%, Train F1: 0.9226, Val Loss: 0.2036, Val Accuracy: 91.58%, Val F1: 0.9158, Time: 38.67s\n",
      "Epoch 16/20, Train Loss: 0.1931, Train Accuracy: 91.84%, Train F1: 0.9185, Val Loss: 0.1905, Val Accuracy: 92.76%, Val F1: 0.9276, Time: 38.06s\n",
      "Epoch 17/20, Train Loss: 0.1706, Train Accuracy: 93.73%, Train F1: 0.9374, Val Loss: 0.1820, Val Accuracy: 92.93%, Val F1: 0.9292, Time: 38.88s\n",
      "Epoch 18/20, Train Loss: 0.1681, Train Accuracy: 93.48%, Train F1: 0.9348, Val Loss: 0.1581, Val Accuracy: 94.11%, Val F1: 0.9411, Time: 39.61s\n",
      "Epoch 19/20, Train Loss: 0.1595, Train Accuracy: 93.52%, Train F1: 0.9353, Val Loss: 0.1777, Val Accuracy: 92.93%, Val F1: 0.9293, Time: 38.58s\n",
      "Epoch 20/20, Train Loss: 0.1652, Train Accuracy: 93.48%, Train F1: 0.9349, Val Loss: 0.1894, Val Accuracy: 92.09%, Val F1: 0.9206, Time: 38.13s\n",
      "Total training time: 920.48s\n",
      "Model weights saved to training/MobileNetV2_lr_1e-05_bs_32_aug_True_fold_4.pth\n",
      "\n",
      "Fold 5/5 for {'batch_size': 32, 'learning_rate': 1e-05}\n",
      "size of train_loader : 75, size of val_loader : 19\n",
      "Training MobileNetV2 for 20 epochs...\n"
     ]
    },
    {
     "name": "stderr",
     "output_type": "stream",
     "text": [
      "c:\\Users\\Sinbad\\anaconda3\\envs\\sf-mask-detector\\Lib\\site-packages\\torchvision\\models\\_utils.py:208: UserWarning: The parameter 'pretrained' is deprecated since 0.13 and may be removed in the future, please use 'weights' instead.\n",
      "  warnings.warn(\n",
      "c:\\Users\\Sinbad\\anaconda3\\envs\\sf-mask-detector\\Lib\\site-packages\\torchvision\\models\\_utils.py:223: UserWarning: Arguments other than a weight enum or `None` for 'weights' are deprecated since 0.13 and may be removed in the future. The current behavior is equivalent to passing `weights=MobileNet_V2_Weights.IMAGENET1K_V1`. You can also use `weights=MobileNet_V2_Weights.DEFAULT` to get the most up-to-date weights.\n",
      "  warnings.warn(msg)\n"
     ]
    },
    {
     "name": "stdout",
     "output_type": "stream",
     "text": [
      "Epoch 1/20, Train Loss: 0.5699, Train Accuracy: 70.77%, Train F1: 0.7090, Val Loss: 0.4945, Val Accuracy: 77.44%, Val F1: 0.7729, Time: 38.56s\n",
      "Epoch 2/20, Train Loss: 0.4484, Train Accuracy: 80.40%, Train F1: 0.8026, Val Loss: 0.4137, Val Accuracy: 81.14%, Val F1: 0.8114, Time: 38.45s\n",
      "Epoch 3/20, Train Loss: 0.3731, Train Accuracy: 84.31%, Train F1: 0.8427, Val Loss: 0.3466, Val Accuracy: 85.86%, Val F1: 0.8579, Time: 38.38s\n",
      "Epoch 4/20, Train Loss: 0.3340, Train Accuracy: 87.17%, Train F1: 0.8716, Val Loss: 0.3181, Val Accuracy: 87.04%, Val F1: 0.8706, Time: 38.72s\n",
      "Epoch 5/20, Train Loss: 0.2967, Train Accuracy: 87.85%, Train F1: 0.8785, Val Loss: 0.2744, Val Accuracy: 89.23%, Val F1: 0.8927, Time: 38.16s\n",
      "Epoch 6/20, Train Loss: 0.2762, Train Accuracy: 88.52%, Train F1: 0.8851, Val Loss: 0.2664, Val Accuracy: 89.90%, Val F1: 0.8994, Time: 38.16s\n",
      "Epoch 7/20, Train Loss: 0.2613, Train Accuracy: 89.28%, Train F1: 0.8928, Val Loss: 0.2483, Val Accuracy: 89.73%, Val F1: 0.8977, Time: 38.55s\n",
      "Epoch 8/20, Train Loss: 0.2320, Train Accuracy: 91.13%, Train F1: 0.9113, Val Loss: 0.2392, Val Accuracy: 91.08%, Val F1: 0.9110, Time: 38.51s\n",
      "Epoch 9/20, Train Loss: 0.2405, Train Accuracy: 90.03%, Train F1: 0.9002, Val Loss: 0.2387, Val Accuracy: 90.74%, Val F1: 0.9076, Time: 38.40s\n",
      "Epoch 10/20, Train Loss: 0.2200, Train Accuracy: 90.87%, Train F1: 0.9087, Val Loss: 0.2110, Val Accuracy: 90.07%, Val F1: 0.9009, Time: 38.47s\n",
      "Epoch 11/20, Train Loss: 0.2214, Train Accuracy: 91.17%, Train F1: 0.9118, Val Loss: 0.2218, Val Accuracy: 90.07%, Val F1: 0.9013, Time: 38.61s\n",
      "Epoch 12/20, Train Loss: 0.2015, Train Accuracy: 91.97%, Train F1: 0.9198, Val Loss: 0.2158, Val Accuracy: 90.40%, Val F1: 0.9041, Time: 38.23s\n",
      "Epoch 13/20, Train Loss: 0.1931, Train Accuracy: 92.22%, Train F1: 0.9223, Val Loss: 0.1820, Val Accuracy: 93.27%, Val F1: 0.9328, Time: 38.77s\n",
      "Epoch 14/20, Train Loss: 0.1988, Train Accuracy: 92.18%, Train F1: 0.9218, Val Loss: 0.2042, Val Accuracy: 91.25%, Val F1: 0.9130, Time: 38.50s\n",
      "Epoch 15/20, Train Loss: 0.1846, Train Accuracy: 92.51%, Train F1: 0.9252, Val Loss: 0.1818, Val Accuracy: 92.42%, Val F1: 0.9245, Time: 38.88s\n",
      "Epoch 16/20, Train Loss: 0.1937, Train Accuracy: 91.97%, Train F1: 0.9197, Val Loss: 0.1839, Val Accuracy: 91.41%, Val F1: 0.9145, Time: 38.20s\n",
      "Epoch 17/20, Train Loss: 0.1740, Train Accuracy: 93.52%, Train F1: 0.9354, Val Loss: 0.1638, Val Accuracy: 93.60%, Val F1: 0.9362, Time: 39.29s\n",
      "Epoch 18/20, Train Loss: 0.1745, Train Accuracy: 93.06%, Train F1: 0.9307, Val Loss: 0.1906, Val Accuracy: 91.75%, Val F1: 0.9177, Time: 38.43s\n",
      "Epoch 19/20, Train Loss: 0.1660, Train Accuracy: 93.44%, Train F1: 0.9345, Val Loss: 0.1717, Val Accuracy: 93.77%, Val F1: 0.9377, Time: 38.60s\n",
      "Epoch 20/20, Train Loss: 0.1644, Train Accuracy: 93.36%, Train F1: 0.9337, Val Loss: 0.2016, Val Accuracy: 91.41%, Val F1: 0.9143, Time: 38.29s\n",
      "Total training time: 923.82s\n",
      "Model weights saved to training/MobileNetV2_lr_1e-05_bs_32_aug_True_fold_5.pth\n"
     ]
    }
   ],
   "source": [
    "# Perform K-fold cross-validation with hyperparameter tuning\n",
    "# Get current date and time\n",
    "training_time = datetime.datetime.now().strftime(\"%Y-%m-%d %H:%M:%S\")\n",
    "time_started = training_time.replace(\" \", \"_\").replace(\":\", \"-\")\n",
    "\n",
    "start_time = time.time()\n",
    "\n",
    "kfold_results = kfold_with_hyperparam_tuning(\n",
    "    model_class=model_class,\n",
    "    original_dataset=train_dataset,\n",
    "    dataset=train_subset,\n",
    "    criterion=criterion,\n",
    "    optimizer_class=optimizer,\n",
    "    param_grid=param_grid,\n",
    "    augment_strategies=augment_strategies,\n",
    "    k_folds=k_folds,\n",
    "    epochs=epochs,\n",
    "    device=device,\n",
    "    results_file = results_file,\n",
    ")\n",
    "\n",
    "end_time = time.time()\n",
    "all_HT_training_time = end_time - start_time\n",
    "\n"
   ]
  },
  {
   "cell_type": "code",
   "execution_count": 29,
   "metadata": {},
   "outputs": [
    {
     "data": {
      "text/plain": [
       "[{'all_total_time_kfold': 3126.6639420986176,\n",
       "  'params': {'batch_size': 16, 'learning_rate': 0.0001},\n",
       "  'augment': True,\n",
       "  'fold_results': [{'fold': 1,\n",
       "    'model_save_path': 'training/MobileNetV2_lr_0.0001_bs_16_aug_True_fold_1.pth',\n",
       "    'total_time_training': 510.82603883743286,\n",
       "    'val_accuracy': 92.60504201680672,\n",
       "    'training_metrics': [{'epoch': 1,\n",
       "      'train_loss': 0.370414090936616,\n",
       "      'val_loss': 0.23258713574001663,\n",
       "      'train_accuracy': 83.92932267564157,\n",
       "      'val_accuracy': 90.08403361344538,\n",
       "      'train_f1': 0.83912017324483,\n",
       "      'val_f1': 0.9005532320407874,\n",
       "      'time': 55.6391224861145,\n",
       "      'learning_rate': 0.0001},\n",
       "     {'epoch': 2,\n",
       "      'train_loss': 0.23169244203291484,\n",
       "      'val_loss': 0.22163171845635302,\n",
       "      'train_accuracy': 90.8287757677745,\n",
       "      'val_accuracy': 90.92436974789916,\n",
       "      'train_f1': 0.9084682032399402,\n",
       "      'val_f1': 0.90943920234637,\n",
       "      'time': 40.60197997093201,\n",
       "      'learning_rate': 0.0001},\n",
       "     {'epoch': 3,\n",
       "      'train_loss': 0.2106746233649702,\n",
       "      'val_loss': 0.21652173927347912,\n",
       "      'train_accuracy': 92.04880100967607,\n",
       "      'val_accuracy': 91.09243697478992,\n",
       "      'train_f1': 0.9206566057410611,\n",
       "      'val_f1': 0.9110004052837524,\n",
       "      'time': 40.95549511909485,\n",
       "      'learning_rate': 0.0001},\n",
       "     {'epoch': 4,\n",
       "      'train_loss': 0.1913955501536995,\n",
       "      'val_loss': 0.24080301130092457,\n",
       "      'train_accuracy': 92.21708035338662,\n",
       "      'val_accuracy': 91.09243697478992,\n",
       "      'train_f1': 0.9223588454803471,\n",
       "      'val_f1': 0.9110941659021969,\n",
       "      'time': 41.34557342529297,\n",
       "      'learning_rate': 0.0001},\n",
       "     {'epoch': 5,\n",
       "      'train_loss': 0.16769821450564285,\n",
       "      'val_loss': 0.17574784632674173,\n",
       "      'train_accuracy': 92.9322675641565,\n",
       "      'val_accuracy': 91.76470588235294,\n",
       "      'train_f1': 0.9294689634135607,\n",
       "      'val_f1': 0.917572194476595,\n",
       "      'time': 40.338465452194214,\n",
       "      'learning_rate': 0.0001},\n",
       "     {'epoch': 6,\n",
       "      'train_loss': 0.15275003462904851,\n",
       "      'val_loss': 0.19686808603766717,\n",
       "      'train_accuracy': 93.73159444678166,\n",
       "      'val_accuracy': 92.77310924369748,\n",
       "      'train_f1': 0.9374161024269839,\n",
       "      'val_f1': 0.9272459305400482,\n",
       "      'time': 41.37233781814575,\n",
       "      'learning_rate': 0.0001},\n",
       "     {'epoch': 7,\n",
       "      'train_loss': 0.14471565898907865,\n",
       "      'val_loss': 0.19939190461790482,\n",
       "      'train_accuracy': 94.53092132940681,\n",
       "      'val_accuracy': 92.60504201680672,\n",
       "      'train_f1': 0.9453366688657598,\n",
       "      'val_f1': 0.9263404185203494,\n",
       "      'time': 40.958882093429565,\n",
       "      'learning_rate': 0.0001},\n",
       "     {'epoch': 8,\n",
       "      'train_loss': 0.14047807865719866,\n",
       "      'val_loss': 0.22993143290085227,\n",
       "      'train_accuracy': 94.44678165755154,\n",
       "      'val_accuracy': 90.92436974789916,\n",
       "      'train_f1': 0.944553531461311,\n",
       "      'val_f1': 0.9093458791692732,\n",
       "      'time': 39.72771239280701,\n",
       "      'learning_rate': 0.0001},\n",
       "     {'epoch': 9,\n",
       "      'train_loss': 0.12606484969240306,\n",
       "      'val_loss': 0.17961424503990106,\n",
       "      'train_accuracy': 94.95161968868321,\n",
       "      'val_accuracy': 93.10924369747899,\n",
       "      'train_f1': 0.9495995836853067,\n",
       "      'val_f1': 0.9311124667874562,\n",
       "      'time': 41.579182863235474,\n",
       "      'learning_rate': 0.0001},\n",
       "     {'epoch': 10,\n",
       "      'train_loss': 0.10811335965365972,\n",
       "      'val_loss': 0.20958918823223366,\n",
       "      'train_accuracy': 96.17164493058478,\n",
       "      'val_accuracy': 92.60504201680672,\n",
       "      'train_f1': 0.9617561859120612,\n",
       "      'val_f1': 0.9257565773337959,\n",
       "      'time': 39.055084228515625,\n",
       "      'learning_rate': 0.0001}]},\n",
       "   {'fold': 2,\n",
       "    'model_save_path': 'training/MobileNetV2_lr_0.0001_bs_16_aug_True_fold_2.pth',\n",
       "    'total_time_training': 568.9834082126617,\n",
       "    'val_accuracy': 94.11764705882354,\n",
       "    'training_metrics': [{'epoch': 1,\n",
       "      'train_loss': 0.3578117549319395,\n",
       "      'val_loss': 0.23773448360397628,\n",
       "      'train_accuracy': 84.22381152713504,\n",
       "      'val_accuracy': 89.91596638655462,\n",
       "      'train_f1': 0.8421606271225389,\n",
       "      'val_f1': 0.8992827582859014,\n",
       "      'time': 39.75424361228943,\n",
       "      'learning_rate': 0.0001},\n",
       "     {'epoch': 2,\n",
       "      'train_loss': 0.2504869553216752,\n",
       "      'val_loss': 0.210161103646418,\n",
       "      'train_accuracy': 90.11358855700463,\n",
       "      'val_accuracy': 90.75630252100841,\n",
       "      'train_f1': 0.9014630414250575,\n",
       "      'val_f1': 0.9076927613150524,\n",
       "      'time': 39.201951026916504,\n",
       "      'learning_rate': 0.0001},\n",
       "     {'epoch': 3,\n",
       "      'train_loss': 0.2055230679603031,\n",
       "      'val_loss': 0.19287676785729432,\n",
       "      'train_accuracy': 91.75431215818259,\n",
       "      'val_accuracy': 93.27731092436974,\n",
       "      'train_f1': 0.9177878785401005,\n",
       "      'val_f1': 0.9329230148320049,\n",
       "      'time': 38.87878704071045,\n",
       "      'learning_rate': 0.0001},\n",
       "     {'epoch': 4,\n",
       "      'train_loss': 0.21193482521796386,\n",
       "      'val_loss': 0.1597858065445172,\n",
       "      'train_accuracy': 91.4598233066891,\n",
       "      'val_accuracy': 92.94117647058823,\n",
       "      'train_f1': 0.9148387803635007,\n",
       "      'val_f1': 0.9296084342204955,\n",
       "      'time': 39.11529612541199,\n",
       "      'learning_rate': 0.0001},\n",
       "     {'epoch': 5,\n",
       "      'train_loss': 0.18004612759655755,\n",
       "      'val_loss': 0.16864815163181016,\n",
       "      'train_accuracy': 92.84812789230122,\n",
       "      'val_accuracy': 93.10924369747899,\n",
       "      'train_f1': 0.9286409023049057,\n",
       "      'val_f1': 0.9313233797917995,\n",
       "      'time': 39.14365315437317,\n",
       "      'learning_rate': 0.0001},\n",
       "     {'epoch': 6,\n",
       "      'train_loss': 0.16374693291524312,\n",
       "      'val_loss': 0.14071199739057766,\n",
       "      'train_accuracy': 93.60538493899874,\n",
       "      'val_accuracy': 94.45378151260505,\n",
       "      'train_f1': 0.9361524755569093,\n",
       "      'val_f1': 0.9447236959299848,\n",
       "      'time': 39.181458473205566,\n",
       "      'learning_rate': 0.0001},\n",
       "     {'epoch': 7,\n",
       "      'train_loss': 0.14718292467921174,\n",
       "      'val_loss': 0.12966620972943738,\n",
       "      'train_accuracy': 94.36264198569626,\n",
       "      'val_accuracy': 95.46218487394958,\n",
       "      'train_f1': 0.9437584236365195,\n",
       "      'val_f1': 0.9546855373728438,\n",
       "      'time': 39.32214689254761,\n",
       "      'learning_rate': 0.0001},\n",
       "     {'epoch': 8,\n",
       "      'train_loss': 0.15112055211184208,\n",
       "      'val_loss': 0.17472997234251939,\n",
       "      'train_accuracy': 94.11022297013042,\n",
       "      'val_accuracy': 93.61344537815125,\n",
       "      'train_f1': 0.9411788221656789,\n",
       "      'val_f1': 0.9362124135810709,\n",
       "      'time': 39.12448000907898,\n",
       "      'learning_rate': 0.0001},\n",
       "     {'epoch': 9,\n",
       "      'train_loss': 0.13236651446157754,\n",
       "      'val_loss': 0.1349564090273098,\n",
       "      'train_accuracy': 95.16196886832141,\n",
       "      'val_accuracy': 93.27731092436974,\n",
       "      'train_f1': 0.9516675636505759,\n",
       "      'val_f1': 0.9329767782780647,\n",
       "      'time': 38.88054132461548,\n",
       "      'learning_rate': 0.0001},\n",
       "     {'epoch': 10,\n",
       "      'train_loss': 0.11630214187597869,\n",
       "      'val_loss': 0.1300146396909105,\n",
       "      'train_accuracy': 95.58266722759781,\n",
       "      'val_accuracy': 94.78991596638656,\n",
       "      'train_f1': 0.9558759272990144,\n",
       "      'val_f1': 0.9479105298727262,\n",
       "      'time': 39.42249822616577,\n",
       "      'learning_rate': 0.0001},\n",
       "     {'epoch': 11,\n",
       "      'train_loss': 0.12117212689512928,\n",
       "      'val_loss': 0.1499697792981016,\n",
       "      'train_accuracy': 95.41438788388726,\n",
       "      'val_accuracy': 95.12605042016807,\n",
       "      'train_f1': 0.9542006951093318,\n",
       "      'val_f1': 0.951291547664916,\n",
       "      'time': 39.22502112388611,\n",
       "      'learning_rate': 0.0001},\n",
       "     {'epoch': 12,\n",
       "      'train_loss': 0.10294516934644456,\n",
       "      'val_loss': 0.1447314542081011,\n",
       "      'train_accuracy': 96.33992427429533,\n",
       "      'val_accuracy': 94.11764705882354,\n",
       "      'train_f1': 0.9634621887136604,\n",
       "      'val_f1': 0.9411358588742941,\n",
       "      'time': 39.50185585021973,\n",
       "      'learning_rate': 0.0001}]},\n",
       "   {'fold': 3,\n",
       "    'model_save_path': 'training/MobileNetV2_lr_0.0001_bs_16_aug_True_fold_3.pth',\n",
       "    'total_time_training': 761.828574180603,\n",
       "    'val_accuracy': 94.27609427609427,\n",
       "    'training_metrics': [{'epoch': 1,\n",
       "      'train_loss': 0.36631259749699757,\n",
       "      'val_loss': 0.2599488175229022,\n",
       "      'train_accuracy': 83.89402859545837,\n",
       "      'val_accuracy': 89.56228956228956,\n",
       "      'train_f1': 0.8391523462017163,\n",
       "      'val_f1': 0.895115078823634,\n",
       "      'time': 39.829943895339966,\n",
       "      'learning_rate': 0.0001},\n",
       "     {'epoch': 2,\n",
       "      'train_loss': 0.2571514189593344,\n",
       "      'val_loss': 0.19151957764437325,\n",
       "      'train_accuracy': 89.10849453322119,\n",
       "      'val_accuracy': 90.9090909090909,\n",
       "      'train_f1': 0.8913254872581766,\n",
       "      'val_f1': 0.9094913115788268,\n",
       "      'time': 39.45065474510193,\n",
       "      'learning_rate': 0.0001},\n",
       "     {'epoch': 3,\n",
       "      'train_loss': 0.20761760554257655,\n",
       "      'val_loss': 0.18726219060389618,\n",
       "      'train_accuracy': 91.71572750210261,\n",
       "      'val_accuracy': 91.91919191919192,\n",
       "      'train_f1': 0.9173042844557946,\n",
       "      'val_f1': 0.919459689574632,\n",
       "      'time': 39.41636610031128,\n",
       "      'learning_rate': 0.0001},\n",
       "     {'epoch': 4,\n",
       "      'train_loss': 0.1955696651774565,\n",
       "      'val_loss': 0.1748844338580966,\n",
       "      'train_accuracy': 92.01009251471825,\n",
       "      'val_accuracy': 92.76094276094275,\n",
       "      'train_f1': 0.9202980877747973,\n",
       "      'val_f1': 0.9276276685064666,\n",
       "      'time': 39.546961545944214,\n",
       "      'learning_rate': 0.0001},\n",
       "     {'epoch': 5,\n",
       "      'train_loss': 0.1771038768300474,\n",
       "      'val_loss': 0.183235300410735,\n",
       "      'train_accuracy': 93.01934398654332,\n",
       "      'val_accuracy': 92.25589225589225,\n",
       "      'train_f1': 0.9303211937927348,\n",
       "      'val_f1': 0.922881593714927,\n",
       "      'time': 39.354809522628784,\n",
       "      'learning_rate': 0.0001},\n",
       "     {'epoch': 6,\n",
       "      'train_loss': 0.16285347523505256,\n",
       "      'val_loss': 0.20078799731441235,\n",
       "      'train_accuracy': 93.81833473507149,\n",
       "      'val_accuracy': 91.24579124579125,\n",
       "      'train_f1': 0.9382861071840053,\n",
       "      'val_f1': 0.912774933491387,\n",
       "      'time': 39.44117832183838,\n",
       "      'learning_rate': 0.0001},\n",
       "     {'epoch': 7,\n",
       "      'train_loss': 0.1584987203784337,\n",
       "      'val_loss': 0.14574288743499078,\n",
       "      'train_accuracy': 94.7434819175778,\n",
       "      'val_accuracy': 93.77104377104376,\n",
       "      'train_f1': 0.9474851480712604,\n",
       "      'val_f1': 0.9376610840499044,\n",
       "      'time': 39.25159025192261,\n",
       "      'learning_rate': 0.0001},\n",
       "     {'epoch': 8,\n",
       "      'train_loss': 0.14174154168307382,\n",
       "      'val_loss': 0.2126133061982201,\n",
       "      'train_accuracy': 94.44911690496215,\n",
       "      'val_accuracy': 90.9090909090909,\n",
       "      'train_f1': 0.9445802971924642,\n",
       "      'val_f1': 0.9094459696966216,\n",
       "      'time': 39.27762269973755,\n",
       "      'learning_rate': 0.0001},\n",
       "     {'epoch': 9,\n",
       "      'train_loss': 0.13865775844994807,\n",
       "      'val_loss': 0.15276146817364192,\n",
       "      'train_accuracy': 94.32296047098401,\n",
       "      'val_accuracy': 93.6026936026936,\n",
       "      'train_f1': 0.943269937584366,\n",
       "      'val_f1': 0.9359220499569336,\n",
       "      'time': 39.245898962020874,\n",
       "      'learning_rate': 0.0001},\n",
       "     {'epoch': 10,\n",
       "      'train_loss': 0.12102256765926644,\n",
       "      'val_loss': 0.1500707683275993,\n",
       "      'train_accuracy': 95.41631623212784,\n",
       "      'val_accuracy': 94.27609427609427,\n",
       "      'train_f1': 0.9542126062988939,\n",
       "      'val_f1': 0.9429994388327722,\n",
       "      'time': 38.98452353477478,\n",
       "      'learning_rate': 0.0001},\n",
       "     {'epoch': 11,\n",
       "      'train_loss': 0.1136704233956317,\n",
       "      'val_loss': 0.12139929407031129,\n",
       "      'train_accuracy': 95.24810765349032,\n",
       "      'val_accuracy': 95.45454545454545,\n",
       "      'train_f1': 0.9525758544562776,\n",
       "      'val_f1': 0.9545569081319673,\n",
       "      'time': 39.30867862701416,\n",
       "      'learning_rate': 0.0001},\n",
       "     {'epoch': 12,\n",
       "      'train_loss': 0.10510662123060867,\n",
       "      'val_loss': 0.14032287126112925,\n",
       "      'train_accuracy': 95.92094196804037,\n",
       "      'val_accuracy': 94.44444444444444,\n",
       "      'train_f1': 0.9592534202843369,\n",
       "      'val_f1': 0.9444584432724046,\n",
       "      'time': 39.17750573158264,\n",
       "      'learning_rate': 0.0001},\n",
       "     {'epoch': 13,\n",
       "      'train_loss': 0.09806785169651344,\n",
       "      'val_loss': 0.13348090611888389,\n",
       "      'train_accuracy': 96.42556770395291,\n",
       "      'val_accuracy': 94.61279461279462,\n",
       "      'train_f1': 0.9642942342697797,\n",
       "      'val_f1': 0.9463230359946997,\n",
       "      'time': 39.09748721122742,\n",
       "      'learning_rate': 0.0001},\n",
       "     {'epoch': 14,\n",
       "      'train_loss': 0.10375705104783778,\n",
       "      'val_loss': 0.18497434371200047,\n",
       "      'train_accuracy': 95.96299411269975,\n",
       "      'val_accuracy': 91.91919191919192,\n",
       "      'train_f1': 0.9596759125149018,\n",
       "      'val_f1': 0.91956517309534,\n",
       "      'time': 39.569963455200195,\n",
       "      'learning_rate': 0.0001},\n",
       "     {'epoch': 15,\n",
       "      'train_loss': 0.10306670810502247,\n",
       "      'val_loss': 0.17017907688492223,\n",
       "      'train_accuracy': 95.87888982338099,\n",
       "      'val_accuracy': 93.0976430976431,\n",
       "      'train_f1': 0.9588407306644979,\n",
       "      'val_f1': 0.9312552224160476,\n",
       "      'time': 39.340413093566895,\n",
       "      'learning_rate': 0.0001},\n",
       "     {'epoch': 16,\n",
       "      'train_loss': 0.07500606159298312,\n",
       "      'val_loss': 0.14538943100916712,\n",
       "      'train_accuracy': 97.22455845248108,\n",
       "      'val_accuracy': 94.27609427609427,\n",
       "      'train_f1': 0.9722635627845021,\n",
       "      'val_f1': 0.9427609427609428,\n",
       "      'time': 39.59466505050659,\n",
       "      'learning_rate': 0.0001}]},\n",
       "   {'fold': 4,\n",
       "    'model_save_path': 'training/MobileNetV2_lr_0.0001_bs_16_aug_True_fold_4.pth',\n",
       "    'total_time_training': 761.2019779682159,\n",
       "    'val_accuracy': 94.61279461279462,\n",
       "    'training_metrics': [{'epoch': 1,\n",
       "      'train_loss': 0.36017174073713737,\n",
       "      'val_loss': 0.22202891023143342,\n",
       "      'train_accuracy': 83.85197645079899,\n",
       "      'val_accuracy': 91.41414141414141,\n",
       "      'train_f1': 0.838377958400161,\n",
       "      'val_f1': 0.9139744996558288,\n",
       "      'time': 39.25555777549744,\n",
       "      'learning_rate': 0.0001},\n",
       "     {'epoch': 2,\n",
       "      'train_loss': 0.25252577502455487,\n",
       "      'val_loss': 0.18110026781888386,\n",
       "      'train_accuracy': 89.40285954583683,\n",
       "      'val_accuracy': 92.08754208754209,\n",
       "      'train_f1': 0.8942728278431548,\n",
       "      'val_f1': 0.9209445470849307,\n",
       "      'time': 39.37307953834534,\n",
       "      'learning_rate': 0.0001},\n",
       "     {'epoch': 3,\n",
       "      'train_loss': 0.20388178056068468,\n",
       "      'val_loss': 0.1657743518191733,\n",
       "      'train_accuracy': 91.63162321278385,\n",
       "      'val_accuracy': 93.26599326599326,\n",
       "      'train_f1': 0.9165138703451385,\n",
       "      'val_f1': 0.9326336318743244,\n",
       "      'time': 38.943339824676514,\n",
       "      'learning_rate': 0.0001},\n",
       "     {'epoch': 4,\n",
       "      'train_loss': 0.18962477445102377,\n",
       "      'val_loss': 0.18748770242458895,\n",
       "      'train_accuracy': 92.13624894869638,\n",
       "      'val_accuracy': 90.57239057239057,\n",
       "      'train_f1': 0.9215300949877709,\n",
       "      'val_f1': 0.9059199260723257,\n",
       "      'time': 39.18162250518799,\n",
       "      'learning_rate': 0.0001},\n",
       "     {'epoch': 5,\n",
       "      'train_loss': 0.1671064528761644,\n",
       "      'val_loss': 0.16882426448558507,\n",
       "      'train_accuracy': 93.18755256518082,\n",
       "      'val_accuracy': 93.93939393939394,\n",
       "      'train_f1': 0.9319922740630445,\n",
       "      'val_f1': 0.9392612228433124,\n",
       "      'time': 38.851131200790405,\n",
       "      'learning_rate': 0.0001},\n",
       "     {'epoch': 6,\n",
       "      'train_loss': 0.151538644336014,\n",
       "      'val_loss': 0.14343531596425332,\n",
       "      'train_accuracy': 94.02859545836837,\n",
       "      'val_accuracy': 95.11784511784512,\n",
       "      'train_f1': 0.9403350951696795,\n",
       "      'val_f1': 0.9512500941587264,\n",
       "      'time': 39.68584895133972,\n",
       "      'learning_rate': 0.0001},\n",
       "     {'epoch': 7,\n",
       "      'train_loss': 0.14091008000275831,\n",
       "      'val_loss': 0.14823517963094146,\n",
       "      'train_accuracy': 94.65937762825904,\n",
       "      'val_accuracy': 92.76094276094275,\n",
       "      'train_f1': 0.9466620097229128,\n",
       "      'val_f1': 0.9275663769781416,\n",
       "      'time': 39.39282989501953,\n",
       "      'learning_rate': 0.0001},\n",
       "     {'epoch': 8,\n",
       "      'train_loss': 0.15286158348727447,\n",
       "      'val_loss': 0.14137929040742547,\n",
       "      'train_accuracy': 93.43986543313709,\n",
       "      'val_accuracy': 94.94949494949495,\n",
       "      'train_f1': 0.9344350455399408,\n",
       "      'val_f1': 0.9494321908115012,\n",
       "      'time': 39.247087240219116,\n",
       "      'learning_rate': 0.0001},\n",
       "     {'epoch': 9,\n",
       "      'train_loss': 0.13541249182675308,\n",
       "      'val_loss': 0.15506326343472066,\n",
       "      'train_accuracy': 94.82758620689656,\n",
       "      'val_accuracy': 94.94949494949495,\n",
       "      'train_f1': 0.9483419464245534,\n",
       "      'val_f1': 0.9495620059213138,\n",
       "      'time': 39.19423246383667,\n",
       "      'learning_rate': 0.0001},\n",
       "     {'epoch': 10,\n",
       "      'train_loss': 0.12245098529571055,\n",
       "      'val_loss': 0.152002417396656,\n",
       "      'train_accuracy': 95.37426408746846,\n",
       "      'val_accuracy': 94.61279461279462,\n",
       "      'train_f1': 0.9538104916389766,\n",
       "      'val_f1': 0.9460610035322679,\n",
       "      'time': 40.83636140823364,\n",
       "      'learning_rate': 0.0001},\n",
       "     {'epoch': 11,\n",
       "      'train_loss': 0.12620041059680134,\n",
       "      'val_loss': 0.12158308358323809,\n",
       "      'train_accuracy': 94.82758620689656,\n",
       "      'val_accuracy': 94.78114478114477,\n",
       "      'train_f1': 0.9483080528104902,\n",
       "      'val_f1': 0.9479017081922652,\n",
       "      'time': 39.48754525184631,\n",
       "      'learning_rate': 0.0001},\n",
       "     {'epoch': 12,\n",
       "      'train_loss': 0.10301648085974408,\n",
       "      'val_loss': 0.1347066338578435,\n",
       "      'train_accuracy': 96.29941126997477,\n",
       "      'val_accuracy': 94.44444444444444,\n",
       "      'train_f1': 0.963009593894298,\n",
       "      'val_f1': 0.9445101210325695,\n",
       "      'time': 39.64083123207092,\n",
       "      'learning_rate': 0.0001},\n",
       "     {'epoch': 13,\n",
       "      'train_loss': 0.11234691361709179,\n",
       "      'val_loss': 0.1373193470859214,\n",
       "      'train_accuracy': 95.54247266610597,\n",
       "      'val_accuracy': 93.77104377104376,\n",
       "      'train_f1': 0.9554554655287686,\n",
       "      'val_f1': 0.9378585028448768,\n",
       "      'time': 39.62806558609009,\n",
       "      'learning_rate': 0.0001},\n",
       "     {'epoch': 14,\n",
       "      'train_loss': 0.09782447130419314,\n",
       "      'val_loss': 0.12401813234349615,\n",
       "      'train_accuracy': 96.55172413793103,\n",
       "      'val_accuracy': 94.61279461279462,\n",
       "      'train_f1': 0.9655634851548981,\n",
       "      'val_f1': 0.9461069054994595,\n",
       "      'time': 39.03699445724487,\n",
       "      'learning_rate': 0.0001},\n",
       "     {'epoch': 15,\n",
       "      'train_loss': 0.1056914459913969,\n",
       "      'val_loss': 0.1557478145451138,\n",
       "      'train_accuracy': 95.87888982338099,\n",
       "      'val_accuracy': 94.61279461279462,\n",
       "      'train_f1': 0.9588282443705521,\n",
       "      'val_f1': 0.9460610035322679,\n",
       "      'time': 39.46087288856506,\n",
       "      'learning_rate': 0.0001},\n",
       "     {'epoch': 16,\n",
       "      'train_loss': 0.08477598991270033,\n",
       "      'val_loss': 0.16133297657851423,\n",
       "      'train_accuracy': 96.93019343986543,\n",
       "      'val_accuracy': 94.61279461279462,\n",
       "      'train_f1': 0.9693168760472121,\n",
       "      'val_f1': 0.9460610035322679,\n",
       "      'time': 39.278300523757935,\n",
       "      'learning_rate': 0.0001}]},\n",
       "   {'fold': 5,\n",
       "    'model_save_path': 'training/MobileNetV2_lr_0.0001_bs_16_aug_True_fold_5.pth',\n",
       "    'total_time_training': 523.823942899704,\n",
       "    'val_accuracy': 92.5925925925926,\n",
       "    'training_metrics': [{'epoch': 1,\n",
       "      'train_loss': 0.3580595899448299,\n",
       "      'val_loss': 0.2436152806407527,\n",
       "      'train_accuracy': 85.28174936921783,\n",
       "      'val_accuracy': 90.23569023569024,\n",
       "      'train_f1': 0.8528523040410464,\n",
       "      'val_f1': 0.9022083127631617,\n",
       "      'time': 39.648613691329956,\n",
       "      'learning_rate': 0.0001},\n",
       "     {'epoch': 2,\n",
       "      'train_loss': 0.2635544435739917,\n",
       "      'val_loss': 0.22243911635718847,\n",
       "      'train_accuracy': 89.15054667788057,\n",
       "      'val_accuracy': 90.4040404040404,\n",
       "      'train_f1': 0.891580499684361,\n",
       "      'val_f1': 0.9043911519159044,\n",
       "      'time': 39.28814125061035,\n",
       "      'learning_rate': 0.0001},\n",
       "     {'epoch': 3,\n",
       "      'train_loss': 0.2252213987928109,\n",
       "      'val_loss': 0.20236020233776225,\n",
       "      'train_accuracy': 90.49621530698066,\n",
       "      'val_accuracy': 91.24579124579125,\n",
       "      'train_f1': 0.9051614560836828,\n",
       "      'val_f1': 0.9122546510382288,\n",
       "      'time': 39.38147830963135,\n",
       "      'learning_rate': 0.0001},\n",
       "     {'epoch': 4,\n",
       "      'train_loss': 0.18544966818752304,\n",
       "      'val_loss': 0.18773965493432784,\n",
       "      'train_accuracy': 92.89318755256518,\n",
       "      'val_accuracy': 92.5925925925926,\n",
       "      'train_f1': 0.9290645854743933,\n",
       "      'val_f1': 0.9262184851267169,\n",
       "      'time': 39.20188760757446,\n",
       "      'learning_rate': 0.0001},\n",
       "     {'epoch': 5,\n",
       "      'train_loss': 0.18173330030935322,\n",
       "      'val_loss': 0.17538515978345745,\n",
       "      'train_accuracy': 92.76703111858704,\n",
       "      'val_accuracy': 93.0976430976431,\n",
       "      'train_f1': 0.9277515228835281,\n",
       "      'val_f1': 0.9312689320706589,\n",
       "      'time': 39.35270881652832,\n",
       "      'learning_rate': 0.0001},\n",
       "     {'epoch': 6,\n",
       "      'train_loss': 0.16787150134051207,\n",
       "      'val_loss': 0.15775371980118125,\n",
       "      'train_accuracy': 93.27165685449958,\n",
       "      'val_accuracy': 93.26599326599326,\n",
       "      'train_f1': 0.9328326394176264,\n",
       "      'val_f1': 0.9329642847204831,\n",
       "      'time': 39.093751430511475,\n",
       "      'learning_rate': 0.0001},\n",
       "     {'epoch': 7,\n",
       "      'train_loss': 0.14721204956755943,\n",
       "      'val_loss': 0.18144446812374027,\n",
       "      'train_accuracy': 93.98654331370899,\n",
       "      'val_accuracy': 93.43434343434343,\n",
       "      'train_f1': 0.9399720452265053,\n",
       "      'val_f1': 0.9345019872047976,\n",
       "      'time': 39.303823709487915,\n",
       "      'learning_rate': 0.0001},\n",
       "     {'epoch': 8,\n",
       "      'train_loss': 0.14710034846309447,\n",
       "      'val_loss': 0.1672176058116173,\n",
       "      'train_accuracy': 93.81833473507149,\n",
       "      'val_accuracy': 93.77104377104376,\n",
       "      'train_f1': 0.9382870105155594,\n",
       "      'val_f1': 0.9379002716586011,\n",
       "      'time': 39.26245617866516,\n",
       "      'learning_rate': 0.0001},\n",
       "     {'epoch': 9,\n",
       "      'train_loss': 0.1266093040010173,\n",
       "      'val_loss': 0.1806198111674013,\n",
       "      'train_accuracy': 95.54247266610597,\n",
       "      'val_accuracy': 93.77104377104376,\n",
       "      'train_f1': 0.9554555541338848,\n",
       "      'val_f1': 0.9381598573517764,\n",
       "      'time': 39.570743560791016,\n",
       "      'learning_rate': 0.0001},\n",
       "     {'epoch': 10,\n",
       "      'train_loss': 0.12158046919077435,\n",
       "      'val_loss': 0.17879670917203552,\n",
       "      'train_accuracy': 95.33221194280908,\n",
       "      'val_accuracy': 93.93939393939394,\n",
       "      'train_f1': 0.9533817912484689,\n",
       "      'val_f1': 0.9395972436226675,\n",
       "      'time': 39.383086919784546,\n",
       "      'learning_rate': 0.0001},\n",
       "     {'epoch': 11,\n",
       "      'train_loss': 0.10520073212683201,\n",
       "      'val_loss': 0.19755443344873033,\n",
       "      'train_accuracy': 95.87888982338099,\n",
       "      'val_accuracy': 92.5925925925926,\n",
       "      'train_f1': 0.9588394596001169,\n",
       "      'val_f1': 0.9265053773871653,\n",
       "      'time': 39.394320011138916,\n",
       "      'learning_rate': 0.0001}]}]},\n",
       " {'all_total_time_kfold': 4483.42130613327,\n",
       "  'params': {'batch_size': 16, 'learning_rate': 1e-05},\n",
       "  'augment': True,\n",
       "  'fold_results': [{'fold': 1,\n",
       "    'model_save_path': 'training/MobileNetV2_lr_1e-05_bs_16_aug_True_fold_1.pth',\n",
       "    'total_time_training': 858.0490810871124,\n",
       "    'val_accuracy': 90.92436974789916,\n",
       "    'training_metrics': [{'epoch': 1,\n",
       "      'train_loss': 0.5464690483656506,\n",
       "      'val_loss': 0.421783661763919,\n",
       "      'train_accuracy': 72.99116533445519,\n",
       "      'val_accuracy': 81.68067226890756,\n",
       "      'train_f1': 0.7314060978306274,\n",
       "      'val_f1': 0.8162763100414546,\n",
       "      'time': 39.26393413543701,\n",
       "      'learning_rate': 1e-05},\n",
       "     {'epoch': 2,\n",
       "      'train_loss': 0.4092806892707044,\n",
       "      'val_loss': 0.328033427658834,\n",
       "      'train_accuracy': 82.79343710559529,\n",
       "      'val_accuracy': 86.72268907563026,\n",
       "      'train_f1': 0.8273420428815766,\n",
       "      'val_f1': 0.867479983137237,\n",
       "      'time': 39.52763867378235,\n",
       "      'learning_rate': 1e-05},\n",
       "     {'epoch': 3,\n",
       "      'train_loss': 0.345001315510513,\n",
       "      'val_loss': 0.28519080677314806,\n",
       "      'train_accuracy': 85.90660496424064,\n",
       "      'val_accuracy': 89.07563025210084,\n",
       "      'train_f1': 0.8589823725255391,\n",
       "      'val_f1': 0.8912842548022444,\n",
       "      'time': 40.13823127746582,\n",
       "      'learning_rate': 1e-05},\n",
       "     {'epoch': 4,\n",
       "      'train_loss': 0.3125670219227772,\n",
       "      'val_loss': 0.25000739783832904,\n",
       "      'train_accuracy': 86.79007151872108,\n",
       "      'val_accuracy': 90.4201680672269,\n",
       "      'train_f1': 0.867701798798642,\n",
       "      'val_f1': 0.9042295269971954,\n",
       "      'time': 39.484421253204346,\n",
       "      'learning_rate': 1e-05},\n",
       "     {'epoch': 5,\n",
       "      'train_loss': 0.2709115723385507,\n",
       "      'val_loss': 0.2404484448856429,\n",
       "      'train_accuracy': 89.77702986958352,\n",
       "      'val_accuracy': 91.09243697478992,\n",
       "      'train_f1': 0.8978153394674678,\n",
       "      'val_f1': 0.910786646296932,\n",
       "      'time': 39.3014657497406,\n",
       "      'learning_rate': 1e-05},\n",
       "     {'epoch': 6,\n",
       "      'train_loss': 0.26572856747064016,\n",
       "      'val_loss': 0.25083506822978197,\n",
       "      'train_accuracy': 88.89356331510307,\n",
       "      'val_accuracy': 90.92436974789916,\n",
       "      'train_f1': 0.8889212741880036,\n",
       "      'val_f1': 0.909523751252113,\n",
       "      'time': 39.60871195793152,\n",
       "      'learning_rate': 1e-05},\n",
       "     {'epoch': 7,\n",
       "      'train_loss': 0.2491511785544005,\n",
       "      'val_loss': 0.22539629512711576,\n",
       "      'train_accuracy': 89.52461085401767,\n",
       "      'val_accuracy': 90.25210084033614,\n",
       "      'train_f1': 0.8953302802215617,\n",
       "      'val_f1': 0.9027775736144799,\n",
       "      'time': 39.38117957115173,\n",
       "      'learning_rate': 1e-05},\n",
       "     {'epoch': 8,\n",
       "      'train_loss': 0.23502855820443808,\n",
       "      'val_loss': 0.2175923979498054,\n",
       "      'train_accuracy': 90.28186790071518,\n",
       "      'val_accuracy': 92.10084033613445,\n",
       "      'train_f1': 0.902885155485689,\n",
       "      'val_f1': 0.9210313643661084,\n",
       "      'time': 39.33766722679138,\n",
       "      'learning_rate': 1e-05},\n",
       "     {'epoch': 9,\n",
       "      'train_loss': 0.21797303505391882,\n",
       "      'val_loss': 0.21494072553162513,\n",
       "      'train_accuracy': 91.37568363483382,\n",
       "      'val_accuracy': 91.26050420168067,\n",
       "      'train_f1': 0.9138158306258282,\n",
       "      'val_f1': 0.9130125082059164,\n",
       "      'time': 39.30414342880249,\n",
       "      'learning_rate': 1e-05},\n",
       "     {'epoch': 10,\n",
       "      'train_loss': 0.20762012876420213,\n",
       "      'val_loss': 0.19539989746714892,\n",
       "      'train_accuracy': 90.70256625999158,\n",
       "      'val_accuracy': 92.26890756302521,\n",
       "      'train_f1': 0.9071003691926309,\n",
       "      'val_f1': 0.9226427002417432,\n",
       "      'time': 39.540496587753296,\n",
       "      'learning_rate': 1e-05},\n",
       "     {'epoch': 11,\n",
       "      'train_loss': 0.20038412553852036,\n",
       "      'val_loss': 0.20936912709945127,\n",
       "      'train_accuracy': 91.50189314261674,\n",
       "      'val_accuracy': 90.4201680672269,\n",
       "      'train_f1': 0.9151217452632155,\n",
       "      'val_f1': 0.9046314340605763,\n",
       "      'time': 39.47034692764282,\n",
       "      'learning_rate': 1e-05},\n",
       "     {'epoch': 12,\n",
       "      'train_loss': 0.1882444666136031,\n",
       "      'val_loss': 0.20372728304937482,\n",
       "      'train_accuracy': 92.59570887673539,\n",
       "      'val_accuracy': 91.76470588235294,\n",
       "      'train_f1': 0.9260713752817481,\n",
       "      'val_f1': 0.917919126204373,\n",
       "      'time': 39.76250219345093,\n",
       "      'learning_rate': 1e-05},\n",
       "     {'epoch': 13,\n",
       "      'train_loss': 0.18419966737946009,\n",
       "      'val_loss': 0.18338584331305405,\n",
       "      'train_accuracy': 92.59570887673539,\n",
       "      'val_accuracy': 91.42857142857143,\n",
       "      'train_f1': 0.9259942593874905,\n",
       "      'val_f1': 0.9145688864576127,\n",
       "      'time': 39.1707808971405,\n",
       "      'learning_rate': 1e-05},\n",
       "     {'epoch': 14,\n",
       "      'train_loss': 0.19328987830937308,\n",
       "      'val_loss': 0.20403523091226816,\n",
       "      'train_accuracy': 92.63777871266302,\n",
       "      'val_accuracy': 90.58823529411765,\n",
       "      'train_f1': 0.9265033359823636,\n",
       "      'val_f1': 0.9059364900557231,\n",
       "      'time': 39.467442989349365,\n",
       "      'learning_rate': 1e-05},\n",
       "     {'epoch': 15,\n",
       "      'train_loss': 0.17999021648960625,\n",
       "      'val_loss': 0.19004112697745623,\n",
       "      'train_accuracy': 92.7219183845183,\n",
       "      'val_accuracy': 91.9327731092437,\n",
       "      'train_f1': 0.927335474629988,\n",
       "      'val_f1': 0.9193741343334767,\n",
       "      'time': 39.034427881240845,\n",
       "      'learning_rate': 1e-05},\n",
       "     {'epoch': 16,\n",
       "      'train_loss': 0.18489603328224796,\n",
       "      'val_loss': 0.18563998868002704,\n",
       "      'train_accuracy': 92.13294068153134,\n",
       "      'val_accuracy': 92.10084033613445,\n",
       "      'train_f1': 0.9214201079049896,\n",
       "      'val_f1': 0.9211976754204508,\n",
       "      'time': 39.13537907600403,\n",
       "      'learning_rate': 1e-05},\n",
       "     {'epoch': 17,\n",
       "      'train_loss': 0.16912533017812958,\n",
       "      'val_loss': 0.1916575612696378,\n",
       "      'train_accuracy': 93.26882625157762,\n",
       "      'val_accuracy': 92.60504201680672,\n",
       "      'train_f1': 0.9328066300812917,\n",
       "      'val_f1': 0.9263404185203494,\n",
       "      'time': 39.18044400215149,\n",
       "      'learning_rate': 1e-05},\n",
       "     {'epoch': 18,\n",
       "      'train_loss': 0.1647379579360053,\n",
       "      'val_loss': 0.2027113312169125,\n",
       "      'train_accuracy': 94.02608329827514,\n",
       "      'val_accuracy': 90.92436974789916,\n",
       "      'train_f1': 0.9403398418607867,\n",
       "      'val_f1': 0.90943920234637,\n",
       "      'time': 39.1012237071991,\n",
       "      'learning_rate': 1e-05}]},\n",
       "   {'fold': 2,\n",
       "    'model_save_path': 'training/MobileNetV2_lr_1e-05_bs_16_aug_True_fold_2.pth',\n",
       "    'total_time_training': 954.232709646225,\n",
       "    'val_accuracy': 93.94957983193277,\n",
       "    'training_metrics': [{'epoch': 1,\n",
       "      'train_loss': 0.5448108797505398,\n",
       "      'val_loss': 0.4246678007276435,\n",
       "      'train_accuracy': 72.99116533445519,\n",
       "      'val_accuracy': 81.17647058823529,\n",
       "      'train_f1': 0.7306305358368634,\n",
       "      'val_f1': 0.8108317135549873,\n",
       "      'time': 39.684743881225586,\n",
       "      'learning_rate': 1e-05},\n",
       "     {'epoch': 2,\n",
       "      'train_loss': 0.40605723937885874,\n",
       "      'val_loss': 0.33668399190432147,\n",
       "      'train_accuracy': 82.62515776188472,\n",
       "      'val_accuracy': 86.38655462184875,\n",
       "      'train_f1': 0.8253969303409331,\n",
       "      'val_f1': 0.8635615668421891,\n",
       "      'time': 39.5730082988739,\n",
       "      'learning_rate': 1e-05},\n",
       "     {'epoch': 3,\n",
       "      'train_loss': 0.3438475747536493,\n",
       "      'val_loss': 0.2823390239163449,\n",
       "      'train_accuracy': 85.78039545645773,\n",
       "      'val_accuracy': 88.90756302521008,\n",
       "      'train_f1': 0.8577239163567748,\n",
       "      'val_f1': 0.889123387586952,\n",
       "      'time': 40.344300746917725,\n",
       "      'learning_rate': 1e-05},\n",
       "     {'epoch': 4,\n",
       "      'train_loss': 0.3190179969240355,\n",
       "      'val_loss': 0.2853536850919849,\n",
       "      'train_accuracy': 86.7059318468658,\n",
       "      'val_accuracy': 88.40336134453781,\n",
       "      'train_f1': 0.8671824539958713,\n",
       "      'val_f1': 0.8842367365863292,\n",
       "      'time': 39.1943097114563,\n",
       "      'learning_rate': 1e-05},\n",
       "     {'epoch': 5,\n",
       "      'train_loss': 0.273191053045276,\n",
       "      'val_loss': 0.24789341754819216,\n",
       "      'train_accuracy': 88.72528397139251,\n",
       "      'val_accuracy': 89.74789915966386,\n",
       "      'train_f1': 0.8873282911894244,\n",
       "      'val_f1': 0.8977227481272252,\n",
       "      'time': 39.50993299484253,\n",
       "      'learning_rate': 1e-05},\n",
       "     {'epoch': 6,\n",
       "      'train_loss': 0.25720934292314035,\n",
       "      'val_loss': 0.2297203183958405,\n",
       "      'train_accuracy': 89.86116954143878,\n",
       "      'val_accuracy': 90.25210084033614,\n",
       "      'train_f1': 0.8986595958787854,\n",
       "      'val_f1': 0.9023811654086414,\n",
       "      'time': 39.37968635559082,\n",
       "      'learning_rate': 1e-05},\n",
       "     {'epoch': 7,\n",
       "      'train_loss': 0.2502667079085872,\n",
       "      'val_loss': 0.2188363139958758,\n",
       "      'train_accuracy': 89.86116954143878,\n",
       "      'val_accuracy': 90.25210084033614,\n",
       "      'train_f1': 0.8987373167096236,\n",
       "      'val_f1': 0.9026399996763715,\n",
       "      'time': 39.43491172790527,\n",
       "      'learning_rate': 1e-05},\n",
       "     {'epoch': 8,\n",
       "      'train_loss': 0.2367287307677653,\n",
       "      'val_loss': 0.21317242198672734,\n",
       "      'train_accuracy': 90.28186790071518,\n",
       "      'val_accuracy': 91.26050420168067,\n",
       "      'train_f1': 0.9028900137362769,\n",
       "      'val_f1': 0.9127999192816063,\n",
       "      'time': 39.56108093261719,\n",
       "      'learning_rate': 1e-05},\n",
       "     {'epoch': 9,\n",
       "      'train_loss': 0.22221210693953022,\n",
       "      'val_loss': 0.21397764162209473,\n",
       "      'train_accuracy': 90.8287757677745,\n",
       "      'val_accuracy': 90.92436974789916,\n",
       "      'train_f1': 0.9083491323854274,\n",
       "      'val_f1': 0.9092827716620516,\n",
       "      'time': 38.951491832733154,\n",
       "      'learning_rate': 1e-05},\n",
       "     {'epoch': 10,\n",
       "      'train_loss': 0.22144076628172957,\n",
       "      'val_loss': 0.18307336537461533,\n",
       "      'train_accuracy': 91.54396297854439,\n",
       "      'val_accuracy': 93.61344537815125,\n",
       "      'train_f1': 0.9156513100516404,\n",
       "      'val_f1': 0.9360428325091099,\n",
       "      'time': 39.39488959312439,\n",
       "      'learning_rate': 1e-05},\n",
       "     {'epoch': 11,\n",
       "      'train_loss': 0.2164223178871126,\n",
       "      'val_loss': 0.18776370687900404,\n",
       "      'train_accuracy': 91.33361379890619,\n",
       "      'val_accuracy': 92.26890756302521,\n",
       "      'train_f1': 0.9134902439292594,\n",
       "      'val_f1': 0.9227538162350081,\n",
       "      'time': 39.19380283355713,\n",
       "      'learning_rate': 1e-05},\n",
       "     {'epoch': 12,\n",
       "      'train_loss': 0.21455952052602031,\n",
       "      'val_loss': 0.18793525556592564,\n",
       "      'train_accuracy': 90.66049642406395,\n",
       "      'val_accuracy': 92.43697478991596,\n",
       "      'train_f1': 0.9066795388416656,\n",
       "      'val_f1': 0.9245898887485364,\n",
       "      'time': 38.920156955718994,\n",
       "      'learning_rate': 1e-05},\n",
       "     {'epoch': 13,\n",
       "      'train_loss': 0.20102970539623458,\n",
       "      'val_loss': 0.1860799062261848,\n",
       "      'train_accuracy': 91.41775347076147,\n",
       "      'val_accuracy': 92.43697478991596,\n",
       "      'train_f1': 0.9142460627193686,\n",
       "      'val_f1': 0.9245022195128234,\n",
       "      'time': 39.3776741027832,\n",
       "      'learning_rate': 1e-05},\n",
       "     {'epoch': 14,\n",
       "      'train_loss': 0.19791087121921497,\n",
       "      'val_loss': 0.17605448921064012,\n",
       "      'train_accuracy': 92.13294068153134,\n",
       "      'val_accuracy': 93.94957983193277,\n",
       "      'train_f1': 0.9214268806004132,\n",
       "      'val_f1': 0.9395914231742448,\n",
       "      'time': 39.7560338973999,\n",
       "      'learning_rate': 1e-05},\n",
       "     {'epoch': 15,\n",
       "      'train_loss': 0.18731826752574252,\n",
       "      'val_loss': 0.17250984897346874,\n",
       "      'train_accuracy': 92.17501051745899,\n",
       "      'val_accuracy': 94.28571428571429,\n",
       "      'train_f1': 0.9218613871380493,\n",
       "      'val_f1': 0.9428311825730914,\n",
       "      'time': 39.65878772735596,\n",
       "      'learning_rate': 1e-05},\n",
       "     {'epoch': 16,\n",
       "      'train_loss': 0.16028639990461352,\n",
       "      'val_loss': 0.1817603051956547,\n",
       "      'train_accuracy': 93.89987379049222,\n",
       "      'val_accuracy': 93.94957983193277,\n",
       "      'train_f1': 0.9391246801104324,\n",
       "      'val_f1': 0.9395464648795716,\n",
       "      'time': 39.42769408226013,\n",
       "      'learning_rate': 1e-05},\n",
       "     {'epoch': 17,\n",
       "      'train_loss': 0.16199683061732142,\n",
       "      'val_loss': 0.1861558433033918,\n",
       "      'train_accuracy': 93.77366428270929,\n",
       "      'val_accuracy': 93.27731092436974,\n",
       "      'train_f1': 0.9378616712766434,\n",
       "      'val_f1': 0.932901971554895,\n",
       "      'time': 39.32318735122681,\n",
       "      'learning_rate': 1e-05},\n",
       "     {'epoch': 18,\n",
       "      'train_loss': 0.1821305017118286,\n",
       "      'val_loss': 0.17179218081659392,\n",
       "      'train_accuracy': 92.97433740008414,\n",
       "      'val_accuracy': 93.61344537815125,\n",
       "      'train_f1': 0.9299116995911038,\n",
       "      'val_f1': 0.9360092272202998,\n",
       "      'time': 39.557695627212524,\n",
       "      'learning_rate': 1e-05},\n",
       "     {'epoch': 19,\n",
       "      'train_loss': 0.152969603408003,\n",
       "      'val_loss': 0.17174020958574196,\n",
       "      'train_accuracy': 93.60538493899874,\n",
       "      'val_accuracy': 92.77310924369748,\n",
       "      'train_f1': 0.9361049094771765,\n",
       "      'val_f1': 0.9278811407023079,\n",
       "      'time': 39.30987596511841,\n",
       "      'learning_rate': 1e-05},\n",
       "     {'epoch': 20,\n",
       "      'train_loss': 0.16253512681480622,\n",
       "      'val_loss': 0.16209853813052177,\n",
       "      'train_accuracy': 93.5633151030711,\n",
       "      'val_accuracy': 93.94957983193277,\n",
       "      'train_f1': 0.9357732460887853,\n",
       "      'val_f1': 0.939692433180082,\n",
       "      'time': 39.502180099487305,\n",
       "      'learning_rate': 1e-05}]},\n",
       "   {'fold': 3,\n",
       "    'model_save_path': 'training/MobileNetV2_lr_1e-05_bs_16_aug_True_fold_3.pth',\n",
       "    'total_time_training': 956.5833756923676,\n",
       "    'val_accuracy': 93.77104377104376,\n",
       "    'training_metrics': [{'epoch': 1,\n",
       "      'train_loss': 0.5409094655273745,\n",
       "      'val_loss': 0.4356716730092701,\n",
       "      'train_accuracy': 73.71740958788898,\n",
       "      'val_accuracy': 79.62962962962963,\n",
       "      'train_f1': 0.7279176560950162,\n",
       "      'val_f1': 0.7944338713453966,\n",
       "      'time': 39.533050537109375,\n",
       "      'learning_rate': 1e-05},\n",
       "     {'epoch': 2,\n",
       "      'train_loss': 0.4068797460738445,\n",
       "      'val_loss': 0.3388034999370575,\n",
       "      'train_accuracy': 82.38015138772077,\n",
       "      'val_accuracy': 86.02693602693603,\n",
       "      'train_f1': 0.8228944811144522,\n",
       "      'val_f1': 0.8606105233241613,\n",
       "      'time': 39.38506841659546,\n",
       "      'learning_rate': 1e-05},\n",
       "     {'epoch': 3,\n",
       "      'train_loss': 0.3449365583142178,\n",
       "      'val_loss': 0.2807758775980849,\n",
       "      'train_accuracy': 86.03868797308662,\n",
       "      'val_accuracy': 88.21548821548822,\n",
       "      'train_f1': 0.8601053207764219,\n",
       "      'val_f1': 0.8823725872300501,\n",
       "      'time': 39.18709325790405,\n",
       "      'learning_rate': 1e-05},\n",
       "     {'epoch': 4,\n",
       "      'train_loss': 0.29789660566005133,\n",
       "      'val_loss': 0.27299795848758596,\n",
       "      'train_accuracy': 88.05719091673676,\n",
       "      'val_accuracy': 89.39393939393939,\n",
       "      'train_f1': 0.8807636697171197,\n",
       "      'val_f1': 0.8943388637506285,\n",
       "      'time': 39.50348091125488,\n",
       "      'learning_rate': 1e-05},\n",
       "     {'epoch': 5,\n",
       "      'train_loss': 0.2887776098995401,\n",
       "      'val_loss': 0.2647255052273211,\n",
       "      'train_accuracy': 88.85618166526493,\n",
       "      'val_accuracy': 89.05723905723906,\n",
       "      'train_f1': 0.8885692254150732,\n",
       "      'val_f1': 0.8908395664586806,\n",
       "      'time': 39.750640869140625,\n",
       "      'learning_rate': 1e-05},\n",
       "     {'epoch': 6,\n",
       "      'train_loss': 0.2587227991863385,\n",
       "      'val_loss': 0.23533280605548307,\n",
       "      'train_accuracy': 89.36080740117745,\n",
       "      'val_accuracy': 89.73063973063974,\n",
       "      'train_f1': 0.8937099396962311,\n",
       "      'val_f1': 0.897594770262975,\n",
       "      'time': 40.32666373252869,\n",
       "      'learning_rate': 1e-05},\n",
       "     {'epoch': 7,\n",
       "      'train_loss': 0.23920260957323464,\n",
       "      'val_loss': 0.22414130207739377,\n",
       "      'train_accuracy': 91.12699747687132,\n",
       "      'val_accuracy': 90.06734006734007,\n",
       "      'train_f1': 0.9113868016933737,\n",
       "      'val_f1': 0.9010475073220171,\n",
       "      'time': 39.652539014816284,\n",
       "      'learning_rate': 1e-05},\n",
       "     {'epoch': 8,\n",
       "      'train_loss': 0.2368188030617749,\n",
       "      'val_loss': 0.21609767251893094,\n",
       "      'train_accuracy': 90.20185029436502,\n",
       "      'val_accuracy': 91.91919191919192,\n",
       "      'train_f1': 0.9021589478464451,\n",
       "      'val_f1': 0.9194329290137674,\n",
       "      'time': 40.333075284957886,\n",
       "      'learning_rate': 1e-05},\n",
       "     {'epoch': 9,\n",
       "      'train_loss': 0.22590342599073512,\n",
       "      'val_loss': 0.2204832175844594,\n",
       "      'train_accuracy': 90.45416316232128,\n",
       "      'val_accuracy': 91.58249158249158,\n",
       "      'train_f1': 0.9045730010476414,\n",
       "      'val_f1': 0.916195658869284,\n",
       "      'time': 39.982295751571655,\n",
       "      'learning_rate': 1e-05},\n",
       "     {'epoch': 10,\n",
       "      'train_loss': 0.22193305419395434,\n",
       "      'val_loss': 0.18869288167671153,\n",
       "      'train_accuracy': 91.04289318755256,\n",
       "      'val_accuracy': 92.25589225589225,\n",
       "      'train_f1': 0.9106723391017015,\n",
       "      'val_f1': 0.9227331221032772,\n",
       "      'time': 39.475180864334106,\n",
       "      'learning_rate': 1e-05},\n",
       "     {'epoch': 11,\n",
       "      'train_loss': 0.20175569679513072,\n",
       "      'val_loss': 0.19559359275981,\n",
       "      'train_accuracy': 91.71572750210261,\n",
       "      'val_accuracy': 91.58249158249158,\n",
       "      'train_f1': 0.9171737035588716,\n",
       "      'val_f1': 0.9159067101111175,\n",
       "      'time': 39.30968976020813,\n",
       "      'learning_rate': 1e-05},\n",
       "     {'epoch': 12,\n",
       "      'train_loss': 0.21637219763142151,\n",
       "      'val_loss': 0.19794218644107642,\n",
       "      'train_accuracy': 91.1690496215307,\n",
       "      'val_accuracy': 92.08754208754209,\n",
       "      'train_f1': 0.9118521126293633,\n",
       "      'val_f1': 0.9210686095931998,\n",
       "      'time': 39.75556039810181,\n",
       "      'learning_rate': 1e-05},\n",
       "     {'epoch': 13,\n",
       "      'train_loss': 0.1848911627777071,\n",
       "      'val_loss': 0.16666947589500955,\n",
       "      'train_accuracy': 92.6829268292683,\n",
       "      'val_accuracy': 93.0976430976431,\n",
       "      'train_f1': 0.9268485600529441,\n",
       "      'val_f1': 0.9310894520251245,\n",
       "      'time': 39.215972661972046,\n",
       "      'learning_rate': 1e-05},\n",
       "     {'epoch': 14,\n",
       "      'train_loss': 0.1802671649212005,\n",
       "      'val_loss': 0.18247878747551063,\n",
       "      'train_accuracy': 92.64087468460892,\n",
       "      'val_accuracy': 92.92929292929293,\n",
       "      'train_f1': 0.9265056412148834,\n",
       "      'val_f1': 0.9292560103963612,\n",
       "      'time': 39.36029624938965,\n",
       "      'learning_rate': 1e-05},\n",
       "     {'epoch': 15,\n",
       "      'train_loss': 0.18256401808169864,\n",
       "      'val_loss': 0.17227952755791576,\n",
       "      'train_accuracy': 92.09419680403701,\n",
       "      'val_accuracy': 92.92929292929293,\n",
       "      'train_f1': 0.9210319953416828,\n",
       "      'val_f1': 0.9295272283778032,\n",
       "      'time': 39.4696090221405,\n",
       "      'learning_rate': 1e-05},\n",
       "     {'epoch': 16,\n",
       "      'train_loss': 0.18566079328974222,\n",
       "      'val_loss': 0.16031467752825274,\n",
       "      'train_accuracy': 92.38856181665265,\n",
       "      'val_accuracy': 93.0976430976431,\n",
       "      'train_f1': 0.9239858346279651,\n",
       "      'val_f1': 0.9311180249335732,\n",
       "      'time': 39.46491837501526,\n",
       "      'learning_rate': 1e-05},\n",
       "     {'epoch': 17,\n",
       "      'train_loss': 0.1674711993276673,\n",
       "      'val_loss': 0.17676965446260415,\n",
       "      'train_accuracy': 93.43986543313709,\n",
       "      'val_accuracy': 92.5925925925926,\n",
       "      'train_f1': 0.9345187122389554,\n",
       "      'val_f1': 0.9256170243694775,\n",
       "      'time': 39.67573428153992,\n",
       "      'learning_rate': 1e-05},\n",
       "     {'epoch': 18,\n",
       "      'train_loss': 0.16597582021690654,\n",
       "      'val_loss': 0.17634881336830163,\n",
       "      'train_accuracy': 93.81833473507149,\n",
       "      'val_accuracy': 92.92929292929293,\n",
       "      'train_f1': 0.9382425341318023,\n",
       "      'val_f1': 0.9293934397600263,\n",
       "      'time': 39.52728462219238,\n",
       "      'learning_rate': 1e-05},\n",
       "     {'epoch': 19,\n",
       "      'train_loss': 0.17095712953615907,\n",
       "      'val_loss': 0.15083130032412315,\n",
       "      'train_accuracy': 93.2296047098402,\n",
       "      'val_accuracy': 94.10774410774411,\n",
       "      'train_f1': 0.9324383794004816,\n",
       "      'val_f1': 0.9412213050162125,\n",
       "      'time': 39.415711641311646,\n",
       "      'learning_rate': 1e-05},\n",
       "     {'epoch': 20,\n",
       "      'train_loss': 0.16821201319412496,\n",
       "      'val_loss': 0.15316182982764745,\n",
       "      'train_accuracy': 93.52396972245585,\n",
       "      'val_accuracy': 93.77104377104376,\n",
       "      'train_f1': 0.935297740106128,\n",
       "      'val_f1': 0.9376610840499044,\n",
       "      'time': 39.97807264328003,\n",
       "      'learning_rate': 1e-05}]},\n",
       "   {'fold': 4,\n",
       "    'model_save_path': 'training/MobileNetV2_lr_1e-05_bs_16_aug_True_fold_4.pth',\n",
       "    'total_time_training': 954.3139510154724,\n",
       "    'val_accuracy': 93.0976430976431,\n",
       "    'training_metrics': [{'epoch': 1,\n",
       "      'train_loss': 0.5303917802220223,\n",
       "      'val_loss': 0.4108121693134308,\n",
       "      'train_accuracy': 74.76871320437343,\n",
       "      'val_accuracy': 80.63973063973064,\n",
       "      'train_f1': 0.744764597120111,\n",
       "      'val_f1': 0.8033737142648034,\n",
       "      'time': 39.23993468284607,\n",
       "      'learning_rate': 1e-05},\n",
       "     {'epoch': 2,\n",
       "      'train_loss': 0.4017101613267156,\n",
       "      'val_loss': 0.31852229527736964,\n",
       "      'train_accuracy': 83.38940285954584,\n",
       "      'val_accuracy': 87.20538720538721,\n",
       "      'train_f1': 0.8328288862960912,\n",
       "      'val_f1': 0.8714943991362523,\n",
       "      'time': 39.203611850738525,\n",
       "      'learning_rate': 1e-05},\n",
       "     {'epoch': 3,\n",
       "      'train_loss': 0.3393021419944379,\n",
       "      'val_loss': 0.2758151767285247,\n",
       "      'train_accuracy': 86.12279226240538,\n",
       "      'val_accuracy': 89.05723905723906,\n",
       "      'train_f1': 0.8613784957711857,\n",
       "      'val_f1': 0.8901884340480832,\n",
       "      'time': 39.444441080093384,\n",
       "      'learning_rate': 1e-05},\n",
       "     {'epoch': 4,\n",
       "      'train_loss': 0.2904553931431482,\n",
       "      'val_loss': 0.23963010624835365,\n",
       "      'train_accuracy': 88.18334735071488,\n",
       "      'val_accuracy': 91.07744107744108,\n",
       "      'train_f1': 0.8818250759995759,\n",
       "      'val_f1': 0.9105100253097195,\n",
       "      'time': 39.29836297035217,\n",
       "      'learning_rate': 1e-05},\n",
       "     {'epoch': 5,\n",
       "      'train_loss': 0.27420952858640846,\n",
       "      'val_loss': 0.2434952586497131,\n",
       "      'train_accuracy': 88.43566021867115,\n",
       "      'val_accuracy': 89.22558922558923,\n",
       "      'train_f1': 0.8843970284307898,\n",
       "      'val_f1': 0.8915075041589393,\n",
       "      'time': 39.417160749435425,\n",
       "      'learning_rate': 1e-05},\n",
       "     {'epoch': 6,\n",
       "      'train_loss': 0.24679974074031683,\n",
       "      'val_loss': 0.21318901673351465,\n",
       "      'train_accuracy': 90.2439024390244,\n",
       "      'val_accuracy': 91.41414141414141,\n",
       "      'train_f1': 0.9024390243902439,\n",
       "      'val_f1': 0.9140151613252874,\n",
       "      'time': 39.61731767654419,\n",
       "      'learning_rate': 1e-05},\n",
       "     {'epoch': 7,\n",
       "      'train_loss': 0.2509742848225088,\n",
       "      'val_loss': 0.19612840778733553,\n",
       "      'train_accuracy': 90.32800672834314,\n",
       "      'val_accuracy': 92.25589225589225,\n",
       "      'train_f1': 0.9034097754344704,\n",
       "      'val_f1': 0.922661742412681,\n",
       "      'time': 39.468114137649536,\n",
       "      'learning_rate': 1e-05},\n",
       "     {'epoch': 8,\n",
       "      'train_loss': 0.2390706132122334,\n",
       "      'val_loss': 0.1992948072913446,\n",
       "      'train_accuracy': 90.07569386038688,\n",
       "      'val_accuracy': 91.75084175084174,\n",
       "      'train_f1': 0.900851690525003,\n",
       "      'val_f1': 0.9173871157831193,\n",
       "      'time': 39.38600206375122,\n",
       "      'learning_rate': 1e-05},\n",
       "     {'epoch': 9,\n",
       "      'train_loss': 0.2030935737260636,\n",
       "      'val_loss': 0.19314376666749777,\n",
       "      'train_accuracy': 91.42136248948697,\n",
       "      'val_accuracy': 91.75084175084174,\n",
       "      'train_f1': 0.9143394572213747,\n",
       "      'val_f1': 0.9173480486889336,\n",
       "      'time': 39.39394164085388,\n",
       "      'learning_rate': 1e-05},\n",
       "     {'epoch': 10,\n",
       "      'train_loss': 0.20252832115296548,\n",
       "      'val_loss': 0.20698505973345355,\n",
       "      'train_accuracy': 91.46341463414635,\n",
       "      'val_accuracy': 91.24579124579125,\n",
       "      'train_f1': 0.9147432123917424,\n",
       "      'val_f1': 0.9121748958601942,\n",
       "      'time': 39.062923431396484,\n",
       "      'learning_rate': 1e-05},\n",
       "     {'epoch': 11,\n",
       "      'train_loss': 0.22462836502982467,\n",
       "      'val_loss': 0.17391833878661456,\n",
       "      'train_accuracy': 90.11774600504626,\n",
       "      'val_accuracy': 91.75084175084174,\n",
       "      'train_f1': 0.9011983012079826,\n",
       "      'val_f1': 0.917459359812301,\n",
       "      'time': 39.619879484176636,\n",
       "      'learning_rate': 1e-05},\n",
       "     {'epoch': 12,\n",
       "      'train_loss': 0.2027707366810349,\n",
       "      'val_loss': 0.158978583242156,\n",
       "      'train_accuracy': 92.34650967199327,\n",
       "      'val_accuracy': 93.43434343434343,\n",
       "      'train_f1': 0.9235677353437984,\n",
       "      'val_f1': 0.9343556762886618,\n",
       "      'time': 39.16026186943054,\n",
       "      'learning_rate': 1e-05},\n",
       "     {'epoch': 13,\n",
       "      'train_loss': 0.18535560570757262,\n",
       "      'val_loss': 0.15829342044889927,\n",
       "      'train_accuracy': 92.6829268292683,\n",
       "      'val_accuracy': 93.6026936026936,\n",
       "      'train_f1': 0.9268797264340164,\n",
       "      'val_f1': 0.9359474416945682,\n",
       "      'time': 39.436903953552246,\n",
       "      'learning_rate': 1e-05},\n",
       "     {'epoch': 14,\n",
       "      'train_loss': 0.1894149988039628,\n",
       "      'val_loss': 0.18486662620776578,\n",
       "      'train_accuracy': 92.01009251471825,\n",
       "      'val_accuracy': 92.42424242424242,\n",
       "      'train_f1': 0.9202080753589104,\n",
       "      'val_f1': 0.9243086089111037,\n",
       "      'time': 39.33952355384827,\n",
       "      'learning_rate': 1e-05},\n",
       "     {'epoch': 15,\n",
       "      'train_loss': 0.17978930149552405,\n",
       "      'val_loss': 0.15254677302743258,\n",
       "      'train_accuracy': 92.97729184188394,\n",
       "      'val_accuracy': 93.6026936026936,\n",
       "      'train_f1': 0.9298166245475761,\n",
       "      'val_f1': 0.9361293807390461,\n",
       "      'time': 39.71801280975342,\n",
       "      'learning_rate': 1e-05},\n",
       "     {'epoch': 16,\n",
       "      'train_loss': 0.1788631033077336,\n",
       "      'val_loss': 0.18274488574580142,\n",
       "      'train_accuracy': 93.10344827586206,\n",
       "      'val_accuracy': 92.25589225589225,\n",
       "      'train_f1': 0.9311526725082675,\n",
       "      'val_f1': 0.922349883105697,\n",
       "      'time': 39.71316146850586,\n",
       "      'learning_rate': 1e-05},\n",
       "     {'epoch': 17,\n",
       "      'train_loss': 0.18033789925827276,\n",
       "      'val_loss': 0.15627729226099818,\n",
       "      'train_accuracy': 92.22035323801514,\n",
       "      'val_accuracy': 92.92929292929293,\n",
       "      'train_f1': 0.9223693453087574,\n",
       "      'val_f1': 0.9292929292929293,\n",
       "      'time': 39.88781929016113,\n",
       "      'learning_rate': 1e-05},\n",
       "     {'epoch': 18,\n",
       "      'train_loss': 0.178764808472971,\n",
       "      'val_loss': 0.14813697416531413,\n",
       "      'train_accuracy': 93.06139613120268,\n",
       "      'val_accuracy': 93.77104377104376,\n",
       "      'train_f1': 0.9306937286097623,\n",
       "      'val_f1': 0.937558352975165,\n",
       "      'time': 40.430575370788574,\n",
       "      'learning_rate': 1e-05},\n",
       "     {'epoch': 19,\n",
       "      'train_loss': 0.16374229594765094,\n",
       "      'val_loss': 0.15572346168521203,\n",
       "      'train_accuracy': 93.35576114381834,\n",
       "      'val_accuracy': 92.5925925925926,\n",
       "      'train_f1': 0.9336034297504288,\n",
       "      'val_f1': 0.9260022830788732,\n",
       "      'time': 39.681029319763184,\n",
       "      'learning_rate': 1e-05},\n",
       "     {'epoch': 20,\n",
       "      'train_loss': 0.16448929015197009,\n",
       "      'val_loss': 0.16594501565161504,\n",
       "      'train_accuracy': 93.27165685449958,\n",
       "      'val_accuracy': 93.0976430976431,\n",
       "      'train_f1': 0.9327982380559217,\n",
       "      'val_f1': 0.9309893007137213,\n",
       "      'time': 39.67256808280945,\n",
       "      'learning_rate': 1e-05}]},\n",
       "   {'fold': 5,\n",
       "    'model_save_path': 'training/MobileNetV2_lr_1e-05_bs_16_aug_True_fold_5.pth',\n",
       "    'total_time_training': 760.2421886920929,\n",
       "    'val_accuracy': 92.5925925925926,\n",
       "    'training_metrics': [{'epoch': 1,\n",
       "      'train_loss': 0.5375460736303521,\n",
       "      'val_loss': 0.4479886191455941,\n",
       "      'train_accuracy': 73.38099243061396,\n",
       "      'val_accuracy': 79.29292929292929,\n",
       "      'train_f1': 0.728196961561419,\n",
       "      'val_f1': 0.7921897260038434,\n",
       "      'time': 39.151198387145996,\n",
       "      'learning_rate': 1e-05},\n",
       "     {'epoch': 2,\n",
       "      'train_loss': 0.39677762685206114,\n",
       "      'val_loss': 0.3371816951977579,\n",
       "      'train_accuracy': 84.06223717409588,\n",
       "      'val_accuracy': 86.02693602693603,\n",
       "      'train_f1': 0.8401563137890786,\n",
       "      'val_f1': 0.860861496630846,\n",
       "      'time': 39.25414752960205,\n",
       "      'learning_rate': 1e-05},\n",
       "     {'epoch': 3,\n",
       "      'train_loss': 0.3212642273646873,\n",
       "      'val_loss': 0.28791760143480805,\n",
       "      'train_accuracy': 87.2161480235492,\n",
       "      'val_accuracy': 88.88888888888889,\n",
       "      'train_f1': 0.872161480235492,\n",
       "      'val_f1': 0.8896170139862317,\n",
       "      'time': 39.1690239906311,\n",
       "      'learning_rate': 1e-05},\n",
       "     {'epoch': 4,\n",
       "      'train_loss': 0.3011618887618084,\n",
       "      'val_loss': 0.27478349738215146,\n",
       "      'train_accuracy': 88.18334735071488,\n",
       "      'val_accuracy': 88.88888888888889,\n",
       "      'train_f1': 0.881959935101946,\n",
       "      'val_f1': 0.8895094977881862,\n",
       "      'time': 39.61791515350342,\n",
       "      'learning_rate': 1e-05},\n",
       "     {'epoch': 5,\n",
       "      'train_loss': 0.2833153124423635,\n",
       "      'val_loss': 0.24522848780217923,\n",
       "      'train_accuracy': 88.05719091673676,\n",
       "      'val_accuracy': 88.72053872053873,\n",
       "      'train_f1': 0.8804981551097706,\n",
       "      'val_f1': 0.8874035500299619,\n",
       "      'time': 38.369399070739746,\n",
       "      'learning_rate': 1e-05},\n",
       "     {'epoch': 6,\n",
       "      'train_loss': 0.2613033302778366,\n",
       "      'val_loss': 0.23890795676331772,\n",
       "      'train_accuracy': 89.27670311185871,\n",
       "      'val_accuracy': 88.38383838383838,\n",
       "      'train_f1': 0.8928930329144619,\n",
       "      'val_f1': 0.884625937457668,\n",
       "      'time': 40.18863248825073,\n",
       "      'learning_rate': 1e-05},\n",
       "     {'epoch': 7,\n",
       "      'train_loss': 0.25092187723857445,\n",
       "      'val_loss': 0.2248069226349655,\n",
       "      'train_accuracy': 90.28595458368376,\n",
       "      'val_accuracy': 90.57239057239057,\n",
       "      'train_f1': 0.9029427057236563,\n",
       "      'val_f1': 0.9057239057239057,\n",
       "      'time': 39.594852447509766,\n",
       "      'learning_rate': 1e-05},\n",
       "     {'epoch': 8,\n",
       "      'train_loss': 0.23054470984427722,\n",
       "      'val_loss': 0.23389764953600733,\n",
       "      'train_accuracy': 90.62237174095878,\n",
       "      'val_accuracy': 90.74074074074075,\n",
       "      'train_f1': 0.9063625644546374,\n",
       "      'val_f1': 0.9080351675387208,\n",
       "      'time': 39.244168519973755,\n",
       "      'learning_rate': 1e-05},\n",
       "     {'epoch': 9,\n",
       "      'train_loss': 0.2156043364197616,\n",
       "      'val_loss': 0.21078672132601864,\n",
       "      'train_accuracy': 91.54751892346509,\n",
       "      'val_accuracy': 91.91919191919192,\n",
       "      'train_f1': 0.9155745082972816,\n",
       "      'val_f1': 0.9197214647172595,\n",
       "      'time': 39.731465578079224,\n",
       "      'learning_rate': 1e-05},\n",
       "     {'epoch': 10,\n",
       "      'train_loss': 0.2153686417904276,\n",
       "      'val_loss': 0.22104199965925594,\n",
       "      'train_accuracy': 90.87468460891506,\n",
       "      'val_accuracy': 90.57239057239057,\n",
       "      'train_f1': 0.9088727971642104,\n",
       "      'val_f1': 0.9058576164557798,\n",
       "      'time': 39.449291944503784,\n",
       "      'learning_rate': 1e-05},\n",
       "     {'epoch': 11,\n",
       "      'train_loss': 0.2027027129676918,\n",
       "      'val_loss': 0.18623465623118376,\n",
       "      'train_accuracy': 91.9259882253995,\n",
       "      'val_accuracy': 92.76094276094275,\n",
       "      'train_f1': 0.9193753902077471,\n",
       "      'val_f1': 0.9277842423027254,\n",
       "      'time': 39.46075487136841,\n",
       "      'learning_rate': 1e-05},\n",
       "     {'epoch': 12,\n",
       "      'train_loss': 0.2030360195785761,\n",
       "      'val_loss': 0.19862897174530908,\n",
       "      'train_accuracy': 91.9259882253995,\n",
       "      'val_accuracy': 92.08754208754209,\n",
       "      'train_f1': 0.9193991673011517,\n",
       "      'val_f1': 0.9210664974006535,\n",
       "      'time': 39.26088571548462,\n",
       "      'learning_rate': 1e-05},\n",
       "     {'epoch': 13,\n",
       "      'train_loss': 0.1858221071228485,\n",
       "      'val_loss': 0.19845549850479552,\n",
       "      'train_accuracy': 92.34650967199327,\n",
       "      'val_accuracy': 92.76094276094275,\n",
       "      'train_f1': 0.9235429500049566,\n",
       "      'val_f1': 0.9279565660466367,\n",
       "      'time': 39.44080924987793,\n",
       "      'learning_rate': 1e-05},\n",
       "     {'epoch': 14,\n",
       "      'train_loss': 0.1762740088739251,\n",
       "      'val_loss': 0.18806844322304977,\n",
       "      'train_accuracy': 92.3044575273339,\n",
       "      'val_accuracy': 92.42424242424242,\n",
       "      'train_f1': 0.9232024786871891,\n",
       "      'val_f1': 0.9244253698516894,\n",
       "      'time': 39.11082577705383,\n",
       "      'learning_rate': 1e-05},\n",
       "     {'epoch': 15,\n",
       "      'train_loss': 0.18041506749671576,\n",
       "      'val_loss': 0.20380707222380137,\n",
       "      'train_accuracy': 92.51471825063078,\n",
       "      'val_accuracy': 91.75084175084174,\n",
       "      'train_f1': 0.9252153110279369,\n",
       "      'val_f1': 0.9181375044891892,\n",
       "      'time': 39.72445750236511,\n",
       "      'learning_rate': 1e-05},\n",
       "     {'epoch': 16,\n",
       "      'train_loss': 0.17823606274471987,\n",
       "      'val_loss': 0.1869509785289043,\n",
       "      'train_accuracy': 92.17830109335576,\n",
       "      'val_accuracy': 92.5925925925926,\n",
       "      'train_f1': 0.9219253902262055,\n",
       "      'val_f1': 0.9264113426574879,\n",
       "      'time': 39.310938119888306,\n",
       "      'learning_rate': 1e-05}]}]},\n",
       " {'all_total_time_kfold': 4028.119151353836,\n",
       "  'params': {'batch_size': 32, 'learning_rate': 0.0001},\n",
       "  'augment': True,\n",
       "  'fold_results': [{'fold': 1,\n",
       "    'model_save_path': 'training/MobileNetV2_lr_0.0001_bs_32_aug_True_fold_1.pth',\n",
       "    'total_time_training': 741.1811468601227,\n",
       "    'val_accuracy': 92.60504201680672,\n",
       "    'training_metrics': [{'epoch': 1,\n",
       "      'train_loss': 0.3668135303258896,\n",
       "      'val_loss': 0.24778615055899872,\n",
       "      'train_accuracy': 83.80311316785864,\n",
       "      'val_accuracy': 89.5798319327731,\n",
       "      'train_f1': 0.8380415097636702,\n",
       "      'val_f1': 0.8963815376897029,\n",
       "      'time': 38.40118336677551,\n",
       "      'learning_rate': 0.0001},\n",
       "     {'epoch': 2,\n",
       "      'train_loss': 0.23620711465676625,\n",
       "      'val_loss': 0.23014891912278376,\n",
       "      'train_accuracy': 90.32393773664283,\n",
       "      'val_accuracy': 90.58823529411765,\n",
       "      'train_f1': 0.9032879526086524,\n",
       "      'val_f1': 0.9060850987295685,\n",
       "      'time': 38.06686067581177,\n",
       "      'learning_rate': 0.0001},\n",
       "     {'epoch': 3,\n",
       "      'train_loss': 0.21055541733900707,\n",
       "      'val_loss': 0.20625213141504087,\n",
       "      'train_accuracy': 91.75431215818259,\n",
       "      'val_accuracy': 91.76470588235294,\n",
       "      'train_f1': 0.9177463013093506,\n",
       "      'val_f1': 0.9179535400876985,\n",
       "      'time': 38.34393858909607,\n",
       "      'learning_rate': 0.0001},\n",
       "     {'epoch': 4,\n",
       "      'train_loss': 0.17037835602958998,\n",
       "      'val_loss': 0.17697197120440633,\n",
       "      'train_accuracy': 92.97433740008414,\n",
       "      'val_accuracy': 93.4453781512605,\n",
       "      'train_f1': 0.929855631579237,\n",
       "      'val_f1': 0.9347235462466302,\n",
       "      'time': 38.776999950408936,\n",
       "      'learning_rate': 0.0001},\n",
       "     {'epoch': 5,\n",
       "      'train_loss': 0.15778270249565443,\n",
       "      'val_loss': 0.1873563486886652,\n",
       "      'train_accuracy': 93.31089608750526,\n",
       "      'val_accuracy': 91.76470588235294,\n",
       "      'train_f1': 0.9332085508888889,\n",
       "      'val_f1': 0.9178827440494156,\n",
       "      'time': 38.616554975509644,\n",
       "      'learning_rate': 0.0001},\n",
       "     {'epoch': 6,\n",
       "      'train_loss': 0.13792215585708617,\n",
       "      'val_loss': 0.17346544867675556,\n",
       "      'train_accuracy': 94.06815313420277,\n",
       "      'val_accuracy': 93.27731092436974,\n",
       "      'train_f1': 0.9407889755729085,\n",
       "      'val_f1': 0.9330624395776009,\n",
       "      'time': 38.80084991455078,\n",
       "      'learning_rate': 0.0001},\n",
       "     {'epoch': 7,\n",
       "      'train_loss': 0.1348377533753713,\n",
       "      'val_loss': 0.220620467670654,\n",
       "      'train_accuracy': 94.95161968868321,\n",
       "      'val_accuracy': 93.10924369747899,\n",
       "      'train_f1': 0.9495829649527775,\n",
       "      'val_f1': 0.9311512569176198,\n",
       "      'time': 38.68505525588989,\n",
       "      'learning_rate': 0.0001},\n",
       "     {'epoch': 8,\n",
       "      'train_loss': 0.11041920671860377,\n",
       "      'val_loss': 0.19476947100146821,\n",
       "      'train_accuracy': 95.37231804795961,\n",
       "      'val_accuracy': 93.94957983193277,\n",
       "      'train_f1': 0.9537895316288412,\n",
       "      'val_f1': 0.9396825008347419,\n",
       "      'time': 38.7178168296814,\n",
       "      'learning_rate': 0.0001},\n",
       "     {'epoch': 9,\n",
       "      'train_loss': 0.12431716982275248,\n",
       "      'val_loss': 0.19784832177193543,\n",
       "      'train_accuracy': 95.45645771981489,\n",
       "      'val_accuracy': 93.10924369747899,\n",
       "      'train_f1': 0.9546631989291208,\n",
       "      'val_f1': 0.9309858961919661,\n",
       "      'time': 38.774186849594116,\n",
       "      'learning_rate': 0.0001},\n",
       "     {'epoch': 10,\n",
       "      'train_loss': 0.09576630902787049,\n",
       "      'val_loss': 0.20374632803233048,\n",
       "      'train_accuracy': 96.33992427429533,\n",
       "      'val_accuracy': 92.94117647058823,\n",
       "      'train_f1': 0.9634153684513158,\n",
       "      'val_f1': 0.9295638240471765,\n",
       "      'time': 38.14358377456665,\n",
       "      'learning_rate': 0.0001},\n",
       "     {'epoch': 11,\n",
       "      'train_loss': 0.11477212541426221,\n",
       "      'val_loss': 0.1462782695889473,\n",
       "      'train_accuracy': 95.75094657130838,\n",
       "      'val_accuracy': 93.61344537815125,\n",
       "      'train_f1': 0.9575333907840992,\n",
       "      'val_f1': 0.9364536125677931,\n",
       "      'time': 38.59638547897339,\n",
       "      'learning_rate': 0.0001},\n",
       "     {'epoch': 12,\n",
       "      'train_loss': 0.09030455706020196,\n",
       "      'val_loss': 0.18778997189120242,\n",
       "      'train_accuracy': 96.84476230542701,\n",
       "      'val_accuracy': 92.60504201680672,\n",
       "      'train_f1': 0.9684576122665808,\n",
       "      'val_f1': 0.9261725977347461,\n",
       "      'time': 38.41750526428223,\n",
       "      'learning_rate': 0.0001},\n",
       "     {'epoch': 13,\n",
       "      'train_loss': 0.08035451817015807,\n",
       "      'val_loss': 0.20882062555143707,\n",
       "      'train_accuracy': 97.1392511569205,\n",
       "      'val_accuracy': 92.94117647058823,\n",
       "      'train_f1': 0.9714171909875352,\n",
       "      'val_f1': 0.9291824640796781,\n",
       "      'time': 38.776732206344604,\n",
       "      'learning_rate': 0.0001},\n",
       "     {'epoch': 14,\n",
       "      'train_loss': 0.07664799435064197,\n",
       "      'val_loss': 0.1674412291889128,\n",
       "      'train_accuracy': 97.3496003365587,\n",
       "      'val_accuracy': 92.94117647058823,\n",
       "      'train_f1': 0.973507680602677,\n",
       "      'val_f1': 0.9293694219598525,\n",
       "      'time': 38.36713361740112,\n",
       "      'learning_rate': 0.0001},\n",
       "     {'epoch': 15,\n",
       "      'train_loss': 0.08691217759624123,\n",
       "      'val_loss': 0.19462504982948303,\n",
       "      'train_accuracy': 96.7185527976441,\n",
       "      'val_accuracy': 93.27731092436974,\n",
       "      'train_f1': 0.9672020013194561,\n",
       "      'val_f1': 0.9329805564830467,\n",
       "      'time': 38.781410217285156,\n",
       "      'learning_rate': 0.0001},\n",
       "     {'epoch': 16,\n",
       "      'train_loss': 0.06500989757478237,\n",
       "      'val_loss': 0.24051478799236448,\n",
       "      'train_accuracy': 97.47580984434161,\n",
       "      'val_accuracy': 92.60504201680672,\n",
       "      'train_f1': 0.9747857541312155,\n",
       "      'val_f1': 0.9257565773337959,\n",
       "      'time': 38.498841524124146,\n",
       "      'learning_rate': 0.0001}]},\n",
       "   {'fold': 2,\n",
       "    'model_save_path': 'training/MobileNetV2_lr_0.0001_bs_32_aug_True_fold_2.pth',\n",
       "    'total_time_training': 833.3489906787872,\n",
       "    'val_accuracy': 95.29411764705883,\n",
       "    'training_metrics': [{'epoch': 1,\n",
       "      'train_loss': 0.3642076774438222,\n",
       "      'val_loss': 0.23763351220833628,\n",
       "      'train_accuracy': 83.92932267564157,\n",
       "      'val_accuracy': 90.08403361344538,\n",
       "      'train_f1': 0.8391795385992883,\n",
       "      'val_f1': 0.9006722926425196,\n",
       "      'time': 38.579113245010376,\n",
       "      'learning_rate': 0.0001},\n",
       "     {'epoch': 2,\n",
       "      'train_loss': 0.24020078430573147,\n",
       "      'val_loss': 0.21177175484205546,\n",
       "      'train_accuracy': 90.49221708035338,\n",
       "      'val_accuracy': 91.9327731092437,\n",
       "      'train_f1': 0.9051752353569021,\n",
       "      'val_f1': 0.919482365865874,\n",
       "      'time': 39.11759686470032,\n",
       "      'learning_rate': 0.0001},\n",
       "     {'epoch': 3,\n",
       "      'train_loss': 0.21548662900924684,\n",
       "      'val_loss': 0.18650387188321665,\n",
       "      'train_accuracy': 91.50189314261674,\n",
       "      'val_accuracy': 93.27731092436974,\n",
       "      'train_f1': 0.9151700450180115,\n",
       "      'val_f1': 0.932901971554895,\n",
       "      'time': 38.37808918952942,\n",
       "      'learning_rate': 0.0001},\n",
       "     {'epoch': 4,\n",
       "      'train_loss': 0.18120908153553802,\n",
       "      'val_loss': 0.17480024107192693,\n",
       "      'train_accuracy': 92.89019772822886,\n",
       "      'val_accuracy': 93.94957983193277,\n",
       "      'train_f1': 0.9290799572075981,\n",
       "      'val_f1': 0.9393438637144653,\n",
       "      'time': 39.10650181770325,\n",
       "      'learning_rate': 0.0001},\n",
       "     {'epoch': 5,\n",
       "      'train_loss': 0.1695793177684148,\n",
       "      'val_loss': 0.15945301989191457,\n",
       "      'train_accuracy': 93.10054690786706,\n",
       "      'val_accuracy': 92.77310924369748,\n",
       "      'train_f1': 0.9311361365677825,\n",
       "      'val_f1': 0.9278811407023079,\n",
       "      'time': 38.41743183135986,\n",
       "      'learning_rate': 0.0001},\n",
       "     {'epoch': 6,\n",
       "      'train_loss': 0.15104601663847764,\n",
       "      'val_loss': 0.15649858989605778,\n",
       "      'train_accuracy': 94.19436264198569,\n",
       "      'val_accuracy': 93.10924369747899,\n",
       "      'train_f1': 0.9420667485419676,\n",
       "      'val_f1': 0.9307734398870661,\n",
       "      'time': 38.7817599773407,\n",
       "      'learning_rate': 0.0001},\n",
       "     {'epoch': 7,\n",
       "      'train_loss': 0.14979050733149052,\n",
       "      'val_loss': 0.15737228654325008,\n",
       "      'train_accuracy': 94.36264198569626,\n",
       "      'val_accuracy': 94.11764705882354,\n",
       "      'train_f1': 0.9436567721744397,\n",
       "      'val_f1': 0.9411070275199492,\n",
       "      'time': 38.39378070831299,\n",
       "      'learning_rate': 0.0001},\n",
       "     {'epoch': 8,\n",
       "      'train_loss': 0.12133249931037426,\n",
       "      'val_loss': 0.15952768961065694,\n",
       "      'train_accuracy': 95.07782919646614,\n",
       "      'val_accuracy': 93.27731092436974,\n",
       "      'train_f1': 0.9508080219627727,\n",
       "      'val_f1': 0.932676665799063,\n",
       "      'time': 38.627214193344116,\n",
       "      'learning_rate': 0.0001},\n",
       "     {'epoch': 9,\n",
       "      'train_loss': 0.1151282994200786,\n",
       "      'val_loss': 0.18062780013209895,\n",
       "      'train_accuracy': 95.66680689945309,\n",
       "      'val_accuracy': 93.78151260504201,\n",
       "      'train_f1': 0.956747636400322,\n",
       "      'val_f1': 0.9378547332276516,\n",
       "      'time': 38.267250299453735,\n",
       "      'learning_rate': 0.0001},\n",
       "     {'epoch': 10,\n",
       "      'train_loss': 0.11883381734291712,\n",
       "      'val_loss': 0.1558917609876708,\n",
       "      'train_accuracy': 95.07782919646614,\n",
       "      'val_accuracy': 93.94957983193277,\n",
       "      'train_f1': 0.9508331761331874,\n",
       "      'val_f1': 0.939521847774701,\n",
       "      'time': 39.04708743095398,\n",
       "      'learning_rate': 0.0001},\n",
       "     {'epoch': 11,\n",
       "      'train_loss': 0.09574950796862443,\n",
       "      'val_loss': 0.17209050618112087,\n",
       "      'train_accuracy': 96.63441312578881,\n",
       "      'val_accuracy': 93.94957983193277,\n",
       "      'train_f1': 0.9663666540863954,\n",
       "      'val_f1': 0.9397043740573153,\n",
       "      'time': 38.2355842590332,\n",
       "      'learning_rate': 0.0001},\n",
       "     {'epoch': 12,\n",
       "      'train_loss': 0.08292001468439897,\n",
       "      'val_loss': 0.14675212166223087,\n",
       "      'train_accuracy': 97.05511148506521,\n",
       "      'val_accuracy': 94.11764705882354,\n",
       "      'train_f1': 0.9705821094079023,\n",
       "      'val_f1': 0.9409415584581389,\n",
       "      'time': 38.86070919036865,\n",
       "      'learning_rate': 0.0001},\n",
       "     {'epoch': 13,\n",
       "      'train_loss': 0.09650142130752405,\n",
       "      'val_loss': 0.13593204064588799,\n",
       "      'train_accuracy': 96.21371476651241,\n",
       "      'val_accuracy': 95.46218487394958,\n",
       "      'train_f1': 0.9621722179102165,\n",
       "      'val_f1': 0.9545905197030268,\n",
       "      'time': 38.60847616195679,\n",
       "      'learning_rate': 0.0001},\n",
       "     {'epoch': 14,\n",
       "      'train_loss': 0.10128835181395213,\n",
       "      'val_loss': 0.15606314904595675,\n",
       "      'train_accuracy': 96.12957509465713,\n",
       "      'val_accuracy': 95.12605042016807,\n",
       "      'train_f1': 0.9613600394837247,\n",
       "      'val_f1': 0.9512495779794985,\n",
       "      'time': 38.71773838996887,\n",
       "      'learning_rate': 0.0001},\n",
       "     {'epoch': 15,\n",
       "      'train_loss': 0.10307121892770131,\n",
       "      'val_loss': 0.1956950471197304,\n",
       "      'train_accuracy': 96.04543542280184,\n",
       "      'val_accuracy': 94.6218487394958,\n",
       "      'train_f1': 0.9604808185515146,\n",
       "      'val_f1': 0.9463215772439159,\n",
       "      'time': 38.687270641326904,\n",
       "      'learning_rate': 0.0001},\n",
       "     {'epoch': 16,\n",
       "      'train_loss': 0.07672953793158134,\n",
       "      'val_loss': 0.16058690453830518,\n",
       "      'train_accuracy': 96.63441312578881,\n",
       "      'val_accuracy': 95.12605042016807,\n",
       "      'train_f1': 0.9663837514466858,\n",
       "      'val_f1': 0.951291547664916,\n",
       "      'time': 38.53238821029663,\n",
       "      'learning_rate': 0.0001},\n",
       "     {'epoch': 17,\n",
       "      'train_loss': 0.089457769356668,\n",
       "      'val_loss': 0.13954087866372183,\n",
       "      'train_accuracy': 96.76062263357173,\n",
       "      'val_accuracy': 94.11764705882354,\n",
       "      'train_f1': 0.9675994818077394,\n",
       "      'val_f1': 0.9411632837683603,\n",
       "      'time': 38.69427156448364,\n",
       "      'learning_rate': 0.0001},\n",
       "     {'epoch': 18,\n",
       "      'train_loss': 0.06320039400830865,\n",
       "      'val_loss': 0.17249631563103512,\n",
       "      'train_accuracy': 97.68615902397981,\n",
       "      'val_accuracy': 95.29411764705883,\n",
       "      'train_f1': 0.9768694426607762,\n",
       "      'val_f1': 0.9530313800884266,\n",
       "      'time': 38.03380584716797,\n",
       "      'learning_rate': 0.0001}]},\n",
       "   {'fold': 3,\n",
       "    'model_save_path': 'training/MobileNetV2_lr_0.0001_bs_32_aug_True_fold_3.pth',\n",
       "    'total_time_training': 602.3244857788086,\n",
       "    'val_accuracy': 92.76094276094275,\n",
       "    'training_metrics': [{'epoch': 1,\n",
       "      'train_loss': 0.36925593614578245,\n",
       "      'val_loss': 0.24113063514232635,\n",
       "      'train_accuracy': 83.34735071488646,\n",
       "      'val_accuracy': 90.23569023569024,\n",
       "      'train_f1': 0.8334735071488646,\n",
       "      'val_f1': 0.9026134876881146,\n",
       "      'time': 39.61195683479309,\n",
       "      'learning_rate': 0.0001},\n",
       "     {'epoch': 2,\n",
       "      'train_loss': 0.24430592248837152,\n",
       "      'val_loss': 0.19910373695586858,\n",
       "      'train_accuracy': 89.78132884777123,\n",
       "      'val_accuracy': 91.41414141414141,\n",
       "      'train_f1': 0.8980059403257437,\n",
       "      'val_f1': 0.9145096141863313,\n",
       "      'time': 38.57805275917053,\n",
       "      'learning_rate': 0.0001},\n",
       "     {'epoch': 3,\n",
       "      'train_loss': 0.21064849724372228,\n",
       "      'val_loss': 0.16750113038640274,\n",
       "      'train_accuracy': 91.54751892346509,\n",
       "      'val_accuracy': 93.77104377104376,\n",
       "      'train_f1': 0.9156528835993591,\n",
       "      'val_f1': 0.9376262839031624,\n",
       "      'time': 38.568735122680664,\n",
       "      'learning_rate': 0.0001},\n",
       "     {'epoch': 4,\n",
       "      'train_loss': 0.18948587199052175,\n",
       "      'val_loss': 0.17397023933498482,\n",
       "      'train_accuracy': 93.01934398654332,\n",
       "      'val_accuracy': 91.41414141414141,\n",
       "      'train_f1': 0.9303364448070293,\n",
       "      'val_f1': 0.9138123983571764,\n",
       "      'time': 38.73668432235718,\n",
       "      'learning_rate': 0.0001},\n",
       "     {'epoch': 5,\n",
       "      'train_loss': 0.16682822237412134,\n",
       "      'val_loss': 0.17214184921038778,\n",
       "      'train_accuracy': 93.6080740117746,\n",
       "      'val_accuracy': 92.42424242424242,\n",
       "      'train_f1': 0.936138029195659,\n",
       "      'val_f1': 0.9243978322441659,\n",
       "      'time': 40.47835063934326,\n",
       "      'learning_rate': 0.0001},\n",
       "     {'epoch': 6,\n",
       "      'train_loss': 0.14506144570807616,\n",
       "      'val_loss': 0.15086812192672178,\n",
       "      'train_accuracy': 94.86963835155593,\n",
       "      'val_accuracy': 93.93939393939394,\n",
       "      'train_f1': 0.9487902749561063,\n",
       "      'val_f1': 0.9396464646464646,\n",
       "      'time': 38.30344033241272,\n",
       "      'learning_rate': 0.0001},\n",
       "     {'epoch': 7,\n",
       "      'train_loss': 0.1332955359419187,\n",
       "      'val_loss': 0.15575392201150717,\n",
       "      'train_accuracy': 94.82758620689656,\n",
       "      'val_accuracy': 93.0976430976431,\n",
       "      'train_f1': 0.9483846004115482,\n",
       "      'val_f1': 0.9311449573047063,\n",
       "      'time': 38.414772033691406,\n",
       "      'learning_rate': 0.0001},\n",
       "     {'epoch': 8,\n",
       "      'train_loss': 0.13035230656464894,\n",
       "      'val_loss': 0.14333688154032356,\n",
       "      'train_accuracy': 94.9116904962153,\n",
       "      'val_accuracy': 93.77104377104376,\n",
       "      'train_f1': 0.9491717923134512,\n",
       "      'val_f1': 0.9378382176229807,\n",
       "      'time': 38.266197681427,\n",
       "      'learning_rate': 0.0001},\n",
       "     {'epoch': 9,\n",
       "      'train_loss': 0.13145494572818278,\n",
       "      'val_loss': 0.15370512106700948,\n",
       "      'train_accuracy': 95.20605550883096,\n",
       "      'val_accuracy': 92.76094276094275,\n",
       "      'train_f1': 0.9520916084459582,\n",
       "      'val_f1': 0.9278606543978388,\n",
       "      'time': 38.209187746047974,\n",
       "      'learning_rate': 0.0001},\n",
       "     {'epoch': 10,\n",
       "      'train_loss': 0.11975896432995796,\n",
       "      'val_loss': 0.15320276704273725,\n",
       "      'train_accuracy': 95.2901597981497,\n",
       "      'val_accuracy': 93.93939393939394,\n",
       "      'train_f1': 0.9529877934023271,\n",
       "      'val_f1': 0.9396134154940373,\n",
       "      'time': 38.46546244621277,\n",
       "      'learning_rate': 0.0001},\n",
       "     {'epoch': 11,\n",
       "      'train_loss': 0.09635262969881296,\n",
       "      'val_loss': 0.14771056626188128,\n",
       "      'train_accuracy': 96.67788057190917,\n",
       "      'val_accuracy': 93.43434343434343,\n",
       "      'train_f1': 0.9668302522878139,\n",
       "      'val_f1': 0.9345712911980396,\n",
       "      'time': 38.52433514595032,\n",
       "      'learning_rate': 0.0001},\n",
       "     {'epoch': 12,\n",
       "      'train_loss': 0.10297990002979834,\n",
       "      'val_loss': 0.18279606692100825,\n",
       "      'train_accuracy': 96.17325483599663,\n",
       "      'val_accuracy': 92.25589225589225,\n",
       "      'train_f1': 0.9617549229653094,\n",
       "      'val_f1': 0.922881593714927,\n",
       "      'time': 38.653279304504395,\n",
       "      'learning_rate': 0.0001},\n",
       "     {'epoch': 13,\n",
       "      'train_loss': 0.09125830989331007,\n",
       "      'val_loss': 0.1578269410682352,\n",
       "      'train_accuracy': 96.67788057190917,\n",
       "      'val_accuracy': 92.76094276094275,\n",
       "      'train_f1': 0.9668106135810366,\n",
       "      'val_f1': 0.9278820816075719,\n",
       "      'time': 38.45928359031677,\n",
       "      'learning_rate': 0.0001}]},\n",
       "   {'fold': 4,\n",
       "    'model_save_path': 'training/MobileNetV2_lr_0.0001_bs_32_aug_True_fold_4.pth',\n",
       "    'total_time_training': 926.3621025085449,\n",
       "    'val_accuracy': 94.61279461279462,\n",
       "    'training_metrics': [{'epoch': 1,\n",
       "      'train_loss': 0.3777727152903875,\n",
       "      'val_loss': 0.24273389146516197,\n",
       "      'train_accuracy': 83.38940285954584,\n",
       "      'val_accuracy': 90.06734006734007,\n",
       "      'train_f1': 0.8336846574870712,\n",
       "      'val_f1': 0.9006143312025664,\n",
       "      'time': 38.71096849441528,\n",
       "      'learning_rate': 0.0001},\n",
       "     {'epoch': 2,\n",
       "      'train_loss': 0.2431759148836136,\n",
       "      'val_loss': 0.16438140622095057,\n",
       "      'train_accuracy': 89.78132884777123,\n",
       "      'val_accuracy': 93.6026936026936,\n",
       "      'train_f1': 0.897930763952559,\n",
       "      'val_f1': 0.93607239643825,\n",
       "      'time': 37.73645734786987,\n",
       "      'learning_rate': 0.0001},\n",
       "     {'epoch': 3,\n",
       "      'train_loss': 0.21536458373069764,\n",
       "      'val_loss': 0.1776499309037861,\n",
       "      'train_accuracy': 91.58957106812447,\n",
       "      'val_accuracy': 92.42424242424242,\n",
       "      'train_f1': 0.916050038300534,\n",
       "      'val_f1': 0.9241650972555672,\n",
       "      'time': 39.18138551712036,\n",
       "      'learning_rate': 0.0001},\n",
       "     {'epoch': 4,\n",
       "      'train_loss': 0.16232480670015018,\n",
       "      'val_loss': 0.17717940517162023,\n",
       "      'train_accuracy': 93.81833473507149,\n",
       "      'val_accuracy': 92.92929292929293,\n",
       "      'train_f1': 0.9382301087845502,\n",
       "      'val_f1': 0.9293188813060351,\n",
       "      'time': 38.510231018066406,\n",
       "      'learning_rate': 0.0001},\n",
       "     {'epoch': 5,\n",
       "      'train_loss': 0.15084359322985014,\n",
       "      'val_loss': 0.15276450565771052,\n",
       "      'train_accuracy': 93.6080740117746,\n",
       "      'val_accuracy': 94.10774410774411,\n",
       "      'train_f1': 0.936116198218404,\n",
       "      'val_f1': 0.9411470980648465,\n",
       "      'time': 38.51690101623535,\n",
       "      'learning_rate': 0.0001},\n",
       "     {'epoch': 6,\n",
       "      'train_loss': 0.1529965073118607,\n",
       "      'val_loss': 0.16087738640214266,\n",
       "      'train_accuracy': 94.02859545836837,\n",
       "      'val_accuracy': 93.43434343434343,\n",
       "      'train_f1': 0.9403350951696795,\n",
       "      'val_f1': 0.9341831288116604,\n",
       "      'time': 38.522889137268066,\n",
       "      'learning_rate': 0.0001},\n",
       "     {'epoch': 7,\n",
       "      'train_loss': 0.12370729838808378,\n",
       "      'val_loss': 0.17148728825544057,\n",
       "      'train_accuracy': 94.78553406223718,\n",
       "      'val_accuracy': 93.6026936026936,\n",
       "      'train_f1': 0.9479572652150766,\n",
       "      'val_f1': 0.9357844345825115,\n",
       "      'time': 38.612913846969604,\n",
       "      'learning_rate': 0.0001},\n",
       "     {'epoch': 8,\n",
       "      'train_loss': 0.13368180339535077,\n",
       "      'val_loss': 0.1462136734473078,\n",
       "      'train_accuracy': 94.78553406223718,\n",
       "      'val_accuracy': 93.77104377104376,\n",
       "      'train_f1': 0.9478912992978047,\n",
       "      'val_f1': 0.9377220518636022,\n",
       "      'time': 38.47550559043884,\n",
       "      'learning_rate': 0.0001},\n",
       "     {'epoch': 9,\n",
       "      'train_loss': 0.12031446098039547,\n",
       "      'val_loss': 0.1617169578216578,\n",
       "      'train_accuracy': 95.24810765349032,\n",
       "      'val_accuracy': 93.43434343434343,\n",
       "      'train_f1': 0.9525106501429706,\n",
       "      'val_f1': 0.9343308061597583,\n",
       "      'time': 38.42158222198486,\n",
       "      'learning_rate': 0.0001},\n",
       "     {'epoch': 10,\n",
       "      'train_loss': 0.1010598617233336,\n",
       "      'val_loss': 0.1886361274672182,\n",
       "      'train_accuracy': 96.25735912531539,\n",
       "      'val_accuracy': 92.42424242424242,\n",
       "      'train_f1': 0.9626068644222443,\n",
       "      'val_f1': 0.9239334348903155,\n",
       "      'time': 38.926586389541626,\n",
       "      'learning_rate': 0.0001},\n",
       "     {'epoch': 11,\n",
       "      'train_loss': 0.09503743880738814,\n",
       "      'val_loss': 0.13777020509893956,\n",
       "      'train_accuracy': 96.08915054667789,\n",
       "      'val_accuracy': 94.94949494949495,\n",
       "      'train_f1': 0.9609158448079317,\n",
       "      'val_f1': 0.9495470111901407,\n",
       "      'time': 38.696717500686646,\n",
       "      'learning_rate': 0.0001},\n",
       "     {'epoch': 12,\n",
       "      'train_loss': 0.09403485481937726,\n",
       "      'val_loss': 0.14143618706025576,\n",
       "      'train_accuracy': 96.50967199327165,\n",
       "      'val_accuracy': 93.77104377104376,\n",
       "      'train_f1': 0.9651277499668119,\n",
       "      'val_f1': 0.937558352975165,\n",
       "      'time': 38.49372744560242,\n",
       "      'learning_rate': 0.0001},\n",
       "     {'epoch': 13,\n",
       "      'train_loss': 0.0896833177904288,\n",
       "      'val_loss': 0.13541384590299507,\n",
       "      'train_accuracy': 97.1825063078217,\n",
       "      'val_accuracy': 95.62289562289563,\n",
       "      'train_f1': 0.9718463761126862,\n",
       "      'val_f1': 0.9562740763647886,\n",
       "      'time': 38.38115572929382,\n",
       "      'learning_rate': 0.0001},\n",
       "     {'epoch': 14,\n",
       "      'train_loss': 0.08257007671830555,\n",
       "      'val_loss': 0.1808677004944337,\n",
       "      'train_accuracy': 96.76198486122792,\n",
       "      'val_accuracy': 92.76094276094275,\n",
       "      'train_f1': 0.9676266774170837,\n",
       "      'val_f1': 0.9271314529691278,\n",
       "      'time': 38.721884965896606,\n",
       "      'learning_rate': 0.0001},\n",
       "     {'epoch': 15,\n",
       "      'train_loss': 0.08434977336476246,\n",
       "      'val_loss': 0.15166433037895904,\n",
       "      'train_accuracy': 96.55172413793103,\n",
       "      'val_accuracy': 94.61279461279462,\n",
       "      'train_f1': 0.9655172413793104,\n",
       "      'val_f1': 0.9461279461279462,\n",
       "      'time': 39.04413390159607,\n",
       "      'learning_rate': 0.0001},\n",
       "     {'epoch': 16,\n",
       "      'train_loss': 0.0772609502573808,\n",
       "      'val_loss': 0.1490780033269211,\n",
       "      'train_accuracy': 96.84608915054667,\n",
       "      'val_accuracy': 94.27609427609427,\n",
       "      'train_f1': 0.9684889306929023,\n",
       "      'val_f1': 0.9426898162530345,\n",
       "      'time': 38.493746280670166,\n",
       "      'learning_rate': 0.0001},\n",
       "     {'epoch': 17,\n",
       "      'train_loss': 0.07017230761547884,\n",
       "      'val_loss': 0.12560638050107578,\n",
       "      'train_accuracy': 97.60302775441548,\n",
       "      'val_accuracy': 95.28619528619528,\n",
       "      'train_f1': 0.9760451952048612,\n",
       "      'val_f1': 0.9528240187211953,\n",
       "      'time': 38.79789733886719,\n",
       "      'learning_rate': 0.0001},\n",
       "     {'epoch': 18,\n",
       "      'train_loss': 0.07639983862638473,\n",
       "      'val_loss': 0.169015902045526,\n",
       "      'train_accuracy': 97.1825063078217,\n",
       "      'val_accuracy': 93.93939393939394,\n",
       "      'train_f1': 0.9718501114189928,\n",
       "      'val_f1': 0.9391642011834318,\n",
       "      'time': 38.493271589279175,\n",
       "      'learning_rate': 0.0001},\n",
       "     {'epoch': 19,\n",
       "      'train_loss': 0.0653351349880298,\n",
       "      'val_loss': 0.1458055906389889,\n",
       "      'train_accuracy': 97.39276703111858,\n",
       "      'val_accuracy': 94.27609427609427,\n",
       "      'train_f1': 0.9739421334838226,\n",
       "      'val_f1': 0.9428199460154929,\n",
       "      'time': 38.91263389587402,\n",
       "      'learning_rate': 0.0001},\n",
       "     {'epoch': 20,\n",
       "      'train_loss': 0.07369436060078442,\n",
       "      'val_loss': 0.1721763255956926,\n",
       "      'train_accuracy': 97.51892346509672,\n",
       "      'val_accuracy': 94.61279461279462,\n",
       "      'train_f1': 0.9752080028454998,\n",
       "      'val_f1': 0.9460099758607221,\n",
       "      'time': 39.827120304107666,\n",
       "      'learning_rate': 0.0001}]},\n",
       "   {'fold': 5,\n",
       "    'model_save_path': 'training/MobileNetV2_lr_0.0001_bs_32_aug_True_fold_5.pth',\n",
       "    'total_time_training': 924.9024255275726,\n",
       "    'val_accuracy': 95.45454545454545,\n",
       "    'training_metrics': [{'epoch': 1,\n",
       "      'train_loss': 0.3880602311094602,\n",
       "      'val_loss': 0.24228208629708542,\n",
       "      'train_accuracy': 82.16989066442389,\n",
       "      'val_accuracy': 88.55218855218855,\n",
       "      'train_f1': 0.8224891428288387,\n",
       "      'val_f1': 0.8859740224685625,\n",
       "      'time': 38.928359508514404,\n",
       "      'learning_rate': 0.0001},\n",
       "     {'epoch': 2,\n",
       "      'train_loss': 0.24183073078592618,\n",
       "      'val_loss': 0.23484025934809133,\n",
       "      'train_accuracy': 90.32800672834314,\n",
       "      'val_accuracy': 89.39393939393939,\n",
       "      'train_f1': 0.9035000328586861,\n",
       "      'val_f1': 0.8945045128291708,\n",
       "      'time': 38.431309938430786,\n",
       "      'learning_rate': 0.0001},\n",
       "     {'epoch': 3,\n",
       "      'train_loss': 0.19306593745946884,\n",
       "      'val_loss': 0.19635895443590065,\n",
       "      'train_accuracy': 91.46341463414635,\n",
       "      'val_accuracy': 92.5925925925926,\n",
       "      'train_f1': 0.9148464892693527,\n",
       "      'val_f1': 0.9263396651921243,\n",
       "      'time': 38.29464507102966,\n",
       "      'learning_rate': 0.0001},\n",
       "     {'epoch': 4,\n",
       "      'train_loss': 0.19866285259524982,\n",
       "      'val_loss': 0.20119302308088854,\n",
       "      'train_accuracy': 91.63162321278385,\n",
       "      'val_accuracy': 90.57239057239057,\n",
       "      'train_f1': 0.9164145629410898,\n",
       "      'val_f1': 0.9063838790821954,\n",
       "      'time': 39.059088706970215,\n",
       "      'learning_rate': 0.0001},\n",
       "     {'epoch': 5,\n",
       "      'train_loss': 0.17496307775378228,\n",
       "      'val_loss': 0.18079449648135587,\n",
       "      'train_accuracy': 92.93523969722456,\n",
       "      'val_accuracy': 91.07744107744108,\n",
       "      'train_f1': 0.9294876196448139,\n",
       "      'val_f1': 0.9110463350785367,\n",
       "      'time': 37.69234371185303,\n",
       "      'learning_rate': 0.0001},\n",
       "     {'epoch': 6,\n",
       "      'train_loss': 0.14510386769970257,\n",
       "      'val_loss': 0.16798643297270724,\n",
       "      'train_accuracy': 93.73423044575273,\n",
       "      'val_accuracy': 92.42424242424242,\n",
       "      'train_f1': 0.9374093606056582,\n",
       "      'val_f1': 0.9247212398717103,\n",
       "      'time': 38.5362753868103,\n",
       "      'learning_rate': 0.0001},\n",
       "     {'epoch': 7,\n",
       "      'train_loss': 0.14212015484770138,\n",
       "      'val_loss': 0.1625012588736258,\n",
       "      'train_accuracy': 94.78553406223718,\n",
       "      'val_accuracy': 93.77104377104376,\n",
       "      'train_f1': 0.9479193162287193,\n",
       "      'val_f1': 0.9377331248805633,\n",
       "      'time': 38.550739765167236,\n",
       "      'learning_rate': 0.0001},\n",
       "     {'epoch': 8,\n",
       "      'train_loss': 0.13666123082240422,\n",
       "      'val_loss': 0.15806673761261136,\n",
       "      'train_accuracy': 94.23885618166527,\n",
       "      'val_accuracy': 92.76094276094275,\n",
       "      'train_f1': 0.942511961640495,\n",
       "      'val_f1': 0.9277366067356472,\n",
       "      'time': 39.11142325401306,\n",
       "      'learning_rate': 0.0001},\n",
       "     {'epoch': 9,\n",
       "      'train_loss': 0.11057588309049607,\n",
       "      'val_loss': 0.16981585441451325,\n",
       "      'train_accuracy': 95.75273338940286,\n",
       "      'val_accuracy': 92.08754208754209,\n",
       "      'train_f1': 0.9575772404876887,\n",
       "      'val_f1': 0.9204535867061648,\n",
       "      'time': 38.17982244491577,\n",
       "      'learning_rate': 0.0001},\n",
       "     {'epoch': 10,\n",
       "      'train_loss': 0.12277632383008798,\n",
       "      'val_loss': 0.16412640853147759,\n",
       "      'train_accuracy': 95.71068124474348,\n",
       "      'val_accuracy': 93.0976430976431,\n",
       "      'train_f1': 0.9571268450573692,\n",
       "      'val_f1': 0.9313442067618413,\n",
       "      'time': 38.95052218437195,\n",
       "      'learning_rate': 0.0001},\n",
       "     {'epoch': 11,\n",
       "      'train_loss': 0.11371217572440703,\n",
       "      'val_loss': 0.15113444606724538,\n",
       "      'train_accuracy': 95.58452481076534,\n",
       "      'val_accuracy': 94.44444444444444,\n",
       "      'train_f1': 0.9559235297117697,\n",
       "      'val_f1': 0.9446137558036172,\n",
       "      'time': 38.59078049659729,\n",
       "      'learning_rate': 0.0001},\n",
       "     {'epoch': 12,\n",
       "      'train_loss': 0.09157937019442519,\n",
       "      'val_loss': 0.16932852174106397,\n",
       "      'train_accuracy': 96.50967199327165,\n",
       "      'val_accuracy': 93.93939393939394,\n",
       "      'train_f1': 0.9651110290435642,\n",
       "      'val_f1': 0.9396333060127684,\n",
       "      'time': 38.51715397834778,\n",
       "      'learning_rate': 0.0001},\n",
       "     {'epoch': 13,\n",
       "      'train_loss': 0.09015267182141543,\n",
       "      'val_loss': 0.13134123345738963,\n",
       "      'train_accuracy': 96.59377628259041,\n",
       "      'val_accuracy': 94.61279461279462,\n",
       "      'train_f1': 0.9659517271389,\n",
       "      'val_f1': 0.9461668415365984,\n",
       "      'time': 38.2653284072876,\n",
       "      'learning_rate': 0.0001},\n",
       "     {'epoch': 14,\n",
       "      'train_loss': 0.09594502530992031,\n",
       "      'val_loss': 0.18439528262732843,\n",
       "      'train_accuracy': 96.55172413793103,\n",
       "      'val_accuracy': 93.26599326599326,\n",
       "      'train_f1': 0.9655523181341014,\n",
       "      'val_f1': 0.9330360592655674,\n",
       "      'time': 38.810709953308105,\n",
       "      'learning_rate': 0.0001},\n",
       "     {'epoch': 15,\n",
       "      'train_loss': 0.08415664185459415,\n",
       "      'val_loss': 0.1519349445343802,\n",
       "      'train_accuracy': 97.43481917577796,\n",
       "      'val_accuracy': 94.61279461279462,\n",
       "      'train_f1': 0.9743645064365094,\n",
       "      'val_f1': 0.946428847412454,\n",
       "      'time': 38.25572109222412,\n",
       "      'learning_rate': 0.0001},\n",
       "     {'epoch': 16,\n",
       "      'train_loss': 0.07631440985947847,\n",
       "      'val_loss': 0.11714248633698414,\n",
       "      'train_accuracy': 97.39276703111858,\n",
       "      'val_accuracy': 94.94949494949495,\n",
       "      'train_f1': 0.9739485703882101,\n",
       "      'val_f1': 0.9496944216773069,\n",
       "      'time': 38.976243019104004,\n",
       "      'learning_rate': 0.0001},\n",
       "     {'epoch': 17,\n",
       "      'train_loss': 0.06613033101583521,\n",
       "      'val_loss': 0.1727196676166434,\n",
       "      'train_accuracy': 97.51892346509672,\n",
       "      'val_accuracy': 94.10774410774411,\n",
       "      'train_f1': 0.9752050144221978,\n",
       "      'val_f1': 0.9414769247973678,\n",
       "      'time': 38.393508434295654,\n",
       "      'learning_rate': 0.0001},\n",
       "     {'epoch': 18,\n",
       "      'train_loss': 0.07182520312567552,\n",
       "      'val_loss': 0.14658304029389432,\n",
       "      'train_accuracy': 97.30866274179984,\n",
       "      'val_accuracy': 93.93939393939394,\n",
       "      'train_f1': 0.9731052402317794,\n",
       "      'val_f1': 0.9395205477492325,\n",
       "      'time': 38.521254539489746,\n",
       "      'learning_rate': 0.0001},\n",
       "     {'epoch': 19,\n",
       "      'train_loss': 0.07274772581954797,\n",
       "      'val_loss': 0.17934509396160903,\n",
       "      'train_accuracy': 96.8040370058873,\n",
       "      'val_accuracy': 94.61279461279462,\n",
       "      'train_f1': 0.9680246766599715,\n",
       "      'val_f1': 0.9464555698694053,\n",
       "      'time': 38.733012676239014,\n",
       "      'learning_rate': 0.0001},\n",
       "     {'epoch': 20,\n",
       "      'train_loss': 0.072326932468762,\n",
       "      'val_loss': 0.14153356938377806,\n",
       "      'train_accuracy': 97.1825063078217,\n",
       "      'val_accuracy': 95.45454545454545,\n",
       "      'train_f1': 0.9718429824794449,\n",
       "      'val_f1': 0.9547115982759549,\n",
       "      'time': 38.71682333946228,\n",
       "      'learning_rate': 0.0001}]}]},\n",
       " {'all_total_time_kfold': 4605.928000926971,\n",
       "  'params': {'batch_size': 32, 'learning_rate': 1e-05},\n",
       "  'augment': True,\n",
       "  'fold_results': [{'fold': 1,\n",
       "    'model_save_path': 'training/MobileNetV2_lr_1e-05_bs_32_aug_True_fold_1.pth',\n",
       "    'total_time_training': 922.9319291114807,\n",
       "    'val_accuracy': 92.60504201680672,\n",
       "    'training_metrics': [{'epoch': 1,\n",
       "      'train_loss': 0.6391999729474386,\n",
       "      'val_loss': 0.5101663972202101,\n",
       "      'train_accuracy': 63.94615061001262,\n",
       "      'val_accuracy': 76.30252100840336,\n",
       "      'train_f1': 0.6320313576262293,\n",
       "      'val_f1': 0.7640005133532016,\n",
       "      'time': 38.595070123672485,\n",
       "      'learning_rate': 1e-05},\n",
       "     {'epoch': 2,\n",
       "      'train_loss': 0.46755016684532164,\n",
       "      'val_loss': 0.4044648416732487,\n",
       "      'train_accuracy': 79.34371055952882,\n",
       "      'val_accuracy': 81.34453781512605,\n",
       "      'train_f1': 0.793200101934158,\n",
       "      'val_f1': 0.8138009889649784,\n",
       "      'time': 38.64366888999939,\n",
       "      'learning_rate': 1e-05},\n",
       "     {'epoch': 3,\n",
       "      'train_loss': 0.3874383779366811,\n",
       "      'val_loss': 0.34851865627263723,\n",
       "      'train_accuracy': 84.6024400504838,\n",
       "      'val_accuracy': 85.71428571428571,\n",
       "      'train_f1': 0.8457011636446221,\n",
       "      'val_f1': 0.857100451618831,\n",
       "      'time': 38.57724857330322,\n",
       "      'learning_rate': 1e-05},\n",
       "     {'epoch': 4,\n",
       "      'train_loss': 0.33634096264839175,\n",
       "      'val_loss': 0.29388801753520966,\n",
       "      'train_accuracy': 86.15902397980648,\n",
       "      'val_accuracy': 88.40336134453781,\n",
       "      'train_f1': 0.8616340591427337,\n",
       "      'val_f1': 0.8839991901376393,\n",
       "      'time': 38.683929443359375,\n",
       "      'learning_rate': 1e-05},\n",
       "     {'epoch': 5,\n",
       "      'train_loss': 0.30770585854848226,\n",
       "      'val_loss': 0.28211963333581624,\n",
       "      'train_accuracy': 87.16870004206983,\n",
       "      'val_accuracy': 89.24369747899159,\n",
       "      'train_f1': 0.8716620440579635,\n",
       "      'val_f1': 0.8928151231397955,\n",
       "      'time': 39.244871377944946,\n",
       "      'learning_rate': 1e-05},\n",
       "     {'epoch': 6,\n",
       "      'train_loss': 0.28191350201765697,\n",
       "      'val_loss': 0.26454392271606547,\n",
       "      'train_accuracy': 88.1783761043332,\n",
       "      'val_accuracy': 89.91596638655462,\n",
       "      'train_f1': 0.8817761416360095,\n",
       "      'val_f1': 0.8993768914959664,\n",
       "      'time': 38.90119481086731,\n",
       "      'learning_rate': 1e-05},\n",
       "     {'epoch': 7,\n",
       "      'train_loss': 0.2667242181301117,\n",
       "      'val_loss': 0.2204747760766431,\n",
       "      'train_accuracy': 88.68321413546487,\n",
       "      'val_accuracy': 92.26890756302521,\n",
       "      'train_f1': 0.8869881277422523,\n",
       "      'val_f1': 0.9228925583838977,\n",
       "      'time': 38.37698578834534,\n",
       "      'learning_rate': 1e-05},\n",
       "     {'epoch': 8,\n",
       "      'train_loss': 0.24685393383105597,\n",
       "      'val_loss': 0.24699930140846654,\n",
       "      'train_accuracy': 89.94530921329407,\n",
       "      'val_accuracy': 90.25210084033614,\n",
       "      'train_f1': 0.8994335361634536,\n",
       "      'val_f1': 0.9026307591077382,\n",
       "      'time': 38.52712035179138,\n",
       "      'learning_rate': 1e-05},\n",
       "     {'epoch': 9,\n",
       "      'train_loss': 0.23435254156589508,\n",
       "      'val_loss': 0.24186876886769346,\n",
       "      'train_accuracy': 90.28186790071518,\n",
       "      'val_accuracy': 92.10084033613445,\n",
       "      'train_f1': 0.9029082303921141,\n",
       "      'val_f1': 0.9211183655908297,\n",
       "      'time': 37.809852838516235,\n",
       "      'learning_rate': 1e-05},\n",
       "     {'epoch': 10,\n",
       "      'train_loss': 0.22374723568558694,\n",
       "      'val_loss': 0.21695929765701294,\n",
       "      'train_accuracy': 91.16533445519562,\n",
       "      'val_accuracy': 91.9327731092437,\n",
       "      'train_f1': 0.9116646326730282,\n",
       "      'val_f1': 0.9193741343334767,\n",
       "      'time': 39.236871004104614,\n",
       "      'learning_rate': 1e-05},\n",
       "     {'epoch': 11,\n",
       "      'train_loss': 0.2136508055528005,\n",
       "      'val_loss': 0.2185993567109108,\n",
       "      'train_accuracy': 91.71224232225494,\n",
       "      'val_accuracy': 92.10084033613445,\n",
       "      'train_f1': 0.917169088955124,\n",
       "      'val_f1': 0.9211589773094954,\n",
       "      'time': 38.394243240356445,\n",
       "      'learning_rate': 1e-05},\n",
       "     {'epoch': 12,\n",
       "      'train_loss': 0.19980182692408563,\n",
       "      'val_loss': 0.20653374924471504,\n",
       "      'train_accuracy': 91.37568363483382,\n",
       "      'val_accuracy': 91.42857142857143,\n",
       "      'train_f1': 0.9138053971360428,\n",
       "      'val_f1': 0.9144491030379631,\n",
       "      'time': 38.32696509361267,\n",
       "      'learning_rate': 1e-05},\n",
       "     {'epoch': 13,\n",
       "      'train_loss': 0.1983045976360639,\n",
       "      'val_loss': 0.20922952223765223,\n",
       "      'train_accuracy': 91.96466133782079,\n",
       "      'val_accuracy': 91.9327731092437,\n",
       "      'train_f1': 0.919730016584656,\n",
       "      'val_f1': 0.9192793393826886,\n",
       "      'time': 38.51994180679321,\n",
       "      'learning_rate': 1e-05},\n",
       "     {'epoch': 14,\n",
       "      'train_loss': 0.18290188804268837,\n",
       "      'val_loss': 0.19903152553658737,\n",
       "      'train_accuracy': 93.05847707193942,\n",
       "      'val_accuracy': 92.60504201680672,\n",
       "      'train_f1': 0.9306322539183494,\n",
       "      'val_f1': 0.9260504201680673,\n",
       "      'time': 38.24954795837402,\n",
       "      'learning_rate': 1e-05},\n",
       "     {'epoch': 15,\n",
       "      'train_loss': 0.19275887663165728,\n",
       "      'val_loss': 0.21624167341935008,\n",
       "      'train_accuracy': 92.00673117374842,\n",
       "      'val_accuracy': 92.43697478991596,\n",
       "      'train_f1': 0.9200775247994066,\n",
       "      'val_f1': 0.9246196056978935,\n",
       "      'time': 38.124831199645996,\n",
       "      'learning_rate': 1e-05},\n",
       "     {'epoch': 16,\n",
       "      'train_loss': 0.17126119275887808,\n",
       "      'val_loss': 0.20785463640564367,\n",
       "      'train_accuracy': 93.22675641564997,\n",
       "      'val_accuracy': 91.59663865546219,\n",
       "      'train_f1': 0.9322974059846186,\n",
       "      'val_f1': 0.9162959301367607,\n",
       "      'time': 38.266844511032104,\n",
       "      'learning_rate': 1e-05},\n",
       "     {'epoch': 17,\n",
       "      'train_loss': 0.1664934067428112,\n",
       "      'val_loss': 0.20887612218135282,\n",
       "      'train_accuracy': 93.77366428270929,\n",
       "      'val_accuracy': 91.9327731092437,\n",
       "      'train_f1': 0.9377829649065446,\n",
       "      'val_f1': 0.919576667779656,\n",
       "      'time': 38.48888158798218,\n",
       "      'learning_rate': 1e-05},\n",
       "     {'epoch': 18,\n",
       "      'train_loss': 0.16491551881035169,\n",
       "      'val_loss': 0.21208950092917994,\n",
       "      'train_accuracy': 93.1426167437947,\n",
       "      'val_accuracy': 91.76470588235294,\n",
       "      'train_f1': 0.9313946828545945,\n",
       "      'val_f1': 0.9178443850128104,\n",
       "      'time': 38.46039867401123,\n",
       "      'learning_rate': 1e-05},\n",
       "     {'epoch': 19,\n",
       "      'train_loss': 0.16535450803736845,\n",
       "      'val_loss': 0.19676626316810908,\n",
       "      'train_accuracy': 93.85780395456457,\n",
       "      'val_accuracy': 92.43697478991596,\n",
       "      'train_f1': 0.9386310277085316,\n",
       "      'val_f1': 0.9244750308848371,\n",
       "      'time': 38.082807540893555,\n",
       "      'learning_rate': 1e-05},\n",
       "     {'epoch': 20,\n",
       "      'train_loss': 0.15962712864081066,\n",
       "      'val_loss': 0.19070598522299215,\n",
       "      'train_accuracy': 93.89987379049222,\n",
       "      'val_accuracy': 92.60504201680672,\n",
       "      'train_f1': 0.9391092301990903,\n",
       "      'val_f1': 0.9264199724469181,\n",
       "      'time': 38.34288835525513,\n",
       "      'learning_rate': 1e-05}]},\n",
       "   {'fold': 2,\n",
       "    'model_save_path': 'training/MobileNetV2_lr_1e-05_bs_32_aug_True_fold_2.pth',\n",
       "    'total_time_training': 919.2590272426605,\n",
       "    'val_accuracy': 93.27731092436974,\n",
       "    'training_metrics': [{'epoch': 1,\n",
       "      'train_loss': 0.5580835167566935,\n",
       "      'val_loss': 0.46736639738082886,\n",
       "      'train_accuracy': 72.48632730332352,\n",
       "      'val_accuracy': 80.84033613445378,\n",
       "      'train_f1': 0.7239273093027363,\n",
       "      'val_f1': 0.8084858512865537,\n",
       "      'time': 38.14225172996521,\n",
       "      'learning_rate': 1e-05},\n",
       "     {'epoch': 2,\n",
       "      'train_loss': 0.4334426858027776,\n",
       "      'val_loss': 0.37300434708595276,\n",
       "      'train_accuracy': 81.02650399663442,\n",
       "      'val_accuracy': 85.54621848739495,\n",
       "      'train_f1': 0.8086902838583628,\n",
       "      'val_f1': 0.8543350613010596,\n",
       "      'time': 38.33125901222229,\n",
       "      'learning_rate': 1e-05},\n",
       "     {'epoch': 3,\n",
       "      'train_loss': 0.3653335253397624,\n",
       "      'val_loss': 0.3117945123659937,\n",
       "      'train_accuracy': 85.52797644089188,\n",
       "      'val_accuracy': 88.0672268907563,\n",
       "      'train_f1': 0.8549790555350062,\n",
       "      'val_f1': 0.880268674355628,\n",
       "      'time': 37.7265567779541,\n",
       "      'learning_rate': 1e-05},\n",
       "     {'epoch': 4,\n",
       "      'train_loss': 0.3114833841721217,\n",
       "      'val_loss': 0.2865762294907319,\n",
       "      'train_accuracy': 87.84181741691208,\n",
       "      'val_accuracy': 88.57142857142857,\n",
       "      'train_f1': 0.8785384860436213,\n",
       "      'val_f1': 0.8857634902411022,\n",
       "      'time': 39.005024909973145,\n",
       "      'learning_rate': 1e-05},\n",
       "     {'epoch': 5,\n",
       "      'train_loss': 0.28230045864979425,\n",
       "      'val_loss': 0.27965597808361053,\n",
       "      'train_accuracy': 89.14598233066891,\n",
       "      'val_accuracy': 87.39495798319328,\n",
       "      'train_f1': 0.8914746815661712,\n",
       "      'val_f1': 0.87421129192263,\n",
       "      'time': 38.310248374938965,\n",
       "      'learning_rate': 1e-05},\n",
       "     {'epoch': 6,\n",
       "      'train_loss': 0.28056392043828965,\n",
       "      'val_loss': 0.24560753609004773,\n",
       "      'train_accuracy': 88.64114429953723,\n",
       "      'val_accuracy': 90.25210084033614,\n",
       "      'train_f1': 0.8865451611325642,\n",
       "      'val_f1': 0.9026399996763715,\n",
       "      'time': 38.20220971107483,\n",
       "      'learning_rate': 1e-05},\n",
       "     {'epoch': 7,\n",
       "      'train_loss': 0.254796593884627,\n",
       "      'val_loss': 0.2583851861326318,\n",
       "      'train_accuracy': 89.35633151030711,\n",
       "      'val_accuracy': 88.90756302521008,\n",
       "      'train_f1': 0.8935994362395702,\n",
       "      'val_f1': 0.8886668953295604,\n",
       "      'time': 38.30037331581116,\n",
       "      'learning_rate': 1e-05},\n",
       "     {'epoch': 8,\n",
       "      'train_loss': 0.2382479884227117,\n",
       "      'val_loss': 0.212509412514536,\n",
       "      'train_accuracy': 90.28186790071518,\n",
       "      'val_accuracy': 90.75630252100841,\n",
       "      'train_f1': 0.9029270400578314,\n",
       "      'val_f1': 0.9075423030645662,\n",
       "      'time': 38.322314739227295,\n",
       "      'learning_rate': 1e-05},\n",
       "     {'epoch': 9,\n",
       "      'train_loss': 0.22875479151805242,\n",
       "      'val_loss': 0.2281786364160086,\n",
       "      'train_accuracy': 90.78670593184687,\n",
       "      'val_accuracy': 90.08403361344538,\n",
       "      'train_f1': 0.9079697912236583,\n",
       "      'val_f1': 0.9007232749622002,\n",
       "      'time': 38.071763038635254,\n",
       "      'learning_rate': 1e-05},\n",
       "     {'epoch': 10,\n",
       "      'train_loss': 0.2089640713731448,\n",
       "      'val_loss': 0.19277647647418475,\n",
       "      'train_accuracy': 92.0908708456037,\n",
       "      'val_accuracy': 92.10084033613445,\n",
       "      'train_f1': 0.9209819663013411,\n",
       "      'val_f1': 0.9209151512410747,\n",
       "      'time': 38.55331873893738,\n",
       "      'learning_rate': 1e-05},\n",
       "     {'epoch': 11,\n",
       "      'train_loss': 0.20816219985485077,\n",
       "      'val_loss': 0.21251103870178523,\n",
       "      'train_accuracy': 91.41775347076147,\n",
       "      'val_accuracy': 91.9327731092437,\n",
       "      'train_f1': 0.9143400723160219,\n",
       "      'val_f1': 0.919426206628721,\n",
       "      'time': 38.19208860397339,\n",
       "      'learning_rate': 1e-05},\n",
       "     {'epoch': 12,\n",
       "      'train_loss': 0.19226193537314734,\n",
       "      'val_loss': 0.20775358927877327,\n",
       "      'train_accuracy': 91.96466133782079,\n",
       "      'val_accuracy': 91.42857142857143,\n",
       "      'train_f1': 0.919736210610588,\n",
       "      'val_f1': 0.9143044201131949,\n",
       "      'time': 38.21021556854248,\n",
       "      'learning_rate': 1e-05},\n",
       "     {'epoch': 13,\n",
       "      'train_loss': 0.18704585830370585,\n",
       "      'val_loss': 0.181367652588769,\n",
       "      'train_accuracy': 91.92259150189314,\n",
       "      'val_accuracy': 92.43697478991596,\n",
       "      'train_f1': 0.9194237931460666,\n",
       "      'val_f1': 0.9244758956214064,\n",
       "      'time': 38.20606851577759,\n",
       "      'learning_rate': 1e-05},\n",
       "     {'epoch': 14,\n",
       "      'train_loss': 0.1880036317308744,\n",
       "      'val_loss': 0.17139358936171784,\n",
       "      'train_accuracy': 92.34328986116954,\n",
       "      'val_accuracy': 93.27731092436974,\n",
       "      'train_f1': 0.9236037895264286,\n",
       "      'val_f1': 0.9327425677330486,\n",
       "      'time': 38.00407290458679,\n",
       "      'learning_rate': 1e-05},\n",
       "     {'epoch': 15,\n",
       "      'train_loss': 0.17683510561784108,\n",
       "      'val_loss': 0.18135003863196625,\n",
       "      'train_accuracy': 92.59570887673539,\n",
       "      'val_accuracy': 92.60504201680672,\n",
       "      'train_f1': 0.9260712874869473,\n",
       "      'val_f1': 0.92586472231768,\n",
       "      'time': 38.46055364608765,\n",
       "      'learning_rate': 1e-05},\n",
       "     {'epoch': 16,\n",
       "      'train_loss': 0.16860884825388592,\n",
       "      'val_loss': 0.17672774117243917,\n",
       "      'train_accuracy': 93.05847707193942,\n",
       "      'val_accuracy': 92.77310924369748,\n",
       "      'train_f1': 0.9306357240973405,\n",
       "      'val_f1': 0.9277148914868427,\n",
       "      'time': 38.265533447265625,\n",
       "      'learning_rate': 1e-05},\n",
       "     {'epoch': 17,\n",
       "      'train_loss': 0.17060223534703256,\n",
       "      'val_loss': 0.16726618926776082,\n",
       "      'train_accuracy': 93.10054690786706,\n",
       "      'val_accuracy': 94.6218487394958,\n",
       "      'train_f1': 0.9310605602253745,\n",
       "      'val_f1': 0.9462841377524809,\n",
       "      'time': 38.16022348403931,\n",
       "      'learning_rate': 1e-05},\n",
       "     {'epoch': 18,\n",
       "      'train_loss': 0.16165112261970838,\n",
       "      'val_loss': 0.17542177674017453,\n",
       "      'train_accuracy': 93.89987379049222,\n",
       "      'val_accuracy': 93.27731092436974,\n",
       "      'train_f1': 0.9390743191821387,\n",
       "      'val_f1': 0.932901971554895,\n",
       "      'time': 38.39832258224487,\n",
       "      'learning_rate': 1e-05},\n",
       "     {'epoch': 19,\n",
       "      'train_loss': 0.15469459662834803,\n",
       "      'val_loss': 0.1736544445157051,\n",
       "      'train_accuracy': 94.02608329827514,\n",
       "      'val_accuracy': 93.4453781512605,\n",
       "      'train_f1': 0.9403237076560303,\n",
       "      'val_f1': 0.9345898717997676,\n",
       "      'time': 38.436264514923096,\n",
       "      'learning_rate': 1e-05},\n",
       "     {'epoch': 20,\n",
       "      'train_loss': 0.16081934581200283,\n",
       "      'val_loss': 0.16221689158364347,\n",
       "      'train_accuracy': 93.47917543121582,\n",
       "      'val_accuracy': 93.27731092436974,\n",
       "      'train_f1': 0.9348644641080687,\n",
       "      'val_f1': 0.932901971554895,\n",
       "      'time': 38.696354150772095,\n",
       "      'learning_rate': 1e-05}]},\n",
       "   {'fold': 3,\n",
       "    'model_save_path': 'training/MobileNetV2_lr_1e-05_bs_32_aug_True_fold_3.pth',\n",
       "    'total_time_training': 919.4403178691864,\n",
       "    'val_accuracy': 92.76094276094275,\n",
       "    'training_metrics': [{'epoch': 1,\n",
       "      'train_loss': 0.6258767648537954,\n",
       "      'val_loss': 0.4938621395512631,\n",
       "      'train_accuracy': 64.8444070647603,\n",
       "      'val_accuracy': 77.77777777777777,\n",
       "      'train_f1': 0.6440072653871154,\n",
       "      'val_f1': 0.7777777777777778,\n",
       "      'time': 38.15324878692627,\n",
       "      'learning_rate': 1e-05},\n",
       "     {'epoch': 2,\n",
       "      'train_loss': 0.46011077602704364,\n",
       "      'val_loss': 0.40098464175274495,\n",
       "      'train_accuracy': 79.22624053826745,\n",
       "      'val_accuracy': 83.67003367003367,\n",
       "      'train_f1': 0.7914342585693513,\n",
       "      'val_f1': 0.8366581997389587,\n",
       "      'time': 38.410356283187866,\n",
       "      'learning_rate': 1e-05},\n",
       "     {'epoch': 3,\n",
       "      'train_loss': 0.38699251075585683,\n",
       "      'val_loss': 0.34114737494995717,\n",
       "      'train_accuracy': 83.97813288477712,\n",
       "      'val_accuracy': 87.20538720538721,\n",
       "      'train_f1': 0.8392113380493604,\n",
       "      'val_f1': 0.8722902375640543,\n",
       "      'time': 38.166810750961304,\n",
       "      'learning_rate': 1e-05},\n",
       "     {'epoch': 4,\n",
       "      'train_loss': 0.32708878686030707,\n",
       "      'val_loss': 0.30662999968779714,\n",
       "      'train_accuracy': 87.04793944491169,\n",
       "      'val_accuracy': 88.04713804713805,\n",
       "      'train_f1': 0.8705469057922419,\n",
       "      'val_f1': 0.8807632187471741,\n",
       "      'time': 38.52712392807007,\n",
       "      'learning_rate': 1e-05},\n",
       "     {'epoch': 5,\n",
       "      'train_loss': 0.2951013797521591,\n",
       "      'val_loss': 0.2728414535522461,\n",
       "      'train_accuracy': 88.43566021867115,\n",
       "      'val_accuracy': 89.56228956228956,\n",
       "      'train_f1': 0.8842359871176304,\n",
       "      'val_f1': 0.8959341999761162,\n",
       "      'time': 38.22699475288391,\n",
       "      'learning_rate': 1e-05},\n",
       "     {'epoch': 6,\n",
       "      'train_loss': 0.27824186672767004,\n",
       "      'val_loss': 0.2602018412006529,\n",
       "      'train_accuracy': 88.68797308662742,\n",
       "      'val_accuracy': 88.72053872053873,\n",
       "      'train_f1': 0.8868101074070108,\n",
       "      'val_f1': 0.8873900801386182,\n",
       "      'time': 38.822736501693726,\n",
       "      'learning_rate': 1e-05},\n",
       "     {'epoch': 7,\n",
       "      'train_loss': 0.2646764239668846,\n",
       "      'val_loss': 0.24476046468082227,\n",
       "      'train_accuracy': 89.10849453322119,\n",
       "      'val_accuracy': 88.72053872053873,\n",
       "      'train_f1': 0.8911623246988949,\n",
       "      'val_f1': 0.8875221247150709,\n",
       "      'time': 38.109731912612915,\n",
       "      'learning_rate': 1e-05},\n",
       "     {'epoch': 8,\n",
       "      'train_loss': 0.25118679702281954,\n",
       "      'val_loss': 0.25295567512512207,\n",
       "      'train_accuracy': 89.61312026913373,\n",
       "      'val_accuracy': 90.23569023569024,\n",
       "      'train_f1': 0.8960817571370143,\n",
       "      'val_f1': 0.9025765452606538,\n",
       "      'time': 38.568540811538696,\n",
       "      'learning_rate': 1e-05},\n",
       "     {'epoch': 9,\n",
       "      'train_loss': 0.2292409344514211,\n",
       "      'val_loss': 0.23410607482257642,\n",
       "      'train_accuracy': 90.58031959629942,\n",
       "      'val_accuracy': 90.57239057239057,\n",
       "      'train_f1': 0.9059436605293862,\n",
       "      'val_f1': 0.9060050838493953,\n",
       "      'time': 38.40801429748535,\n",
       "      'learning_rate': 1e-05},\n",
       "     {'epoch': 10,\n",
       "      'train_loss': 0.21908156534036,\n",
       "      'val_loss': 0.23505096451232307,\n",
       "      'train_accuracy': 91.25315391084945,\n",
       "      'val_accuracy': 90.23569023569024,\n",
       "      'train_f1': 0.9126518263200671,\n",
       "      'val_f1': 0.9028789565501434,\n",
       "      'time': 38.38240098953247,\n",
       "      'learning_rate': 1e-05},\n",
       "     {'epoch': 11,\n",
       "      'train_loss': 0.2157723539074262,\n",
       "      'val_loss': 0.22948437027241053,\n",
       "      'train_accuracy': 91.21110176619007,\n",
       "      'val_accuracy': 91.24579124579125,\n",
       "      'train_f1': 0.9120193502093991,\n",
       "      'val_f1': 0.9125015010378605,\n",
       "      'time': 38.16028332710266,\n",
       "      'learning_rate': 1e-05},\n",
       "     {'epoch': 12,\n",
       "      'train_loss': 0.20425207098325093,\n",
       "      'val_loss': 0.19453949677316765,\n",
       "      'train_accuracy': 92.22035323801514,\n",
       "      'val_accuracy': 92.42424242424242,\n",
       "      'train_f1': 0.922350201482562,\n",
       "      'val_f1': 0.9244811375502269,\n",
       "      'time': 38.1819863319397,\n",
       "      'learning_rate': 1e-05},\n",
       "     {'epoch': 13,\n",
       "      'train_loss': 0.1915238747994105,\n",
       "      'val_loss': 0.19092808467777153,\n",
       "      'train_accuracy': 92.17830109335576,\n",
       "      'val_accuracy': 92.92929292929293,\n",
       "      'train_f1': 0.9218336769381422,\n",
       "      'val_f1': 0.9294235523380301,\n",
       "      'time': 38.28683161735535,\n",
       "      'learning_rate': 1e-05},\n",
       "     {'epoch': 14,\n",
       "      'train_loss': 0.1957570900519689,\n",
       "      'val_loss': 0.20997498106015355,\n",
       "      'train_accuracy': 92.05214465937763,\n",
       "      'val_accuracy': 91.07744107744108,\n",
       "      'train_f1': 0.9206166958946881,\n",
       "      'val_f1': 0.9109574468653509,\n",
       "      'time': 38.32147979736328,\n",
       "      'learning_rate': 1e-05},\n",
       "     {'epoch': 15,\n",
       "      'train_loss': 0.17561961154143016,\n",
       "      'val_loss': 0.1924863014566271,\n",
       "      'train_accuracy': 93.27165685449958,\n",
       "      'val_accuracy': 91.58249158249158,\n",
       "      'train_f1': 0.9327850808675778,\n",
       "      'val_f1': 0.9158668279210196,\n",
       "      'time': 38.576197385787964,\n",
       "      'learning_rate': 1e-05},\n",
       "     {'epoch': 16,\n",
       "      'train_loss': 0.18250394398967426,\n",
       "      'val_loss': 0.20162873087744965,\n",
       "      'train_accuracy': 92.97729184188394,\n",
       "      'val_accuracy': 91.58249158249158,\n",
       "      'train_f1': 0.929840157823204,\n",
       "      'val_f1': 0.9159067101111175,\n",
       "      'time': 38.41746664047241,\n",
       "      'learning_rate': 1e-05},\n",
       "     {'epoch': 17,\n",
       "      'train_loss': 0.18641163632273675,\n",
       "      'val_loss': 0.176521934568882,\n",
       "      'train_accuracy': 93.01934398654332,\n",
       "      'val_accuracy': 92.76094276094275,\n",
       "      'train_f1': 0.93024738444595,\n",
       "      'val_f1': 0.9277579285888696,\n",
       "      'time': 38.57567024230957,\n",
       "      'learning_rate': 1e-05},\n",
       "     {'epoch': 18,\n",
       "      'train_loss': 0.1616652537882328,\n",
       "      'val_loss': 0.17724283843448288,\n",
       "      'train_accuracy': 93.31370899915896,\n",
       "      'val_accuracy': 92.42424242424242,\n",
       "      'train_f1': 0.9332329300754711,\n",
       "      'val_f1': 0.924505335997738,\n",
       "      'time': 38.28354239463806,\n",
       "      'learning_rate': 1e-05},\n",
       "     {'epoch': 19,\n",
       "      'train_loss': 0.17303121000528335,\n",
       "      'val_loss': 0.18185634832633168,\n",
       "      'train_accuracy': 93.01934398654332,\n",
       "      'val_accuracy': 91.58249158249158,\n",
       "      'train_f1': 0.9303134117701921,\n",
       "      'val_f1': 0.9159067101111175,\n",
       "      'time': 38.51774191856384,\n",
       "      'learning_rate': 1e-05},\n",
       "     {'epoch': 20,\n",
       "      'train_loss': 0.1625725648800532,\n",
       "      'val_loss': 0.17436261004523226,\n",
       "      'train_accuracy': 93.27165685449958,\n",
       "      'val_accuracy': 92.76094276094275,\n",
       "      'train_f1': 0.9327685633213976,\n",
       "      'val_f1': 0.9278127069066873,\n",
       "      'time': 38.170291900634766,\n",
       "      'learning_rate': 1e-05}]},\n",
       "   {'fold': 4,\n",
       "    'model_save_path': 'training/MobileNetV2_lr_1e-05_bs_32_aug_True_fold_4.pth',\n",
       "    'total_time_training': 920.4812183380127,\n",
       "    'val_accuracy': 92.08754208754209,\n",
       "    'training_metrics': [{'epoch': 1,\n",
       "      'train_loss': 0.5694901537895203,\n",
       "      'val_loss': 0.4652232119911595,\n",
       "      'train_accuracy': 70.89991589571068,\n",
       "      'val_accuracy': 80.13468013468014,\n",
       "      'train_f1': 0.7101988426410467,\n",
       "      'val_f1': 0.7996818190636944,\n",
       "      'time': 38.3487982749939,\n",
       "      'learning_rate': 1e-05},\n",
       "     {'epoch': 2,\n",
       "      'train_loss': 0.4449525801340739,\n",
       "      'val_loss': 0.3749905934459285,\n",
       "      'train_accuracy': 80.48780487804878,\n",
       "      'val_accuracy': 84.17508417508418,\n",
       "      'train_f1': 0.8041964372017146,\n",
       "      'val_f1': 0.8396468643382224,\n",
       "      'time': 38.213539361953735,\n",
       "      'learning_rate': 1e-05},\n",
       "     {'epoch': 3,\n",
       "      'train_loss': 0.37222667853037517,\n",
       "      'val_loss': 0.322513651690985,\n",
       "      'train_accuracy': 84.48275862068965,\n",
       "      'val_accuracy': 87.87878787878788,\n",
       "      'train_f1': 0.8445088327311323,\n",
       "      'val_f1': 0.8781843446039834,\n",
       "      'time': 38.35746169090271,\n",
       "      'learning_rate': 1e-05},\n",
       "     {'epoch': 4,\n",
       "      'train_loss': 0.3233345786730448,\n",
       "      'val_loss': 0.2801381427990763,\n",
       "      'train_accuracy': 86.96383515559293,\n",
       "      'val_accuracy': 89.73063973063974,\n",
       "      'train_f1': 0.8694229335389787,\n",
       "      'val_f1': 0.8971067544903052,\n",
       "      'time': 38.17701172828674,\n",
       "      'learning_rate': 1e-05},\n",
       "     {'epoch': 5,\n",
       "      'train_loss': 0.2979569231470426,\n",
       "      'val_loss': 0.26883830404595327,\n",
       "      'train_accuracy': 87.84693019343986,\n",
       "      'val_accuracy': 90.4040404040404,\n",
       "      'train_f1': 0.878425652310235,\n",
       "      'val_f1': 0.9034068097497737,\n",
       "      'time': 38.260342597961426,\n",
       "      'learning_rate': 1e-05},\n",
       "     {'epoch': 6,\n",
       "      'train_loss': 0.27616326212882997,\n",
       "      'val_loss': 0.25037376896331187,\n",
       "      'train_accuracy': 88.22539949537426,\n",
       "      'val_accuracy': 90.74074074074075,\n",
       "      'train_f1': 0.8822031108053491,\n",
       "      'val_f1': 0.9070297537548302,\n",
       "      'time': 38.18260097503662,\n",
       "      'learning_rate': 1e-05},\n",
       "     {'epoch': 7,\n",
       "      'train_loss': 0.26633256644010544,\n",
       "      'val_loss': 0.24677668786362597,\n",
       "      'train_accuracy': 89.73927670311186,\n",
       "      'val_accuracy': 89.39393939393939,\n",
       "      'train_f1': 0.8973633635130828,\n",
       "      'val_f1': 0.8934437850647116,\n",
       "      'time': 38.39801239967346,\n",
       "      'learning_rate': 1e-05},\n",
       "     {'epoch': 8,\n",
       "      'train_loss': 0.2516513971487681,\n",
       "      'val_loss': 0.23448494312010312,\n",
       "      'train_accuracy': 89.23465096719933,\n",
       "      'val_accuracy': 89.05723905723906,\n",
       "      'train_f1': 0.8924771808894748,\n",
       "      'val_f1': 0.8905513435995973,\n",
       "      'time': 38.30378031730652,\n",
       "      'learning_rate': 1e-05},\n",
       "     {'epoch': 9,\n",
       "      'train_loss': 0.2255431697765986,\n",
       "      'val_loss': 0.21628431309210627,\n",
       "      'train_accuracy': 90.37005887300252,\n",
       "      'val_accuracy': 90.57239057239057,\n",
       "      'train_f1': 0.9036937452096189,\n",
       "      'val_f1': 0.9056480374423905,\n",
       "      'time': 38.52715253829956,\n",
       "      'learning_rate': 1e-05},\n",
       "     {'epoch': 10,\n",
       "      'train_loss': 0.2242998683452606,\n",
       "      'val_loss': 0.21790601705249987,\n",
       "      'train_accuracy': 91.04289318755256,\n",
       "      'val_accuracy': 90.74074074074075,\n",
       "      'train_f1': 0.9104725287404954,\n",
       "      'val_f1': 0.9073523426464605,\n",
       "      'time': 37.896815061569214,\n",
       "      'learning_rate': 1e-05},\n",
       "     {'epoch': 11,\n",
       "      'train_loss': 0.20574532469113668,\n",
       "      'val_loss': 0.1952050010624685,\n",
       "      'train_accuracy': 91.63162321278385,\n",
       "      'val_accuracy': 91.41414141414141,\n",
       "      'train_f1': 0.916345486028099,\n",
       "      'val_f1': 0.9140151613252874,\n",
       "      'time': 38.3937292098999,\n",
       "      'learning_rate': 1e-05},\n",
       "     {'epoch': 12,\n",
       "      'train_loss': 0.2026659325758616,\n",
       "      'val_loss': 0.20096773222873085,\n",
       "      'train_accuracy': 91.54751892346509,\n",
       "      'val_accuracy': 92.25589225589225,\n",
       "      'train_f1': 0.9154199588664768,\n",
       "      'val_f1': 0.9223893402997881,\n",
       "      'time': 38.4262478351593,\n",
       "      'learning_rate': 1e-05},\n",
       "     {'epoch': 13,\n",
       "      'train_loss': 0.20236283759276072,\n",
       "      'val_loss': 0.18687757065421656,\n",
       "      'train_accuracy': 91.58957106812447,\n",
       "      'val_accuracy': 93.26599326599326,\n",
       "      'train_f1': 0.9159308952143136,\n",
       "      'val_f1': 0.9325451660781001,\n",
       "      'time': 38.41723823547363,\n",
       "      'learning_rate': 1e-05},\n",
       "     {'epoch': 14,\n",
       "      'train_loss': 0.183071242471536,\n",
       "      'val_loss': 0.19257962468423342,\n",
       "      'train_accuracy': 92.8511354079058,\n",
       "      'val_accuracy': 92.42424242424242,\n",
       "      'train_f1': 0.9284156958357671,\n",
       "      'val_f1': 0.9240179460176864,\n",
       "      'time': 38.23070430755615,\n",
       "      'learning_rate': 1e-05},\n",
       "     {'epoch': 15,\n",
       "      'train_loss': 0.185899975001812,\n",
       "      'val_loss': 0.20364830995860853,\n",
       "      'train_accuracy': 92.26240538267452,\n",
       "      'val_accuracy': 91.58249158249158,\n",
       "      'train_f1': 0.9226240538267452,\n",
       "      'val_f1': 0.9158249158249159,\n",
       "      'time': 38.66512131690979,\n",
       "      'learning_rate': 1e-05},\n",
       "     {'epoch': 16,\n",
       "      'train_loss': 0.19308122778932255,\n",
       "      'val_loss': 0.1904914979087679,\n",
       "      'train_accuracy': 91.84188393608073,\n",
       "      'val_accuracy': 92.76094276094275,\n",
       "      'train_f1': 0.9184640950945417,\n",
       "      'val_f1': 0.9276229251387809,\n",
       "      'time': 38.06011199951172,\n",
       "      'learning_rate': 1e-05},\n",
       "     {'epoch': 17,\n",
       "      'train_loss': 0.17064314663410188,\n",
       "      'val_loss': 0.18201861805037448,\n",
       "      'train_accuracy': 93.73423044575273,\n",
       "      'val_accuracy': 92.92929292929293,\n",
       "      'train_f1': 0.937389702101347,\n",
       "      'val_f1': 0.9291724243820052,\n",
       "      'time': 38.87720012664795,\n",
       "      'learning_rate': 1e-05},\n",
       "     {'epoch': 18,\n",
       "      'train_loss': 0.1681344899535179,\n",
       "      'val_loss': 0.1580898842137111,\n",
       "      'train_accuracy': 93.48191757779647,\n",
       "      'val_accuracy': 94.10774410774411,\n",
       "      'train_f1': 0.9348145437008338,\n",
       "      'val_f1': 0.9411289180419697,\n",
       "      'time': 39.61030626296997,\n",
       "      'learning_rate': 1e-05},\n",
       "     {'epoch': 19,\n",
       "      'train_loss': 0.15947392667333285,\n",
       "      'val_loss': 0.17773754502597608,\n",
       "      'train_accuracy': 93.52396972245585,\n",
       "      'val_accuracy': 92.92929292929293,\n",
       "      'train_f1': 0.9353015268680105,\n",
       "      'val_f1': 0.9293188813060351,\n",
       "      'time': 38.5839421749115,\n",
       "      'learning_rate': 1e-05},\n",
       "     {'epoch': 20,\n",
       "      'train_loss': 0.16524970899025598,\n",
       "      'val_loss': 0.18935858144571907,\n",
       "      'train_accuracy': 93.48191757779647,\n",
       "      'val_accuracy': 92.08754208754209,\n",
       "      'train_f1': 0.9348856656066522,\n",
       "      'val_f1': 0.9206409658406947,\n",
       "      'time': 38.13401961326599,\n",
       "      'learning_rate': 1e-05}]},\n",
       "   {'fold': 5,\n",
       "    'model_save_path': 'training/MobileNetV2_lr_1e-05_bs_32_aug_True_fold_5.pth',\n",
       "    'total_time_training': 923.8155083656311,\n",
       "    'val_accuracy': 91.41414141414141,\n",
       "    'training_metrics': [{'epoch': 1,\n",
       "      'train_loss': 0.5698938000202179,\n",
       "      'val_loss': 0.4945180165140252,\n",
       "      'train_accuracy': 70.77375946173255,\n",
       "      'val_accuracy': 77.44107744107744,\n",
       "      'train_f1': 0.7090381785948647,\n",
       "      'val_f1': 0.7728943720253182,\n",
       "      'time': 38.562605142593384,\n",
       "      'learning_rate': 1e-05},\n",
       "     {'epoch': 2,\n",
       "      'train_loss': 0.4484102725982666,\n",
       "      'val_loss': 0.41367286757418986,\n",
       "      'train_accuracy': 80.40370058873002,\n",
       "      'val_accuracy': 81.14478114478115,\n",
       "      'train_f1': 0.80264084630938,\n",
       "      'val_f1': 0.8114478114478114,\n",
       "      'time': 38.45400810241699,\n",
       "      'learning_rate': 1e-05},\n",
       "     {'epoch': 3,\n",
       "      'train_loss': 0.3731402083237966,\n",
       "      'val_loss': 0.34656697982235957,\n",
       "      'train_accuracy': 84.31455004205215,\n",
       "      'val_accuracy': 85.85858585858585,\n",
       "      'train_f1': 0.8427106051320126,\n",
       "      'val_f1': 0.8578955795920563,\n",
       "      'time': 38.37641501426697,\n",
       "      'learning_rate': 1e-05},\n",
       "     {'epoch': 4,\n",
       "      'train_loss': 0.3339574162165324,\n",
       "      'val_loss': 0.31812135090953425,\n",
       "      'train_accuracy': 87.17409587888983,\n",
       "      'val_accuracy': 87.03703703703704,\n",
       "      'train_f1': 0.8716370468576456,\n",
       "      'val_f1': 0.8705981097359262,\n",
       "      'time': 38.72065877914429,\n",
       "      'learning_rate': 1e-05},\n",
       "     {'epoch': 5,\n",
       "      'train_loss': 0.2967322317759196,\n",
       "      'val_loss': 0.2744064080087762,\n",
       "      'train_accuracy': 87.84693019343986,\n",
       "      'val_accuracy': 89.22558922558923,\n",
       "      'train_f1': 0.878532951378333,\n",
       "      'val_f1': 0.8926814329115881,\n",
       "      'time': 38.15566277503967,\n",
       "      'learning_rate': 1e-05},\n",
       "     {'epoch': 6,\n",
       "      'train_loss': 0.27618500957886377,\n",
       "      'val_loss': 0.26635503298357915,\n",
       "      'train_accuracy': 88.5197645079899,\n",
       "      'val_accuracy': 89.8989898989899,\n",
       "      'train_f1': 0.8851484703853704,\n",
       "      'val_f1': 0.899388843354614,\n",
       "      'time': 38.155773401260376,\n",
       "      'learning_rate': 1e-05},\n",
       "     {'epoch': 7,\n",
       "      'train_loss': 0.2613416061798732,\n",
       "      'val_loss': 0.2483022554140342,\n",
       "      'train_accuracy': 89.27670311185871,\n",
       "      'val_accuracy': 89.73063973063974,\n",
       "      'train_f1': 0.8928471113044484,\n",
       "      'val_f1': 0.8976817590678978,\n",
       "      'time': 38.54873013496399,\n",
       "      'learning_rate': 1e-05},\n",
       "     {'epoch': 8,\n",
       "      'train_loss': 0.23196436772743861,\n",
       "      'val_loss': 0.2391500661247655,\n",
       "      'train_accuracy': 91.12699747687132,\n",
       "      'val_accuracy': 91.07744107744108,\n",
       "      'train_f1': 0.911316445469994,\n",
       "      'val_f1': 0.9110463350785367,\n",
       "      'time': 38.51493573188782,\n",
       "      'learning_rate': 1e-05},\n",
       "     {'epoch': 9,\n",
       "      'train_loss': 0.2404682527979215,\n",
       "      'val_loss': 0.2386863502232652,\n",
       "      'train_accuracy': 90.0336417157275,\n",
       "      'val_accuracy': 90.74074074074075,\n",
       "      'train_f1': 0.9002295501471461,\n",
       "      'val_f1': 0.9076310075965093,\n",
       "      'time': 38.400795221328735,\n",
       "      'learning_rate': 1e-05},\n",
       "     {'epoch': 10,\n",
       "      'train_loss': 0.2200057562192281,\n",
       "      'val_loss': 0.21103981843120173,\n",
       "      'train_accuracy': 90.87468460891506,\n",
       "      'val_accuracy': 90.06734006734007,\n",
       "      'train_f1': 0.9086729153052757,\n",
       "      'val_f1': 0.9009132626944372,\n",
       "      'time': 38.47145462036133,\n",
       "      'learning_rate': 1e-05},\n",
       "     {'epoch': 11,\n",
       "      'train_loss': 0.22141143351793288,\n",
       "      'val_loss': 0.2218145367346312,\n",
       "      'train_accuracy': 91.1690496215307,\n",
       "      'val_accuracy': 90.06734006734007,\n",
       "      'train_f1': 0.9118428392356346,\n",
       "      'val_f1': 0.901301181165131,\n",
       "      'time': 38.6105797290802,\n",
       "      'learning_rate': 1e-05},\n",
       "     {'epoch': 12,\n",
       "      'train_loss': 0.20154369393984475,\n",
       "      'val_loss': 0.2157743726121752,\n",
       "      'train_accuracy': 91.96804037005887,\n",
       "      'val_accuracy': 90.4040404040404,\n",
       "      'train_f1': 0.9197912638634295,\n",
       "      'val_f1': 0.9041434018178205,\n",
       "      'time': 38.22697138786316,\n",
       "      'learning_rate': 1e-05},\n",
       "     {'epoch': 13,\n",
       "      'train_loss': 0.1931111224492391,\n",
       "      'val_loss': 0.18203452778489967,\n",
       "      'train_accuracy': 92.22035323801514,\n",
       "      'val_accuracy': 93.26599326599326,\n",
       "      'train_f1': 0.9223029854141146,\n",
       "      'val_f1': 0.9328006086102584,\n",
       "      'time': 38.7727313041687,\n",
       "      'learning_rate': 1e-05},\n",
       "     {'epoch': 14,\n",
       "      'train_loss': 0.1988270420829455,\n",
       "      'val_loss': 0.20420491499336144,\n",
       "      'train_accuracy': 92.17830109335576,\n",
       "      'val_accuracy': 91.24579124579125,\n",
       "      'train_f1': 0.9218105840529082,\n",
       "      'val_f1': 0.9130315867770311,\n",
       "      'time': 38.50087308883667,\n",
       "      'learning_rate': 1e-05},\n",
       "     {'epoch': 15,\n",
       "      'train_loss': 0.18458761021494866,\n",
       "      'val_loss': 0.18175448438054637,\n",
       "      'train_accuracy': 92.51471825063078,\n",
       "      'val_accuracy': 92.42424242424242,\n",
       "      'train_f1': 0.9252153110279369,\n",
       "      'val_f1': 0.9244733033685689,\n",
       "      'time': 38.87844371795654,\n",
       "      'learning_rate': 1e-05},\n",
       "     {'epoch': 16,\n",
       "      'train_loss': 0.1937171697616577,\n",
       "      'val_loss': 0.18387558840607343,\n",
       "      'train_accuracy': 91.96804037005887,\n",
       "      'val_accuracy': 91.41414141414141,\n",
       "      'train_f1': 0.9197491636070058,\n",
       "      'val_f1': 0.9145052569659414,\n",
       "      'time': 38.204896211624146,\n",
       "      'learning_rate': 1e-05},\n",
       "     {'epoch': 17,\n",
       "      'train_loss': 0.17398141210277876,\n",
       "      'val_loss': 0.16382802905220734,\n",
       "      'train_accuracy': 93.52396972245585,\n",
       "      'val_accuracy': 93.6026936026936,\n",
       "      'train_f1': 0.9353575811550303,\n",
       "      'val_f1': 0.9361605781797454,\n",
       "      'time': 39.294299840927124,\n",
       "      'learning_rate': 1e-05},\n",
       "     {'epoch': 18,\n",
       "      'train_loss': 0.17450036391615867,\n",
       "      'val_loss': 0.1905942174949144,\n",
       "      'train_accuracy': 93.06139613120268,\n",
       "      'val_accuracy': 91.75084175084174,\n",
       "      'train_f1': 0.9306882181203598,\n",
       "      'val_f1': 0.9176533425592258,\n",
       "      'time': 38.43375778198242,\n",
       "      'learning_rate': 1e-05},\n",
       "     {'epoch': 19,\n",
       "      'train_loss': 0.16603840897480646,\n",
       "      'val_loss': 0.17168938211704554,\n",
       "      'train_accuracy': 93.43986543313709,\n",
       "      'val_accuracy': 93.77104377104376,\n",
       "      'train_f1': 0.9344925045437944,\n",
       "      'val_f1': 0.9376873477303178,\n",
       "      'time': 38.5994131565094,\n",
       "      'learning_rate': 1e-05},\n",
       "     {'epoch': 20,\n",
       "      'train_loss': 0.16439749071995416,\n",
       "      'val_loss': 0.20159353806000008,\n",
       "      'train_accuracy': 93.35576114381834,\n",
       "      'val_accuracy': 91.41414141414141,\n",
       "      'train_f1': 0.9336658074595882,\n",
       "      'val_f1': 0.9143487524985813,\n",
       "      'time': 38.29069256782532,\n",
       "      'learning_rate': 1e-05}]}]}]"
      ]
     },
     "execution_count": 29,
     "metadata": {},
     "output_type": "execute_result"
    }
   ],
   "source": [
    "kfold_results"
   ]
  },
  {
   "cell_type": "code",
   "execution_count": 32,
   "metadata": {},
   "outputs": [
    {
     "name": "stdout",
     "output_type": "stream",
     "text": [
      "Metrics saved to kfold_hyperparam_results.json\n"
     ]
    }
   ],
   "source": [
    "metrics = {\n",
    "    \"model_name\": initialize_model(model_class, num_classes=2, device=device).__class__.__name__, #\"MobileNetV2\"\n",
    "    \"device\": str(device),\n",
    "    \"time started\": time_started,\n",
    "    \"total hyperparameter training time\": \"27min\",\n",
    "    \"dataset_info\": {\n",
    "        \"original_train_dataset_size\": len(train_dataset),\n",
    "        \"proportion_used\": DATASET_PROPORTION,\n",
    "        \"train_subset_size\": len(train_subset),\n",
    "        \"validation_subset_size\": len(val_subset),\n",
    "        \"test_subset_size\": len(test_subset),\n",
    "    },\n",
    "    \"training_parameters\": {\n",
    "        \"kfold\": k_folds,\n",
    "        \"epochs\": epochs,\n",
    "    },\n",
    "    \"kfold_results\": kfold_results,\n",
    "}\n",
    "\n",
    "# Save results after every parameter combination\n",
    "save_metrics_to_json(kfold_results, results_file)\n"
   ]
  },
  {
   "cell_type": "markdown",
   "metadata": {},
   "source": [
    "# Load model to test"
   ]
  },
  {
   "cell_type": "code",
   "execution_count": 14,
   "metadata": {},
   "outputs": [
    {
     "name": "stderr",
     "output_type": "stream",
     "text": [
      "c:\\Users\\Sinbad\\anaconda3\\envs\\sf-mask-detector\\Lib\\site-packages\\torchvision\\models\\_utils.py:208: UserWarning: The parameter 'pretrained' is deprecated since 0.13 and may be removed in the future, please use 'weights' instead.\n",
      "  warnings.warn(\n",
      "c:\\Users\\Sinbad\\anaconda3\\envs\\sf-mask-detector\\Lib\\site-packages\\torchvision\\models\\_utils.py:223: UserWarning: Arguments other than a weight enum or `None` for 'weights' are deprecated since 0.13 and may be removed in the future. The current behavior is equivalent to passing `weights=MobileNet_V2_Weights.IMAGENET1K_V1`. You can also use `weights=MobileNet_V2_Weights.DEFAULT` to get the most up-to-date weights.\n",
      "  warnings.warn(msg)\n",
      "C:\\Users\\Sinbad\\AppData\\Local\\Temp\\ipykernel_25388\\2020660752.py:10: FutureWarning: You are using `torch.load` with `weights_only=False` (the current default value), which uses the default pickle module implicitly. It is possible to construct malicious pickle data which will execute arbitrary code during unpickling (See https://github.com/pytorch/pytorch/blob/main/SECURITY.md#untrusted-models for more details). In a future release, the default value for `weights_only` will be flipped to `True`. This limits the functions that could be executed during unpickling. Arbitrary objects will no longer be allowed to be loaded via this mode unless they are explicitly allowlisted by the user via `torch.serialization.add_safe_globals`. We recommend you start setting `weights_only=True` for any use case where you don't have full control of the loaded file. Please open an issue on GitHub for any issues related to this experimental feature.\n",
      "  model.load_state_dict(torch.load(model_save_path, map_location=device), strict=False)\n"
     ]
    },
    {
     "name": "stdout",
     "output_type": "stream",
     "text": [
      "Model loaded and set to evaluation mode on device: cuda\n"
     ]
    }
   ],
   "source": [
    "# Load the pre-trained MobileNetV2 model\n",
    "model = models.mobilenet_v2(pretrained=True)\n",
    "\n",
    "# Modify the classifier for binary classification (2 classes: mask/no mask)\n",
    "model.classifier[1] = torch.nn.Linear(model.classifier[1].in_features, 2)\n",
    "\n",
    "# Load your trained model weights\n",
    "# model_save_path = \"results/mobilenetv2_trained_lr_0.0001_bs_16.pth\" \n",
    "model_save_path = \"results_12_12/best_model_95.45_lr_0.0001_bs_32_aug_True_fold_5.pth\"\n",
    "model.load_state_dict(torch.load(model_save_path, map_location=device), strict=False)\n",
    "\n",
    "# Move the model to the appropriate device (GPU or CPU)\n",
    "model = model.to(device)\n",
    "\n",
    "# Set the model to evaluation mode\n",
    "model.eval()\n",
    "\n",
    "print(f\"Model loaded and set to evaluation mode on device: {device}\")"
   ]
  },
  {
   "cell_type": "code",
   "execution_count": 6,
   "metadata": {},
   "outputs": [
    {
     "name": "stdout",
     "output_type": "stream",
     "text": [
      "Weights loaded successfully from results_12_12/best_model_95.45_lr_0.0001_bs_32_aug_True_fold_5.pth\n",
      "Model mobilenet_v2 loaded and set to evaluation mode on device: cuda\n"
     ]
    },
    {
     "name": "stderr",
     "output_type": "stream",
     "text": [
      "c:\\Users\\Sinbad\\iCloudDrive\\ENSIIE iCloudDrive\\S5\\Redoublement_\\DELE35\\Projet\\wacim\\utils.py:289: FutureWarning: You are using `torch.load` with `weights_only=False` (the current default value), which uses the default pickle module implicitly. It is possible to construct malicious pickle data which will execute arbitrary code during unpickling (See https://github.com/pytorch/pytorch/blob/main/SECURITY.md#untrusted-models for more details). In a future release, the default value for `weights_only` will be flipped to `True`. This limits the functions that could be executed during unpickling. Arbitrary objects will no longer be allowed to be loaded via this mode unless they are explicitly allowlisted by the user via `torch.serialization.add_safe_globals`. We recommend you start setting `weights_only=True` for any use case where you don't have full control of the loaded file. Please open an issue on GitHub for any issues related to this experimental feature.\n",
      "  model.load_state_dict(torch.load(model_save_path, map_location=device), strict=False)\n"
     ]
    }
   ],
   "source": [
    "model_name = \"mobilenet_v2\"\n",
    "num_classes = 2\n",
    "model_save_path = \"results_12_12/best_model_95.45_lr_0.0001_bs_32_aug_True_fold_5.pth\"\n",
    "\n",
    "model = load_model(model_name, num_classes, model_save_path, device)\n"
   ]
  },
  {
   "cell_type": "markdown",
   "metadata": {},
   "source": [
    "## Random Image Testing "
   ]
  },
  {
   "cell_type": "code",
   "execution_count": 15,
   "metadata": {},
   "outputs": [
    {
     "name": "stdout",
     "output_type": "stream",
     "text": [
      "Prediction: non-compliant (97.65% confidence)\n"
     ]
    },
    {
     "data": {
      "image/png": "[encoded data removed]",
      "text/plain": [
       "<Figure size 640x480 with 1 Axes>"
      ]
     },
     "metadata": {},
     "output_type": "display_data"
    }
   ],
   "source": [
    "# Function to randomly select an image from the test directory\n",
    "def get_random_image_from_test_dir(test_dir):\n",
    "    image_paths = []\n",
    "    for root, _, files in os.walk(test_dir):\n",
    "        for file in files:\n",
    "            if file.endswith(('png', 'jpg', 'jpeg')):\n",
    "                image_paths.append(os.path.join(root, file))\n",
    "    return random.choice(image_paths)\n",
    "\n",
    "# Function for prediction\n",
    "def predict_image(image_path, model, augment, classes, device):\n",
    "    transform = get_transforms(augment=augment)\n",
    "    image = Image.open(image_path).convert('RGB')\n",
    "    input_tensor = transform(image).unsqueeze(0).to(device)\n",
    "    model.eval()\n",
    "    with torch.no_grad():\n",
    "        outputs = model(input_tensor)\n",
    "        _, predicted = torch.max(outputs, 1)\n",
    "        confidence = torch.softmax(outputs, dim=1)[0, predicted.item()].item()\n",
    "    predicted_class = classes[predicted.item()]\n",
    "    return predicted_class, confidence, image\n",
    "\n",
    "# Randomly select an image from the test directory\n",
    "image_path = get_random_image_from_test_dir(test_dir)\n",
    "\n",
    "# Classes du dataset\n",
    "classes = train_dataset.classes\n",
    "\n",
    "# Predict the class of the image\n",
    "predicted_class, confidence, image = predict_image(image_path, model, True, classes, device)\n",
    "print(f\"Prediction: {predicted_class} ({confidence*100:.2f}% confidence)\")\n",
    "\n",
    "# Display the image with prediction\n",
    "plt.imshow(image)\n",
    "plt.title(f\"Prediction: {predicted_class} ({confidence*100:.2f}%)\")\n",
    "plt.axis(\"off\")\n",
    "plt.show()\n"
   ]
  },
  {
   "cell_type": "markdown",
   "metadata": {},
   "source": [
    "# Real time prediction\n",
    "\n",
    "## Load Model"
   ]
  },
  {
   "cell_type": "code",
   "execution_count": 16,
   "metadata": {},
   "outputs": [],
   "source": [
    "import cv2\n",
    "import torch\n",
    "from torchvision import transforms\n",
    "\n",
    "# Preprocessing function\n",
    "preprocess = transforms.Compose([\n",
    "    transforms.ToPILImage(),\n",
    "    transforms.Resize((224, 224)),\n",
    "    transforms.ToTensor(),\n",
    "    transforms.Normalize(mean=[0.485, 0.456, 0.406], std=[0.229, 0.224, 0.225])\n",
    "])\n",
    "\n",
    "# Open webcam\n",
    "cap = cv2.VideoCapture(0)\n",
    "\n",
    "while cap.isOpened():\n",
    "    ret, frame = cap.read()\n",
    "    if not ret:\n",
    "        break\n",
    "\n",
    "    # Preprocess the frame\n",
    "    img_tensor = preprocess(frame).unsqueeze(0).to(device)\n",
    "\n",
    "    # Make predictions\n",
    "    model.eval()\n",
    "    with torch.no_grad():\n",
    "        outputs = model(img_tensor)\n",
    "        probabilities = torch.softmax(outputs, dim=1)\n",
    "        confidence, predicted = torch.max(probabilities, 1)\n",
    "\n",
    "    # Annotate the frame with prediction and confidence\n",
    "    label = \"Mask\" if predicted.item() == 0 else \"No Mask\"\n",
    "    color = (0, 255, 0) if label == \"Mask\" else (0, 0, 255)\n",
    "    text = f\"{label} ({confidence.item()*100:.2f}%)\"\n",
    "    cv2.putText(frame, text, (10, 50), cv2.FONT_HERSHEY_SIMPLEX, 1, color, 2)\n",
    "\n",
    "    # Display the frame\n",
    "    cv2.imshow(\"Real-Time Mask Detection\", frame)\n",
    "\n",
    "    # Break on 'q' key press\n",
    "    if cv2.waitKey(1) & 0xFF == ord('q'):\n",
    "        break\n",
    "\n",
    "cap.release()\n",
    "cv2.destroyAllWindows()\n"
   ]
  },
  {
   "cell_type": "code",
   "execution_count": null,
   "metadata": {},
   "outputs": [],
   "source": []
  },
  {
   "cell_type": "markdown",
   "metadata": {},
   "source": [
    "# Compare MobileNet and EfficientNet"
   ]
  },
  {
   "cell_type": "code",
   "execution_count": 18,
   "metadata": {},
   "outputs": [
    {
     "name": "stderr",
     "output_type": "stream",
     "text": [
      "c:\\Users\\Sinbad\\anaconda3\\envs\\sf-mask-detector\\Lib\\site-packages\\torchvision\\models\\_utils.py:208: UserWarning: The parameter 'pretrained' is deprecated since 0.13 and may be removed in the future, please use 'weights' instead.\n",
      "  warnings.warn(\n",
      "c:\\Users\\Sinbad\\anaconda3\\envs\\sf-mask-detector\\Lib\\site-packages\\torchvision\\models\\_utils.py:223: UserWarning: Arguments other than a weight enum or `None` for 'weights' are deprecated since 0.13 and may be removed in the future. The current behavior is equivalent to passing `weights=MobileNet_V2_Weights.IMAGENET1K_V1`. You can also use `weights=MobileNet_V2_Weights.DEFAULT` to get the most up-to-date weights.\n",
      "  warnings.warn(msg)\n",
      "c:\\Users\\Sinbad\\anaconda3\\envs\\sf-mask-detector\\Lib\\site-packages\\torchvision\\models\\_utils.py:223: UserWarning: Arguments other than a weight enum or `None` for 'weights' are deprecated since 0.13 and may be removed in the future. The current behavior is equivalent to passing `weights=EfficientNet_B0_Weights.IMAGENET1K_V1`. You can also use `weights=EfficientNet_B0_Weights.DEFAULT` to get the most up-to-date weights.\n",
      "  warnings.warn(msg)\n"
     ]
    }
   ],
   "source": [
    "# Initialize models\n",
    "mobilenet = initialize_model(models.mobilenet_v2, num_classes=len(train_dataset.classes), device=device)\n",
    "efficientnet = initialize_model(models.efficientnet_b0, num_classes=len(train_dataset.classes), device=device)\n",
    "\n",
    "# Define training parameters\n",
    "criterion = nn.CrossEntropyLoss()\n",
    "lr = 1e-4\n",
    "batch_size = 32\n",
    "epochs = 30\n",
    "\n",
    "# Optimizers\n",
    "mobilenet_optimizer = optim.Adam(mobilenet.parameters(), lr=lr)\n",
    "efficientnet_optimizer = optim.Adam(efficientnet.parameters(), lr=lr)"
   ]
  },
  {
   "cell_type": "code",
   "execution_count": 34,
   "metadata": {},
   "outputs": [
    {
     "name": "stdout",
     "output_type": "stream",
     "text": [
      "size of train_loader : 93, size of val_loader : 24\n",
      "Training MobileNetV2 for 30 epochs...\n",
      "Epoch 1/30, Train Loss: 0.3496, Train Accuracy: 84.86%, Train F1: 0.8485, Val Loss: 0.2451, Val Accuracy: 89.77%, Val F1: 0.8979, Time: 46.24s\n",
      "Epoch 2/30, Train Loss: 0.2352, Train Accuracy: 90.17%, Train F1: 0.9019, Val Loss: 0.2154, Val Accuracy: 91.66%, Val F1: 0.9168, Time: 46.48s\n",
      "Epoch 3/30, Train Loss: 0.1941, Train Accuracy: 92.19%, Train F1: 0.9220, Val Loss: 0.1827, Val Accuracy: 94.35%, Val F1: 0.9436, Time: 47.65s\n",
      "Epoch 4/30, Train Loss: 0.1668, Train Accuracy: 93.44%, Train F1: 0.9345, Val Loss: 0.1690, Val Accuracy: 93.14%, Val F1: 0.9316, Time: 48.58s\n",
      "Epoch 5/30, Train Loss: 0.1674, Train Accuracy: 93.34%, Train F1: 0.9335, Val Loss: 0.1782, Val Accuracy: 92.33%, Val F1: 0.9235, Time: 48.19s\n",
      "Epoch 6/30, Train Loss: 0.1368, Train Accuracy: 94.85%, Train F1: 0.9486, Val Loss: 0.1667, Val Accuracy: 94.08%, Val F1: 0.9409, Time: 48.68s\n",
      "Epoch 7/30, Train Loss: 0.1324, Train Accuracy: 94.95%, Train F1: 0.9496, Val Loss: 0.1506, Val Accuracy: 94.21%, Val F1: 0.9422, Time: 48.46s\n",
      "Epoch 8/30, Train Loss: 0.1110, Train Accuracy: 95.32%, Train F1: 0.9533, Val Loss: 0.1562, Val Accuracy: 93.67%, Val F1: 0.9367, Time: 48.62s\n",
      "Epoch 9/30, Train Loss: 0.1156, Train Accuracy: 95.69%, Train F1: 0.9570, Val Loss: 0.1687, Val Accuracy: 94.08%, Val F1: 0.9409, Time: 48.46s\n",
      "Epoch 10/30, Train Loss: 0.1100, Train Accuracy: 96.30%, Train F1: 0.9630, Val Loss: 0.1487, Val Accuracy: 95.29%, Val F1: 0.9529, Time: 48.13s\n",
      "Epoch 11/30, Train Loss: 0.0991, Train Accuracy: 96.47%, Train F1: 0.9647, Val Loss: 0.1680, Val Accuracy: 93.81%, Val F1: 0.9381, Time: 48.21s\n",
      "Epoch 12/30, Train Loss: 0.0883, Train Accuracy: 96.40%, Train F1: 0.9640, Val Loss: 0.1374, Val Accuracy: 94.75%, Val F1: 0.9476, Time: 48.24s\n",
      "Epoch 13/30, Train Loss: 0.0752, Train Accuracy: 97.07%, Train F1: 0.9707, Val Loss: 0.1445, Val Accuracy: 94.75%, Val F1: 0.9476, Time: 50.02s\n",
      "Epoch 14/30, Train Loss: 0.0766, Train Accuracy: 97.14%, Train F1: 0.9714, Val Loss: 0.1596, Val Accuracy: 93.94%, Val F1: 0.9394, Time: 47.83s\n",
      "Epoch 15/30, Train Loss: 0.0640, Train Accuracy: 97.75%, Train F1: 0.9775, Val Loss: 0.1384, Val Accuracy: 94.89%, Val F1: 0.9488, Time: 48.43s\n",
      "Epoch 16/30, Train Loss: 0.0761, Train Accuracy: 97.11%, Train F1: 0.9711, Val Loss: 0.1840, Val Accuracy: 93.54%, Val F1: 0.9355, Time: 48.36s\n",
      "Epoch 17/30, Train Loss: 0.0784, Train Accuracy: 97.04%, Train F1: 0.9704, Val Loss: 0.1602, Val Accuracy: 94.08%, Val F1: 0.9408, Time: 48.47s\n",
      "Epoch 18/30, Train Loss: 0.0568, Train Accuracy: 97.58%, Train F1: 0.9758, Val Loss: 0.1792, Val Accuracy: 94.75%, Val F1: 0.9476, Time: 48.06s\n",
      "Epoch 19/30, Train Loss: 0.0601, Train Accuracy: 97.54%, Train F1: 0.9754, Val Loss: 0.1528, Val Accuracy: 94.62%, Val F1: 0.9461, Time: 48.19s\n",
      "Epoch 20/30, Train Loss: 0.0545, Train Accuracy: 98.22%, Train F1: 0.9822, Val Loss: 0.1297, Val Accuracy: 95.96%, Val F1: 0.9596, Time: 48.07s\n",
      "Epoch 21/30, Train Loss: 0.0821, Train Accuracy: 97.01%, Train F1: 0.9701, Val Loss: 0.2029, Val Accuracy: 94.35%, Val F1: 0.9436, Time: 48.83s\n",
      "Epoch 22/30, Train Loss: 0.0554, Train Accuracy: 97.78%, Train F1: 0.9778, Val Loss: 0.1786, Val Accuracy: 94.89%, Val F1: 0.9488, Time: 47.57s\n",
      "Epoch 23/30, Train Loss: 0.0538, Train Accuracy: 98.08%, Train F1: 0.9808, Val Loss: 0.1384, Val Accuracy: 94.48%, Val F1: 0.9449, Time: 48.16s\n",
      "Epoch 24/30, Train Loss: 0.0556, Train Accuracy: 98.08%, Train F1: 0.9808, Val Loss: 0.1550, Val Accuracy: 95.15%, Val F1: 0.9516, Time: 48.36s\n",
      "Epoch 25/30, Train Loss: 0.0524, Train Accuracy: 98.05%, Train F1: 0.9805, Val Loss: 0.1744, Val Accuracy: 94.48%, Val F1: 0.9448, Time: 48.03s\n",
      "Epoch 26/30, Train Loss: 0.0423, Train Accuracy: 98.55%, Train F1: 0.9855, Val Loss: 0.1629, Val Accuracy: 95.56%, Val F1: 0.9555, Time: 48.38s\n",
      "Epoch 27/30, Train Loss: 0.0505, Train Accuracy: 97.95%, Train F1: 0.9795, Val Loss: 0.1624, Val Accuracy: 95.56%, Val F1: 0.9556, Time: 48.85s\n",
      "Epoch 28/30, Train Loss: 0.0490, Train Accuracy: 97.88%, Train F1: 0.9788, Val Loss: 0.1990, Val Accuracy: 93.94%, Val F1: 0.9396, Time: 48.11s\n",
      "Epoch 29/30, Train Loss: 0.0515, Train Accuracy: 97.91%, Train F1: 0.9791, Val Loss: 0.1587, Val Accuracy: 94.48%, Val F1: 0.9449, Time: 48.23s\n",
      "Epoch 30/30, Train Loss: 0.0440, Train Accuracy: 98.35%, Train F1: 0.9835, Val Loss: 0.1873, Val Accuracy: 94.35%, Val F1: 0.9435, Time: 48.18s\n",
      "Total training time: 1755.28s\n",
      "Model weights saved to training/MobileNetV2_2024-12-12_19-34-31.pth\n"
     ]
    }
   ],
   "source": [
    "# Train MobileNetV2\n",
    "training_time = datetime.datetime.now().strftime(\"%Y-%m-%d %H:%M:%S\")\n",
    "training_time_name = training_time.replace(\" \", \"_\").replace(\":\", \"-\")\n",
    "\n",
    "mobilenet_metrics, mobilenet_model_path, mobilenet_training_time = train_model(\n",
    "    mobilenet, train_loader, val_loader, test_loader, criterion, mobilenet_optimizer, epochs, training_time_name, device, use_early_stopping= False\n",
    ")"
   ]
  },
  {
   "cell_type": "code",
   "execution_count": 35,
   "metadata": {},
   "outputs": [
    {
     "name": "stdout",
     "output_type": "stream",
     "text": [
      "size of train_loader : 93, size of val_loader : 24\n",
      "Training EfficientNet for 30 epochs...\n",
      "Epoch 1/30, Train Loss: 0.4403, Train Accuracy: 79.17%, Train F1: 0.7906, Val Loss: 0.2696, Val Accuracy: 88.96%, Val F1: 0.8896, Time: 53.27s\n",
      "Epoch 2/30, Train Loss: 0.2425, Train Accuracy: 89.47%, Train F1: 0.8948, Val Loss: 0.2066, Val Accuracy: 90.98%, Val F1: 0.9101, Time: 53.07s\n",
      "Epoch 3/30, Train Loss: 0.2060, Train Accuracy: 91.69%, Train F1: 0.9170, Val Loss: 0.1823, Val Accuracy: 92.87%, Val F1: 0.9288, Time: 53.06s\n",
      "Epoch 4/30, Train Loss: 0.1846, Train Accuracy: 92.43%, Train F1: 0.9244, Val Loss: 0.1581, Val Accuracy: 93.94%, Val F1: 0.9396, Time: 52.96s\n",
      "Epoch 5/30, Train Loss: 0.1515, Train Accuracy: 94.11%, Train F1: 0.9412, Val Loss: 0.1586, Val Accuracy: 93.81%, Val F1: 0.9381, Time: 53.30s\n",
      "Epoch 6/30, Train Loss: 0.1435, Train Accuracy: 93.71%, Train F1: 0.9372, Val Loss: 0.1550, Val Accuracy: 94.35%, Val F1: 0.9436, Time: 53.30s\n",
      "Epoch 7/30, Train Loss: 0.1229, Train Accuracy: 95.49%, Train F1: 0.9549, Val Loss: 0.1332, Val Accuracy: 94.62%, Val F1: 0.9462, Time: 53.20s\n",
      "Epoch 8/30, Train Loss: 0.1141, Train Accuracy: 95.66%, Train F1: 0.9566, Val Loss: 0.1483, Val Accuracy: 94.62%, Val F1: 0.9462, Time: 52.95s\n",
      "Epoch 9/30, Train Loss: 0.1024, Train Accuracy: 96.16%, Train F1: 0.9617, Val Loss: 0.1378, Val Accuracy: 95.29%, Val F1: 0.9529, Time: 53.23s\n",
      "Epoch 10/30, Train Loss: 0.0968, Train Accuracy: 96.64%, Train F1: 0.9664, Val Loss: 0.1410, Val Accuracy: 95.69%, Val F1: 0.9570, Time: 53.13s\n",
      "Epoch 11/30, Train Loss: 0.0833, Train Accuracy: 96.70%, Train F1: 0.9670, Val Loss: 0.1416, Val Accuracy: 94.89%, Val F1: 0.9488, Time: 53.19s\n",
      "Epoch 12/30, Train Loss: 0.0855, Train Accuracy: 97.17%, Train F1: 0.9718, Val Loss: 0.1411, Val Accuracy: 95.56%, Val F1: 0.9557, Time: 53.48s\n",
      "Epoch 13/30, Train Loss: 0.0804, Train Accuracy: 96.60%, Train F1: 0.9660, Val Loss: 0.1328, Val Accuracy: 95.02%, Val F1: 0.9503, Time: 54.85s\n",
      "Epoch 14/30, Train Loss: 0.0822, Train Accuracy: 97.41%, Train F1: 0.9741, Val Loss: 0.1370, Val Accuracy: 95.02%, Val F1: 0.9502, Time: 59.64s\n",
      "Epoch 15/30, Train Loss: 0.0686, Train Accuracy: 97.75%, Train F1: 0.9775, Val Loss: 0.1143, Val Accuracy: 95.56%, Val F1: 0.9555, Time: 57.96s\n",
      "Epoch 16/30, Train Loss: 0.0623, Train Accuracy: 98.01%, Train F1: 0.9801, Val Loss: 0.1477, Val Accuracy: 94.48%, Val F1: 0.9449, Time: 59.35s\n",
      "Epoch 17/30, Train Loss: 0.0625, Train Accuracy: 97.61%, Train F1: 0.9761, Val Loss: 0.1263, Val Accuracy: 96.37%, Val F1: 0.9637, Time: 60.61s\n",
      "Epoch 18/30, Train Loss: 0.0578, Train Accuracy: 97.75%, Train F1: 0.9775, Val Loss: 0.1374, Val Accuracy: 95.83%, Val F1: 0.9583, Time: 60.56s\n",
      "Epoch 19/30, Train Loss: 0.0548, Train Accuracy: 97.71%, Train F1: 0.9771, Val Loss: 0.1602, Val Accuracy: 95.42%, Val F1: 0.9542, Time: 65.28s\n",
      "Epoch 20/30, Train Loss: 0.0392, Train Accuracy: 98.59%, Train F1: 0.9859, Val Loss: 0.1466, Val Accuracy: 95.83%, Val F1: 0.9583, Time: 60.10s\n",
      "Epoch 21/30, Train Loss: 0.0397, Train Accuracy: 98.45%, Train F1: 0.9845, Val Loss: 0.1596, Val Accuracy: 95.69%, Val F1: 0.9569, Time: 59.43s\n",
      "Epoch 22/30, Train Loss: 0.0636, Train Accuracy: 97.54%, Train F1: 0.9754, Val Loss: 0.1480, Val Accuracy: 95.96%, Val F1: 0.9597, Time: 57.67s\n",
      "Epoch 23/30, Train Loss: 0.0440, Train Accuracy: 98.42%, Train F1: 0.9842, Val Loss: 0.1291, Val Accuracy: 96.50%, Val F1: 0.9650, Time: 62.81s\n",
      "Epoch 24/30, Train Loss: 0.0393, Train Accuracy: 98.28%, Train F1: 0.9828, Val Loss: 0.1205, Val Accuracy: 96.37%, Val F1: 0.9637, Time: 67.52s\n",
      "Epoch 25/30, Train Loss: 0.0336, Train Accuracy: 98.86%, Train F1: 0.9886, Val Loss: 0.1594, Val Accuracy: 95.02%, Val F1: 0.9502, Time: 57.95s\n",
      "Epoch 26/30, Train Loss: 0.0339, Train Accuracy: 99.06%, Train F1: 0.9906, Val Loss: 0.1489, Val Accuracy: 95.96%, Val F1: 0.9597, Time: 65.70s\n",
      "Epoch 27/30, Train Loss: 0.0341, Train Accuracy: 98.69%, Train F1: 0.9869, Val Loss: 0.1494, Val Accuracy: 95.69%, Val F1: 0.9570, Time: 67.18s\n",
      "Epoch 28/30, Train Loss: 0.0406, Train Accuracy: 98.55%, Train F1: 0.9855, Val Loss: 0.1508, Val Accuracy: 96.64%, Val F1: 0.9663, Time: 58.63s\n",
      "Epoch 29/30, Train Loss: 0.0332, Train Accuracy: 98.69%, Train F1: 0.9869, Val Loss: 0.1428, Val Accuracy: 95.96%, Val F1: 0.9596, Time: 60.34s\n",
      "Epoch 30/30, Train Loss: 0.0326, Train Accuracy: 99.02%, Train F1: 0.9902, Val Loss: 0.1908, Val Accuracy: 94.62%, Val F1: 0.9461, Time: 58.75s\n",
      "Total training time: 2092.63s\n",
      "Model weights saved to training/EfficientNet_2024-12-12_20-03-47.pth\n"
     ]
    }
   ],
   "source": [
    "# Train EfficientNet\n",
    "# Get current date and time\n",
    "training_time = datetime.datetime.now().strftime(\"%Y-%m-%d %H:%M:%S\")\n",
    "training_time_name = training_time.replace(\" \", \"_\").replace(\":\", \"-\")\n",
    "\n",
    "efficientnet_metrics, efficientnet_model_path, efficientnet_training_time = train_model(\n",
    "    efficientnet, train_loader, val_loader, test_loader, criterion, efficientnet_optimizer, epochs, training_time_name, device, use_early_stopping= False\n",
    ")\n"
   ]
  },
  {
   "cell_type": "code",
   "execution_count": null,
   "metadata": {},
   "outputs": [],
   "source": [
    "mobilenet_accuracy = evaluate_model(mobilenet, test_loader)\n",
    "efficientnet_accuracy = evaluate_model(efficientnet, test_loader)\n",
    "print(f\"MobileNetV2 Accuracy: {mobilenet_accuracy:.2f}%\\n\")\n",
    "print(f\"EfficientNet Accuracy: {efficientnet_accuracy:.2f}%\")"
   ]
  },
  {
   "cell_type": "markdown",
   "metadata": {},
   "source": [
    "## Load model pth and test it "
   ]
  },
  {
   "cell_type": "code",
   "execution_count": 15,
   "metadata": {},
   "outputs": [
    {
     "data": {
      "text/plain": [
       "'training/MobileNetV2_2024-12-12_19-34-31.pth'"
      ]
     },
     "execution_count": 15,
     "metadata": {},
     "output_type": "execute_result"
    }
   ],
   "source": [
    "mobilenet_model_path"
   ]
  },
  {
   "cell_type": "code",
   "execution_count": 16,
   "metadata": {},
   "outputs": [
    {
     "name": "stderr",
     "output_type": "stream",
     "text": [
      "c:\\Users\\Sinbad\\anaconda3\\envs\\sf-mask-detector\\Lib\\site-packages\\torchvision\\models\\_utils.py:208: UserWarning: The parameter 'pretrained' is deprecated since 0.13 and may be removed in the future, please use 'weights' instead.\n",
      "  warnings.warn(\n",
      "c:\\Users\\Sinbad\\anaconda3\\envs\\sf-mask-detector\\Lib\\site-packages\\torchvision\\models\\_utils.py:223: UserWarning: Arguments other than a weight enum or `None` for 'weights' are deprecated since 0.13 and may be removed in the future. The current behavior is equivalent to passing `weights=MobileNet_V2_Weights.IMAGENET1K_V1`. You can also use `weights=MobileNet_V2_Weights.DEFAULT` to get the most up-to-date weights.\n",
      "  warnings.warn(msg)\n",
      "c:\\Users\\Sinbad\\iCloudDrive\\ENSIIE iCloudDrive\\S5\\Redoublement_\\DELE35\\Projet\\wacim\\utils.py:289: FutureWarning: You are using `torch.load` with `weights_only=False` (the current default value), which uses the default pickle module implicitly. It is possible to construct malicious pickle data which will execute arbitrary code during unpickling (See https://github.com/pytorch/pytorch/blob/main/SECURITY.md#untrusted-models for more details). In a future release, the default value for `weights_only` will be flipped to `True`. This limits the functions that could be executed during unpickling. Arbitrary objects will no longer be allowed to be loaded via this mode unless they are explicitly allowlisted by the user via `torch.serialization.add_safe_globals`. We recommend you start setting `weights_only=True` for any use case where you don't have full control of the loaded file. Please open an issue on GitHub for any issues related to this experimental feature.\n",
      "  model.load_state_dict(torch.load(model_save_path, map_location=device), strict=False)\n"
     ]
    },
    {
     "name": "stdout",
     "output_type": "stream",
     "text": [
      "Weights loaded successfully from training/MobileNetV2_2024-12-12_19-34-31.pth\n",
      "Model mobilenet_v2 loaded and set to evaluation mode on device: cuda\n"
     ]
    }
   ],
   "source": [
    "model_name = \"mobilenet_v2\"\n",
    "num_classes = 2\n",
    "model_save_path = mobilenet_model_path\n",
    "\n",
    "mobilenet = load_model(model_name, num_classes, model_save_path, device)"
   ]
  },
  {
   "cell_type": "code",
   "execution_count": 17,
   "metadata": {},
   "outputs": [
    {
     "name": "stderr",
     "output_type": "stream",
     "text": [
      "c:\\Users\\Sinbad\\anaconda3\\envs\\sf-mask-detector\\Lib\\site-packages\\torchvision\\models\\_utils.py:223: UserWarning: Arguments other than a weight enum or `None` for 'weights' are deprecated since 0.13 and may be removed in the future. The current behavior is equivalent to passing `weights=EfficientNet_B0_Weights.IMAGENET1K_V1`. You can also use `weights=EfficientNet_B0_Weights.DEFAULT` to get the most up-to-date weights.\n",
      "  warnings.warn(msg)\n"
     ]
    },
    {
     "name": "stdout",
     "output_type": "stream",
     "text": [
      "Weights loaded successfully from training/EfficientNet_2024-12-12_20-03-47.pth\n",
      "Model efficientnet_b0 loaded and set to evaluation mode on device: cuda\n"
     ]
    }
   ],
   "source": [
    "model_name = \"efficientnet_b0\"\n",
    "num_classes = 2\n",
    "model_save_path = efficientnet_model_path\n",
    "\n",
    "efficientnet = load_model(model_name, num_classes, model_save_path, device)"
   ]
  },
  {
   "cell_type": "code",
   "execution_count": 18,
   "metadata": {},
   "outputs": [
    {
     "name": "stdout",
     "output_type": "stream",
     "text": [
      "Accuracy: 92.85%\n",
      "Accuracy: 92.27%\n",
      "MobileNetV2 Accuracy: 92.85%\n",
      "\n",
      "EfficientNet Accuracy: 92.27%\n"
     ]
    }
   ],
   "source": [
    "mobilenet_accuracy = evaluate_model(mobilenet, test_loader)\n",
    "efficientnet_accuracy = evaluate_model(efficientnet, test_loader)\n",
    "print(f\"MobileNetV2 Accuracy: {mobilenet_accuracy:.2f}%\\n\")\n",
    "print(f\"EfficientNet Accuracy: {efficientnet_accuracy:.2f}%\")"
   ]
  },
  {
   "cell_type": "code",
   "execution_count": 37,
   "metadata": {},
   "outputs": [
    {
     "name": "stdout",
     "output_type": "stream",
     "text": [
      "Metrics saved to models_comparison/mobilenet_metrics.json\n",
      "Metrics saved to models_comparison/efficientnet_metrics.json\n"
     ]
    }
   ],
   "source": [
    "model_names = [\"mobilenet\", \"efficientnet\"]  # Noms des modèles correspondants\n",
    "\n",
    "training_times = {\n",
    "    \"mobilenet\": mobilenet_training_time,\n",
    "    \"efficientnet\": efficientnet_training_time\n",
    "}\n",
    "\n",
    "training_metrics = {\n",
    "    \"mobilenet\": mobilenet_metrics,\n",
    "    \"efficientnet\": efficientnet_metrics\n",
    "}\n",
    "\n",
    "test_accuracies = {\n",
    "    \"mobilenet\": mobilenet_accuracy,\n",
    "    \"efficientnet\": efficientnet_accuracy\n",
    "}\n",
    "\n",
    "for model_name in model_names:\n",
    "    \n",
    "    metrics = {\n",
    "        \"model_name\": model.__class__.__name__,\n",
    "        \"device\": str(device),\n",
    "        \"training_time_total\": training_times[model_name],  \n",
    "        \"dataset_info\": {\n",
    "            \"original_train_dataset_size\": len(train_dataset),\n",
    "            \"proportion_used\": DATASET_PROPORTION,\n",
    "            \"train_subset_size\": len(train_subset),\n",
    "            \"validation_subset_size\": len(val_subset),\n",
    "            \"test_subset_size\": len(test_subset),\n",
    "        },\n",
    "        \"model_performance\": {\n",
    "            \"test accuracy\": test_accuracies[model_name],\n",
    "            \"training_metrics\": training_metrics[model_name],\n",
    "        },\n",
    "        \"training_parameters\": {\n",
    "            \"epochs\": epochs,\n",
    "            \"batch_size\": batch_size,\n",
    "            \"learning_rate\": lr,\n",
    "        }\n",
    "    }\n",
    "    \n",
    "    save_metrics_to_json(metrics, f\"models_comparison/{model_name}_metrics.json\")"
   ]
  },
  {
   "cell_type": "code",
   "execution_count": 72,
   "metadata": {},
   "outputs": [
    {
     "data": {
      "text/plain": [
       "(0.3257840871810913, 0.5197525024414062)"
      ]
     },
     "execution_count": 72,
     "metadata": {},
     "output_type": "execute_result"
    }
   ],
   "source": [
    "# Measure Inference Times\n",
    "mobilenet_inference_time = measure_inference_time(mobilenet, test_loader, device)\n",
    "efficientnet_inference_time = measure_inference_time(efficientnet, test_loader, device)\n",
    "\n",
    "mobilenet_inference_time, efficientnet_inference_time"
   ]
  },
  {
   "cell_type": "code",
   "execution_count": 75,
   "metadata": {},
   "outputs": [
    {
     "name": "stdout",
     "output_type": "stream",
     "text": [
      "MobileNetV2 Inference Time: 0.2874 ± 0.1511 seconds\n",
      "EfficientNet Inference Time: 0.4639 ± 0.1334 seconds\n"
     ]
    }
   ],
   "source": [
    "mobilenet_inference_times = []\n",
    "efficientnet_inference_times = []\n",
    "\n",
    "for _ in range(10):\n",
    "    mobilenet_inference_time = measure_inference_time(mobilenet, test_loader, device)\n",
    "    efficientnet_inference_time = measure_inference_time(efficientnet, test_loader, device)\n",
    "    mobilenet_inference_times.append(mobilenet_inference_time)\n",
    "    efficientnet_inference_times.append(efficientnet_inference_time)\n",
    "\n",
    "mobilenet_inference_times, efficientnet_inference_times\n",
    "\n",
    "print(f\"MobileNetV2 Inference Time: {np.mean(mobilenet_inference_times):.4f} ± {np.std(mobilenet_inference_times):.4f} seconds\")\n",
    "print(f\"EfficientNet Inference Time: {np.mean(efficientnet_inference_times):.4f} ± {np.std(efficientnet_inference_times):.4f} seconds\")"
   ]
  },
  {
   "cell_type": "code",
   "execution_count": 47,
   "metadata": {},
   "outputs": [],
   "source": [
    "import pickle\n",
    "\n",
    "# Créer le dossier 'saved_notebook_models' s'il n'existe pas déjà\n",
    "os.makedirs('saved_notebook_models', exist_ok=True)\n",
    "\n",
    "# Enregistrer les métriques et les temps d'entraînement\n",
    "with open('saved_notebook_models/efficientnet_metrics.pkl', 'wb') as f:\n",
    "    pickle.dump(efficientnet_metrics, f)\n",
    "\n",
    "with open('saved_notebook_models/efficientnet_training_time.pkl', 'wb') as f:\n",
    "    pickle.dump(efficientnet_training_time, f)\n",
    "\n",
    "with open('saved_notebook_models/mobilenet_metrics.pkl', 'wb') as f:\n",
    "    pickle.dump(mobilenet_metrics, f)\n",
    "\n",
    "with open('saved_notebook_models/mobilenet_training_time.pkl', 'wb') as f:\n",
    "    pickle.dump(mobilenet_training_time, f)\n",
    "\n",
    "# Enregistrer les chemins des modèles\n",
    "with open('saved_notebook_models/efficientnet_model_path.txt', 'w') as f:\n",
    "    f.write(efficientnet_model_path)\n",
    "\n",
    "with open('saved_notebook_models/mobilenet_model_path.txt', 'w') as f:\n",
    "    f.write(mobilenet_model_path)"
   ]
  },
  {
   "cell_type": "code",
   "execution_count": 19,
   "metadata": {},
   "outputs": [],
   "source": [
    "import pickle\n",
    "\n",
    "# Charger les métriques et les temps d'entraînement\n",
    "with open('saved_notebook_models/efficientnet_metrics.pkl', 'rb') as f:\n",
    "    efficientnet_metrics = pickle.load(f)\n",
    "\n",
    "with open('saved_notebook_models/efficientnet_training_time.pkl', 'rb') as f:\n",
    "    efficientnet_training_time = pickle.load(f)\n",
    "\n",
    "with open('saved_notebook_models/mobilenet_metrics.pkl', 'rb') as f:\n",
    "    mobilenet_metrics = pickle.load(f)\n",
    "\n",
    "with open('saved_notebook_models/mobilenet_training_time.pkl', 'rb') as f:\n",
    "    mobilenet_training_time = pickle.load(f)\n",
    "\n",
    "# Charger les chemins des modèles\n",
    "with open('saved_notebook_models/efficientnet_model_path.txt', 'r') as f:\n",
    "    efficientnet_model_path = f.read()\n",
    "\n",
    "with open('saved_notebook_models/mobilenet_model_path.txt', 'r') as f:\n",
    "    mobilenet_model_path = f.read()\n",
    "    \n"
   ]
  },
  {
   "cell_type": "markdown",
   "metadata": {},
   "source": [
    "### Metrics comparison"
   ]
  },
  {
   "cell_type": "code",
   "execution_count": null,
   "metadata": {},
   "outputs": [],
   "source": [
    "\n",
    "# Convert inputs to numpy arrays for calculation\n",
    "mobilenet_accuracy = np.array(mobilenet_accuracy)\n",
    "efficientnet_accuracy = np.array(efficientnet_accuracy)\n",
    "\n",
    "# Calculate standard deviations\n",
    "mobilenet_std = np.std(mobilenet_accuracy)\n",
    "efficientnet_std = np.std(efficientnet_accuracy)\n",
    "\n",
    "print(f\"MobileNetV2 Test Accuracy Std: {mobilenet_std:.2f}\")\n",
    "print(f\"EfficientNet Test Accuracy Std: {efficientnet_std:.2f}\")\n",
    "\n",
    "# Create boxplot\n",
    "plt.boxplot([mobilenet_accuracy, efficientnet_accuracy], labels=[\"MobileNetV2\", \"EfficientNet\"])\n",
    "plt.title(\"Boxplot of Test Accuracies\")\n",
    "plt.ylabel(\"Accuracy\")\n",
    "plt.grid(True)\n",
    "plt.show()\n",
    "\n",
    "# Example usage with hypothetical accuracy values\n",
    "mobilenet_accuracy = [95.3, 95.5, 95.2, 95.4, 95.6]\n",
    "efficientnet_accuracy = [96.1, 96.3, 96.2, 96.4, 96.0]\n",
    "\n",
    "calculate_std_and_plot_boxplot(mobilenet_accuracy, efficientnet_accuracy)\n"
   ]
  },
  {
   "cell_type": "code",
   "execution_count": 63,
   "metadata": {},
   "outputs": [],
   "source": [
    "mobilenet_summary = calculate_mean_std(mobilenet_metrics, mobilenet_accuracy)\n",
    "efficientnet_summary = calculate_mean_std(efficientnet_metrics, efficientnet_accuracy)"
   ]
  },
  {
   "cell_type": "code",
   "execution_count": 22,
   "metadata": {},
   "outputs": [
    {
     "data": {
      "application/vnd.plotly.v1+json": {
       "config": {
        "plotlyServerURL": "https://plot.ly"
       },
       "data": [
        {
         "mode": "lines+markers",
         "name": "MobileNetV2 Train Accuracy",
         "type": "scatter",
         "x": [
          1,
          2,
          3,
          4,
          5,
          6,
          7,
          8,
          9,
          10,
          11,
          12,
          13,
          14,
          15,
          16,
          17,
          18,
          19,
          20,
          21,
          22,
          23,
          24,
          25,
          26,
          27,
          28,
          29,
          30
         ],
         "y": [
          84.85868102288022,
          90.1749663526245,
          92.19380888290713,
          93.43876177658143,
          93.33781965006729,
          94.85195154777928,
          94.9528936742934,
          95.32301480484522,
          95.69313593539704,
          96.29878869448183,
          96.46702557200538,
          96.39973082099596,
          97.07267833109017,
          97.1399730820996,
          97.74562584118439,
          97.10632570659489,
          97.03903095558546,
          97.57738896366084,
          97.54374158815612,
          98.21668909825034,
          97.00538358008076,
          97.77927321668909,
          98.0820995962315,
          98.0820995962315,
          98.04845222072679,
          98.55316285329744,
          97.94751009421265,
          97.88021534320323,
          97.91386271870795,
          98.35127860026918
         ]
        },
        {
         "mode": "lines+markers",
         "name": "MobileNetV2 Val Accuracy",
         "type": "scatter",
         "x": [
          1,
          2,
          3,
          4,
          5,
          6,
          7,
          8,
          9,
          10,
          11,
          12,
          13,
          14,
          15,
          16,
          17,
          18,
          19,
          20,
          21,
          22,
          23,
          24,
          25,
          26,
          27,
          28,
          29,
          30
         ],
         "y": [
          89.77119784656797,
          91.65545087483176,
          94.34724091520862,
          93.13593539703903,
          92.32839838492598,
          94.07806191117093,
          94.21265141318977,
          93.6742934051144,
          94.07806191117093,
          95.28936742934052,
          93.80888290713324,
          94.75100942126514,
          94.75100942126514,
          93.94347240915208,
          94.88559892328398,
          93.53970390309556,
          94.07806191117093,
          94.75100942126514,
          94.6164199192463,
          95.96231493943472,
          94.34724091520862,
          94.88559892328398,
          94.48183041722746,
          95.15477792732167,
          94.48183041722746,
          95.5585464333782,
          95.5585464333782,
          93.94347240915208,
          94.48183041722746,
          94.34724091520862
         ]
        },
        {
         "mode": "lines+markers",
         "name": "EfficientNet Train Accuracy",
         "type": "scatter",
         "x": [
          1,
          2,
          3,
          4,
          5,
          6,
          7,
          8,
          9,
          10,
          11,
          12,
          13,
          14,
          15,
          16,
          17,
          18,
          19,
          20,
          21,
          22,
          23,
          24,
          25,
          26,
          27,
          28,
          29,
          30
         ],
         "y": [
          79.17227456258412,
          89.46837146702558,
          91.68909825033647,
          92.4293405114401,
          94.11170928667563,
          93.70794078061911,
          95.49125168236877,
          95.65948855989232,
          96.16419919246299,
          96.63526244952894,
          96.70255720053835,
          97.1736204576043,
          96.60161507402422,
          97.40915208613728,
          97.74562584118439,
          98.01480484522207,
          97.61103633916555,
          97.74562584118439,
          97.71197846567968,
          98.58681022880215,
          98.45222072678331,
          97.54374158815612,
          98.4185733512786,
          98.28398384925976,
          98.85598923283983,
          99.0578734858681,
          98.68775235531629,
          98.55316285329744,
          98.68775235531629,
          99.02422611036339
         ]
        },
        {
         "mode": "lines+markers",
         "name": "EfficientNet Val Accuracy",
         "type": "scatter",
         "x": [
          1,
          2,
          3,
          4,
          5,
          6,
          7,
          8,
          9,
          10,
          11,
          12,
          13,
          14,
          15,
          16,
          17,
          18,
          19,
          20,
          21,
          22,
          23,
          24,
          25,
          26,
          27,
          28,
          29,
          30
         ],
         "y": [
          88.96366083445491,
          90.98250336473755,
          92.86675639300135,
          93.94347240915208,
          93.80888290713324,
          94.34724091520862,
          94.6164199192463,
          94.6164199192463,
          95.28936742934052,
          95.69313593539704,
          94.88559892328398,
          95.5585464333782,
          95.02018842530282,
          95.02018842530282,
          95.5585464333782,
          94.48183041722746,
          96.36608344549126,
          95.82772543741588,
          95.42395693135936,
          95.82772543741588,
          95.69313593539704,
          95.96231493943472,
          96.5006729475101,
          96.36608344549126,
          95.02018842530282,
          95.96231493943472,
          95.69313593539704,
          96.63526244952894,
          95.96231493943472,
          94.6164199192463
         ]
        }
       ],
       "layout": {
        "template": {
         "data": {
          "bar": [
           {
            "error_x": {
             "color": "#2a3f5f"
            },
            "error_y": {
             "color": "#2a3f5f"
            },
            "marker": {
             "line": {
              "color": "#E5ECF6",
              "width": 0.5
             },
             "pattern": {
              "fillmode": "overlay",
              "size": 10,
              "solidity": 0.2
             }
            },
            "type": "bar"
           }
          ],
          "barpolar": [
           {
            "marker": {
             "line": {
              "color": "#E5ECF6",
              "width": 0.5
             },
             "pattern": {
              "fillmode": "overlay",
              "size": 10,
              "solidity": 0.2
             }
            },
            "type": "barpolar"
           }
          ],
          "carpet": [
           {
            "aaxis": {
             "endlinecolor": "#2a3f5f",
             "gridcolor": "white",
             "linecolor": "white",
             "minorgridcolor": "white",
             "startlinecolor": "#2a3f5f"
            },
            "baxis": {
             "endlinecolor": "#2a3f5f",
             "gridcolor": "white",
             "linecolor": "white",
             "minorgridcolor": "white",
             "startlinecolor": "#2a3f5f"
            },
            "type": "carpet"
           }
          ],
          "choropleth": [
           {
            "colorbar": {
             "outlinewidth": 0,
             "ticks": ""
            },
            "type": "choropleth"
           }
          ],
          "contour": [
           {
            "colorbar": {
             "outlinewidth": 0,
             "ticks": ""
            },
            "colorscale": [
             [
              0,
              "#0d0887"
             ],
             [
              0.1111111111111111,
              "#46039f"
             ],
             [
              0.2222222222222222,
              "#7201a8"
             ],
             [
              0.3333333333333333,
              "#9c179e"
             ],
             [
              0.4444444444444444,
              "#bd3786"
             ],
             [
              0.5555555555555556,
              "#d8576b"
             ],
             [
              0.6666666666666666,
              "#ed7953"
             ],
             [
              0.7777777777777778,
              "#fb9f3a"
             ],
             [
              0.8888888888888888,
              "#fdca26"
             ],
             [
              1,
              "#f0f921"
             ]
            ],
            "type": "contour"
           }
          ],
          "contourcarpet": [
           {
            "colorbar": {
             "outlinewidth": 0,
             "ticks": ""
            },
            "type": "contourcarpet"
           }
          ],
          "heatmap": [
           {
            "colorbar": {
             "outlinewidth": 0,
             "ticks": ""
            },
            "colorscale": [
             [
              0,
              "#0d0887"
             ],
             [
              0.1111111111111111,
              "#46039f"
             ],
             [
              0.2222222222222222,
              "#7201a8"
             ],
             [
              0.3333333333333333,
              "#9c179e"
             ],
             [
              0.4444444444444444,
              "#bd3786"
             ],
             [
              0.5555555555555556,
              "#d8576b"
             ],
             [
              0.6666666666666666,
              "#ed7953"
             ],
             [
              0.7777777777777778,
              "#fb9f3a"
             ],
             [
              0.8888888888888888,
              "#fdca26"
             ],
             [
              1,
              "#f0f921"
             ]
            ],
            "type": "heatmap"
           }
          ],
          "heatmapgl": [
           {
            "colorbar": {
             "outlinewidth": 0,
             "ticks": ""
            },
            "colorscale": [
             [
              0,
              "#0d0887"
             ],
             [
              0.1111111111111111,
              "#46039f"
             ],
             [
              0.2222222222222222,
              "#7201a8"
             ],
             [
              0.3333333333333333,
              "#9c179e"
             ],
             [
              0.4444444444444444,
              "#bd3786"
             ],
             [
              0.5555555555555556,
              "#d8576b"
             ],
             [
              0.6666666666666666,
              "#ed7953"
             ],
             [
              0.7777777777777778,
              "#fb9f3a"
             ],
             [
              0.8888888888888888,
              "#fdca26"
             ],
             [
              1,
              "#f0f921"
             ]
            ],
            "type": "heatmapgl"
           }
          ],
          "histogram": [
           {
            "marker": {
             "pattern": {
              "fillmode": "overlay",
              "size": 10,
              "solidity": 0.2
             }
            },
            "type": "histogram"
           }
          ],
          "histogram2d": [
           {
            "colorbar": {
             "outlinewidth": 0,
             "ticks": ""
            },
            "colorscale": [
             [
              0,
              "#0d0887"
             ],
             [
              0.1111111111111111,
              "#46039f"
             ],
             [
              0.2222222222222222,
              "#7201a8"
             ],
             [
              0.3333333333333333,
              "#9c179e"
             ],
             [
              0.4444444444444444,
              "#bd3786"
             ],
             [
              0.5555555555555556,
              "#d8576b"
             ],
             [
              0.6666666666666666,
              "#ed7953"
             ],
             [
              0.7777777777777778,
              "#fb9f3a"
             ],
             [
              0.8888888888888888,
              "#fdca26"
             ],
             [
              1,
              "#f0f921"
             ]
            ],
            "type": "histogram2d"
           }
          ],
          "histogram2dcontour": [
           {
            "colorbar": {
             "outlinewidth": 0,
             "ticks": ""
            },
            "colorscale": [
             [
              0,
              "#0d0887"
             ],
             [
              0.1111111111111111,
              "#46039f"
             ],
             [
              0.2222222222222222,
              "#7201a8"
             ],
             [
              0.3333333333333333,
              "#9c179e"
             ],
             [
              0.4444444444444444,
              "#bd3786"
             ],
             [
              0.5555555555555556,
              "#d8576b"
             ],
             [
              0.6666666666666666,
              "#ed7953"
             ],
             [
              0.7777777777777778,
              "#fb9f3a"
             ],
             [
              0.8888888888888888,
              "#fdca26"
             ],
             [
              1,
              "#f0f921"
             ]
            ],
            "type": "histogram2dcontour"
           }
          ],
          "mesh3d": [
           {
            "colorbar": {
             "outlinewidth": 0,
             "ticks": ""
            },
            "type": "mesh3d"
           }
          ],
          "parcoords": [
           {
            "line": {
             "colorbar": {
              "outlinewidth": 0,
              "ticks": ""
             }
            },
            "type": "parcoords"
           }
          ],
          "pie": [
           {
            "automargin": true,
            "type": "pie"
           }
          ],
          "scatter": [
           {
            "fillpattern": {
             "fillmode": "overlay",
             "size": 10,
             "solidity": 0.2
            },
            "type": "scatter"
           }
          ],
          "scatter3d": [
           {
            "line": {
             "colorbar": {
              "outlinewidth": 0,
              "ticks": ""
             }
            },
            "marker": {
             "colorbar": {
              "outlinewidth": 0,
              "ticks": ""
             }
            },
            "type": "scatter3d"
           }
          ],
          "scattercarpet": [
           {
            "marker": {
             "colorbar": {
              "outlinewidth": 0,
              "ticks": ""
             }
            },
            "type": "scattercarpet"
           }
          ],
          "scattergeo": [
           {
            "marker": {
             "colorbar": {
              "outlinewidth": 0,
              "ticks": ""
             }
            },
            "type": "scattergeo"
           }
          ],
          "scattergl": [
           {
            "marker": {
             "colorbar": {
              "outlinewidth": 0,
              "ticks": ""
             }
            },
            "type": "scattergl"
           }
          ],
          "scattermapbox": [
           {
            "marker": {
             "colorbar": {
              "outlinewidth": 0,
              "ticks": ""
             }
            },
            "type": "scattermapbox"
           }
          ],
          "scatterpolar": [
           {
            "marker": {
             "colorbar": {
              "outlinewidth": 0,
              "ticks": ""
             }
            },
            "type": "scatterpolar"
           }
          ],
          "scatterpolargl": [
           {
            "marker": {
             "colorbar": {
              "outlinewidth": 0,
              "ticks": ""
             }
            },
            "type": "scatterpolargl"
           }
          ],
          "scatterternary": [
           {
            "marker": {
             "colorbar": {
              "outlinewidth": 0,
              "ticks": ""
             }
            },
            "type": "scatterternary"
           }
          ],
          "surface": [
           {
            "colorbar": {
             "outlinewidth": 0,
             "ticks": ""
            },
            "colorscale": [
             [
              0,
              "#0d0887"
             ],
             [
              0.1111111111111111,
              "#46039f"
             ],
             [
              0.2222222222222222,
              "#7201a8"
             ],
             [
              0.3333333333333333,
              "#9c179e"
             ],
             [
              0.4444444444444444,
              "#bd3786"
             ],
             [
              0.5555555555555556,
              "#d8576b"
             ],
             [
              0.6666666666666666,
              "#ed7953"
             ],
             [
              0.7777777777777778,
              "#fb9f3a"
             ],
             [
              0.8888888888888888,
              "#fdca26"
             ],
             [
              1,
              "#f0f921"
             ]
            ],
            "type": "surface"
           }
          ],
          "table": [
           {
            "cells": {
             "fill": {
              "color": "#EBF0F8"
             },
             "line": {
              "color": "white"
             }
            },
            "header": {
             "fill": {
              "color": "#C8D4E3"
             },
             "line": {
              "color": "white"
             }
            },
            "type": "table"
           }
          ]
         },
         "layout": {
          "annotationdefaults": {
           "arrowcolor": "#2a3f5f",
           "arrowhead": 0,
           "arrowwidth": 1
          },
          "autotypenumbers": "strict",
          "coloraxis": {
           "colorbar": {
            "outlinewidth": 0,
            "ticks": ""
           }
          },
          "colorscale": {
           "diverging": [
            [
             0,
             "#8e0152"
            ],
            [
             0.1,
             "#c51b7d"
            ],
            [
             0.2,
             "#de77ae"
            ],
            [
             0.3,
             "#f1b6da"
            ],
            [
             0.4,
             "#fde0ef"
            ],
            [
             0.5,
             "#f7f7f7"
            ],
            [
             0.6,
             "#e6f5d0"
            ],
            [
             0.7,
             "#b8e186"
            ],
            [
             0.8,
             "#7fbc41"
            ],
            [
             0.9,
             "#4d9221"
            ],
            [
             1,
             "#276419"
            ]
           ],
           "sequential": [
            [
             0,
             "#0d0887"
            ],
            [
             0.1111111111111111,
             "#46039f"
            ],
            [
             0.2222222222222222,
             "#7201a8"
            ],
            [
             0.3333333333333333,
             "#9c179e"
            ],
            [
             0.4444444444444444,
             "#bd3786"
            ],
            [
             0.5555555555555556,
             "#d8576b"
            ],
            [
             0.6666666666666666,
             "#ed7953"
            ],
            [
             0.7777777777777778,
             "#fb9f3a"
            ],
            [
             0.8888888888888888,
             "#fdca26"
            ],
            [
             1,
             "#f0f921"
            ]
           ],
           "sequentialminus": [
            [
             0,
             "#0d0887"
            ],
            [
             0.1111111111111111,
             "#46039f"
            ],
            [
             0.2222222222222222,
             "#7201a8"
            ],
            [
             0.3333333333333333,
             "#9c179e"
            ],
            [
             0.4444444444444444,
             "#bd3786"
            ],
            [
             0.5555555555555556,
             "#d8576b"
            ],
            [
             0.6666666666666666,
             "#ed7953"
            ],
            [
             0.7777777777777778,
             "#fb9f3a"
            ],
            [
             0.8888888888888888,
             "#fdca26"
            ],
            [
             1,
             "#f0f921"
            ]
           ]
          },
          "colorway": [
           "#636efa",
           "#EF553B",
           "#00cc96",
           "#ab63fa",
           "#FFA15A",
           "#19d3f3",
           "#FF6692",
           "#B6E880",
           "#FF97FF",
           "#FECB52"
          ],
          "font": {
           "color": "#2a3f5f"
          },
          "geo": {
           "bgcolor": "white",
           "lakecolor": "white",
           "landcolor": "#E5ECF6",
           "showlakes": true,
           "showland": true,
           "subunitcolor": "white"
          },
          "hoverlabel": {
           "align": "left"
          },
          "hovermode": "closest",
          "mapbox": {
           "style": "light"
          },
          "paper_bgcolor": "white",
          "plot_bgcolor": "#E5ECF6",
          "polar": {
           "angularaxis": {
            "gridcolor": "white",
            "linecolor": "white",
            "ticks": ""
           },
           "bgcolor": "#E5ECF6",
           "radialaxis": {
            "gridcolor": "white",
            "linecolor": "white",
            "ticks": ""
           }
          },
          "scene": {
           "xaxis": {
            "backgroundcolor": "#E5ECF6",
            "gridcolor": "white",
            "gridwidth": 2,
            "linecolor": "white",
            "showbackground": true,
            "ticks": "",
            "zerolinecolor": "white"
           },
           "yaxis": {
            "backgroundcolor": "#E5ECF6",
            "gridcolor": "white",
            "gridwidth": 2,
            "linecolor": "white",
            "showbackground": true,
            "ticks": "",
            "zerolinecolor": "white"
           },
           "zaxis": {
            "backgroundcolor": "#E5ECF6",
            "gridcolor": "white",
            "gridwidth": 2,
            "linecolor": "white",
            "showbackground": true,
            "ticks": "",
            "zerolinecolor": "white"
           }
          },
          "shapedefaults": {
           "line": {
            "color": "#2a3f5f"
           }
          },
          "ternary": {
           "aaxis": {
            "gridcolor": "white",
            "linecolor": "white",
            "ticks": ""
           },
           "baxis": {
            "gridcolor": "white",
            "linecolor": "white",
            "ticks": ""
           },
           "bgcolor": "#E5ECF6",
           "caxis": {
            "gridcolor": "white",
            "linecolor": "white",
            "ticks": ""
           }
          },
          "title": {
           "x": 0.05
          },
          "xaxis": {
           "automargin": true,
           "gridcolor": "white",
           "linecolor": "white",
           "ticks": "",
           "title": {
            "standoff": 15
           },
           "zerolinecolor": "white",
           "zerolinewidth": 2
          },
          "yaxis": {
           "automargin": true,
           "gridcolor": "white",
           "linecolor": "white",
           "ticks": "",
           "title": {
            "standoff": 15
           },
           "zerolinecolor": "white",
           "zerolinewidth": 2
          }
         }
        },
        "title": {
         "text": "Training vs Validation Accuracy (lr=0.0001, bs=32)"
        },
        "xaxis": {
         "title": {
          "text": "Epoch"
         }
        },
        "yaxis": {
         "title": {
          "text": "Accuracy (%)"
         }
        }
       }
      }
     },
     "metadata": {},
     "output_type": "display_data"
    },
    {
     "data": {
      "application/vnd.plotly.v1+json": {
       "config": {
        "plotlyServerURL": "https://plot.ly"
       },
       "data": [
        {
         "mode": "lines+markers",
         "name": "MobileNetV2 Train Loss",
         "type": "scatter",
         "x": [
          1,
          2,
          3,
          4,
          5,
          6,
          7,
          8,
          9,
          10,
          11,
          12,
          13,
          14,
          15,
          16,
          17,
          18,
          19,
          20,
          21,
          22,
          23,
          24,
          25,
          26,
          27,
          28,
          29,
          30
         ],
         "y": [
          0.34960191736939134,
          0.2351664448938062,
          0.19405010574927894,
          0.1668417916823459,
          0.16744347661733627,
          0.13678766979325202,
          0.1323998398397879,
          0.11095641714630909,
          0.1156448507180778,
          0.10999691505385663,
          0.0990874572627006,
          0.08827435966300708,
          0.07524837297637776,
          0.0765637892238315,
          0.06399586509352409,
          0.07613368282314911,
          0.07840722677127648,
          0.05682063015848799,
          0.06010422489846185,
          0.0544698755907756,
          0.0821462259778092,
          0.055387764347977535,
          0.05381307265500949,
          0.055627639934305424,
          0.05235412699371947,
          0.042275089795591046,
          0.05051482123102472,
          0.04897510848553871,
          0.051509507706448916,
          0.0440234700893803
         ]
        },
        {
         "mode": "lines+markers",
         "name": "MobileNetV2 Val Loss",
         "type": "scatter",
         "x": [
          1,
          2,
          3,
          4,
          5,
          6,
          7,
          8,
          9,
          10,
          11,
          12,
          13,
          14,
          15,
          16,
          17,
          18,
          19,
          20,
          21,
          22,
          23,
          24,
          25,
          26,
          27,
          28,
          29,
          30
         ],
         "y": [
          0.24505716174220046,
          0.2153959230830272,
          0.1826796301951011,
          0.16895202073889473,
          0.17822666931897402,
          0.1667171175358817,
          0.15058591915294528,
          0.15618331691560647,
          0.16872484159345427,
          0.14874607417732477,
          0.16803998531152806,
          0.1373922862500573,
          0.1445226011953006,
          0.1596106217087557,
          0.1383751240403702,
          0.18395363120362163,
          0.16023158241296187,
          0.17921044929729155,
          0.15276827690346786,
          0.12968679370048145,
          0.2029220226298397,
          0.17863478566869162,
          0.13837571643913785,
          0.15498512370201448,
          0.17437975760549307,
          0.16286905453307554,
          0.16244153536778563,
          0.19904262219400456,
          0.15868443987953165,
          0.1872677479016905
         ]
        },
        {
         "mode": "lines+markers",
         "name": "EfficientNet Train Loss",
         "type": "scatter",
         "x": [
          1,
          2,
          3,
          4,
          5,
          6,
          7,
          8,
          9,
          10,
          11,
          12,
          13,
          14,
          15,
          16,
          17,
          18,
          19,
          20,
          21,
          22,
          23,
          24,
          25,
          26,
          27,
          28,
          29,
          30
         ],
         "y": [
          0.4403435557439763,
          0.24254873699398452,
          0.20602522602164616,
          0.18464590088334135,
          0.15150145533424553,
          0.14354380292277183,
          0.12286980386062335,
          0.11409789898623061,
          0.10239267025783819,
          0.09681360788082563,
          0.08330759566317322,
          0.08553281713337187,
          0.08042299974289152,
          0.08224184168202262,
          0.06860120773756055,
          0.062276376791859184,
          0.06250673931552678,
          0.05778805137942395,
          0.05476039658320607,
          0.03918817373097784,
          0.03967356770324411,
          0.06363861686650223,
          0.04399183613338297,
          0.03926610758012381,
          0.033648374690098425,
          0.033948785894530355,
          0.03407646570559992,
          0.04056196796372333,
          0.03324631778197864,
          0.03262890938178746
         ]
        },
        {
         "mode": "lines+markers",
         "name": "EfficientNet Val Loss",
         "type": "scatter",
         "x": [
          1,
          2,
          3,
          4,
          5,
          6,
          7,
          8,
          9,
          10,
          11,
          12,
          13,
          14,
          15,
          16,
          17,
          18,
          19,
          20,
          21,
          22,
          23,
          24,
          25,
          26,
          27,
          28,
          29,
          30
         ],
         "y": [
          0.26955006675173837,
          0.20663961550841728,
          0.18227718149622282,
          0.15808029348651567,
          0.15860348350057998,
          0.15504362566086152,
          0.13321987027302384,
          0.14825678251994154,
          0.1378062287500749,
          0.14097322317926833,
          0.14157380846639475,
          0.1411348368662099,
          0.13275322030919293,
          0.13704307346294323,
          0.11428535551143189,
          0.14768962756109735,
          0.1263324940421929,
          0.13737981806237562,
          0.16021607827860862,
          0.14661513416164476,
          0.15962858194446503,
          0.14804365697394437,
          0.12906576126503447,
          0.12050820689182729,
          0.15937859066859042,
          0.14887801263588094,
          0.14941269776318222,
          0.15080902015324682,
          0.14279384672408924,
          0.19076361048306958
         ]
        }
       ],
       "layout": {
        "template": {
         "data": {
          "bar": [
           {
            "error_x": {
             "color": "#2a3f5f"
            },
            "error_y": {
             "color": "#2a3f5f"
            },
            "marker": {
             "line": {
              "color": "#E5ECF6",
              "width": 0.5
             },
             "pattern": {
              "fillmode": "overlay",
              "size": 10,
              "solidity": 0.2
             }
            },
            "type": "bar"
           }
          ],
          "barpolar": [
           {
            "marker": {
             "line": {
              "color": "#E5ECF6",
              "width": 0.5
             },
             "pattern": {
              "fillmode": "overlay",
              "size": 10,
              "solidity": 0.2
             }
            },
            "type": "barpolar"
           }
          ],
          "carpet": [
           {
            "aaxis": {
             "endlinecolor": "#2a3f5f",
             "gridcolor": "white",
             "linecolor": "white",
             "minorgridcolor": "white",
             "startlinecolor": "#2a3f5f"
            },
            "baxis": {
             "endlinecolor": "#2a3f5f",
             "gridcolor": "white",
             "linecolor": "white",
             "minorgridcolor": "white",
             "startlinecolor": "#2a3f5f"
            },
            "type": "carpet"
           }
          ],
          "choropleth": [
           {
            "colorbar": {
             "outlinewidth": 0,
             "ticks": ""
            },
            "type": "choropleth"
           }
          ],
          "contour": [
           {
            "colorbar": {
             "outlinewidth": 0,
             "ticks": ""
            },
            "colorscale": [
             [
              0,
              "#0d0887"
             ],
             [
              0.1111111111111111,
              "#46039f"
             ],
             [
              0.2222222222222222,
              "#7201a8"
             ],
             [
              0.3333333333333333,
              "#9c179e"
             ],
             [
              0.4444444444444444,
              "#bd3786"
             ],
             [
              0.5555555555555556,
              "#d8576b"
             ],
             [
              0.6666666666666666,
              "#ed7953"
             ],
             [
              0.7777777777777778,
              "#fb9f3a"
             ],
             [
              0.8888888888888888,
              "#fdca26"
             ],
             [
              1,
              "#f0f921"
             ]
            ],
            "type": "contour"
           }
          ],
          "contourcarpet": [
           {
            "colorbar": {
             "outlinewidth": 0,
             "ticks": ""
            },
            "type": "contourcarpet"
           }
          ],
          "heatmap": [
           {
            "colorbar": {
             "outlinewidth": 0,
             "ticks": ""
            },
            "colorscale": [
             [
              0,
              "#0d0887"
             ],
             [
              0.1111111111111111,
              "#46039f"
             ],
             [
              0.2222222222222222,
              "#7201a8"
             ],
             [
              0.3333333333333333,
              "#9c179e"
             ],
             [
              0.4444444444444444,
              "#bd3786"
             ],
             [
              0.5555555555555556,
              "#d8576b"
             ],
             [
              0.6666666666666666,
              "#ed7953"
             ],
             [
              0.7777777777777778,
              "#fb9f3a"
             ],
             [
              0.8888888888888888,
              "#fdca26"
             ],
             [
              1,
              "#f0f921"
             ]
            ],
            "type": "heatmap"
           }
          ],
          "heatmapgl": [
           {
            "colorbar": {
             "outlinewidth": 0,
             "ticks": ""
            },
            "colorscale": [
             [
              0,
              "#0d0887"
             ],
             [
              0.1111111111111111,
              "#46039f"
             ],
             [
              0.2222222222222222,
              "#7201a8"
             ],
             [
              0.3333333333333333,
              "#9c179e"
             ],
             [
              0.4444444444444444,
              "#bd3786"
             ],
             [
              0.5555555555555556,
              "#d8576b"
             ],
             [
              0.6666666666666666,
              "#ed7953"
             ],
             [
              0.7777777777777778,
              "#fb9f3a"
             ],
             [
              0.8888888888888888,
              "#fdca26"
             ],
             [
              1,
              "#f0f921"
             ]
            ],
            "type": "heatmapgl"
           }
          ],
          "histogram": [
           {
            "marker": {
             "pattern": {
              "fillmode": "overlay",
              "size": 10,
              "solidity": 0.2
             }
            },
            "type": "histogram"
           }
          ],
          "histogram2d": [
           {
            "colorbar": {
             "outlinewidth": 0,
             "ticks": ""
            },
            "colorscale": [
             [
              0,
              "#0d0887"
             ],
             [
              0.1111111111111111,
              "#46039f"
             ],
             [
              0.2222222222222222,
              "#7201a8"
             ],
             [
              0.3333333333333333,
              "#9c179e"
             ],
             [
              0.4444444444444444,
              "#bd3786"
             ],
             [
              0.5555555555555556,
              "#d8576b"
             ],
             [
              0.6666666666666666,
              "#ed7953"
             ],
             [
              0.7777777777777778,
              "#fb9f3a"
             ],
             [
              0.8888888888888888,
              "#fdca26"
             ],
             [
              1,
              "#f0f921"
             ]
            ],
            "type": "histogram2d"
           }
          ],
          "histogram2dcontour": [
           {
            "colorbar": {
             "outlinewidth": 0,
             "ticks": ""
            },
            "colorscale": [
             [
              0,
              "#0d0887"
             ],
             [
              0.1111111111111111,
              "#46039f"
             ],
             [
              0.2222222222222222,
              "#7201a8"
             ],
             [
              0.3333333333333333,
              "#9c179e"
             ],
             [
              0.4444444444444444,
              "#bd3786"
             ],
             [
              0.5555555555555556,
              "#d8576b"
             ],
             [
              0.6666666666666666,
              "#ed7953"
             ],
             [
              0.7777777777777778,
              "#fb9f3a"
             ],
             [
              0.8888888888888888,
              "#fdca26"
             ],
             [
              1,
              "#f0f921"
             ]
            ],
            "type": "histogram2dcontour"
           }
          ],
          "mesh3d": [
           {
            "colorbar": {
             "outlinewidth": 0,
             "ticks": ""
            },
            "type": "mesh3d"
           }
          ],
          "parcoords": [
           {
            "line": {
             "colorbar": {
              "outlinewidth": 0,
              "ticks": ""
             }
            },
            "type": "parcoords"
           }
          ],
          "pie": [
           {
            "automargin": true,
            "type": "pie"
           }
          ],
          "scatter": [
           {
            "fillpattern": {
             "fillmode": "overlay",
             "size": 10,
             "solidity": 0.2
            },
            "type": "scatter"
           }
          ],
          "scatter3d": [
           {
            "line": {
             "colorbar": {
              "outlinewidth": 0,
              "ticks": ""
             }
            },
            "marker": {
             "colorbar": {
              "outlinewidth": 0,
              "ticks": ""
             }
            },
            "type": "scatter3d"
           }
          ],
          "scattercarpet": [
           {
            "marker": {
             "colorbar": {
              "outlinewidth": 0,
              "ticks": ""
             }
            },
            "type": "scattercarpet"
           }
          ],
          "scattergeo": [
           {
            "marker": {
             "colorbar": {
              "outlinewidth": 0,
              "ticks": ""
             }
            },
            "type": "scattergeo"
           }
          ],
          "scattergl": [
           {
            "marker": {
             "colorbar": {
              "outlinewidth": 0,
              "ticks": ""
             }
            },
            "type": "scattergl"
           }
          ],
          "scattermapbox": [
           {
            "marker": {
             "colorbar": {
              "outlinewidth": 0,
              "ticks": ""
             }
            },
            "type": "scattermapbox"
           }
          ],
          "scatterpolar": [
           {
            "marker": {
             "colorbar": {
              "outlinewidth": 0,
              "ticks": ""
             }
            },
            "type": "scatterpolar"
           }
          ],
          "scatterpolargl": [
           {
            "marker": {
             "colorbar": {
              "outlinewidth": 0,
              "ticks": ""
             }
            },
            "type": "scatterpolargl"
           }
          ],
          "scatterternary": [
           {
            "marker": {
             "colorbar": {
              "outlinewidth": 0,
              "ticks": ""
             }
            },
            "type": "scatterternary"
           }
          ],
          "surface": [
           {
            "colorbar": {
             "outlinewidth": 0,
             "ticks": ""
            },
            "colorscale": [
             [
              0,
              "#0d0887"
             ],
             [
              0.1111111111111111,
              "#46039f"
             ],
             [
              0.2222222222222222,
              "#7201a8"
             ],
             [
              0.3333333333333333,
              "#9c179e"
             ],
             [
              0.4444444444444444,
              "#bd3786"
             ],
             [
              0.5555555555555556,
              "#d8576b"
             ],
             [
              0.6666666666666666,
              "#ed7953"
             ],
             [
              0.7777777777777778,
              "#fb9f3a"
             ],
             [
              0.8888888888888888,
              "#fdca26"
             ],
             [
              1,
              "#f0f921"
             ]
            ],
            "type": "surface"
           }
          ],
          "table": [
           {
            "cells": {
             "fill": {
              "color": "#EBF0F8"
             },
             "line": {
              "color": "white"
             }
            },
            "header": {
             "fill": {
              "color": "#C8D4E3"
             },
             "line": {
              "color": "white"
             }
            },
            "type": "table"
           }
          ]
         },
         "layout": {
          "annotationdefaults": {
           "arrowcolor": "#2a3f5f",
           "arrowhead": 0,
           "arrowwidth": 1
          },
          "autotypenumbers": "strict",
          "coloraxis": {
           "colorbar": {
            "outlinewidth": 0,
            "ticks": ""
           }
          },
          "colorscale": {
           "diverging": [
            [
             0,
             "#8e0152"
            ],
            [
             0.1,
             "#c51b7d"
            ],
            [
             0.2,
             "#de77ae"
            ],
            [
             0.3,
             "#f1b6da"
            ],
            [
             0.4,
             "#fde0ef"
            ],
            [
             0.5,
             "#f7f7f7"
            ],
            [
             0.6,
             "#e6f5d0"
            ],
            [
             0.7,
             "#b8e186"
            ],
            [
             0.8,
             "#7fbc41"
            ],
            [
             0.9,
             "#4d9221"
            ],
            [
             1,
             "#276419"
            ]
           ],
           "sequential": [
            [
             0,
             "#0d0887"
            ],
            [
             0.1111111111111111,
             "#46039f"
            ],
            [
             0.2222222222222222,
             "#7201a8"
            ],
            [
             0.3333333333333333,
             "#9c179e"
            ],
            [
             0.4444444444444444,
             "#bd3786"
            ],
            [
             0.5555555555555556,
             "#d8576b"
            ],
            [
             0.6666666666666666,
             "#ed7953"
            ],
            [
             0.7777777777777778,
             "#fb9f3a"
            ],
            [
             0.8888888888888888,
             "#fdca26"
            ],
            [
             1,
             "#f0f921"
            ]
           ],
           "sequentialminus": [
            [
             0,
             "#0d0887"
            ],
            [
             0.1111111111111111,
             "#46039f"
            ],
            [
             0.2222222222222222,
             "#7201a8"
            ],
            [
             0.3333333333333333,
             "#9c179e"
            ],
            [
             0.4444444444444444,
             "#bd3786"
            ],
            [
             0.5555555555555556,
             "#d8576b"
            ],
            [
             0.6666666666666666,
             "#ed7953"
            ],
            [
             0.7777777777777778,
             "#fb9f3a"
            ],
            [
             0.8888888888888888,
             "#fdca26"
            ],
            [
             1,
             "#f0f921"
            ]
           ]
          },
          "colorway": [
           "#636efa",
           "#EF553B",
           "#00cc96",
           "#ab63fa",
           "#FFA15A",
           "#19d3f3",
           "#FF6692",
           "#B6E880",
           "#FF97FF",
           "#FECB52"
          ],
          "font": {
           "color": "#2a3f5f"
          },
          "geo": {
           "bgcolor": "white",
           "lakecolor": "white",
           "landcolor": "#E5ECF6",
           "showlakes": true,
           "showland": true,
           "subunitcolor": "white"
          },
          "hoverlabel": {
           "align": "left"
          },
          "hovermode": "closest",
          "mapbox": {
           "style": "light"
          },
          "paper_bgcolor": "white",
          "plot_bgcolor": "#E5ECF6",
          "polar": {
           "angularaxis": {
            "gridcolor": "white",
            "linecolor": "white",
            "ticks": ""
           },
           "bgcolor": "#E5ECF6",
           "radialaxis": {
            "gridcolor": "white",
            "linecolor": "white",
            "ticks": ""
           }
          },
          "scene": {
           "xaxis": {
            "backgroundcolor": "#E5ECF6",
            "gridcolor": "white",
            "gridwidth": 2,
            "linecolor": "white",
            "showbackground": true,
            "ticks": "",
            "zerolinecolor": "white"
           },
           "yaxis": {
            "backgroundcolor": "#E5ECF6",
            "gridcolor": "white",
            "gridwidth": 2,
            "linecolor": "white",
            "showbackground": true,
            "ticks": "",
            "zerolinecolor": "white"
           },
           "zaxis": {
            "backgroundcolor": "#E5ECF6",
            "gridcolor": "white",
            "gridwidth": 2,
            "linecolor": "white",
            "showbackground": true,
            "ticks": "",
            "zerolinecolor": "white"
           }
          },
          "shapedefaults": {
           "line": {
            "color": "#2a3f5f"
           }
          },
          "ternary": {
           "aaxis": {
            "gridcolor": "white",
            "linecolor": "white",
            "ticks": ""
           },
           "baxis": {
            "gridcolor": "white",
            "linecolor": "white",
            "ticks": ""
           },
           "bgcolor": "#E5ECF6",
           "caxis": {
            "gridcolor": "white",
            "linecolor": "white",
            "ticks": ""
           }
          },
          "title": {
           "x": 0.05
          },
          "xaxis": {
           "automargin": true,
           "gridcolor": "white",
           "linecolor": "white",
           "ticks": "",
           "title": {
            "standoff": 15
           },
           "zerolinecolor": "white",
           "zerolinewidth": 2
          },
          "yaxis": {
           "automargin": true,
           "gridcolor": "white",
           "linecolor": "white",
           "ticks": "",
           "title": {
            "standoff": 15
           },
           "zerolinecolor": "white",
           "zerolinewidth": 2
          }
         }
        },
        "title": {
         "text": "Training vs Validation Loss (lr=0.0001, bs=32)"
        },
        "xaxis": {
         "title": {
          "text": "Epoch"
         }
        },
        "yaxis": {
         "title": {
          "text": "Loss (%)"
         }
        }
       }
      }
     },
     "metadata": {},
     "output_type": "display_data"
    },
    {
     "data": {
      "application/vnd.plotly.v1+json": {
       "config": {
        "plotlyServerURL": "https://plot.ly"
       },
       "data": [
        {
         "name": "Training Time",
         "text": [
          "1755.2841022014618",
          "2092.626853942871"
         ],
         "textposition": "outside",
         "type": "bar",
         "x": [
          "MobileNetV2",
          "EfficientNet"
         ],
         "y": [
          1755.2841022014618,
          2092.626853942871
         ]
        }
       ],
       "layout": {
        "template": {
         "data": {
          "bar": [
           {
            "error_x": {
             "color": "#2a3f5f"
            },
            "error_y": {
             "color": "#2a3f5f"
            },
            "marker": {
             "line": {
              "color": "#E5ECF6",
              "width": 0.5
             },
             "pattern": {
              "fillmode": "overlay",
              "size": 10,
              "solidity": 0.2
             }
            },
            "type": "bar"
           }
          ],
          "barpolar": [
           {
            "marker": {
             "line": {
              "color": "#E5ECF6",
              "width": 0.5
             },
             "pattern": {
              "fillmode": "overlay",
              "size": 10,
              "solidity": 0.2
             }
            },
            "type": "barpolar"
           }
          ],
          "carpet": [
           {
            "aaxis": {
             "endlinecolor": "#2a3f5f",
             "gridcolor": "white",
             "linecolor": "white",
             "minorgridcolor": "white",
             "startlinecolor": "#2a3f5f"
            },
            "baxis": {
             "endlinecolor": "#2a3f5f",
             "gridcolor": "white",
             "linecolor": "white",
             "minorgridcolor": "white",
             "startlinecolor": "#2a3f5f"
            },
            "type": "carpet"
           }
          ],
          "choropleth": [
           {
            "colorbar": {
             "outlinewidth": 0,
             "ticks": ""
            },
            "type": "choropleth"
           }
          ],
          "contour": [
           {
            "colorbar": {
             "outlinewidth": 0,
             "ticks": ""
            },
            "colorscale": [
             [
              0,
              "#0d0887"
             ],
             [
              0.1111111111111111,
              "#46039f"
             ],
             [
              0.2222222222222222,
              "#7201a8"
             ],
             [
              0.3333333333333333,
              "#9c179e"
             ],
             [
              0.4444444444444444,
              "#bd3786"
             ],
             [
              0.5555555555555556,
              "#d8576b"
             ],
             [
              0.6666666666666666,
              "#ed7953"
             ],
             [
              0.7777777777777778,
              "#fb9f3a"
             ],
             [
              0.8888888888888888,
              "#fdca26"
             ],
             [
              1,
              "#f0f921"
             ]
            ],
            "type": "contour"
           }
          ],
          "contourcarpet": [
           {
            "colorbar": {
             "outlinewidth": 0,
             "ticks": ""
            },
            "type": "contourcarpet"
           }
          ],
          "heatmap": [
           {
            "colorbar": {
             "outlinewidth": 0,
             "ticks": ""
            },
            "colorscale": [
             [
              0,
              "#0d0887"
             ],
             [
              0.1111111111111111,
              "#46039f"
             ],
             [
              0.2222222222222222,
              "#7201a8"
             ],
             [
              0.3333333333333333,
              "#9c179e"
             ],
             [
              0.4444444444444444,
              "#bd3786"
             ],
             [
              0.5555555555555556,
              "#d8576b"
             ],
             [
              0.6666666666666666,
              "#ed7953"
             ],
             [
              0.7777777777777778,
              "#fb9f3a"
             ],
             [
              0.8888888888888888,
              "#fdca26"
             ],
             [
              1,
              "#f0f921"
             ]
            ],
            "type": "heatmap"
           }
          ],
          "heatmapgl": [
           {
            "colorbar": {
             "outlinewidth": 0,
             "ticks": ""
            },
            "colorscale": [
             [
              0,
              "#0d0887"
             ],
             [
              0.1111111111111111,
              "#46039f"
             ],
             [
              0.2222222222222222,
              "#7201a8"
             ],
             [
              0.3333333333333333,
              "#9c179e"
             ],
             [
              0.4444444444444444,
              "#bd3786"
             ],
             [
              0.5555555555555556,
              "#d8576b"
             ],
             [
              0.6666666666666666,
              "#ed7953"
             ],
             [
              0.7777777777777778,
              "#fb9f3a"
             ],
             [
              0.8888888888888888,
              "#fdca26"
             ],
             [
              1,
              "#f0f921"
             ]
            ],
            "type": "heatmapgl"
           }
          ],
          "histogram": [
           {
            "marker": {
             "pattern": {
              "fillmode": "overlay",
              "size": 10,
              "solidity": 0.2
             }
            },
            "type": "histogram"
           }
          ],
          "histogram2d": [
           {
            "colorbar": {
             "outlinewidth": 0,
             "ticks": ""
            },
            "colorscale": [
             [
              0,
              "#0d0887"
             ],
             [
              0.1111111111111111,
              "#46039f"
             ],
             [
              0.2222222222222222,
              "#7201a8"
             ],
             [
              0.3333333333333333,
              "#9c179e"
             ],
             [
              0.4444444444444444,
              "#bd3786"
             ],
             [
              0.5555555555555556,
              "#d8576b"
             ],
             [
              0.6666666666666666,
              "#ed7953"
             ],
             [
              0.7777777777777778,
              "#fb9f3a"
             ],
             [
              0.8888888888888888,
              "#fdca26"
             ],
             [
              1,
              "#f0f921"
             ]
            ],
            "type": "histogram2d"
           }
          ],
          "histogram2dcontour": [
           {
            "colorbar": {
             "outlinewidth": 0,
             "ticks": ""
            },
            "colorscale": [
             [
              0,
              "#0d0887"
             ],
             [
              0.1111111111111111,
              "#46039f"
             ],
             [
              0.2222222222222222,
              "#7201a8"
             ],
             [
              0.3333333333333333,
              "#9c179e"
             ],
             [
              0.4444444444444444,
              "#bd3786"
             ],
             [
              0.5555555555555556,
              "#d8576b"
             ],
             [
              0.6666666666666666,
              "#ed7953"
             ],
             [
              0.7777777777777778,
              "#fb9f3a"
             ],
             [
              0.8888888888888888,
              "#fdca26"
             ],
             [
              1,
              "#f0f921"
             ]
            ],
            "type": "histogram2dcontour"
           }
          ],
          "mesh3d": [
           {
            "colorbar": {
             "outlinewidth": 0,
             "ticks": ""
            },
            "type": "mesh3d"
           }
          ],
          "parcoords": [
           {
            "line": {
             "colorbar": {
              "outlinewidth": 0,
              "ticks": ""
             }
            },
            "type": "parcoords"
           }
          ],
          "pie": [
           {
            "automargin": true,
            "type": "pie"
           }
          ],
          "scatter": [
           {
            "fillpattern": {
             "fillmode": "overlay",
             "size": 10,
             "solidity": 0.2
            },
            "type": "scatter"
           }
          ],
          "scatter3d": [
           {
            "line": {
             "colorbar": {
              "outlinewidth": 0,
              "ticks": ""
             }
            },
            "marker": {
             "colorbar": {
              "outlinewidth": 0,
              "ticks": ""
             }
            },
            "type": "scatter3d"
           }
          ],
          "scattercarpet": [
           {
            "marker": {
             "colorbar": {
              "outlinewidth": 0,
              "ticks": ""
             }
            },
            "type": "scattercarpet"
           }
          ],
          "scattergeo": [
           {
            "marker": {
             "colorbar": {
              "outlinewidth": 0,
              "ticks": ""
             }
            },
            "type": "scattergeo"
           }
          ],
          "scattergl": [
           {
            "marker": {
             "colorbar": {
              "outlinewidth": 0,
              "ticks": ""
             }
            },
            "type": "scattergl"
           }
          ],
          "scattermapbox": [
           {
            "marker": {
             "colorbar": {
              "outlinewidth": 0,
              "ticks": ""
             }
            },
            "type": "scattermapbox"
           }
          ],
          "scatterpolar": [
           {
            "marker": {
             "colorbar": {
              "outlinewidth": 0,
              "ticks": ""
             }
            },
            "type": "scatterpolar"
           }
          ],
          "scatterpolargl": [
           {
            "marker": {
             "colorbar": {
              "outlinewidth": 0,
              "ticks": ""
             }
            },
            "type": "scatterpolargl"
           }
          ],
          "scatterternary": [
           {
            "marker": {
             "colorbar": {
              "outlinewidth": 0,
              "ticks": ""
             }
            },
            "type": "scatterternary"
           }
          ],
          "surface": [
           {
            "colorbar": {
             "outlinewidth": 0,
             "ticks": ""
            },
            "colorscale": [
             [
              0,
              "#0d0887"
             ],
             [
              0.1111111111111111,
              "#46039f"
             ],
             [
              0.2222222222222222,
              "#7201a8"
             ],
             [
              0.3333333333333333,
              "#9c179e"
             ],
             [
              0.4444444444444444,
              "#bd3786"
             ],
             [
              0.5555555555555556,
              "#d8576b"
             ],
             [
              0.6666666666666666,
              "#ed7953"
             ],
             [
              0.7777777777777778,
              "#fb9f3a"
             ],
             [
              0.8888888888888888,
              "#fdca26"
             ],
             [
              1,
              "#f0f921"
             ]
            ],
            "type": "surface"
           }
          ],
          "table": [
           {
            "cells": {
             "fill": {
              "color": "#EBF0F8"
             },
             "line": {
              "color": "white"
             }
            },
            "header": {
             "fill": {
              "color": "#C8D4E3"
             },
             "line": {
              "color": "white"
             }
            },
            "type": "table"
           }
          ]
         },
         "layout": {
          "annotationdefaults": {
           "arrowcolor": "#2a3f5f",
           "arrowhead": 0,
           "arrowwidth": 1
          },
          "autotypenumbers": "strict",
          "coloraxis": {
           "colorbar": {
            "outlinewidth": 0,
            "ticks": ""
           }
          },
          "colorscale": {
           "diverging": [
            [
             0,
             "#8e0152"
            ],
            [
             0.1,
             "#c51b7d"
            ],
            [
             0.2,
             "#de77ae"
            ],
            [
             0.3,
             "#f1b6da"
            ],
            [
             0.4,
             "#fde0ef"
            ],
            [
             0.5,
             "#f7f7f7"
            ],
            [
             0.6,
             "#e6f5d0"
            ],
            [
             0.7,
             "#b8e186"
            ],
            [
             0.8,
             "#7fbc41"
            ],
            [
             0.9,
             "#4d9221"
            ],
            [
             1,
             "#276419"
            ]
           ],
           "sequential": [
            [
             0,
             "#0d0887"
            ],
            [
             0.1111111111111111,
             "#46039f"
            ],
            [
             0.2222222222222222,
             "#7201a8"
            ],
            [
             0.3333333333333333,
             "#9c179e"
            ],
            [
             0.4444444444444444,
             "#bd3786"
            ],
            [
             0.5555555555555556,
             "#d8576b"
            ],
            [
             0.6666666666666666,
             "#ed7953"
            ],
            [
             0.7777777777777778,
             "#fb9f3a"
            ],
            [
             0.8888888888888888,
             "#fdca26"
            ],
            [
             1,
             "#f0f921"
            ]
           ],
           "sequentialminus": [
            [
             0,
             "#0d0887"
            ],
            [
             0.1111111111111111,
             "#46039f"
            ],
            [
             0.2222222222222222,
             "#7201a8"
            ],
            [
             0.3333333333333333,
             "#9c179e"
            ],
            [
             0.4444444444444444,
             "#bd3786"
            ],
            [
             0.5555555555555556,
             "#d8576b"
            ],
            [
             0.6666666666666666,
             "#ed7953"
            ],
            [
             0.7777777777777778,
             "#fb9f3a"
            ],
            [
             0.8888888888888888,
             "#fdca26"
            ],
            [
             1,
             "#f0f921"
            ]
           ]
          },
          "colorway": [
           "#636efa",
           "#EF553B",
           "#00cc96",
           "#ab63fa",
           "#FFA15A",
           "#19d3f3",
           "#FF6692",
           "#B6E880",
           "#FF97FF",
           "#FECB52"
          ],
          "font": {
           "color": "#2a3f5f"
          },
          "geo": {
           "bgcolor": "white",
           "lakecolor": "white",
           "landcolor": "#E5ECF6",
           "showlakes": true,
           "showland": true,
           "subunitcolor": "white"
          },
          "hoverlabel": {
           "align": "left"
          },
          "hovermode": "closest",
          "mapbox": {
           "style": "light"
          },
          "paper_bgcolor": "white",
          "plot_bgcolor": "#E5ECF6",
          "polar": {
           "angularaxis": {
            "gridcolor": "white",
            "linecolor": "white",
            "ticks": ""
           },
           "bgcolor": "#E5ECF6",
           "radialaxis": {
            "gridcolor": "white",
            "linecolor": "white",
            "ticks": ""
           }
          },
          "scene": {
           "xaxis": {
            "backgroundcolor": "#E5ECF6",
            "gridcolor": "white",
            "gridwidth": 2,
            "linecolor": "white",
            "showbackground": true,
            "ticks": "",
            "zerolinecolor": "white"
           },
           "yaxis": {
            "backgroundcolor": "#E5ECF6",
            "gridcolor": "white",
            "gridwidth": 2,
            "linecolor": "white",
            "showbackground": true,
            "ticks": "",
            "zerolinecolor": "white"
           },
           "zaxis": {
            "backgroundcolor": "#E5ECF6",
            "gridcolor": "white",
            "gridwidth": 2,
            "linecolor": "white",
            "showbackground": true,
            "ticks": "",
            "zerolinecolor": "white"
           }
          },
          "shapedefaults": {
           "line": {
            "color": "#2a3f5f"
           }
          },
          "ternary": {
           "aaxis": {
            "gridcolor": "white",
            "linecolor": "white",
            "ticks": ""
           },
           "baxis": {
            "gridcolor": "white",
            "linecolor": "white",
            "ticks": ""
           },
           "bgcolor": "#E5ECF6",
           "caxis": {
            "gridcolor": "white",
            "linecolor": "white",
            "ticks": ""
           }
          },
          "title": {
           "x": 0.05
          },
          "xaxis": {
           "automargin": true,
           "gridcolor": "white",
           "linecolor": "white",
           "ticks": "",
           "title": {
            "standoff": 15
           },
           "zerolinecolor": "white",
           "zerolinewidth": 2
          },
          "yaxis": {
           "automargin": true,
           "gridcolor": "white",
           "linecolor": "white",
           "ticks": "",
           "title": {
            "standoff": 15
           },
           "zerolinecolor": "white",
           "zerolinewidth": 2
          }
         }
        },
        "title": {
         "text": "Training Time Comparison (lr=0.0001, bs=32)"
        },
        "xaxis": {
         "title": {
          "text": "Model"
         }
        },
        "yaxis": {
         "title": {
          "text": "Time (s)"
         }
        }
       }
      }
     },
     "metadata": {},
     "output_type": "display_data"
    },
    {
     "ename": "NameError",
     "evalue": "name 'mobilenet_inference_time' is not defined",
     "output_type": "error",
     "traceback": [
      "\u001b[1;31m---------------------------------------------------------------------------\u001b[0m",
      "\u001b[1;31mNameError\u001b[0m                                 Traceback (most recent call last)",
      "Cell \u001b[1;32mIn[22], line 65\u001b[0m\n\u001b[0;32m     63\u001b[0m plot_loss_models(mobilenet_metrics, efficientnet_metrics, \u001b[38;5;124m\"\u001b[39m\u001b[38;5;124mMobileNetV2\u001b[39m\u001b[38;5;124m\"\u001b[39m, \u001b[38;5;124m\"\u001b[39m\u001b[38;5;124mEfficientNet\u001b[39m\u001b[38;5;124m\"\u001b[39m, epochs, lr, batch_size)\n\u001b[0;32m     64\u001b[0m compare_training_times(mobilenet_training_time, efficientnet_training_time, \u001b[38;5;124m\"\u001b[39m\u001b[38;5;124mMobileNetV2\u001b[39m\u001b[38;5;124m\"\u001b[39m, \u001b[38;5;124m\"\u001b[39m\u001b[38;5;124mEfficientNet\u001b[39m\u001b[38;5;124m\"\u001b[39m, epochs, lr, batch_size)\n\u001b[1;32m---> 65\u001b[0m compare_inference_times(\u001b[43mmobilenet_inference_time\u001b[49m, efficientnet_inference_time, \u001b[38;5;124m\"\u001b[39m\u001b[38;5;124mMobileNetV2\u001b[39m\u001b[38;5;124m\"\u001b[39m, \u001b[38;5;124m\"\u001b[39m\u001b[38;5;124mEfficientNet\u001b[39m\u001b[38;5;124m\"\u001b[39m, epochs, lr, batch_size)\n",
      "\u001b[1;31mNameError\u001b[0m: name 'mobilenet_inference_time' is not defined"
     ]
    }
   ],
   "source": [
    "# Make sure you have installed kaleido\n",
    "# Training vs Validation Accuracy\n",
    "def plot_accuracy_models(metrics1, metrics2, model1_name, model2_name, epochs, lr, batch_size):\n",
    "    list_epochs = list(range(1, len(metrics1) + 1))\n",
    "\n",
    "    fig = go.Figure()\n",
    "    fig.add_trace(go.Scatter(x=list_epochs, y=[m[\"train_accuracy\"] for m in metrics1], mode='lines+markers', name=f\"{model1_name} Train Accuracy\"))\n",
    "    fig.add_trace(go.Scatter(x=list_epochs, y=[m[\"val_accuracy\"] for m in metrics1], mode='lines+markers', name=f\"{model1_name} Val Accuracy\"))\n",
    "    fig.add_trace(go.Scatter(x=list_epochs, y=[m[\"train_accuracy\"] for m in metrics2], mode='lines+markers', name=f\"{model2_name} Train Accuracy\"))\n",
    "    fig.add_trace(go.Scatter(x=list_epochs, y=[m[\"val_accuracy\"] for m in metrics2], mode='lines+markers', name=f\"{model2_name} Val Accuracy\"))\n",
    "    fig.update_layout(\n",
    "        title=f\"Training vs Validation Accuracy (lr={lr}, bs={batch_size})\",\n",
    "        xaxis_title=\"Epoch\",\n",
    "        yaxis_title=\"Accuracy (%)\"\n",
    "    )\n",
    "    # fig.write_image(f\"models_comparison/MC_training_vs_validation_accuracy_epochs_{epochs}_lr_{lr}_bs_{batch_size}.png\")\n",
    "    fig.show()\n",
    "\n",
    "def plot_loss_models(metrics1, metrics2, model1_name, model2_name, epochs, lr, batch_size):\n",
    "    list_epochs = list(range(1, len(metrics1) + 1))\n",
    "\n",
    "    fig = go.Figure()\n",
    "    fig.add_trace(go.Scatter(x=list_epochs, y=[m[\"train_loss\"] for m in metrics1], mode='lines+markers', name=f\"{model1_name} Train Loss\"))\n",
    "    fig.add_trace(go.Scatter(x=list_epochs, y=[m[\"val_loss\"] for m in metrics1], mode='lines+markers', name=f\"{model1_name} Val Loss\"))\n",
    "    fig.add_trace(go.Scatter(x=list_epochs, y=[m[\"train_loss\"] for m in metrics2], mode='lines+markers', name=f\"{model2_name} Train Loss\"))\n",
    "    fig.add_trace(go.Scatter(x=list_epochs, y=[m[\"val_loss\"] for m in metrics2], mode='lines+markers', name=f\"{model2_name} Val Loss\"))\n",
    "    fig.update_layout(\n",
    "        title=f\"Training vs Validation Loss (lr={lr}, bs={batch_size})\",\n",
    "        xaxis_title=\"Epoch\",\n",
    "        yaxis_title=\"Loss (%)\"\n",
    "    )\n",
    "    # fig.write_image(f\"models_comparison/MC_training_vs_validation_accuracy_epochs_{epochs}_lr_{lr}_bs_{batch_size}.png\")\n",
    "    fig.show()\n",
    "    \n",
    "\n",
    "# Training Times\n",
    "def compare_training_times(time1, time2, model1_name, model2_name, epochs, lr, batch_size):\n",
    "    fig = go.Figure()\n",
    "    fig.add_trace(go.Bar(x=[model1_name, model2_name], y=[time1, time2], text=[time1, time2], textposition='outside', name=\"Training Time\"))\n",
    "    fig.update_layout(\n",
    "        title=f\"Training Time Comparison (lr={lr}, bs={batch_size})\",\n",
    "        xaxis_title=\"Model\",\n",
    "        yaxis_title=\"Time (s)\"\n",
    "    )\n",
    "    # fig.write_image(f\"models_comparison/MC_training_time_comparison_epochs_{epochs}_lr_{lr}_bs_{batch_size}.png\", format='png')\n",
    "    fig.show()\n",
    "    \n",
    "\n",
    "# Inference Times\n",
    "def compare_inference_times(time1, time2, model1_name, model2_name,epochs, lr, batch_size):\n",
    "    fig = go.Figure()\n",
    "    fig.add_trace(go.Bar(x=[model1_name, model2_name], y=[time1, time2], text=[time1, time2], textposition='outside', name=\"Inference Time\"))\n",
    "    fig.update_layout(\n",
    "        title=f\"Inference Time Comparison (lr={lr}, bs={batch_size})\",\n",
    "        xaxis_title=\"Model\",\n",
    "        yaxis_title=\"Time (ms per image)\"\n",
    "    )\n",
    "    # fig.write_image(f\"models_comparison/MC_inference_time_comparison_epochs_{epochs}_lr_{lr}_bs_{batch_size}.png\", format='png')\n",
    "    fig.show()\n",
    "\n",
    "# Generate Plots\n",
    "plot_accuracy_models(mobilenet_metrics, efficientnet_metrics, \"MobileNetV2\", \"EfficientNet\", epochs, lr, batch_size)\n",
    "plot_loss_models(mobilenet_metrics, efficientnet_metrics, \"MobileNetV2\", \"EfficientNet\", epochs, lr, batch_size)\n",
    "compare_training_times(mobilenet_training_time, efficientnet_training_time, \"MobileNetV2\", \"EfficientNet\", epochs, lr, batch_size)\n",
    "compare_inference_times(mobilenet_inference_time, efficientnet_inference_time, \"MobileNetV2\", \"EfficientNet\", epochs, lr, batch_size)\n"
   ]
  },
  {
   "cell_type": "code",
   "execution_count": 28,
   "metadata": {},
   "outputs": [
    {
     "data": {
      "application/vnd.plotly.v1+json": {
       "config": {
        "plotlyServerURL": "https://plot.ly"
       },
       "data": [
        {
         "line": {
          "color": "#1f77b4"
         },
         "mode": "lines+markers",
         "name": "MobileNetV2 Train Accuracy",
         "type": "scatter",
         "x": [
          1,
          2,
          3,
          4,
          5,
          6,
          7,
          8,
          9,
          10,
          11,
          12,
          13,
          14,
          15,
          16,
          17,
          18,
          19,
          20,
          21,
          22,
          23,
          24,
          25,
          26,
          27,
          28,
          29,
          30
         ],
         "xaxis": "x",
         "y": [
          84.85868102288022,
          90.1749663526245,
          92.19380888290713,
          93.43876177658143,
          93.33781965006729,
          94.85195154777928,
          94.9528936742934,
          95.32301480484522,
          95.69313593539704,
          96.29878869448183,
          96.46702557200538,
          96.39973082099596,
          97.07267833109017,
          97.1399730820996,
          97.74562584118439,
          97.10632570659489,
          97.03903095558546,
          97.57738896366084,
          97.54374158815612,
          98.21668909825034,
          97.00538358008076,
          97.77927321668909,
          98.0820995962315,
          98.0820995962315,
          98.04845222072679,
          98.55316285329744,
          97.94751009421265,
          97.88021534320323,
          97.91386271870795,
          98.35127860026918
         ],
         "yaxis": "y"
        },
        {
         "line": {
          "color": "#aec7e8",
          "dash": "dot"
         },
         "mode": "lines+markers",
         "name": "MobileNetV2 Val Accuracy",
         "type": "scatter",
         "x": [
          1,
          2,
          3,
          4,
          5,
          6,
          7,
          8,
          9,
          10,
          11,
          12,
          13,
          14,
          15,
          16,
          17,
          18,
          19,
          20,
          21,
          22,
          23,
          24,
          25,
          26,
          27,
          28,
          29,
          30
         ],
         "xaxis": "x",
         "y": [
          89.77119784656797,
          91.65545087483176,
          94.34724091520862,
          93.13593539703903,
          92.32839838492598,
          94.07806191117093,
          94.21265141318977,
          93.6742934051144,
          94.07806191117093,
          95.28936742934052,
          93.80888290713324,
          94.75100942126514,
          94.75100942126514,
          93.94347240915208,
          94.88559892328398,
          93.53970390309556,
          94.07806191117093,
          94.75100942126514,
          94.6164199192463,
          95.96231493943472,
          94.34724091520862,
          94.88559892328398,
          94.48183041722746,
          95.15477792732167,
          94.48183041722746,
          95.5585464333782,
          95.5585464333782,
          93.94347240915208,
          94.48183041722746,
          94.34724091520862
         ],
         "yaxis": "y"
        },
        {
         "line": {
          "color": "#ff7f0e"
         },
         "mode": "lines+markers",
         "name": "EfficientNet Train Accuracy",
         "type": "scatter",
         "x": [
          1,
          2,
          3,
          4,
          5,
          6,
          7,
          8,
          9,
          10,
          11,
          12,
          13,
          14,
          15,
          16,
          17,
          18,
          19,
          20,
          21,
          22,
          23,
          24,
          25,
          26,
          27,
          28,
          29,
          30
         ],
         "xaxis": "x",
         "y": [
          79.17227456258412,
          89.46837146702558,
          91.68909825033647,
          92.4293405114401,
          94.11170928667563,
          93.70794078061911,
          95.49125168236877,
          95.65948855989232,
          96.16419919246299,
          96.63526244952894,
          96.70255720053835,
          97.1736204576043,
          96.60161507402422,
          97.40915208613728,
          97.74562584118439,
          98.01480484522207,
          97.61103633916555,
          97.74562584118439,
          97.71197846567968,
          98.58681022880215,
          98.45222072678331,
          97.54374158815612,
          98.4185733512786,
          98.28398384925976,
          98.85598923283983,
          99.0578734858681,
          98.68775235531629,
          98.55316285329744,
          98.68775235531629,
          99.02422611036339
         ],
         "yaxis": "y"
        },
        {
         "line": {
          "color": "#ffbb78",
          "dash": "dot"
         },
         "mode": "lines+markers",
         "name": "EfficientNet Val Accuracy",
         "type": "scatter",
         "x": [
          1,
          2,
          3,
          4,
          5,
          6,
          7,
          8,
          9,
          10,
          11,
          12,
          13,
          14,
          15,
          16,
          17,
          18,
          19,
          20,
          21,
          22,
          23,
          24,
          25,
          26,
          27,
          28,
          29,
          30
         ],
         "xaxis": "x",
         "y": [
          88.96366083445491,
          90.98250336473755,
          92.86675639300135,
          93.94347240915208,
          93.80888290713324,
          94.34724091520862,
          94.6164199192463,
          94.6164199192463,
          95.28936742934052,
          95.69313593539704,
          94.88559892328398,
          95.5585464333782,
          95.02018842530282,
          95.02018842530282,
          95.5585464333782,
          94.48183041722746,
          96.36608344549126,
          95.82772543741588,
          95.42395693135936,
          95.82772543741588,
          95.69313593539704,
          95.96231493943472,
          96.5006729475101,
          96.36608344549126,
          95.02018842530282,
          95.96231493943472,
          95.69313593539704,
          96.63526244952894,
          95.96231493943472,
          94.6164199192463
         ],
         "yaxis": "y"
        },
        {
         "line": {
          "color": "#1f77b4"
         },
         "mode": "lines+markers",
         "name": "MobileNetV2 Train Loss",
         "type": "scatter",
         "x": [
          1,
          2,
          3,
          4,
          5,
          6,
          7,
          8,
          9,
          10,
          11,
          12,
          13,
          14,
          15,
          16,
          17,
          18,
          19,
          20,
          21,
          22,
          23,
          24,
          25,
          26,
          27,
          28,
          29,
          30
         ],
         "xaxis": "x2",
         "y": [
          0.34960191736939134,
          0.2351664448938062,
          0.19405010574927894,
          0.1668417916823459,
          0.16744347661733627,
          0.13678766979325202,
          0.1323998398397879,
          0.11095641714630909,
          0.1156448507180778,
          0.10999691505385663,
          0.0990874572627006,
          0.08827435966300708,
          0.07524837297637776,
          0.0765637892238315,
          0.06399586509352409,
          0.07613368282314911,
          0.07840722677127648,
          0.05682063015848799,
          0.06010422489846185,
          0.0544698755907756,
          0.0821462259778092,
          0.055387764347977535,
          0.05381307265500949,
          0.055627639934305424,
          0.05235412699371947,
          0.042275089795591046,
          0.05051482123102472,
          0.04897510848553871,
          0.051509507706448916,
          0.0440234700893803
         ],
         "yaxis": "y2"
        },
        {
         "line": {
          "color": "#aec7e8",
          "dash": "dot"
         },
         "mode": "lines+markers",
         "name": "MobileNetV2 Val Loss",
         "type": "scatter",
         "x": [
          1,
          2,
          3,
          4,
          5,
          6,
          7,
          8,
          9,
          10,
          11,
          12,
          13,
          14,
          15,
          16,
          17,
          18,
          19,
          20,
          21,
          22,
          23,
          24,
          25,
          26,
          27,
          28,
          29,
          30
         ],
         "xaxis": "x2",
         "y": [
          0.24505716174220046,
          0.2153959230830272,
          0.1826796301951011,
          0.16895202073889473,
          0.17822666931897402,
          0.1667171175358817,
          0.15058591915294528,
          0.15618331691560647,
          0.16872484159345427,
          0.14874607417732477,
          0.16803998531152806,
          0.1373922862500573,
          0.1445226011953006,
          0.1596106217087557,
          0.1383751240403702,
          0.18395363120362163,
          0.16023158241296187,
          0.17921044929729155,
          0.15276827690346786,
          0.12968679370048145,
          0.2029220226298397,
          0.17863478566869162,
          0.13837571643913785,
          0.15498512370201448,
          0.17437975760549307,
          0.16286905453307554,
          0.16244153536778563,
          0.19904262219400456,
          0.15868443987953165,
          0.1872677479016905
         ],
         "yaxis": "y2"
        },
        {
         "line": {
          "color": "#ff7f0e"
         },
         "mode": "lines+markers",
         "name": "EfficientNet Train Loss",
         "type": "scatter",
         "x": [
          1,
          2,
          3,
          4,
          5,
          6,
          7,
          8,
          9,
          10,
          11,
          12,
          13,
          14,
          15,
          16,
          17,
          18,
          19,
          20,
          21,
          22,
          23,
          24,
          25,
          26,
          27,
          28,
          29,
          30
         ],
         "xaxis": "x2",
         "y": [
          0.4403435557439763,
          0.24254873699398452,
          0.20602522602164616,
          0.18464590088334135,
          0.15150145533424553,
          0.14354380292277183,
          0.12286980386062335,
          0.11409789898623061,
          0.10239267025783819,
          0.09681360788082563,
          0.08330759566317322,
          0.08553281713337187,
          0.08042299974289152,
          0.08224184168202262,
          0.06860120773756055,
          0.062276376791859184,
          0.06250673931552678,
          0.05778805137942395,
          0.05476039658320607,
          0.03918817373097784,
          0.03967356770324411,
          0.06363861686650223,
          0.04399183613338297,
          0.03926610758012381,
          0.033648374690098425,
          0.033948785894530355,
          0.03407646570559992,
          0.04056196796372333,
          0.03324631778197864,
          0.03262890938178746
         ],
         "yaxis": "y2"
        },
        {
         "line": {
          "color": "#ffbb78",
          "dash": "dot"
         },
         "mode": "lines+markers",
         "name": "EfficientNet Val Loss",
         "type": "scatter",
         "x": [
          1,
          2,
          3,
          4,
          5,
          6,
          7,
          8,
          9,
          10,
          11,
          12,
          13,
          14,
          15,
          16,
          17,
          18,
          19,
          20,
          21,
          22,
          23,
          24,
          25,
          26,
          27,
          28,
          29,
          30
         ],
         "xaxis": "x2",
         "y": [
          0.26955006675173837,
          0.20663961550841728,
          0.18227718149622282,
          0.15808029348651567,
          0.15860348350057998,
          0.15504362566086152,
          0.13321987027302384,
          0.14825678251994154,
          0.1378062287500749,
          0.14097322317926833,
          0.14157380846639475,
          0.1411348368662099,
          0.13275322030919293,
          0.13704307346294323,
          0.11428535551143189,
          0.14768962756109735,
          0.1263324940421929,
          0.13737981806237562,
          0.16021607827860862,
          0.14661513416164476,
          0.15962858194446503,
          0.14804365697394437,
          0.12906576126503447,
          0.12050820689182729,
          0.15937859066859042,
          0.14887801263588094,
          0.14941269776318222,
          0.15080902015324682,
          0.14279384672408924,
          0.19076361048306958
         ],
         "yaxis": "y2"
        }
       ],
       "layout": {
        "annotations": [
         {
          "font": {
           "size": 16
          },
          "showarrow": false,
          "text": "Training vs Validation Accuracy (lr=0.0001, bs=32)",
          "x": 0.225,
          "xanchor": "center",
          "xref": "paper",
          "y": 1,
          "yanchor": "bottom",
          "yref": "paper"
         },
         {
          "font": {
           "size": 16
          },
          "showarrow": false,
          "text": "Training vs Validation Loss (lr=0.0001, bs=32)",
          "x": 0.775,
          "xanchor": "center",
          "xref": "paper",
          "y": 1,
          "yanchor": "bottom",
          "yref": "paper"
         }
        ],
        "showlegend": true,
        "template": {
         "data": {
          "bar": [
           {
            "error_x": {
             "color": "#2a3f5f"
            },
            "error_y": {
             "color": "#2a3f5f"
            },
            "marker": {
             "line": {
              "color": "#E5ECF6",
              "width": 0.5
             },
             "pattern": {
              "fillmode": "overlay",
              "size": 10,
              "solidity": 0.2
             }
            },
            "type": "bar"
           }
          ],
          "barpolar": [
           {
            "marker": {
             "line": {
              "color": "#E5ECF6",
              "width": 0.5
             },
             "pattern": {
              "fillmode": "overlay",
              "size": 10,
              "solidity": 0.2
             }
            },
            "type": "barpolar"
           }
          ],
          "carpet": [
           {
            "aaxis": {
             "endlinecolor": "#2a3f5f",
             "gridcolor": "white",
             "linecolor": "white",
             "minorgridcolor": "white",
             "startlinecolor": "#2a3f5f"
            },
            "baxis": {
             "endlinecolor": "#2a3f5f",
             "gridcolor": "white",
             "linecolor": "white",
             "minorgridcolor": "white",
             "startlinecolor": "#2a3f5f"
            },
            "type": "carpet"
           }
          ],
          "choropleth": [
           {
            "colorbar": {
             "outlinewidth": 0,
             "ticks": ""
            },
            "type": "choropleth"
           }
          ],
          "contour": [
           {
            "colorbar": {
             "outlinewidth": 0,
             "ticks": ""
            },
            "colorscale": [
             [
              0,
              "#0d0887"
             ],
             [
              0.1111111111111111,
              "#46039f"
             ],
             [
              0.2222222222222222,
              "#7201a8"
             ],
             [
              0.3333333333333333,
              "#9c179e"
             ],
             [
              0.4444444444444444,
              "#bd3786"
             ],
             [
              0.5555555555555556,
              "#d8576b"
             ],
             [
              0.6666666666666666,
              "#ed7953"
             ],
             [
              0.7777777777777778,
              "#fb9f3a"
             ],
             [
              0.8888888888888888,
              "#fdca26"
             ],
             [
              1,
              "#f0f921"
             ]
            ],
            "type": "contour"
           }
          ],
          "contourcarpet": [
           {
            "colorbar": {
             "outlinewidth": 0,
             "ticks": ""
            },
            "type": "contourcarpet"
           }
          ],
          "heatmap": [
           {
            "colorbar": {
             "outlinewidth": 0,
             "ticks": ""
            },
            "colorscale": [
             [
              0,
              "#0d0887"
             ],
             [
              0.1111111111111111,
              "#46039f"
             ],
             [
              0.2222222222222222,
              "#7201a8"
             ],
             [
              0.3333333333333333,
              "#9c179e"
             ],
             [
              0.4444444444444444,
              "#bd3786"
             ],
             [
              0.5555555555555556,
              "#d8576b"
             ],
             [
              0.6666666666666666,
              "#ed7953"
             ],
             [
              0.7777777777777778,
              "#fb9f3a"
             ],
             [
              0.8888888888888888,
              "#fdca26"
             ],
             [
              1,
              "#f0f921"
             ]
            ],
            "type": "heatmap"
           }
          ],
          "heatmapgl": [
           {
            "colorbar": {
             "outlinewidth": 0,
             "ticks": ""
            },
            "colorscale": [
             [
              0,
              "#0d0887"
             ],
             [
              0.1111111111111111,
              "#46039f"
             ],
             [
              0.2222222222222222,
              "#7201a8"
             ],
             [
              0.3333333333333333,
              "#9c179e"
             ],
             [
              0.4444444444444444,
              "#bd3786"
             ],
             [
              0.5555555555555556,
              "#d8576b"
             ],
             [
              0.6666666666666666,
              "#ed7953"
             ],
             [
              0.7777777777777778,
              "#fb9f3a"
             ],
             [
              0.8888888888888888,
              "#fdca26"
             ],
             [
              1,
              "#f0f921"
             ]
            ],
            "type": "heatmapgl"
           }
          ],
          "histogram": [
           {
            "marker": {
             "pattern": {
              "fillmode": "overlay",
              "size": 10,
              "solidity": 0.2
             }
            },
            "type": "histogram"
           }
          ],
          "histogram2d": [
           {
            "colorbar": {
             "outlinewidth": 0,
             "ticks": ""
            },
            "colorscale": [
             [
              0,
              "#0d0887"
             ],
             [
              0.1111111111111111,
              "#46039f"
             ],
             [
              0.2222222222222222,
              "#7201a8"
             ],
             [
              0.3333333333333333,
              "#9c179e"
             ],
             [
              0.4444444444444444,
              "#bd3786"
             ],
             [
              0.5555555555555556,
              "#d8576b"
             ],
             [
              0.6666666666666666,
              "#ed7953"
             ],
             [
              0.7777777777777778,
              "#fb9f3a"
             ],
             [
              0.8888888888888888,
              "#fdca26"
             ],
             [
              1,
              "#f0f921"
             ]
            ],
            "type": "histogram2d"
           }
          ],
          "histogram2dcontour": [
           {
            "colorbar": {
             "outlinewidth": 0,
             "ticks": ""
            },
            "colorscale": [
             [
              0,
              "#0d0887"
             ],
             [
              0.1111111111111111,
              "#46039f"
             ],
             [
              0.2222222222222222,
              "#7201a8"
             ],
             [
              0.3333333333333333,
              "#9c179e"
             ],
             [
              0.4444444444444444,
              "#bd3786"
             ],
             [
              0.5555555555555556,
              "#d8576b"
             ],
             [
              0.6666666666666666,
              "#ed7953"
             ],
             [
              0.7777777777777778,
              "#fb9f3a"
             ],
             [
              0.8888888888888888,
              "#fdca26"
             ],
             [
              1,
              "#f0f921"
             ]
            ],
            "type": "histogram2dcontour"
           }
          ],
          "mesh3d": [
           {
            "colorbar": {
             "outlinewidth": 0,
             "ticks": ""
            },
            "type": "mesh3d"
           }
          ],
          "parcoords": [
           {
            "line": {
             "colorbar": {
              "outlinewidth": 0,
              "ticks": ""
             }
            },
            "type": "parcoords"
           }
          ],
          "pie": [
           {
            "automargin": true,
            "type": "pie"
           }
          ],
          "scatter": [
           {
            "fillpattern": {
             "fillmode": "overlay",
             "size": 10,
             "solidity": 0.2
            },
            "type": "scatter"
           }
          ],
          "scatter3d": [
           {
            "line": {
             "colorbar": {
              "outlinewidth": 0,
              "ticks": ""
             }
            },
            "marker": {
             "colorbar": {
              "outlinewidth": 0,
              "ticks": ""
             }
            },
            "type": "scatter3d"
           }
          ],
          "scattercarpet": [
           {
            "marker": {
             "colorbar": {
              "outlinewidth": 0,
              "ticks": ""
             }
            },
            "type": "scattercarpet"
           }
          ],
          "scattergeo": [
           {
            "marker": {
             "colorbar": {
              "outlinewidth": 0,
              "ticks": ""
             }
            },
            "type": "scattergeo"
           }
          ],
          "scattergl": [
           {
            "marker": {
             "colorbar": {
              "outlinewidth": 0,
              "ticks": ""
             }
            },
            "type": "scattergl"
           }
          ],
          "scattermapbox": [
           {
            "marker": {
             "colorbar": {
              "outlinewidth": 0,
              "ticks": ""
             }
            },
            "type": "scattermapbox"
           }
          ],
          "scatterpolar": [
           {
            "marker": {
             "colorbar": {
              "outlinewidth": 0,
              "ticks": ""
             }
            },
            "type": "scatterpolar"
           }
          ],
          "scatterpolargl": [
           {
            "marker": {
             "colorbar": {
              "outlinewidth": 0,
              "ticks": ""
             }
            },
            "type": "scatterpolargl"
           }
          ],
          "scatterternary": [
           {
            "marker": {
             "colorbar": {
              "outlinewidth": 0,
              "ticks": ""
             }
            },
            "type": "scatterternary"
           }
          ],
          "surface": [
           {
            "colorbar": {
             "outlinewidth": 0,
             "ticks": ""
            },
            "colorscale": [
             [
              0,
              "#0d0887"
             ],
             [
              0.1111111111111111,
              "#46039f"
             ],
             [
              0.2222222222222222,
              "#7201a8"
             ],
             [
              0.3333333333333333,
              "#9c179e"
             ],
             [
              0.4444444444444444,
              "#bd3786"
             ],
             [
              0.5555555555555556,
              "#d8576b"
             ],
             [
              0.6666666666666666,
              "#ed7953"
             ],
             [
              0.7777777777777778,
              "#fb9f3a"
             ],
             [
              0.8888888888888888,
              "#fdca26"
             ],
             [
              1,
              "#f0f921"
             ]
            ],
            "type": "surface"
           }
          ],
          "table": [
           {
            "cells": {
             "fill": {
              "color": "#EBF0F8"
             },
             "line": {
              "color": "white"
             }
            },
            "header": {
             "fill": {
              "color": "#C8D4E3"
             },
             "line": {
              "color": "white"
             }
            },
            "type": "table"
           }
          ]
         },
         "layout": {
          "annotationdefaults": {
           "arrowcolor": "#2a3f5f",
           "arrowhead": 0,
           "arrowwidth": 1
          },
          "autotypenumbers": "strict",
          "coloraxis": {
           "colorbar": {
            "outlinewidth": 0,
            "ticks": ""
           }
          },
          "colorscale": {
           "diverging": [
            [
             0,
             "#8e0152"
            ],
            [
             0.1,
             "#c51b7d"
            ],
            [
             0.2,
             "#de77ae"
            ],
            [
             0.3,
             "#f1b6da"
            ],
            [
             0.4,
             "#fde0ef"
            ],
            [
             0.5,
             "#f7f7f7"
            ],
            [
             0.6,
             "#e6f5d0"
            ],
            [
             0.7,
             "#b8e186"
            ],
            [
             0.8,
             "#7fbc41"
            ],
            [
             0.9,
             "#4d9221"
            ],
            [
             1,
             "#276419"
            ]
           ],
           "sequential": [
            [
             0,
             "#0d0887"
            ],
            [
             0.1111111111111111,
             "#46039f"
            ],
            [
             0.2222222222222222,
             "#7201a8"
            ],
            [
             0.3333333333333333,
             "#9c179e"
            ],
            [
             0.4444444444444444,
             "#bd3786"
            ],
            [
             0.5555555555555556,
             "#d8576b"
            ],
            [
             0.6666666666666666,
             "#ed7953"
            ],
            [
             0.7777777777777778,
             "#fb9f3a"
            ],
            [
             0.8888888888888888,
             "#fdca26"
            ],
            [
             1,
             "#f0f921"
            ]
           ],
           "sequentialminus": [
            [
             0,
             "#0d0887"
            ],
            [
             0.1111111111111111,
             "#46039f"
            ],
            [
             0.2222222222222222,
             "#7201a8"
            ],
            [
             0.3333333333333333,
             "#9c179e"
            ],
            [
             0.4444444444444444,
             "#bd3786"
            ],
            [
             0.5555555555555556,
             "#d8576b"
            ],
            [
             0.6666666666666666,
             "#ed7953"
            ],
            [
             0.7777777777777778,
             "#fb9f3a"
            ],
            [
             0.8888888888888888,
             "#fdca26"
            ],
            [
             1,
             "#f0f921"
            ]
           ]
          },
          "colorway": [
           "#636efa",
           "#EF553B",
           "#00cc96",
           "#ab63fa",
           "#FFA15A",
           "#19d3f3",
           "#FF6692",
           "#B6E880",
           "#FF97FF",
           "#FECB52"
          ],
          "font": {
           "color": "#2a3f5f"
          },
          "geo": {
           "bgcolor": "white",
           "lakecolor": "white",
           "landcolor": "#E5ECF6",
           "showlakes": true,
           "showland": true,
           "subunitcolor": "white"
          },
          "hoverlabel": {
           "align": "left"
          },
          "hovermode": "closest",
          "mapbox": {
           "style": "light"
          },
          "paper_bgcolor": "white",
          "plot_bgcolor": "#E5ECF6",
          "polar": {
           "angularaxis": {
            "gridcolor": "white",
            "linecolor": "white",
            "ticks": ""
           },
           "bgcolor": "#E5ECF6",
           "radialaxis": {
            "gridcolor": "white",
            "linecolor": "white",
            "ticks": ""
           }
          },
          "scene": {
           "xaxis": {
            "backgroundcolor": "#E5ECF6",
            "gridcolor": "white",
            "gridwidth": 2,
            "linecolor": "white",
            "showbackground": true,
            "ticks": "",
            "zerolinecolor": "white"
           },
           "yaxis": {
            "backgroundcolor": "#E5ECF6",
            "gridcolor": "white",
            "gridwidth": 2,
            "linecolor": "white",
            "showbackground": true,
            "ticks": "",
            "zerolinecolor": "white"
           },
           "zaxis": {
            "backgroundcolor": "#E5ECF6",
            "gridcolor": "white",
            "gridwidth": 2,
            "linecolor": "white",
            "showbackground": true,
            "ticks": "",
            "zerolinecolor": "white"
           }
          },
          "shapedefaults": {
           "line": {
            "color": "#2a3f5f"
           }
          },
          "ternary": {
           "aaxis": {
            "gridcolor": "white",
            "linecolor": "white",
            "ticks": ""
           },
           "baxis": {
            "gridcolor": "white",
            "linecolor": "white",
            "ticks": ""
           },
           "bgcolor": "#E5ECF6",
           "caxis": {
            "gridcolor": "white",
            "linecolor": "white",
            "ticks": ""
           }
          },
          "title": {
           "x": 0.05
          },
          "xaxis": {
           "automargin": true,
           "gridcolor": "white",
           "linecolor": "white",
           "ticks": "",
           "title": {
            "standoff": 15
           },
           "zerolinecolor": "white",
           "zerolinewidth": 2
          },
          "yaxis": {
           "automargin": true,
           "gridcolor": "white",
           "linecolor": "white",
           "ticks": "",
           "title": {
            "standoff": 15
           },
           "zerolinecolor": "white",
           "zerolinewidth": 2
          }
         }
        },
        "title": {
         "text": "Training vs Validation Metrics Comparison"
        },
        "xaxis": {
         "anchor": "y",
         "domain": [
          0,
          0.45
         ],
         "title": {
          "text": "Epoch"
         }
        },
        "xaxis2": {
         "anchor": "y2",
         "domain": [
          0.55,
          1
         ],
         "title": {
          "text": "Epoch"
         }
        },
        "yaxis": {
         "anchor": "x",
         "domain": [
          0,
          1
         ],
         "title": {
          "text": "Accuracy (%)"
         }
        },
        "yaxis2": {
         "anchor": "x2",
         "domain": [
          0,
          1
         ],
         "title": {
          "text": "Loss (%)"
         }
        }
       }
      }
     },
     "metadata": {},
     "output_type": "display_data"
    }
   ],
   "source": [
    "\n",
    "\n",
    "def plot_accuracy_and_loss_models(metrics1, metrics2, model1_name, model2_name, epochs, lr, batch_size):\n",
    "    list_epochs = list(range(1, len(metrics1) + 1))\n",
    "\n",
    "    # Définir des couleurs cohérentes basées sur les graphiques d'accuracy\n",
    "    color_train_model1 = \"#1f77b4\"  # Couleur par défaut pour le premier modèle\n",
    "    color_val_model1 = \"#aec7e8\"    # Variante pour les données de validation\n",
    "    color_train_model2 = \"#ff7f0e\"  # Couleur par défaut pour le deuxième modèle\n",
    "    color_val_model2 = \"#ffbb78\"    # Variante pour les données de validation\n",
    "\n",
    "    # Créer un subplot avec une ligne et deux colonnes\n",
    "    fig = make_subplots(\n",
    "        rows=1, cols=2,\n",
    "        subplot_titles=[\n",
    "            f\"Training vs Validation Accuracy (lr={lr}, bs={batch_size})\",\n",
    "            f\"Training vs Validation Loss (lr={lr}, bs={batch_size})\"\n",
    "        ]\n",
    "    )\n",
    "\n",
    "    # Graphique des Accuracy\n",
    "    fig.add_trace(go.Scatter(\n",
    "        x=list_epochs, y=[m[\"train_accuracy\"] for m in metrics1],\n",
    "        mode='lines+markers', name=f\"{model1_name} Train Accuracy\",\n",
    "        line=dict(color=color_train_model1)\n",
    "    ), row=1, col=1)\n",
    "    fig.add_trace(go.Scatter(\n",
    "        x=list_epochs, y=[m[\"val_accuracy\"] for m in metrics1],\n",
    "        mode='lines+markers', name=f\"{model1_name} Val Accuracy\",\n",
    "        line=dict(color=color_val_model1, dash='dot')\n",
    "    ), row=1, col=1)\n",
    "    fig.add_trace(go.Scatter(\n",
    "        x=list_epochs, y=[m[\"train_accuracy\"] for m in metrics2],\n",
    "        mode='lines+markers', name=f\"{model2_name} Train Accuracy\",\n",
    "        line=dict(color=color_train_model2)\n",
    "    ), row=1, col=1)\n",
    "    fig.add_trace(go.Scatter(\n",
    "        x=list_epochs, y=[m[\"val_accuracy\"] for m in metrics2],\n",
    "        mode='lines+markers', name=f\"{model2_name} Val Accuracy\",\n",
    "        line=dict(color=color_val_model2, dash='dot')\n",
    "    ), row=1, col=1)\n",
    "\n",
    "    # Graphique des Loss (utilisant les mêmes couleurs)\n",
    "    fig.add_trace(go.Scatter(\n",
    "        x=list_epochs, y=[m[\"train_loss\"] for m in metrics1],\n",
    "        mode='lines+markers', name=f\"{model1_name} Train Loss\",\n",
    "        line=dict(color=color_train_model1)\n",
    "    ), row=1, col=2)\n",
    "    fig.add_trace(go.Scatter(\n",
    "        x=list_epochs, y=[m[\"val_loss\"] for m in metrics1],\n",
    "        mode='lines+markers', name=f\"{model1_name} Val Loss\",\n",
    "        line=dict(color=color_val_model1, dash='dot')\n",
    "    ), row=1, col=2)\n",
    "    fig.add_trace(go.Scatter(\n",
    "        x=list_epochs, y=[m[\"train_loss\"] for m in metrics2],\n",
    "        mode='lines+markers', name=f\"{model2_name} Train Loss\",\n",
    "        line=dict(color=color_train_model2)\n",
    "    ), row=1, col=2)\n",
    "    fig.add_trace(go.Scatter(\n",
    "        x=list_epochs, y=[m[\"val_loss\"] for m in metrics2],\n",
    "        mode='lines+markers', name=f\"{model2_name} Val Loss\",\n",
    "        line=dict(color=color_val_model2, dash='dot')\n",
    "    ), row=1, col=2)\n",
    "\n",
    "    # Configuration des axes et du layout global\n",
    "    fig.update_layout(\n",
    "        xaxis_title=\"Epoch\", \n",
    "        yaxis_title=\"Accuracy (%)\", \n",
    "        xaxis2_title=\"Epoch\", \n",
    "        yaxis2_title=\"Loss (%)\",\n",
    "        showlegend=True,\n",
    "        title_text=\"Training vs Validation Metrics Comparison\"\n",
    "    )\n",
    "\n",
    "    fig.show()\n",
    "\n",
    "# Appeler la fonction pour afficher les graphiques\n",
    "plot_accuracy_and_loss_models(mobilenet_metrics, efficientnet_metrics, \"MobileNetV2\", \"EfficientNet\", epochs, lr, batch_size)\n"
   ]
  },
  {
   "cell_type": "code",
   "execution_count": 21,
   "metadata": {},
   "outputs": [
    {
     "data": {
      "image/png": "[encoded data removed]",
      "text/plain": [
       "<Figure size 640x480 with 2 Axes>"
      ]
     },
     "metadata": {},
     "output_type": "display_data"
    },
    {
     "name": "stdout",
     "output_type": "stream",
     "text": [
      "               precision    recall  f1-score   support\n",
      "\n",
      "    compliant       0.96      0.87      0.91       366\n",
      "non-compliant       0.91      0.97      0.94       501\n",
      "\n",
      "     accuracy                           0.93       867\n",
      "    macro avg       0.93      0.92      0.93       867\n",
      " weighted avg       0.93      0.93      0.93       867\n",
      "\n"
     ]
    }
   ],
   "source": [
    "plot_confusion_matrix(mobilenet, test_loader, classes=train_dataset.classes, device=device)\n"
   ]
  },
  {
   "cell_type": "code",
   "execution_count": 20,
   "metadata": {},
   "outputs": [
    {
     "data": {
      "image/png": "[encoded data removed]",
      "text/plain": [
       "<Figure size 640x480 with 2 Axes>"
      ]
     },
     "metadata": {},
     "output_type": "display_data"
    },
    {
     "name": "stdout",
     "output_type": "stream",
     "text": [
      "               precision    recall  f1-score   support\n",
      "\n",
      "    compliant       0.94      0.87      0.90       366\n",
      "non-compliant       0.91      0.96      0.94       501\n",
      "\n",
      "     accuracy                           0.92       867\n",
      "    macro avg       0.93      0.92      0.92       867\n",
      " weighted avg       0.92      0.92      0.92       867\n",
      "\n"
     ]
    }
   ],
   "source": [
    "plot_confusion_matrix(efficientnet, test_loader, classes=train_dataset.classes, device=device)"
   ]
  },
  {
   "cell_type": "code",
   "execution_count": 15,
   "metadata": {},
   "outputs": [
    {
     "name": "stderr",
     "output_type": "stream",
     "text": [
      "c:\\Users\\Sinbad\\anaconda3\\envs\\sf-mask-detector\\Lib\\site-packages\\torchvision\\models\\_utils.py:208: UserWarning: The parameter 'pretrained' is deprecated since 0.13 and may be removed in the future, please use 'weights' instead.\n",
      "  warnings.warn(\n",
      "c:\\Users\\Sinbad\\anaconda3\\envs\\sf-mask-detector\\Lib\\site-packages\\torchvision\\models\\_utils.py:223: UserWarning: Arguments other than a weight enum or `None` for 'weights' are deprecated since 0.13 and may be removed in the future. The current behavior is equivalent to passing `weights=MobileNet_V2_Weights.IMAGENET1K_V1`. You can also use `weights=MobileNet_V2_Weights.DEFAULT` to get the most up-to-date weights.\n",
      "  warnings.warn(msg)\n",
      "c:\\Users\\Sinbad\\iCloudDrive\\ENSIIE iCloudDrive\\S5\\Redoublement_\\DELE35\\Projet\\wacim\\utils.py:291: FutureWarning: You are using `torch.load` with `weights_only=False` (the current default value), which uses the default pickle module implicitly. It is possible to construct malicious pickle data which will execute arbitrary code during unpickling (See https://github.com/pytorch/pytorch/blob/main/SECURITY.md#untrusted-models for more details). In a future release, the default value for `weights_only` will be flipped to `True`. This limits the functions that could be executed during unpickling. Arbitrary objects will no longer be allowed to be loaded via this mode unless they are explicitly allowlisted by the user via `torch.serialization.add_safe_globals`. We recommend you start setting `weights_only=True` for any use case where you don't have full control of the loaded file. Please open an issue on GitHub for any issues related to this experimental feature.\n",
      "  model.load_state_dict(torch.load(model_save_path, map_location=device), strict=False)\n"
     ]
    },
    {
     "name": "stdout",
     "output_type": "stream",
     "text": [
      "Weights loaded successfully from training/MobileNetV2_2024-12-12_19-34-31.pth\n",
      "Model mobilenet_v2 loaded and set to evaluation mode on device: cuda\n"
     ]
    },
    {
     "name": "stderr",
     "output_type": "stream",
     "text": [
      "c:\\Users\\Sinbad\\anaconda3\\envs\\sf-mask-detector\\Lib\\site-packages\\torchvision\\models\\_utils.py:223: UserWarning: Arguments other than a weight enum or `None` for 'weights' are deprecated since 0.13 and may be removed in the future. The current behavior is equivalent to passing `weights=EfficientNet_B0_Weights.IMAGENET1K_V1`. You can also use `weights=EfficientNet_B0_Weights.DEFAULT` to get the most up-to-date weights.\n",
      "  warnings.warn(msg)\n"
     ]
    },
    {
     "name": "stdout",
     "output_type": "stream",
     "text": [
      "Weights loaded successfully from training/EfficientNet_2024-12-12_20-03-47.pth\n",
      "Model efficientnet_b0 loaded and set to evaluation mode on device: cuda\n"
     ]
    },
    {
     "data": {
      "image/png": "[encoded data removed]",
      "text/plain": [
       "<Figure size 1000x600 with 1 Axes>"
      ]
     },
     "metadata": {},
     "output_type": "display_data"
    }
   ],
   "source": [
    "# Load your trained models\n",
    "mobilenet_model = load_model(\"mobilenet_v2\", num_classes=2, model_save_path=mobilenet_model_path, device=device)\n",
    "efficientnet_model = load_model(\"efficientnet_b0\", num_classes=2, model_save_path=efficientnet_model_path, device=device)\n",
    "\n",
    "# Plot ROC curves\n",
    "plt.figure(figsize=(10, 6))\n",
    "mobilenet_auc = plot_roc_curve(mobilenet_model, test_loader, num_classes=2, model_name=\"MobileNetV2\", device=device)\n",
    "efficientnet_auc = plot_roc_curve(efficientnet_model, test_loader, num_classes=2, model_name=\"EfficientNet-B0\", device=device)\n",
    "\n",
    "# Add plot details\n",
    "plt.plot([0, 1], [0, 1], \"k--\", label=\"Random Guess\")\n",
    "plt.xlabel(\"False Positive Rate\")\n",
    "plt.ylabel(\"True Positive Rate\")\n",
    "plt.title(\"ROC Curve Comparison\")\n",
    "plt.legend(loc=\"lower right\")\n",
    "plt.grid()\n",
    "plt.show()"
   ]
  },
  {
   "cell_type": "markdown",
   "metadata": {},
   "source": [
    "# Efficient net "
   ]
  },
  {
   "cell_type": "code",
   "execution_count": null,
   "metadata": {},
   "outputs": [],
   "source": []
  }
 ],
 "metadata": {
  "kernelspec": {
   "display_name": "sf-mask-detector",
   "language": "python",
   "name": "python3"
  },
  "language_info": {
   "codemirror_mode": {
    "name": "ipython",
    "version": 3
   },
   "file_extension": ".py",
   "mimetype": "text/x-python",
   "name": "python",
   "nbconvert_exporter": "python",
   "pygments_lexer": "ipython3",
   "version": "3.12.7"
  }
 },
 "nbformat": 4,
 "nbformat_minor": 2
}
